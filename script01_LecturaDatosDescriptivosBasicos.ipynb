{
 "cells": [
  {
   "cell_type": "code",
   "execution_count": 1,
   "metadata": {},
   "outputs": [],
   "source": [
    "# importar bibliotécas de trabajo\n",
    "\n",
    "import pandas as pd"
   ]
  },
  {
   "cell_type": "code",
   "execution_count": 2,
   "metadata": {},
   "outputs": [],
   "source": [
    "# leer archivos de datos\n",
    "\n",
    "goog = pd.read_csv(\"D:\\\\datos\\\\Entrenamiento\\\\IntitutoTecnologicoTelefonica\\\\ProgramaSuperiorBigData\\\\Modulo_10_Proyecto\\\\GOOG.csv\",\n",
    "                    sep = \",\")\n",
    "\n",
    "fb = pd.read_csv(\"D:\\\\datos\\\\Entrenamiento\\\\IntitutoTecnologicoTelefonica\\\\ProgramaSuperiorBigData\\\\Modulo_10_Proyecto\\\\FB.csv\",\n",
    "                    sep = \",\")\n",
    "\n",
    "amzn = pd.read_csv(\"D:\\\\datos\\\\Entrenamiento\\\\IntitutoTecnologicoTelefonica\\\\ProgramaSuperiorBigData\\\\Modulo_10_Proyecto\\\\AMZN.csv\",\n",
    "                    sep = \",\")\n",
    "\n",
    "msft = pd.read_csv(\"D:\\\\datos\\\\Entrenamiento\\\\IntitutoTecnologicoTelefonica\\\\ProgramaSuperiorBigData\\\\Modulo_10_Proyecto\\\\MSFT.csv\",\n",
    "                    sep = \",\")\n",
    "\n",
    "btc_usd = pd.read_csv(\"D:\\\\datos\\\\Entrenamiento\\\\IntitutoTecnologicoTelefonica\\\\ProgramaSuperiorBigData\\\\Modulo_10_Proyecto\\\\BTC_USD.csv\",\n",
    "                    sep = \",\")\n",
    "\n",
    "#dias = pd.read_excel(\"D:\\\\datos\\\\Entrenamiento\\\\IntitutoTecnologicoTelefonica\\\\ProgramaSuperiorBigData\\\\Modulo_10_Proyecto\\\\DIAS.xlsx\")\n",
    "\n"
   ]
  },
  {
   "cell_type": "code",
   "execution_count": 3,
   "metadata": {},
   "outputs": [
    {
     "data": {
      "text/html": [
       "<div>\n",
       "<style scoped>\n",
       "    .dataframe tbody tr th:only-of-type {\n",
       "        vertical-align: middle;\n",
       "    }\n",
       "\n",
       "    .dataframe tbody tr th {\n",
       "        vertical-align: top;\n",
       "    }\n",
       "\n",
       "    .dataframe thead th {\n",
       "        text-align: right;\n",
       "    }\n",
       "</style>\n",
       "<table border=\"1\" class=\"dataframe\">\n",
       "  <thead>\n",
       "    <tr style=\"text-align: right;\">\n",
       "      <th></th>\n",
       "      <th>Date</th>\n",
       "      <th>Open</th>\n",
       "      <th>High</th>\n",
       "      <th>Low</th>\n",
       "      <th>Close</th>\n",
       "      <th>Adj Close</th>\n",
       "      <th>Volume</th>\n",
       "    </tr>\n",
       "  </thead>\n",
       "  <tbody>\n",
       "    <tr>\n",
       "      <th>0</th>\n",
       "      <td>2014-09-17</td>\n",
       "      <td>578.421936</td>\n",
       "      <td>585.911377</td>\n",
       "      <td>577.190308</td>\n",
       "      <td>583.168884</td>\n",
       "      <td>583.168884</td>\n",
       "      <td>1692800</td>\n",
       "    </tr>\n",
       "    <tr>\n",
       "      <th>1</th>\n",
       "      <td>2014-09-18</td>\n",
       "      <td>585.392822</td>\n",
       "      <td>587.925842</td>\n",
       "      <td>583.398254</td>\n",
       "      <td>587.656616</td>\n",
       "      <td>587.656616</td>\n",
       "      <td>1444500</td>\n",
       "    </tr>\n",
       "    <tr>\n",
       "      <th>2</th>\n",
       "      <td>2014-09-19</td>\n",
       "      <td>589.880493</td>\n",
       "      <td>594.846863</td>\n",
       "      <td>587.885986</td>\n",
       "      <td>594.447937</td>\n",
       "      <td>594.447937</td>\n",
       "      <td>3736600</td>\n",
       "    </tr>\n",
       "    <tr>\n",
       "      <th>3</th>\n",
       "      <td>2014-09-22</td>\n",
       "      <td>592.194153</td>\n",
       "      <td>592.322754</td>\n",
       "      <td>581.862488</td>\n",
       "      <td>585.761780</td>\n",
       "      <td>585.761780</td>\n",
       "      <td>1689500</td>\n",
       "    </tr>\n",
       "    <tr>\n",
       "      <th>4</th>\n",
       "      <td>2014-09-23</td>\n",
       "      <td>585.243225</td>\n",
       "      <td>585.243225</td>\n",
       "      <td>579.409241</td>\n",
       "      <td>579.538879</td>\n",
       "      <td>579.538879</td>\n",
       "      <td>1471400</td>\n",
       "    </tr>\n",
       "  </tbody>\n",
       "</table>\n",
       "</div>"
      ],
      "text/plain": [
       "         Date        Open        High         Low       Close   Adj Close  \\\n",
       "0  2014-09-17  578.421936  585.911377  577.190308  583.168884  583.168884   \n",
       "1  2014-09-18  585.392822  587.925842  583.398254  587.656616  587.656616   \n",
       "2  2014-09-19  589.880493  594.846863  587.885986  594.447937  594.447937   \n",
       "3  2014-09-22  592.194153  592.322754  581.862488  585.761780  585.761780   \n",
       "4  2014-09-23  585.243225  585.243225  579.409241  579.538879  579.538879   \n",
       "\n",
       "    Volume  \n",
       "0  1692800  \n",
       "1  1444500  \n",
       "2  3736600  \n",
       "3  1689500  \n",
       "4  1471400  "
      ]
     },
     "execution_count": 3,
     "metadata": {},
     "output_type": "execute_result"
    }
   ],
   "source": [
    "goog.head()"
   ]
  },
  {
   "cell_type": "code",
   "execution_count": 4,
   "metadata": {},
   "outputs": [
    {
     "data": {
      "text/html": [
       "<div>\n",
       "<style scoped>\n",
       "    .dataframe tbody tr th:only-of-type {\n",
       "        vertical-align: middle;\n",
       "    }\n",
       "\n",
       "    .dataframe tbody tr th {\n",
       "        vertical-align: top;\n",
       "    }\n",
       "\n",
       "    .dataframe thead th {\n",
       "        text-align: right;\n",
       "    }\n",
       "</style>\n",
       "<table border=\"1\" class=\"dataframe\">\n",
       "  <thead>\n",
       "    <tr style=\"text-align: right;\">\n",
       "      <th></th>\n",
       "      <th>Date</th>\n",
       "      <th>Open</th>\n",
       "      <th>High</th>\n",
       "      <th>Low</th>\n",
       "      <th>Close</th>\n",
       "      <th>Adj Close</th>\n",
       "      <th>Volume</th>\n",
       "    </tr>\n",
       "  </thead>\n",
       "  <tbody>\n",
       "    <tr>\n",
       "      <th>0</th>\n",
       "      <td>2014-09-17</td>\n",
       "      <td>327.760010</td>\n",
       "      <td>328.000000</td>\n",
       "      <td>321.519989</td>\n",
       "      <td>324.000000</td>\n",
       "      <td>324.000000</td>\n",
       "      <td>4136000</td>\n",
       "    </tr>\n",
       "    <tr>\n",
       "      <th>1</th>\n",
       "      <td>2014-09-18</td>\n",
       "      <td>325.440002</td>\n",
       "      <td>327.100006</td>\n",
       "      <td>323.709991</td>\n",
       "      <td>325.000000</td>\n",
       "      <td>325.000000</td>\n",
       "      <td>2576900</td>\n",
       "    </tr>\n",
       "    <tr>\n",
       "      <th>2</th>\n",
       "      <td>2014-09-19</td>\n",
       "      <td>327.600006</td>\n",
       "      <td>332.760010</td>\n",
       "      <td>325.570007</td>\n",
       "      <td>331.320007</td>\n",
       "      <td>331.320007</td>\n",
       "      <td>6886200</td>\n",
       "    </tr>\n",
       "    <tr>\n",
       "      <th>3</th>\n",
       "      <td>2014-09-22</td>\n",
       "      <td>328.489990</td>\n",
       "      <td>329.489990</td>\n",
       "      <td>321.059998</td>\n",
       "      <td>324.500000</td>\n",
       "      <td>324.500000</td>\n",
       "      <td>3109700</td>\n",
       "    </tr>\n",
       "    <tr>\n",
       "      <th>4</th>\n",
       "      <td>2014-09-23</td>\n",
       "      <td>322.459991</td>\n",
       "      <td>327.600006</td>\n",
       "      <td>321.250000</td>\n",
       "      <td>323.630005</td>\n",
       "      <td>323.630005</td>\n",
       "      <td>2352600</td>\n",
       "    </tr>\n",
       "  </tbody>\n",
       "</table>\n",
       "</div>"
      ],
      "text/plain": [
       "         Date        Open        High         Low       Close   Adj Close  \\\n",
       "0  2014-09-17  327.760010  328.000000  321.519989  324.000000  324.000000   \n",
       "1  2014-09-18  325.440002  327.100006  323.709991  325.000000  325.000000   \n",
       "2  2014-09-19  327.600006  332.760010  325.570007  331.320007  331.320007   \n",
       "3  2014-09-22  328.489990  329.489990  321.059998  324.500000  324.500000   \n",
       "4  2014-09-23  322.459991  327.600006  321.250000  323.630005  323.630005   \n",
       "\n",
       "    Volume  \n",
       "0  4136000  \n",
       "1  2576900  \n",
       "2  6886200  \n",
       "3  3109700  \n",
       "4  2352600  "
      ]
     },
     "execution_count": 4,
     "metadata": {},
     "output_type": "execute_result"
    }
   ],
   "source": [
    "amzn.head()"
   ]
  },
  {
   "cell_type": "code",
   "execution_count": 5,
   "metadata": {},
   "outputs": [
    {
     "data": {
      "text/html": [
       "<div>\n",
       "<style scoped>\n",
       "    .dataframe tbody tr th:only-of-type {\n",
       "        vertical-align: middle;\n",
       "    }\n",
       "\n",
       "    .dataframe tbody tr th {\n",
       "        vertical-align: top;\n",
       "    }\n",
       "\n",
       "    .dataframe thead th {\n",
       "        text-align: right;\n",
       "    }\n",
       "</style>\n",
       "<table border=\"1\" class=\"dataframe\">\n",
       "  <thead>\n",
       "    <tr style=\"text-align: right;\">\n",
       "      <th></th>\n",
       "      <th>Date</th>\n",
       "      <th>Open</th>\n",
       "      <th>High</th>\n",
       "      <th>Low</th>\n",
       "      <th>Close</th>\n",
       "      <th>Adj Close</th>\n",
       "      <th>Volume</th>\n",
       "    </tr>\n",
       "  </thead>\n",
       "  <tbody>\n",
       "    <tr>\n",
       "      <th>0</th>\n",
       "      <td>2014-09-17</td>\n",
       "      <td>46.259998</td>\n",
       "      <td>46.689999</td>\n",
       "      <td>46.230000</td>\n",
       "      <td>46.520000</td>\n",
       "      <td>41.066914</td>\n",
       "      <td>38311900</td>\n",
       "    </tr>\n",
       "    <tr>\n",
       "      <th>1</th>\n",
       "      <td>2014-09-18</td>\n",
       "      <td>46.590000</td>\n",
       "      <td>46.830002</td>\n",
       "      <td>46.459999</td>\n",
       "      <td>46.680000</td>\n",
       "      <td>41.208172</td>\n",
       "      <td>35556600</td>\n",
       "    </tr>\n",
       "    <tr>\n",
       "      <th>2</th>\n",
       "      <td>2014-09-19</td>\n",
       "      <td>46.810001</td>\n",
       "      <td>47.570000</td>\n",
       "      <td>46.599998</td>\n",
       "      <td>47.520000</td>\n",
       "      <td>41.949707</td>\n",
       "      <td>202522400</td>\n",
       "    </tr>\n",
       "    <tr>\n",
       "      <th>3</th>\n",
       "      <td>2014-09-22</td>\n",
       "      <td>47.299999</td>\n",
       "      <td>47.380001</td>\n",
       "      <td>46.980000</td>\n",
       "      <td>47.060001</td>\n",
       "      <td>41.543625</td>\n",
       "      <td>38686100</td>\n",
       "    </tr>\n",
       "    <tr>\n",
       "      <th>4</th>\n",
       "      <td>2014-09-23</td>\n",
       "      <td>46.849998</td>\n",
       "      <td>46.980000</td>\n",
       "      <td>46.470001</td>\n",
       "      <td>46.560001</td>\n",
       "      <td>41.102226</td>\n",
       "      <td>33430300</td>\n",
       "    </tr>\n",
       "  </tbody>\n",
       "</table>\n",
       "</div>"
      ],
      "text/plain": [
       "         Date       Open       High        Low      Close  Adj Close  \\\n",
       "0  2014-09-17  46.259998  46.689999  46.230000  46.520000  41.066914   \n",
       "1  2014-09-18  46.590000  46.830002  46.459999  46.680000  41.208172   \n",
       "2  2014-09-19  46.810001  47.570000  46.599998  47.520000  41.949707   \n",
       "3  2014-09-22  47.299999  47.380001  46.980000  47.060001  41.543625   \n",
       "4  2014-09-23  46.849998  46.980000  46.470001  46.560001  41.102226   \n",
       "\n",
       "      Volume  \n",
       "0   38311900  \n",
       "1   35556600  \n",
       "2  202522400  \n",
       "3   38686100  \n",
       "4   33430300  "
      ]
     },
     "execution_count": 5,
     "metadata": {},
     "output_type": "execute_result"
    }
   ],
   "source": [
    "msft.head()"
   ]
  },
  {
   "cell_type": "code",
   "execution_count": 6,
   "metadata": {},
   "outputs": [
    {
     "data": {
      "text/html": [
       "<div>\n",
       "<style scoped>\n",
       "    .dataframe tbody tr th:only-of-type {\n",
       "        vertical-align: middle;\n",
       "    }\n",
       "\n",
       "    .dataframe tbody tr th {\n",
       "        vertical-align: top;\n",
       "    }\n",
       "\n",
       "    .dataframe thead th {\n",
       "        text-align: right;\n",
       "    }\n",
       "</style>\n",
       "<table border=\"1\" class=\"dataframe\">\n",
       "  <thead>\n",
       "    <tr style=\"text-align: right;\">\n",
       "      <th></th>\n",
       "      <th>Date</th>\n",
       "      <th>Open</th>\n",
       "      <th>High</th>\n",
       "      <th>Low</th>\n",
       "      <th>Close</th>\n",
       "      <th>Adj Close</th>\n",
       "      <th>Volume</th>\n",
       "    </tr>\n",
       "  </thead>\n",
       "  <tbody>\n",
       "    <tr>\n",
       "      <th>0</th>\n",
       "      <td>2014-09-17</td>\n",
       "      <td>75.959999</td>\n",
       "      <td>77.250000</td>\n",
       "      <td>75.570000</td>\n",
       "      <td>76.430000</td>\n",
       "      <td>76.430000</td>\n",
       "      <td>28693000</td>\n",
       "    </tr>\n",
       "    <tr>\n",
       "      <th>1</th>\n",
       "      <td>2014-09-18</td>\n",
       "      <td>76.769997</td>\n",
       "      <td>77.330002</td>\n",
       "      <td>76.519997</td>\n",
       "      <td>77.000000</td>\n",
       "      <td>77.000000</td>\n",
       "      <td>23031000</td>\n",
       "    </tr>\n",
       "    <tr>\n",
       "      <th>2</th>\n",
       "      <td>2014-09-19</td>\n",
       "      <td>77.400002</td>\n",
       "      <td>78.300003</td>\n",
       "      <td>76.440002</td>\n",
       "      <td>77.910004</td>\n",
       "      <td>77.910004</td>\n",
       "      <td>76671000</td>\n",
       "    </tr>\n",
       "    <tr>\n",
       "      <th>3</th>\n",
       "      <td>2014-09-22</td>\n",
       "      <td>77.000000</td>\n",
       "      <td>77.529999</td>\n",
       "      <td>75.949997</td>\n",
       "      <td>76.800003</td>\n",
       "      <td>76.800003</td>\n",
       "      <td>31961000</td>\n",
       "    </tr>\n",
       "    <tr>\n",
       "      <th>4</th>\n",
       "      <td>2014-09-23</td>\n",
       "      <td>76.330002</td>\n",
       "      <td>78.629997</td>\n",
       "      <td>76.040001</td>\n",
       "      <td>78.290001</td>\n",
       "      <td>78.290001</td>\n",
       "      <td>36814000</td>\n",
       "    </tr>\n",
       "  </tbody>\n",
       "</table>\n",
       "</div>"
      ],
      "text/plain": [
       "         Date       Open       High        Low      Close  Adj Close    Volume\n",
       "0  2014-09-17  75.959999  77.250000  75.570000  76.430000  76.430000  28693000\n",
       "1  2014-09-18  76.769997  77.330002  76.519997  77.000000  77.000000  23031000\n",
       "2  2014-09-19  77.400002  78.300003  76.440002  77.910004  77.910004  76671000\n",
       "3  2014-09-22  77.000000  77.529999  75.949997  76.800003  76.800003  31961000\n",
       "4  2014-09-23  76.330002  78.629997  76.040001  78.290001  78.290001  36814000"
      ]
     },
     "execution_count": 6,
     "metadata": {},
     "output_type": "execute_result"
    }
   ],
   "source": [
    "fb.head()"
   ]
  },
  {
   "cell_type": "code",
   "execution_count": 7,
   "metadata": {},
   "outputs": [
    {
     "data": {
      "text/html": [
       "<div>\n",
       "<style scoped>\n",
       "    .dataframe tbody tr th:only-of-type {\n",
       "        vertical-align: middle;\n",
       "    }\n",
       "\n",
       "    .dataframe tbody tr th {\n",
       "        vertical-align: top;\n",
       "    }\n",
       "\n",
       "    .dataframe thead th {\n",
       "        text-align: right;\n",
       "    }\n",
       "</style>\n",
       "<table border=\"1\" class=\"dataframe\">\n",
       "  <thead>\n",
       "    <tr style=\"text-align: right;\">\n",
       "      <th></th>\n",
       "      <th>Date</th>\n",
       "      <th>Open</th>\n",
       "      <th>High</th>\n",
       "      <th>Low</th>\n",
       "      <th>Close</th>\n",
       "      <th>Adj Close</th>\n",
       "      <th>Volume</th>\n",
       "    </tr>\n",
       "  </thead>\n",
       "  <tbody>\n",
       "    <tr>\n",
       "      <th>0</th>\n",
       "      <td>2014-09-17</td>\n",
       "      <td>465.864014</td>\n",
       "      <td>468.174011</td>\n",
       "      <td>452.421997</td>\n",
       "      <td>457.334015</td>\n",
       "      <td>457.334015</td>\n",
       "      <td>21056800</td>\n",
       "    </tr>\n",
       "    <tr>\n",
       "      <th>1</th>\n",
       "      <td>2014-09-18</td>\n",
       "      <td>456.859985</td>\n",
       "      <td>456.859985</td>\n",
       "      <td>413.104004</td>\n",
       "      <td>424.440002</td>\n",
       "      <td>424.440002</td>\n",
       "      <td>34483200</td>\n",
       "    </tr>\n",
       "    <tr>\n",
       "      <th>2</th>\n",
       "      <td>2014-09-19</td>\n",
       "      <td>424.102997</td>\n",
       "      <td>427.834991</td>\n",
       "      <td>384.532013</td>\n",
       "      <td>394.795990</td>\n",
       "      <td>394.795990</td>\n",
       "      <td>37919700</td>\n",
       "    </tr>\n",
       "    <tr>\n",
       "      <th>3</th>\n",
       "      <td>2014-09-20</td>\n",
       "      <td>394.673004</td>\n",
       "      <td>423.295990</td>\n",
       "      <td>389.882996</td>\n",
       "      <td>408.903992</td>\n",
       "      <td>408.903992</td>\n",
       "      <td>36863600</td>\n",
       "    </tr>\n",
       "    <tr>\n",
       "      <th>4</th>\n",
       "      <td>2014-09-21</td>\n",
       "      <td>408.084991</td>\n",
       "      <td>412.425995</td>\n",
       "      <td>393.181000</td>\n",
       "      <td>398.821014</td>\n",
       "      <td>398.821014</td>\n",
       "      <td>26580100</td>\n",
       "    </tr>\n",
       "  </tbody>\n",
       "</table>\n",
       "</div>"
      ],
      "text/plain": [
       "         Date        Open        High         Low       Close   Adj Close  \\\n",
       "0  2014-09-17  465.864014  468.174011  452.421997  457.334015  457.334015   \n",
       "1  2014-09-18  456.859985  456.859985  413.104004  424.440002  424.440002   \n",
       "2  2014-09-19  424.102997  427.834991  384.532013  394.795990  394.795990   \n",
       "3  2014-09-20  394.673004  423.295990  389.882996  408.903992  408.903992   \n",
       "4  2014-09-21  408.084991  412.425995  393.181000  398.821014  398.821014   \n",
       "\n",
       "     Volume  \n",
       "0  21056800  \n",
       "1  34483200  \n",
       "2  37919700  \n",
       "3  36863600  \n",
       "4  26580100  "
      ]
     },
     "execution_count": 7,
     "metadata": {},
     "output_type": "execute_result"
    }
   ],
   "source": [
    "btc_usd.head()"
   ]
  },
  {
   "cell_type": "code",
   "execution_count": 8,
   "metadata": {},
   "outputs": [],
   "source": [
    "btc_usd['Date'] = pd.to_datetime(btc_usd['Date'], format ='%Y-%m-%d')"
   ]
  },
  {
   "cell_type": "code",
   "execution_count": 9,
   "metadata": {},
   "outputs": [],
   "source": [
    "# Selección de los datos de interés\n",
    "\n",
    "\n",
    "goog_cierre = goog[[\"Date\",\"Close\"]]\n",
    "\n",
    "fb_cierre = fb[[\"Date\",\"Close\"]]\n",
    "\n",
    "amzn_cierre = amzn[[\"Date\",\"Close\"]]\n",
    "\n",
    "msft_cierre = msft[[\"Date\",\"Close\"]]\n",
    "\n",
    "btc_usd_cierre = btc_usd[[\"Date\",\"Close\"]]\n",
    "\n"
   ]
  },
  {
   "cell_type": "code",
   "execution_count": 10,
   "metadata": {},
   "outputs": [],
   "source": [
    "# Renombrar columna de cierre de cada DataFrame, para que no se confundan al hacer el merge\n",
    "\n",
    "goog_cierre = goog_cierre.rename(columns = {\"Close\" : \"CloseGoog\"})\n",
    "fb_cierre = fb_cierre.rename(columns = {\"Close\" : \"CloseFb\"})\n",
    "amzn_cierre = amzn_cierre.rename(columns = {\"Close\" : \"CloseAmzn\"})\n",
    "msft_cierre = msft_cierre.rename(columns = {\"Close\" : \"CloseMsft\"})\n",
    "btc_usd_cierre = btc_usd_cierre.rename(columns = {\"Close\" : \"ClosBtcEur\"})\n",
    "\n",
    "# Establecer el índice en la columna Date para cada archivo\n",
    "\n",
    "goog_cierre.set_index('Date', inplace = True)\n",
    "fb_cierre.set_index('Date', inplace = True)\n",
    "amzn_cierre.set_index('Date', inplace = True)\n",
    "msft_cierre.set_index('Date', inplace = True)\n",
    "btc_usd_cierre.set_index('Date', inplace = True)\n"
   ]
  },
  {
   "cell_type": "code",
   "execution_count": 11,
   "metadata": {},
   "outputs": [
    {
     "data": {
      "text/html": [
       "<div>\n",
       "<style scoped>\n",
       "    .dataframe tbody tr th:only-of-type {\n",
       "        vertical-align: middle;\n",
       "    }\n",
       "\n",
       "    .dataframe tbody tr th {\n",
       "        vertical-align: top;\n",
       "    }\n",
       "\n",
       "    .dataframe thead th {\n",
       "        text-align: right;\n",
       "    }\n",
       "</style>\n",
       "<table border=\"1\" class=\"dataframe\">\n",
       "  <thead>\n",
       "    <tr style=\"text-align: right;\">\n",
       "      <th></th>\n",
       "      <th>CloseGoog</th>\n",
       "    </tr>\n",
       "    <tr>\n",
       "      <th>Date</th>\n",
       "      <th></th>\n",
       "    </tr>\n",
       "  </thead>\n",
       "  <tbody>\n",
       "    <tr>\n",
       "      <th>2014-09-17</th>\n",
       "      <td>583.168884</td>\n",
       "    </tr>\n",
       "    <tr>\n",
       "      <th>2014-09-18</th>\n",
       "      <td>587.656616</td>\n",
       "    </tr>\n",
       "    <tr>\n",
       "      <th>2014-09-19</th>\n",
       "      <td>594.447937</td>\n",
       "    </tr>\n",
       "    <tr>\n",
       "      <th>2014-09-22</th>\n",
       "      <td>585.761780</td>\n",
       "    </tr>\n",
       "    <tr>\n",
       "      <th>2014-09-23</th>\n",
       "      <td>579.538879</td>\n",
       "    </tr>\n",
       "  </tbody>\n",
       "</table>\n",
       "</div>"
      ],
      "text/plain": [
       "             CloseGoog\n",
       "Date                  \n",
       "2014-09-17  583.168884\n",
       "2014-09-18  587.656616\n",
       "2014-09-19  594.447937\n",
       "2014-09-22  585.761780\n",
       "2014-09-23  579.538879"
      ]
     },
     "execution_count": 11,
     "metadata": {},
     "output_type": "execute_result"
    }
   ],
   "source": [
    "goog_cierre.head()"
   ]
  },
  {
   "cell_type": "code",
   "execution_count": 12,
   "metadata": {},
   "outputs": [
    {
     "data": {
      "text/html": [
       "<div>\n",
       "<style scoped>\n",
       "    .dataframe tbody tr th:only-of-type {\n",
       "        vertical-align: middle;\n",
       "    }\n",
       "\n",
       "    .dataframe tbody tr th {\n",
       "        vertical-align: top;\n",
       "    }\n",
       "\n",
       "    .dataframe thead th {\n",
       "        text-align: right;\n",
       "    }\n",
       "</style>\n",
       "<table border=\"1\" class=\"dataframe\">\n",
       "  <thead>\n",
       "    <tr style=\"text-align: right;\">\n",
       "      <th></th>\n",
       "      <th>CloseFb</th>\n",
       "    </tr>\n",
       "    <tr>\n",
       "      <th>Date</th>\n",
       "      <th></th>\n",
       "    </tr>\n",
       "  </thead>\n",
       "  <tbody>\n",
       "    <tr>\n",
       "      <th>2014-09-17</th>\n",
       "      <td>76.430000</td>\n",
       "    </tr>\n",
       "    <tr>\n",
       "      <th>2014-09-18</th>\n",
       "      <td>77.000000</td>\n",
       "    </tr>\n",
       "    <tr>\n",
       "      <th>2014-09-19</th>\n",
       "      <td>77.910004</td>\n",
       "    </tr>\n",
       "    <tr>\n",
       "      <th>2014-09-22</th>\n",
       "      <td>76.800003</td>\n",
       "    </tr>\n",
       "    <tr>\n",
       "      <th>2014-09-23</th>\n",
       "      <td>78.290001</td>\n",
       "    </tr>\n",
       "  </tbody>\n",
       "</table>\n",
       "</div>"
      ],
      "text/plain": [
       "              CloseFb\n",
       "Date                 \n",
       "2014-09-17  76.430000\n",
       "2014-09-18  77.000000\n",
       "2014-09-19  77.910004\n",
       "2014-09-22  76.800003\n",
       "2014-09-23  78.290001"
      ]
     },
     "execution_count": 12,
     "metadata": {},
     "output_type": "execute_result"
    }
   ],
   "source": [
    "fb_cierre.head()"
   ]
  },
  {
   "cell_type": "code",
   "execution_count": 13,
   "metadata": {},
   "outputs": [
    {
     "data": {
      "text/html": [
       "<div>\n",
       "<style scoped>\n",
       "    .dataframe tbody tr th:only-of-type {\n",
       "        vertical-align: middle;\n",
       "    }\n",
       "\n",
       "    .dataframe tbody tr th {\n",
       "        vertical-align: top;\n",
       "    }\n",
       "\n",
       "    .dataframe thead th {\n",
       "        text-align: right;\n",
       "    }\n",
       "</style>\n",
       "<table border=\"1\" class=\"dataframe\">\n",
       "  <thead>\n",
       "    <tr style=\"text-align: right;\">\n",
       "      <th></th>\n",
       "      <th>CloseAmzn</th>\n",
       "    </tr>\n",
       "    <tr>\n",
       "      <th>Date</th>\n",
       "      <th></th>\n",
       "    </tr>\n",
       "  </thead>\n",
       "  <tbody>\n",
       "    <tr>\n",
       "      <th>2014-09-17</th>\n",
       "      <td>324.000000</td>\n",
       "    </tr>\n",
       "    <tr>\n",
       "      <th>2014-09-18</th>\n",
       "      <td>325.000000</td>\n",
       "    </tr>\n",
       "    <tr>\n",
       "      <th>2014-09-19</th>\n",
       "      <td>331.320007</td>\n",
       "    </tr>\n",
       "    <tr>\n",
       "      <th>2014-09-22</th>\n",
       "      <td>324.500000</td>\n",
       "    </tr>\n",
       "    <tr>\n",
       "      <th>2014-09-23</th>\n",
       "      <td>323.630005</td>\n",
       "    </tr>\n",
       "  </tbody>\n",
       "</table>\n",
       "</div>"
      ],
      "text/plain": [
       "             CloseAmzn\n",
       "Date                  \n",
       "2014-09-17  324.000000\n",
       "2014-09-18  325.000000\n",
       "2014-09-19  331.320007\n",
       "2014-09-22  324.500000\n",
       "2014-09-23  323.630005"
      ]
     },
     "execution_count": 13,
     "metadata": {},
     "output_type": "execute_result"
    }
   ],
   "source": [
    "amzn_cierre.head()"
   ]
  },
  {
   "cell_type": "code",
   "execution_count": 14,
   "metadata": {},
   "outputs": [
    {
     "data": {
      "text/html": [
       "<div>\n",
       "<style scoped>\n",
       "    .dataframe tbody tr th:only-of-type {\n",
       "        vertical-align: middle;\n",
       "    }\n",
       "\n",
       "    .dataframe tbody tr th {\n",
       "        vertical-align: top;\n",
       "    }\n",
       "\n",
       "    .dataframe thead th {\n",
       "        text-align: right;\n",
       "    }\n",
       "</style>\n",
       "<table border=\"1\" class=\"dataframe\">\n",
       "  <thead>\n",
       "    <tr style=\"text-align: right;\">\n",
       "      <th></th>\n",
       "      <th>CloseMsft</th>\n",
       "    </tr>\n",
       "    <tr>\n",
       "      <th>Date</th>\n",
       "      <th></th>\n",
       "    </tr>\n",
       "  </thead>\n",
       "  <tbody>\n",
       "    <tr>\n",
       "      <th>2014-09-17</th>\n",
       "      <td>46.520000</td>\n",
       "    </tr>\n",
       "    <tr>\n",
       "      <th>2014-09-18</th>\n",
       "      <td>46.680000</td>\n",
       "    </tr>\n",
       "    <tr>\n",
       "      <th>2014-09-19</th>\n",
       "      <td>47.520000</td>\n",
       "    </tr>\n",
       "    <tr>\n",
       "      <th>2014-09-22</th>\n",
       "      <td>47.060001</td>\n",
       "    </tr>\n",
       "    <tr>\n",
       "      <th>2014-09-23</th>\n",
       "      <td>46.560001</td>\n",
       "    </tr>\n",
       "  </tbody>\n",
       "</table>\n",
       "</div>"
      ],
      "text/plain": [
       "            CloseMsft\n",
       "Date                 \n",
       "2014-09-17  46.520000\n",
       "2014-09-18  46.680000\n",
       "2014-09-19  47.520000\n",
       "2014-09-22  47.060001\n",
       "2014-09-23  46.560001"
      ]
     },
     "execution_count": 14,
     "metadata": {},
     "output_type": "execute_result"
    }
   ],
   "source": [
    "msft_cierre.head()"
   ]
  },
  {
   "cell_type": "code",
   "execution_count": 15,
   "metadata": {},
   "outputs": [
    {
     "data": {
      "text/html": [
       "<div>\n",
       "<style scoped>\n",
       "    .dataframe tbody tr th:only-of-type {\n",
       "        vertical-align: middle;\n",
       "    }\n",
       "\n",
       "    .dataframe tbody tr th {\n",
       "        vertical-align: top;\n",
       "    }\n",
       "\n",
       "    .dataframe thead th {\n",
       "        text-align: right;\n",
       "    }\n",
       "</style>\n",
       "<table border=\"1\" class=\"dataframe\">\n",
       "  <thead>\n",
       "    <tr style=\"text-align: right;\">\n",
       "      <th></th>\n",
       "      <th>ClosBtcEur</th>\n",
       "    </tr>\n",
       "    <tr>\n",
       "      <th>Date</th>\n",
       "      <th></th>\n",
       "    </tr>\n",
       "  </thead>\n",
       "  <tbody>\n",
       "    <tr>\n",
       "      <th>2014-09-17</th>\n",
       "      <td>457.334015</td>\n",
       "    </tr>\n",
       "    <tr>\n",
       "      <th>2014-09-18</th>\n",
       "      <td>424.440002</td>\n",
       "    </tr>\n",
       "    <tr>\n",
       "      <th>2014-09-19</th>\n",
       "      <td>394.795990</td>\n",
       "    </tr>\n",
       "    <tr>\n",
       "      <th>2014-09-20</th>\n",
       "      <td>408.903992</td>\n",
       "    </tr>\n",
       "    <tr>\n",
       "      <th>2014-09-21</th>\n",
       "      <td>398.821014</td>\n",
       "    </tr>\n",
       "  </tbody>\n",
       "</table>\n",
       "</div>"
      ],
      "text/plain": [
       "            ClosBtcEur\n",
       "Date                  \n",
       "2014-09-17  457.334015\n",
       "2014-09-18  424.440002\n",
       "2014-09-19  394.795990\n",
       "2014-09-20  408.903992\n",
       "2014-09-21  398.821014"
      ]
     },
     "execution_count": 15,
     "metadata": {},
     "output_type": "execute_result"
    }
   ],
   "source": [
    "btc_usd_cierre.head()"
   ]
  },
  {
   "cell_type": "code",
   "execution_count": 16,
   "metadata": {},
   "outputs": [
    {
     "data": {
      "text/html": [
       "<div>\n",
       "<style scoped>\n",
       "    .dataframe tbody tr th:only-of-type {\n",
       "        vertical-align: middle;\n",
       "    }\n",
       "\n",
       "    .dataframe tbody tr th {\n",
       "        vertical-align: top;\n",
       "    }\n",
       "\n",
       "    .dataframe thead th {\n",
       "        text-align: right;\n",
       "    }\n",
       "</style>\n",
       "<table border=\"1\" class=\"dataframe\">\n",
       "  <thead>\n",
       "    <tr style=\"text-align: right;\">\n",
       "      <th></th>\n",
       "      <th>ClosBtcEur</th>\n",
       "      <th>CloseGoog</th>\n",
       "      <th>CloseAmzn</th>\n",
       "      <th>CloseFb</th>\n",
       "      <th>CloseMsft</th>\n",
       "    </tr>\n",
       "    <tr>\n",
       "      <th>Date</th>\n",
       "      <th></th>\n",
       "      <th></th>\n",
       "      <th></th>\n",
       "      <th></th>\n",
       "      <th></th>\n",
       "    </tr>\n",
       "  </thead>\n",
       "  <tbody>\n",
       "    <tr>\n",
       "      <th>2014-09-17</th>\n",
       "      <td>457.334015</td>\n",
       "      <td>583.168884</td>\n",
       "      <td>324.000000</td>\n",
       "      <td>76.430000</td>\n",
       "      <td>46.52</td>\n",
       "    </tr>\n",
       "    <tr>\n",
       "      <th>2014-09-18</th>\n",
       "      <td>424.440002</td>\n",
       "      <td>587.656616</td>\n",
       "      <td>325.000000</td>\n",
       "      <td>77.000000</td>\n",
       "      <td>46.68</td>\n",
       "    </tr>\n",
       "    <tr>\n",
       "      <th>2014-09-19</th>\n",
       "      <td>394.795990</td>\n",
       "      <td>594.447937</td>\n",
       "      <td>331.320007</td>\n",
       "      <td>77.910004</td>\n",
       "      <td>47.52</td>\n",
       "    </tr>\n",
       "    <tr>\n",
       "      <th>2014-09-20</th>\n",
       "      <td>408.903992</td>\n",
       "      <td>NaN</td>\n",
       "      <td>NaN</td>\n",
       "      <td>NaN</td>\n",
       "      <td>NaN</td>\n",
       "    </tr>\n",
       "    <tr>\n",
       "      <th>2014-09-21</th>\n",
       "      <td>398.821014</td>\n",
       "      <td>NaN</td>\n",
       "      <td>NaN</td>\n",
       "      <td>NaN</td>\n",
       "      <td>NaN</td>\n",
       "    </tr>\n",
       "  </tbody>\n",
       "</table>\n",
       "</div>"
      ],
      "text/plain": [
       "            ClosBtcEur   CloseGoog   CloseAmzn    CloseFb  CloseMsft\n",
       "Date                                                                \n",
       "2014-09-17  457.334015  583.168884  324.000000  76.430000      46.52\n",
       "2014-09-18  424.440002  587.656616  325.000000  77.000000      46.68\n",
       "2014-09-19  394.795990  594.447937  331.320007  77.910004      47.52\n",
       "2014-09-20  408.903992         NaN         NaN        NaN        NaN\n",
       "2014-09-21  398.821014         NaN         NaN        NaN        NaN"
      ]
     },
     "execution_count": 16,
     "metadata": {},
     "output_type": "execute_result"
    }
   ],
   "source": [
    "# Integración de todos los dataframe en uno solo dataframe\n",
    "\n",
    "df_combinado = btc_usd_cierre.join(goog_cierre).join(amzn_cierre).join(fb_cierre).join(msft_cierre)\n",
    "df_combinado.head()\n"
   ]
  },
  {
   "cell_type": "code",
   "execution_count": 17,
   "metadata": {},
   "outputs": [
    {
     "data": {
      "text/html": [
       "<div>\n",
       "<style scoped>\n",
       "    .dataframe tbody tr th:only-of-type {\n",
       "        vertical-align: middle;\n",
       "    }\n",
       "\n",
       "    .dataframe tbody tr th {\n",
       "        vertical-align: top;\n",
       "    }\n",
       "\n",
       "    .dataframe thead th {\n",
       "        text-align: right;\n",
       "    }\n",
       "</style>\n",
       "<table border=\"1\" class=\"dataframe\">\n",
       "  <thead>\n",
       "    <tr style=\"text-align: right;\">\n",
       "      <th></th>\n",
       "      <th>count</th>\n",
       "      <th>mean</th>\n",
       "      <th>std</th>\n",
       "      <th>min</th>\n",
       "      <th>25%</th>\n",
       "      <th>50%</th>\n",
       "      <th>75%</th>\n",
       "      <th>max</th>\n",
       "    </tr>\n",
       "  </thead>\n",
       "  <tbody>\n",
       "    <tr>\n",
       "      <th>ClosBtcEur</th>\n",
       "      <td>2304.0</td>\n",
       "      <td>5006.556875</td>\n",
       "      <td>5028.177584</td>\n",
       "      <td>178.102997</td>\n",
       "      <td>445.919991</td>\n",
       "      <td>3904.584961</td>\n",
       "      <td>8488.242920</td>\n",
       "      <td>34741.707031</td>\n",
       "    </tr>\n",
       "    <tr>\n",
       "      <th>CloseGoog</th>\n",
       "      <td>1587.0</td>\n",
       "      <td>987.871607</td>\n",
       "      <td>316.886451</td>\n",
       "      <td>491.201416</td>\n",
       "      <td>733.770019</td>\n",
       "      <td>1007.039978</td>\n",
       "      <td>1188.289978</td>\n",
       "      <td>1827.989990</td>\n",
       "    </tr>\n",
       "    <tr>\n",
       "      <th>CloseAmzn</th>\n",
       "      <td>1587.0</td>\n",
       "      <td>1329.917391</td>\n",
       "      <td>807.451260</td>\n",
       "      <td>286.950012</td>\n",
       "      <td>671.235016</td>\n",
       "      <td>1125.349976</td>\n",
       "      <td>1819.224976</td>\n",
       "      <td>3531.449951</td>\n",
       "    </tr>\n",
       "    <tr>\n",
       "      <th>CloseFb</th>\n",
       "      <td>1587.0</td>\n",
       "      <td>154.719011</td>\n",
       "      <td>53.024936</td>\n",
       "      <td>72.629997</td>\n",
       "      <td>112.694999</td>\n",
       "      <td>155.270004</td>\n",
       "      <td>185.715003</td>\n",
       "      <td>303.910004</td>\n",
       "    </tr>\n",
       "    <tr>\n",
       "      <th>CloseMsft</th>\n",
       "      <td>1587.0</td>\n",
       "      <td>97.494058</td>\n",
       "      <td>52.015881</td>\n",
       "      <td>40.290001</td>\n",
       "      <td>53.809999</td>\n",
       "      <td>83.180000</td>\n",
       "      <td>131.795006</td>\n",
       "      <td>231.649994</td>\n",
       "    </tr>\n",
       "  </tbody>\n",
       "</table>\n",
       "</div>"
      ],
      "text/plain": [
       "             count         mean          std         min         25%  \\\n",
       "ClosBtcEur  2304.0  5006.556875  5028.177584  178.102997  445.919991   \n",
       "CloseGoog   1587.0   987.871607   316.886451  491.201416  733.770019   \n",
       "CloseAmzn   1587.0  1329.917391   807.451260  286.950012  671.235016   \n",
       "CloseFb     1587.0   154.719011    53.024936   72.629997  112.694999   \n",
       "CloseMsft   1587.0    97.494058    52.015881   40.290001   53.809999   \n",
       "\n",
       "                    50%          75%           max  \n",
       "ClosBtcEur  3904.584961  8488.242920  34741.707031  \n",
       "CloseGoog   1007.039978  1188.289978   1827.989990  \n",
       "CloseAmzn   1125.349976  1819.224976   3531.449951  \n",
       "CloseFb      155.270004   185.715003    303.910004  \n",
       "CloseMsft     83.180000   131.795006    231.649994  "
      ]
     },
     "execution_count": 17,
     "metadata": {},
     "output_type": "execute_result"
    }
   ],
   "source": [
    "df_combinado.describe().transpose()"
   ]
  },
  {
   "cell_type": "markdown",
   "metadata": {},
   "source": [
    "# Comentario respecto al resumen descriptivo\n",
    "\n",
    "Se observa como en los precios de cierre de las empresas el número de registros válidoses de 1587 casos esto es 329 casos perdidos respecto al precio de cierre del Bitcoin (2304), estos valores perdidos se corresponden a los días en que no hay actividad en las bolsas de valores, por lo que se sustituiran los mismos por el valor de cierre del último día hábil antes del valor perdido.\n",
    "\n",
    "La sustitución de los valores perdidos se hace en el siguiente código"
   ]
  },
  {
   "cell_type": "code",
   "execution_count": 18,
   "metadata": {},
   "outputs": [
    {
     "data": {
      "text/html": [
       "<div>\n",
       "<style scoped>\n",
       "    .dataframe tbody tr th:only-of-type {\n",
       "        vertical-align: middle;\n",
       "    }\n",
       "\n",
       "    .dataframe tbody tr th {\n",
       "        vertical-align: top;\n",
       "    }\n",
       "\n",
       "    .dataframe thead th {\n",
       "        text-align: right;\n",
       "    }\n",
       "</style>\n",
       "<table border=\"1\" class=\"dataframe\">\n",
       "  <thead>\n",
       "    <tr style=\"text-align: right;\">\n",
       "      <th></th>\n",
       "      <th>ClosBtcEur</th>\n",
       "      <th>CloseGoog</th>\n",
       "      <th>CloseAmzn</th>\n",
       "      <th>CloseFb</th>\n",
       "      <th>CloseMsft</th>\n",
       "    </tr>\n",
       "    <tr>\n",
       "      <th>Date</th>\n",
       "      <th></th>\n",
       "      <th></th>\n",
       "      <th></th>\n",
       "      <th></th>\n",
       "      <th></th>\n",
       "    </tr>\n",
       "  </thead>\n",
       "  <tbody>\n",
       "    <tr>\n",
       "      <th>2014-09-17</th>\n",
       "      <td>457.334015</td>\n",
       "      <td>583.168884</td>\n",
       "      <td>324.000000</td>\n",
       "      <td>76.430000</td>\n",
       "      <td>46.52</td>\n",
       "    </tr>\n",
       "    <tr>\n",
       "      <th>2014-09-18</th>\n",
       "      <td>424.440002</td>\n",
       "      <td>587.656616</td>\n",
       "      <td>325.000000</td>\n",
       "      <td>77.000000</td>\n",
       "      <td>46.68</td>\n",
       "    </tr>\n",
       "    <tr>\n",
       "      <th>2014-09-19</th>\n",
       "      <td>394.795990</td>\n",
       "      <td>594.447937</td>\n",
       "      <td>331.320007</td>\n",
       "      <td>77.910004</td>\n",
       "      <td>47.52</td>\n",
       "    </tr>\n",
       "    <tr>\n",
       "      <th>2014-09-20</th>\n",
       "      <td>408.903992</td>\n",
       "      <td>594.447937</td>\n",
       "      <td>331.320007</td>\n",
       "      <td>77.910004</td>\n",
       "      <td>47.52</td>\n",
       "    </tr>\n",
       "    <tr>\n",
       "      <th>2014-09-21</th>\n",
       "      <td>398.821014</td>\n",
       "      <td>594.447937</td>\n",
       "      <td>331.320007</td>\n",
       "      <td>77.910004</td>\n",
       "      <td>47.52</td>\n",
       "    </tr>\n",
       "  </tbody>\n",
       "</table>\n",
       "</div>"
      ],
      "text/plain": [
       "            ClosBtcEur   CloseGoog   CloseAmzn    CloseFb  CloseMsft\n",
       "Date                                                                \n",
       "2014-09-17  457.334015  583.168884  324.000000  76.430000      46.52\n",
       "2014-09-18  424.440002  587.656616  325.000000  77.000000      46.68\n",
       "2014-09-19  394.795990  594.447937  331.320007  77.910004      47.52\n",
       "2014-09-20  408.903992  594.447937  331.320007  77.910004      47.52\n",
       "2014-09-21  398.821014  594.447937  331.320007  77.910004      47.52"
      ]
     },
     "execution_count": 18,
     "metadata": {},
     "output_type": "execute_result"
    }
   ],
   "source": [
    "# Extracción de las filas y las columnas para usarlas como auxiliaraes para sustituir valores perdidos\n",
    "\n",
    "\n",
    "filas = df_combinado.shape[0] \n",
    "columnas = df_combinado.shape[1]\n",
    "\n",
    "df_combinado_null = df_combinado.isnull()\n",
    "\n",
    "''' Con este par de loops se recorre el dataframe identificandose los valores perdidos y sustituyendolos por el valor de la fila\n",
    "    anterior, que se corresponde que el valor de cierre para cada compañía el día anterior. \n",
    "    La lógica que sigue esta sustitución es la siguiente: Los valores perdidos se corresponden a días donde no hay actividad de \n",
    "    las casas de cambio, por lo que el valor asignado se corresponde''' \n",
    "\n",
    "for c in range(columnas):\n",
    "    for f in range(filas):\n",
    "        if df_combinado_null.iloc[f,c] == True:\n",
    "            df_combinado.iloc[f,c] = df_combinado.iloc[(f-1),c]\n",
    "        else:\n",
    "            df_combinado.iloc[f,c] = df_combinado.iloc[f,c]\n",
    "\n",
    "df_combinado.head()            "
   ]
  },
  {
   "cell_type": "code",
   "execution_count": 19,
   "metadata": {},
   "outputs": [
    {
     "data": {
      "text/html": [
       "<div>\n",
       "<style scoped>\n",
       "    .dataframe tbody tr th:only-of-type {\n",
       "        vertical-align: middle;\n",
       "    }\n",
       "\n",
       "    .dataframe tbody tr th {\n",
       "        vertical-align: top;\n",
       "    }\n",
       "\n",
       "    .dataframe thead th {\n",
       "        text-align: right;\n",
       "    }\n",
       "</style>\n",
       "<table border=\"1\" class=\"dataframe\">\n",
       "  <thead>\n",
       "    <tr style=\"text-align: right;\">\n",
       "      <th></th>\n",
       "      <th>count</th>\n",
       "      <th>mean</th>\n",
       "      <th>std</th>\n",
       "      <th>min</th>\n",
       "      <th>25%</th>\n",
       "      <th>50%</th>\n",
       "      <th>75%</th>\n",
       "      <th>max</th>\n",
       "    </tr>\n",
       "  </thead>\n",
       "  <tbody>\n",
       "    <tr>\n",
       "      <th>ClosBtcEur</th>\n",
       "      <td>2304.0</td>\n",
       "      <td>5006.556875</td>\n",
       "      <td>5028.177584</td>\n",
       "      <td>178.102997</td>\n",
       "      <td>445.919991</td>\n",
       "      <td>3904.584961</td>\n",
       "      <td>8488.242920</td>\n",
       "      <td>34741.707031</td>\n",
       "    </tr>\n",
       "    <tr>\n",
       "      <th>CloseGoog</th>\n",
       "      <td>2304.0</td>\n",
       "      <td>988.458379</td>\n",
       "      <td>317.691941</td>\n",
       "      <td>491.201416</td>\n",
       "      <td>733.775024</td>\n",
       "      <td>1010.169983</td>\n",
       "      <td>1188.194977</td>\n",
       "      <td>1827.989990</td>\n",
       "    </tr>\n",
       "    <tr>\n",
       "      <th>CloseAmzn</th>\n",
       "      <td>2304.0</td>\n",
       "      <td>1329.480004</td>\n",
       "      <td>806.596225</td>\n",
       "      <td>286.950012</td>\n",
       "      <td>672.640015</td>\n",
       "      <td>1126.500000</td>\n",
       "      <td>1818.597504</td>\n",
       "      <td>3531.449951</td>\n",
       "    </tr>\n",
       "    <tr>\n",
       "      <th>CloseFb</th>\n",
       "      <td>2304.0</td>\n",
       "      <td>154.714718</td>\n",
       "      <td>53.082751</td>\n",
       "      <td>72.629997</td>\n",
       "      <td>112.655002</td>\n",
       "      <td>155.070007</td>\n",
       "      <td>185.767505</td>\n",
       "      <td>303.910004</td>\n",
       "    </tr>\n",
       "    <tr>\n",
       "      <th>CloseMsft</th>\n",
       "      <td>2304.0</td>\n",
       "      <td>97.581918</td>\n",
       "      <td>52.067325</td>\n",
       "      <td>40.290001</td>\n",
       "      <td>53.762501</td>\n",
       "      <td>83.260002</td>\n",
       "      <td>131.642505</td>\n",
       "      <td>231.649994</td>\n",
       "    </tr>\n",
       "  </tbody>\n",
       "</table>\n",
       "</div>"
      ],
      "text/plain": [
       "             count         mean          std         min         25%  \\\n",
       "ClosBtcEur  2304.0  5006.556875  5028.177584  178.102997  445.919991   \n",
       "CloseGoog   2304.0   988.458379   317.691941  491.201416  733.775024   \n",
       "CloseAmzn   2304.0  1329.480004   806.596225  286.950012  672.640015   \n",
       "CloseFb     2304.0   154.714718    53.082751   72.629997  112.655002   \n",
       "CloseMsft   2304.0    97.581918    52.067325   40.290001   53.762501   \n",
       "\n",
       "                    50%          75%           max  \n",
       "ClosBtcEur  3904.584961  8488.242920  34741.707031  \n",
       "CloseGoog   1010.169983  1188.194977   1827.989990  \n",
       "CloseAmzn   1126.500000  1818.597504   3531.449951  \n",
       "CloseFb      155.070007   185.767505    303.910004  \n",
       "CloseMsft     83.260002   131.642505    231.649994  "
      ]
     },
     "execution_count": 19,
     "metadata": {},
     "output_type": "execute_result"
    }
   ],
   "source": [
    "df_combinado.describe().transpose()\n",
    "\n"
   ]
  },
  {
   "cell_type": "markdown",
   "metadata": {},
   "source": [
    "El resultado anterio, muestra que los valores perdidos fueron reemplazados, respecto a los valores de los estadísticos descriptivos, los mismos no presentaron modificaciones significativas"
   ]
  },
  {
   "cell_type": "code",
   "execution_count": 20,
   "metadata": {},
   "outputs": [
    {
     "data": {
      "text/plain": [
       "<AxesSubplot:>"
      ]
     },
     "execution_count": 20,
     "metadata": {},
     "output_type": "execute_result"
    },
    {
     "data": {
      "image/png": "[encoded data removed]",
      "text/plain": [
       "<Figure size 432x288 with 1 Axes>"
      ]
     },
     "metadata": {
      "needs_background": "light"
     },
     "output_type": "display_data"
    }
   ],
   "source": [
    "df_combinado.loc[:, ['ClosBtcEur', 'CloseGoog', 'CloseAmzn', 'CloseFb', 'CloseMsft']].boxplot()"
   ]
  },
  {
   "cell_type": "code",
   "execution_count": 21,
   "metadata": {},
   "outputs": [
    {
     "data": {
      "text/plain": [
       "<AxesSubplot:xlabel='Date'>"
      ]
     },
     "execution_count": 21,
     "metadata": {},
     "output_type": "execute_result"
    },
    {
     "data": {
      "image/png": "[encoded data removed]",
      "text/plain": [
       "<Figure size 432x288 with 1 Axes>"
      ]
     },
     "metadata": {
      "needs_background": "light"
     },
     "output_type": "display_data"
    }
   ],
   "source": [
    "df_combinado.loc[:, ['ClosBtcEur', 'CloseGoog', 'CloseAmzn', 'CloseFb', 'CloseMsft']].plot()"
   ]
  },
  {
   "cell_type": "markdown",
   "metadata": {},
   "source": [
    "# Comentario respecto al gráfico de cajas\n",
    "\n",
    "Se observa la diferencia en la variabilidad de los precios de cierre de goole respecto a los precios de cierre de las empresas tecnológicas,en particular los precios de cierre de google presentan una distribución de cola larga"
   ]
  },
  {
   "cell_type": "code",
   "execution_count": 22,
   "metadata": {},
   "outputs": [],
   "source": [
    "import matplotlib.pyplot as plt\n",
    "%matplotlib inline\n",
    "\n"
   ]
  },
  {
   "cell_type": "code",
   "execution_count": 23,
   "metadata": {},
   "outputs": [
    {
     "data": {
      "image/png": "[encoded data removed]",
      "text/plain": [
       "<Figure size 432x288 with 1 Axes>"
      ]
     },
     "metadata": {
      "needs_background": "light"
     },
     "output_type": "display_data"
    }
   ],
   "source": [
    "plt.hist(x=df_combinado.iloc[:,0])\n",
    "plt.title('Histograma - Precio de Cierre de Bitcoins')\n",
    "plt.xlabel('Precio de Cierre')\n",
    "plt.ylabel('Frecuencia')\n",
    "plt.show()"
   ]
  },
  {
   "cell_type": "code",
   "execution_count": 24,
   "metadata": {},
   "outputs": [
    {
     "data": {
      "image/png": "[encoded data removed]",
      "text/plain": [
       "<Figure size 432x288 with 1 Axes>"
      ]
     },
     "metadata": {
      "needs_background": "light"
     },
     "output_type": "display_data"
    }
   ],
   "source": [
    "plt.hist(x=df_combinado.iloc[:,1])\n",
    "plt.title('Histograma - Precio de Cierre de Google')\n",
    "plt.xlabel('Precio de Cierre')\n",
    "plt.ylabel('Frecuencia')\n",
    "plt.show()"
   ]
  },
  {
   "cell_type": "code",
   "execution_count": 25,
   "metadata": {},
   "outputs": [
    {
     "data": {
      "image/png": "[encoded data removed]",
      "text/plain": [
       "<Figure size 432x288 with 1 Axes>"
      ]
     },
     "metadata": {
      "needs_background": "light"
     },
     "output_type": "display_data"
    }
   ],
   "source": [
    "plt.hist(x=df_combinado.iloc[:,2])\n",
    "plt.title('Histograma - Precio de Cierre de Amazon')\n",
    "plt.xlabel('Precio de Cierre')\n",
    "plt.ylabel('Frecuencia')\n",
    "plt.show()"
   ]
  },
  {
   "cell_type": "code",
   "execution_count": 26,
   "metadata": {},
   "outputs": [
    {
     "data": {
      "image/png": "[encoded data removed]",
      "text/plain": [
       "<Figure size 432x288 with 1 Axes>"
      ]
     },
     "metadata": {
      "needs_background": "light"
     },
     "output_type": "display_data"
    }
   ],
   "source": [
    "plt.hist(x=df_combinado.iloc[:,3])\n",
    "plt.title('Histograma - Precio de Cierre de Faceboock')\n",
    "plt.xlabel('Precio de Cierre')\n",
    "plt.ylabel('Frecuencia')\n",
    "plt.show()"
   ]
  },
  {
   "cell_type": "code",
   "execution_count": 27,
   "metadata": {},
   "outputs": [
    {
     "data": {
      "image/png": "[encoded data removed]",
      "text/plain": [
       "<Figure size 432x288 with 1 Axes>"
      ]
     },
     "metadata": {
      "needs_background": "light"
     },
     "output_type": "display_data"
    }
   ],
   "source": [
    "plt.hist(x=df_combinado.iloc[:,4])\n",
    "plt.title('Histograma - Precio de Cierre de Microsoft')\n",
    "plt.xlabel('Precio de Cierre')\n",
    "plt.ylabel('Frecuencia')\n",
    "plt.show()"
   ]
  },
  {
   "cell_type": "markdown",
   "metadata": {},
   "source": [
    "En todos los gáficos se evidencia lo asimétrico de los datos. Lo anterior sugiere que es combeniente realizar algún tipo de transformación en los datos.\n",
    "\n",
    "Para ello usamos la transformación logaritmica "
   ]
  },
  {
   "cell_type": "code",
   "execution_count": 28,
   "metadata": {},
   "outputs": [],
   "source": [
    "import numpy as np"
   ]
  },
  {
   "cell_type": "code",
   "execution_count": 29,
   "metadata": {},
   "outputs": [
    {
     "data": {
      "image/png": "[encoded data removed]",
      "text/plain": [
       "<Figure size 432x288 with 1 Axes>"
      ]
     },
     "metadata": {
      "needs_background": "light"
     },
     "output_type": "display_data"
    }
   ],
   "source": [
    "plt.hist(x=np.log(df_combinado.iloc[:,0]))\n",
    "plt.title('Histograma - Logaritmo del Precio de Cierre de Bitcoins')\n",
    "plt.xlabel('Logaritmo Precio de Cierre')\n",
    "plt.ylabel('Frecuencia')\n",
    "plt.show()"
   ]
  },
  {
   "cell_type": "code",
   "execution_count": 30,
   "metadata": {},
   "outputs": [
    {
     "data": {
      "image/png": "[encoded data removed]",
      "text/plain": [
       "<Figure size 432x288 with 1 Axes>"
      ]
     },
     "metadata": {
      "needs_background": "light"
     },
     "output_type": "display_data"
    }
   ],
   "source": [
    "plt.hist(x=np.log(df_combinado.iloc[:,2]))\n",
    "plt.title('Histograma - Logaritmo del Precio de Cierre de Amazon')\n",
    "plt.xlabel('Precio de Cierre')\n",
    "plt.ylabel('Frecuencia')\n",
    "plt.show()"
   ]
  },
  {
   "cell_type": "code",
   "execution_count": 31,
   "metadata": {},
   "outputs": [
    {
     "data": {
      "image/png": "[encoded data removed]",
      "text/plain": [
       "<Figure size 432x288 with 1 Axes>"
      ]
     },
     "metadata": {
      "needs_background": "light"
     },
     "output_type": "display_data"
    }
   ],
   "source": [
    "plt.hist(x=np.log(df_combinado.iloc[:,1]))\n",
    "plt.title('Histograma - Logartimo del Precio de Cierre de Google')\n",
    "plt.xlabel('Precio de Cierre')\n",
    "plt.ylabel('Frecuencia')\n",
    "plt.show()"
   ]
  },
  {
   "cell_type": "code",
   "execution_count": 32,
   "metadata": {},
   "outputs": [
    {
     "data": {
      "image/png": "[encoded data removed]",
      "text/plain": [
       "<Figure size 432x288 with 1 Axes>"
      ]
     },
     "metadata": {
      "needs_background": "light"
     },
     "output_type": "display_data"
    }
   ],
   "source": [
    "plt.hist(x=np.log(df_combinado.iloc[:,3]))\n",
    "plt.title('Histograma - Logartimo del Precio de Cierre de Faceboock')\n",
    "plt.xlabel('Precio de Cierre')\n",
    "plt.ylabel('Frecuencia')\n",
    "plt.show()"
   ]
  },
  {
   "cell_type": "code",
   "execution_count": 33,
   "metadata": {},
   "outputs": [
    {
     "data": {
      "image/png": "[encoded data removed]",
      "text/plain": [
       "<Figure size 432x288 with 1 Axes>"
      ]
     },
     "metadata": {
      "needs_background": "light"
     },
     "output_type": "display_data"
    }
   ],
   "source": [
    "plt.hist(x=np.log(df_combinado.iloc[:,4]))\n",
    "plt.title('Histograma - Logaritmo del Precio de Cierre de Microsoft')\n",
    "plt.xlabel('Precio de Cierre')\n",
    "plt.ylabel('Frecuencia')\n",
    "plt.show()"
   ]
  },
  {
   "cell_type": "code",
   "execution_count": 34,
   "metadata": {},
   "outputs": [
    {
     "data": {
      "image/png": "[encoded data removed]",
      "text/plain": [
       "<Figure size 432x288 with 1 Axes>"
      ]
     },
     "metadata": {
      "needs_background": "light"
     },
     "output_type": "display_data"
    }
   ],
   "source": [
    "plt.hist(x=np.log(df_combinado.iloc[:,3]))\n",
    "plt.title('Histograma - Logartimo del Precio de Cierre de Faceboock')\n",
    "plt.xlabel('Precio de Cierre')\n",
    "plt.ylabel('Frecuencia')\n",
    "plt.show()"
   ]
  },
  {
   "cell_type": "code",
   "execution_count": 35,
   "metadata": {},
   "outputs": [
    {
     "data": {
      "text/plain": [
       "<AxesSubplot:>"
      ]
     },
     "execution_count": 35,
     "metadata": {},
     "output_type": "execute_result"
    },
    {
     "data": {
      "image/png": "[encoded data removed]",
      "text/plain": [
       "<Figure size 432x288 with 1 Axes>"
      ]
     },
     "metadata": {
      "needs_background": "light"
     },
     "output_type": "display_data"
    }
   ],
   "source": [
    "df_combinado_log = np.log(df_combinado)\n",
    "\n",
    "df_combinado_log.loc[:, ['ClosBtcEur', 'CloseGoog', 'CloseAmzn', 'CloseFb', 'CloseMsft']].boxplot()"
   ]
  },
  {
   "cell_type": "code",
   "execution_count": 36,
   "metadata": {},
   "outputs": [
    {
     "data": {
      "text/plain": [
       "<AxesSubplot:xlabel='Date'>"
      ]
     },
     "execution_count": 36,
     "metadata": {},
     "output_type": "execute_result"
    },
    {
     "data": {
      "image/png": "[encoded data removed]",
      "text/plain": [
       "<Figure size 432x288 with 1 Axes>"
      ]
     },
     "metadata": {
      "needs_background": "light"
     },
     "output_type": "display_data"
    }
   ],
   "source": [
    "df_combinado_log.loc[:, ['ClosBtcEur', 'CloseGoog', 'CloseAmzn', 'CloseFb', 'CloseMsft']].plot()"
   ]
  },
  {
   "cell_type": "code",
   "execution_count": 37,
   "metadata": {},
   "outputs": [
    {
     "data": {
      "text/html": [
       "<div>\n",
       "<style scoped>\n",
       "    .dataframe tbody tr th:only-of-type {\n",
       "        vertical-align: middle;\n",
       "    }\n",
       "\n",
       "    .dataframe tbody tr th {\n",
       "        vertical-align: top;\n",
       "    }\n",
       "\n",
       "    .dataframe thead th {\n",
       "        text-align: right;\n",
       "    }\n",
       "</style>\n",
       "<table border=\"1\" class=\"dataframe\">\n",
       "  <thead>\n",
       "    <tr style=\"text-align: right;\">\n",
       "      <th></th>\n",
       "      <th>ClosBtcEur</th>\n",
       "      <th>CloseGoog</th>\n",
       "      <th>CloseAmzn</th>\n",
       "      <th>CloseFb</th>\n",
       "      <th>CloseMsft</th>\n",
       "    </tr>\n",
       "    <tr>\n",
       "      <th>Date</th>\n",
       "      <th></th>\n",
       "      <th></th>\n",
       "      <th></th>\n",
       "      <th></th>\n",
       "      <th></th>\n",
       "    </tr>\n",
       "  </thead>\n",
       "  <tbody>\n",
       "    <tr>\n",
       "      <th>2014-09-17</th>\n",
       "      <td>6.125414</td>\n",
       "      <td>6.368477</td>\n",
       "      <td>5.780744</td>\n",
       "      <td>4.336375</td>\n",
       "      <td>3.839882</td>\n",
       "    </tr>\n",
       "    <tr>\n",
       "      <th>2014-09-18</th>\n",
       "      <td>6.050771</td>\n",
       "      <td>6.376143</td>\n",
       "      <td>5.783825</td>\n",
       "      <td>4.343805</td>\n",
       "      <td>3.843316</td>\n",
       "    </tr>\n",
       "    <tr>\n",
       "      <th>2014-09-19</th>\n",
       "      <td>5.978369</td>\n",
       "      <td>6.387633</td>\n",
       "      <td>5.803085</td>\n",
       "      <td>4.355554</td>\n",
       "      <td>3.861151</td>\n",
       "    </tr>\n",
       "    <tr>\n",
       "      <th>2014-09-20</th>\n",
       "      <td>6.013480</td>\n",
       "      <td>6.387633</td>\n",
       "      <td>5.803085</td>\n",
       "      <td>4.355554</td>\n",
       "      <td>3.861151</td>\n",
       "    </tr>\n",
       "    <tr>\n",
       "      <th>2014-09-21</th>\n",
       "      <td>5.988513</td>\n",
       "      <td>6.387633</td>\n",
       "      <td>5.803085</td>\n",
       "      <td>4.355554</td>\n",
       "      <td>3.861151</td>\n",
       "    </tr>\n",
       "  </tbody>\n",
       "</table>\n",
       "</div>"
      ],
      "text/plain": [
       "            ClosBtcEur  CloseGoog  CloseAmzn   CloseFb  CloseMsft\n",
       "Date                                                             \n",
       "2014-09-17    6.125414   6.368477   5.780744  4.336375   3.839882\n",
       "2014-09-18    6.050771   6.376143   5.783825  4.343805   3.843316\n",
       "2014-09-19    5.978369   6.387633   5.803085  4.355554   3.861151\n",
       "2014-09-20    6.013480   6.387633   5.803085  4.355554   3.861151\n",
       "2014-09-21    5.988513   6.387633   5.803085  4.355554   3.861151"
      ]
     },
     "execution_count": 37,
     "metadata": {},
     "output_type": "execute_result"
    }
   ],
   "source": [
    "df_combinado_log.head()  "
   ]
  },
  {
   "cell_type": "code",
   "execution_count": 38,
   "metadata": {},
   "outputs": [
    {
     "data": {
      "text/html": [
       "<div>\n",
       "<style scoped>\n",
       "    .dataframe tbody tr th:only-of-type {\n",
       "        vertical-align: middle;\n",
       "    }\n",
       "\n",
       "    .dataframe tbody tr th {\n",
       "        vertical-align: top;\n",
       "    }\n",
       "\n",
       "    .dataframe thead th {\n",
       "        text-align: right;\n",
       "    }\n",
       "</style>\n",
       "<table border=\"1\" class=\"dataframe\">\n",
       "  <thead>\n",
       "    <tr style=\"text-align: right;\">\n",
       "      <th></th>\n",
       "      <th>ClosBtcEur</th>\n",
       "      <th>CloseGoog</th>\n",
       "      <th>CloseAmzn</th>\n",
       "      <th>CloseFb</th>\n",
       "      <th>CloseMsft</th>\n",
       "    </tr>\n",
       "    <tr>\n",
       "      <th>Date</th>\n",
       "      <th></th>\n",
       "      <th></th>\n",
       "      <th></th>\n",
       "      <th></th>\n",
       "      <th></th>\n",
       "    </tr>\n",
       "  </thead>\n",
       "  <tbody>\n",
       "    <tr>\n",
       "      <th>2021-01-02</th>\n",
       "      <td>10.377460</td>\n",
       "      <td>7.468445</td>\n",
       "      <td>8.088540</td>\n",
       "      <td>5.610058</td>\n",
       "      <td>5.404567</td>\n",
       "    </tr>\n",
       "    <tr>\n",
       "      <th>2021-01-03</th>\n",
       "      <td>10.397636</td>\n",
       "      <td>7.468445</td>\n",
       "      <td>8.088540</td>\n",
       "      <td>5.610058</td>\n",
       "      <td>5.404567</td>\n",
       "    </tr>\n",
       "    <tr>\n",
       "      <th>2021-01-04</th>\n",
       "      <td>10.372613</td>\n",
       "      <td>7.454859</td>\n",
       "      <td>8.066719</td>\n",
       "      <td>5.594488</td>\n",
       "      <td>5.383072</td>\n",
       "    </tr>\n",
       "    <tr>\n",
       "      <th>2021-01-05</th>\n",
       "      <td>10.433893</td>\n",
       "      <td>7.462169</td>\n",
       "      <td>8.076674</td>\n",
       "      <td>5.602008</td>\n",
       "      <td>5.384036</td>\n",
       "    </tr>\n",
       "    <tr>\n",
       "      <th>2021-01-06</th>\n",
       "      <td>10.455696</td>\n",
       "      <td>7.462169</td>\n",
       "      <td>8.076674</td>\n",
       "      <td>5.602008</td>\n",
       "      <td>5.384036</td>\n",
       "    </tr>\n",
       "  </tbody>\n",
       "</table>\n",
       "</div>"
      ],
      "text/plain": [
       "            ClosBtcEur  CloseGoog  CloseAmzn   CloseFb  CloseMsft\n",
       "Date                                                             \n",
       "2021-01-02   10.377460   7.468445   8.088540  5.610058   5.404567\n",
       "2021-01-03   10.397636   7.468445   8.088540  5.610058   5.404567\n",
       "2021-01-04   10.372613   7.454859   8.066719  5.594488   5.383072\n",
       "2021-01-05   10.433893   7.462169   8.076674  5.602008   5.384036\n",
       "2021-01-06   10.455696   7.462169   8.076674  5.602008   5.384036"
      ]
     },
     "execution_count": 38,
     "metadata": {},
     "output_type": "execute_result"
    }
   ],
   "source": [
    "df_combinado_log.tail() "
   ]
  },
  {
   "cell_type": "markdown",
   "metadata": {},
   "source": [
    "# ¿Cuántos rezagos usar?\n",
    "\n",
    "Dado que el objetivo del proyecot es predecir los precios de cierre de Bitcoins, en función de los precios de cierre de las empresas de tecnología seleccionadas, tendremos que determinar primero con cuantos periodos de rezagos debemos trabajar, esto es si queremos saber el precio de cierre del Bitcoins en el período t, la idea sería tomar los precios de cierre en los períodos anteriores (t-1, t-2, t-2, t-4...t-k) que son conocidos al momento de hacer la predicción.\n",
    "\n",
    "Los siguientes pasos modificaran el dataframe, para lograr esta estructura para modelar\n",
    "\n",
    "Trabajaremos con el dataframe transformado en logarítmos"
   ]
  },
  {
   "cell_type": "code",
   "execution_count": 39,
   "metadata": {},
   "outputs": [
    {
     "data": {
      "text/html": [
       "<div>\n",
       "<style scoped>\n",
       "    .dataframe tbody tr th:only-of-type {\n",
       "        vertical-align: middle;\n",
       "    }\n",
       "\n",
       "    .dataframe tbody tr th {\n",
       "        vertical-align: top;\n",
       "    }\n",
       "\n",
       "    .dataframe thead th {\n",
       "        text-align: right;\n",
       "    }\n",
       "</style>\n",
       "<table border=\"1\" class=\"dataframe\">\n",
       "  <thead>\n",
       "    <tr style=\"text-align: right;\">\n",
       "      <th></th>\n",
       "      <th>ClosBtcEur</th>\n",
       "      <th>CloseGoog</th>\n",
       "      <th>CloseAmzn</th>\n",
       "      <th>CloseFb</th>\n",
       "      <th>CloseMsft</th>\n",
       "    </tr>\n",
       "    <tr>\n",
       "      <th>Date</th>\n",
       "      <th></th>\n",
       "      <th></th>\n",
       "      <th></th>\n",
       "      <th></th>\n",
       "      <th></th>\n",
       "    </tr>\n",
       "  </thead>\n",
       "  <tbody>\n",
       "    <tr>\n",
       "      <th>2014-09-17</th>\n",
       "      <td>NaN</td>\n",
       "      <td>NaN</td>\n",
       "      <td>NaN</td>\n",
       "      <td>NaN</td>\n",
       "      <td>NaN</td>\n",
       "    </tr>\n",
       "    <tr>\n",
       "      <th>2014-09-18</th>\n",
       "      <td>-0.074643</td>\n",
       "      <td>0.007666</td>\n",
       "      <td>0.003082</td>\n",
       "      <td>0.007430</td>\n",
       "      <td>0.003433</td>\n",
       "    </tr>\n",
       "    <tr>\n",
       "      <th>2014-09-19</th>\n",
       "      <td>-0.072402</td>\n",
       "      <td>0.011490</td>\n",
       "      <td>0.019260</td>\n",
       "      <td>0.011749</td>\n",
       "      <td>0.017835</td>\n",
       "    </tr>\n",
       "    <tr>\n",
       "      <th>2014-09-20</th>\n",
       "      <td>0.035111</td>\n",
       "      <td>0.000000</td>\n",
       "      <td>0.000000</td>\n",
       "      <td>0.000000</td>\n",
       "      <td>0.000000</td>\n",
       "    </tr>\n",
       "    <tr>\n",
       "      <th>2014-09-21</th>\n",
       "      <td>-0.024968</td>\n",
       "      <td>0.000000</td>\n",
       "      <td>0.000000</td>\n",
       "      <td>0.000000</td>\n",
       "      <td>0.000000</td>\n",
       "    </tr>\n",
       "  </tbody>\n",
       "</table>\n",
       "</div>"
      ],
      "text/plain": [
       "            ClosBtcEur  CloseGoog  CloseAmzn   CloseFb  CloseMsft\n",
       "Date                                                             \n",
       "2014-09-17         NaN        NaN        NaN       NaN        NaN\n",
       "2014-09-18   -0.074643   0.007666   0.003082  0.007430   0.003433\n",
       "2014-09-19   -0.072402   0.011490   0.019260  0.011749   0.017835\n",
       "2014-09-20    0.035111   0.000000   0.000000  0.000000   0.000000\n",
       "2014-09-21   -0.024968   0.000000   0.000000  0.000000   0.000000"
      ]
     },
     "execution_count": 39,
     "metadata": {},
     "output_type": "execute_result"
    }
   ],
   "source": [
    "\n",
    "\n",
    "df_combinado_log_dif = df_combinado_log.copy()\n",
    "\n",
    "df_combinado_log_dif = df_combinado_log_dif.diff()\n",
    "\n",
    "df_combinado_log_dif.head()       "
   ]
  },
  {
   "cell_type": "code",
   "execution_count": 40,
   "metadata": {},
   "outputs": [
    {
     "data": {
      "text/html": [
       "<div>\n",
       "<style scoped>\n",
       "    .dataframe tbody tr th:only-of-type {\n",
       "        vertical-align: middle;\n",
       "    }\n",
       "\n",
       "    .dataframe tbody tr th {\n",
       "        vertical-align: top;\n",
       "    }\n",
       "\n",
       "    .dataframe thead th {\n",
       "        text-align: right;\n",
       "    }\n",
       "</style>\n",
       "<table border=\"1\" class=\"dataframe\">\n",
       "  <thead>\n",
       "    <tr style=\"text-align: right;\">\n",
       "      <th></th>\n",
       "      <th>ClosBtcEur</th>\n",
       "      <th>CloseGoog</th>\n",
       "      <th>CloseAmzn</th>\n",
       "      <th>CloseFb</th>\n",
       "      <th>CloseMsft</th>\n",
       "    </tr>\n",
       "    <tr>\n",
       "      <th>Date</th>\n",
       "      <th></th>\n",
       "      <th></th>\n",
       "      <th></th>\n",
       "      <th></th>\n",
       "      <th></th>\n",
       "    </tr>\n",
       "  </thead>\n",
       "  <tbody>\n",
       "    <tr>\n",
       "      <th>2021-01-02</th>\n",
       "      <td>0.089590</td>\n",
       "      <td>0.000000</td>\n",
       "      <td>0.000000</td>\n",
       "      <td>0.000000</td>\n",
       "      <td>0.000000</td>\n",
       "    </tr>\n",
       "    <tr>\n",
       "      <th>2021-01-03</th>\n",
       "      <td>0.020175</td>\n",
       "      <td>0.000000</td>\n",
       "      <td>0.000000</td>\n",
       "      <td>0.000000</td>\n",
       "      <td>0.000000</td>\n",
       "    </tr>\n",
       "    <tr>\n",
       "      <th>2021-01-04</th>\n",
       "      <td>-0.025022</td>\n",
       "      <td>-0.013586</td>\n",
       "      <td>-0.021821</td>\n",
       "      <td>-0.015569</td>\n",
       "      <td>-0.021495</td>\n",
       "    </tr>\n",
       "    <tr>\n",
       "      <th>2021-01-05</th>\n",
       "      <td>0.061280</td>\n",
       "      <td>0.007310</td>\n",
       "      <td>0.009955</td>\n",
       "      <td>0.007520</td>\n",
       "      <td>0.000964</td>\n",
       "    </tr>\n",
       "    <tr>\n",
       "      <th>2021-01-06</th>\n",
       "      <td>0.021803</td>\n",
       "      <td>0.000000</td>\n",
       "      <td>0.000000</td>\n",
       "      <td>0.000000</td>\n",
       "      <td>0.000000</td>\n",
       "    </tr>\n",
       "  </tbody>\n",
       "</table>\n",
       "</div>"
      ],
      "text/plain": [
       "            ClosBtcEur  CloseGoog  CloseAmzn   CloseFb  CloseMsft\n",
       "Date                                                             \n",
       "2021-01-02    0.089590   0.000000   0.000000  0.000000   0.000000\n",
       "2021-01-03    0.020175   0.000000   0.000000  0.000000   0.000000\n",
       "2021-01-04   -0.025022  -0.013586  -0.021821 -0.015569  -0.021495\n",
       "2021-01-05    0.061280   0.007310   0.009955  0.007520   0.000964\n",
       "2021-01-06    0.021803   0.000000   0.000000  0.000000   0.000000"
      ]
     },
     "execution_count": 40,
     "metadata": {},
     "output_type": "execute_result"
    }
   ],
   "source": [
    "df_combinado_log_dif.tail() "
   ]
  },
  {
   "cell_type": "code",
   "execution_count": 41,
   "metadata": {},
   "outputs": [
    {
     "data": {
      "text/plain": [
       "<AxesSubplot:xlabel='Date'>"
      ]
     },
     "execution_count": 41,
     "metadata": {},
     "output_type": "execute_result"
    },
    {
     "data": {
      "image/png": "[encoded data removed]",
      "text/plain": [
       "<Figure size 432x288 with 1 Axes>"
      ]
     },
     "metadata": {
      "needs_background": "light"
     },
     "output_type": "display_data"
    }
   ],
   "source": [
    "df_combinado_log_dif.loc[:, ['ClosBtcEur', 'CloseGoog', 'CloseAmzn', 'CloseFb', 'CloseMsft']].plot()"
   ]
  },
  {
   "cell_type": "code",
   "execution_count": 42,
   "metadata": {},
   "outputs": [
    {
     "name": "stdout",
     "output_type": "stream",
     "text": [
      "Número de filas del dataframe original:  2304\n",
      "Número de filas del dataframe transformado en logaritmos:  2304\n",
      "Número de filas del dataframe transformado en logaritmos y diferenciado:  2304\n"
     ]
    }
   ],
   "source": [
    "print(\"Número de filas del dataframe original: \",df_combinado.shape[0])\n",
    "print(\"Número de filas del dataframe transformado en logaritmos: \",df_combinado_log.shape[0])\n",
    "print(\"Número de filas del dataframe transformado en logaritmos y diferenciado: \",df_combinado.shape[0])"
   ]
  },
  {
   "cell_type": "code",
   "execution_count": 43,
   "metadata": {},
   "outputs": [
    {
     "name": "stdout",
     "output_type": "stream",
     "text": [
      "Matriz de correlaciones del dataframe en logaritmos\n",
      "\n",
      "            ClosBtcEur  CloseGoog  CloseAmzn   CloseFb  CloseMsft\n",
      "ClosBtcEur    1.000000   0.939073   0.926605  0.934863   0.907827\n",
      "CloseGoog     0.939073   1.000000   0.980698  0.973778   0.960315\n",
      "CloseAmzn     0.926605   0.980698   1.000000  0.957867   0.958233\n",
      "CloseFb       0.934863   0.973778   0.957867  1.000000   0.920217\n",
      "CloseMsft     0.907827   0.960315   0.958233  0.920217   1.000000\n",
      "\n",
      "Matriz de correlaciones del dataframe en diferencia de logaritmos\n",
      "\n",
      "            ClosBtcEur  CloseGoog  CloseAmzn   CloseFb  CloseMsft\n",
      "ClosBtcEur    1.000000   0.094732   0.073110  0.089609   0.119482\n",
      "CloseGoog     0.094732   1.000000   0.654074  0.663365   0.729611\n",
      "CloseAmzn     0.073110   0.654074   1.000000  0.593214   0.641950\n",
      "CloseFb       0.089609   0.663365   0.593214  1.000000   0.608026\n",
      "CloseMsft     0.119482   0.729611   0.641950  0.608026   1.000000\n"
     ]
    }
   ],
   "source": [
    "# Matriz de correlaciones del dataframe en logaritmos y en diferencias de logaritmos\n",
    "\n",
    "print(\"Matriz de correlaciones del dataframe en logaritmos\")\n",
    "print()\n",
    "print(df_combinado_log.corr())\n",
    "print()\n",
    "print(\"Matriz de correlaciones del dataframe en diferencia de logaritmos\")\n",
    "print()\n",
    "print(df_combinado_log_dif.corr())"
   ]
  },
  {
   "cell_type": "code",
   "execution_count": 44,
   "metadata": {},
   "outputs": [],
   "source": [
    "# Con estas dos funciones se generan los datos al número de rezagos que se quiera modelar\n",
    "\n",
    "def rezagos_y(df, rezagos):\n",
    "    y = df.iloc[0:df_combinado.shape[0]-rezagos]\n",
    "    return y\n",
    "\n",
    "def rezagos_X(df, rezagos):\n",
    "    X = df.iloc[rezagos:df_combinado.shape[0]]\n",
    "    return X"
   ]
  },
  {
   "cell_type": "code",
   "execution_count": 45,
   "metadata": {},
   "outputs": [],
   "source": [
    "y = df_combinado_log.iloc[:,0]\n",
    "X = df_combinado_log.loc[:,['CloseGoog','CloseAmzn','CloseFb','CloseMsft']]\n",
    "\n",
    "# Datos con 1 rezago\n",
    "y_1 =rezagos_y(y,1)\n",
    "X_1 =rezagos_X(X,1)\n",
    "\n",
    "# Datos con 2 rezago\n",
    "y_2 =rezagos_y(y,2)\n",
    "X_2 =rezagos_X(X,2)\n",
    "\n",
    "# Datos con 3 rezago\n",
    "y_3 =rezagos_y(y,3)\n",
    "X_3 =rezagos_X(X,3)\n",
    "\n",
    "# Datos con 4 rezago\n",
    "y_4 =rezagos_y(y,4)\n",
    "X_4 =rezagos_X(X,4)\n",
    "\n",
    "# Datos con 5 rezago\n",
    "y_5 =rezagos_y(y,5)\n",
    "X_5 =rezagos_X(X,5)\n",
    "\n",
    "# Datos con 6 rezago\n",
    "y_6 =rezagos_y(y,6)\n",
    "X_6 =rezagos_X(X,6)\n",
    "\n",
    "# Datos con 7 rezago\n",
    "y_7 =rezagos_y(y,7)\n",
    "X_7 =rezagos_X(X,7)"
   ]
  },
  {
   "cell_type": "code",
   "execution_count": 46,
   "metadata": {},
   "outputs": [],
   "source": [
    "\n",
    "EcmTrainRegMult = []\n",
    "R2_TrainRegMult = []\n",
    "EcmTestRegMult = []\n",
    "R2_TestRegMult = []\n"
   ]
  },
  {
   "cell_type": "code",
   "execution_count": 47,
   "metadata": {},
   "outputs": [
    {
     "name": "stdout",
     "output_type": "stream",
     "text": [
      "Coefficients: \n",
      " [1.51011574 0.08637708 1.75049422 0.48021863]\n",
      "=====================================================================\n",
      "Independent term: \n",
      " -14.07806867977679\n",
      "=====================================================================\n",
      "Mean squared error: 0.2312\n",
      "=====================================================================\n",
      "Variance score: 0.8924\n"
     ]
    }
   ],
   "source": [
    "# Librerias para correr Regresión - Un Rezago\n",
    "from sklearn.model_selection import train_test_split\n",
    "from sklearn import linear_model\n",
    "from sklearn.metrics import mean_squared_error, r2_score\n",
    "\n",
    "\n",
    "X_train_1, X_test_1, y_train_1, y_test_1 = train_test_split(X_1.iloc[:,0:].values, y_1.iloc[:].values, test_size = 0.3, random_state=1964)\n",
    "# Modelo un Rezago\n",
    "\n",
    "modelo_1_rezago = linear_model.LinearRegression()\n",
    "\n",
    "# Entrenamos modelo base\n",
    "modelo_1_rezago.fit(X_train_1, y_train_1)\n",
    "\n",
    "# Hacemos las predicciones con el modelos base sobre el conjunto de entrenamiento\n",
    "y_pred_1 = modelo_1_rezago.predict(X_train_1)\n",
    "\n",
    "# Veamos los coeficienetes obtenidos, En nuestro caso, serán la Tangente\n",
    "print('Coefficients: \\n', modelo_1_rezago.coef_)\n",
    "print(\"=====================================================================\")\n",
    "# Este es el valor donde corta el eje Y (en X=0)\n",
    "print('Independent term: \\n', modelo_1_rezago.intercept_)\n",
    "print(\"=====================================================================\")\n",
    "# Error Cuadrado Medio\n",
    "ErrorCueadraticoMedioTrain_1 = mean_squared_error(y_train_1, y_pred_1)\n",
    "print(\"Mean squared error: %.4f\" % ErrorCueadraticoMedioTrain_1)\n",
    "print(\"=====================================================================\")\n",
    "R2_Train_1 = r2_score(y_train_1, y_pred_1)\n",
    "print('Variance score: %.4f' % R2_Train_1)\n",
    "\n",
    "EcmTrainRegMult.append(ErrorCueadraticoMedioTrain_1)\n",
    "R2_TrainRegMult.append(R2_Train_1)"
   ]
  },
  {
   "cell_type": "code",
   "execution_count": 48,
   "metadata": {},
   "outputs": [
    {
     "name": "stdout",
     "output_type": "stream",
     "text": [
      "Mean squared error: 0.2529\n",
      "=====================================================================\n",
      "Variance score: 0.8884\n"
     ]
    }
   ],
   "source": [
    "# Predicciones sobre el conjunto de prueba  Un Rezago\n",
    "y_pred_test_1 = modelo_1_rezago.predict(X_test_1)\n",
    "\n",
    "ErrorCuadraticoMedioTest_1 = mean_squared_error(y_test_1, y_pred_test_1)\n",
    "print(\"Mean squared error: %.4f\" % ErrorCuadraticoMedioTest_1)\n",
    "print(\"=====================================================================\")\n",
    "\n",
    "R2_Test_1 = r2_score(y_test_1, y_pred_test_1)\n",
    "print('Variance score: %.4f' % R2_Test_1)\n",
    "\n",
    "EcmTestRegMult.append(ErrorCuadraticoMedioTest_1)\n",
    "R2_TestRegMult.append(R2_Test_1)"
   ]
  },
  {
   "cell_type": "code",
   "execution_count": 49,
   "metadata": {},
   "outputs": [
    {
     "name": "stdout",
     "output_type": "stream",
     "text": [
      "Coefficients: \n",
      " [1.4837299  0.10724674 1.72839747 0.48632577]\n",
      "=====================================================================\n",
      "Independent term: \n",
      " -13.96146612427815\n",
      "=====================================================================\n",
      "Mean squared error: 0.2321\n",
      "=====================================================================\n",
      "Variance score: 0.8919\n"
     ]
    }
   ],
   "source": [
    "X_train_2, X_test_2, y_train_2, y_test_2 = train_test_split(X_2.iloc[:,0:].values, y_2.iloc[:].values, test_size = 0.3, random_state=1964)\n",
    "\n",
    "# Modelo dos Rezagos\n",
    "\n",
    "modelo_2_rezago = linear_model.LinearRegression()\n",
    "\n",
    "# Entrenamos modelo base\n",
    "modelo_2_rezago.fit(X_train_2, y_train_2)\n",
    "\n",
    "# Hacemos las predicciones con el modelos base sobre el conjunto de entrenamiento\n",
    "y_pred_2 = modelo_2_rezago.predict(X_train_2)\n",
    "\n",
    "# Veamos los coeficienetes obtenidos, En nuestro caso, serán la Tangente\n",
    "print('Coefficients: \\n', modelo_2_rezago.coef_)\n",
    "print(\"=====================================================================\")\n",
    "# Este es el valor donde corta el eje Y (en X=0)\n",
    "print('Independent term: \\n', modelo_2_rezago.intercept_)\n",
    "print(\"=====================================================================\")\n",
    "# Error Cuadrado Medio\n",
    "ErrorCueadraticoMedioTrain_2 = mean_squared_error(y_train_2, y_pred_2)\n",
    "print(\"Mean squared error: %.4f\" % ErrorCueadraticoMedioTrain_2)\n",
    "print(\"=====================================================================\")\n",
    "R2_Train_2 = r2_score(y_train_2, y_pred_2)\n",
    "print('Variance score: %.4f' % R2_Train_2)\n",
    "\n",
    "EcmTrainRegMult.append(ErrorCueadraticoMedioTrain_2)\n",
    "R2_TrainRegMult.append(R2_Train_2)"
   ]
  },
  {
   "cell_type": "code",
   "execution_count": 50,
   "metadata": {},
   "outputs": [
    {
     "name": "stdout",
     "output_type": "stream",
     "text": [
      "Mean squared error: 0.2547\n",
      "=====================================================================\n",
      "Variance score: 0.8875\n"
     ]
    }
   ],
   "source": [
    "# Predicciones sobre el conjunto de prueba  Dos Rezago\n",
    "y_pred_test_2 = modelo_2_rezago.predict(X_test_2)\n",
    "\n",
    "ErrorCuadraticoMedioTest_2 = mean_squared_error(y_test_2, y_pred_test_2)\n",
    "print(\"Mean squared error: %.4f\" % ErrorCuadraticoMedioTest_2)\n",
    "print(\"=====================================================================\")\n",
    "\n",
    "R2_Test_2 = r2_score(y_test_2, y_pred_test_2)\n",
    "print('Variance score: %.4f' % R2_Test_2)\n",
    "\n",
    "EcmTestRegMult.append(ErrorCuadraticoMedioTest_2)\n",
    "R2_TestRegMult.append(R2_Test_2)"
   ]
  },
  {
   "cell_type": "code",
   "execution_count": 51,
   "metadata": {},
   "outputs": [
    {
     "name": "stdout",
     "output_type": "stream",
     "text": [
      "Coefficients: \n",
      " [1.49788038 0.10653873 1.77844685 0.43639906]\n",
      "=====================================================================\n",
      "Independent term: \n",
      " -14.07926081858676\n",
      "=====================================================================\n",
      "Mean squared error: 0.2391\n",
      "=====================================================================\n",
      "Variance score: 0.8893\n"
     ]
    }
   ],
   "source": [
    "X_train_3, X_test_3, y_train_3, y_test_3 = train_test_split(X_3.iloc[:,0:].values, y_3.iloc[:].values, test_size = 0.3, random_state=1964)\n",
    "\n",
    "# Modelo tres Rezagos\n",
    "\n",
    "modelo_3_rezago = linear_model.LinearRegression()\n",
    "\n",
    "# Entrenamos modelo base\n",
    "modelo_3_rezago.fit(X_train_3, y_train_3)\n",
    "\n",
    "# Hacemos las predicciones con el modelos base sobre el conjunto de entrenamiento\n",
    "y_pred_3 = modelo_3_rezago.predict(X_train_3)\n",
    "\n",
    "# Veamos los coeficienetes obtenidos, En nuestro caso, serán la Tangente\n",
    "print('Coefficients: \\n', modelo_3_rezago.coef_)\n",
    "print(\"=====================================================================\")\n",
    "# Este es el valor donde corta el eje Y (en X=0)\n",
    "print('Independent term: \\n', modelo_3_rezago.intercept_)\n",
    "print(\"=====================================================================\")\n",
    "# Error Cuadrado Medio\n",
    "ErrorCueadraticoMedioTrain_3 = mean_squared_error(y_train_3, y_pred_3)\n",
    "print(\"Mean squared error: %.4f\" % ErrorCueadraticoMedioTrain_3)\n",
    "print(\"=====================================================================\")\n",
    "R2_Train_3 = r2_score(y_train_3, y_pred_3)\n",
    "print('Variance score: %.4f' % R2_Train_3)\n",
    "\n",
    "EcmTrainRegMult.append(ErrorCueadraticoMedioTrain_3)\n",
    "R2_TrainRegMult.append(R2_Train_3)"
   ]
  },
  {
   "cell_type": "code",
   "execution_count": 52,
   "metadata": {},
   "outputs": [
    {
     "name": "stdout",
     "output_type": "stream",
     "text": [
      "Mean squared error: 0.2422\n",
      "=====================================================================\n",
      "Variance score: 0.8911\n"
     ]
    }
   ],
   "source": [
    "# Predicciones sobre el conjunto de prueba  Tres Rezago\n",
    "y_pred_test_3 = modelo_3_rezago.predict(X_test_3)\n",
    "\n",
    "ErrorCuadraticoMedioTest_3 = mean_squared_error(y_test_3, y_pred_test_3)\n",
    "print(\"Mean squared error: %.4f\" % ErrorCuadraticoMedioTest_3)\n",
    "print(\"=====================================================================\")\n",
    "\n",
    "R2_Test_3 = r2_score(y_test_3, y_pred_test_3)\n",
    "print('Variance score: %.4f' % R2_Test_3)\n",
    "\n",
    "EcmTestRegMult.append(ErrorCuadraticoMedioTest_3)\n",
    "R2_TestRegMult.append(R2_Test_3)"
   ]
  },
  {
   "cell_type": "code",
   "execution_count": 53,
   "metadata": {},
   "outputs": [
    {
     "name": "stdout",
     "output_type": "stream",
     "text": [
      "Coefficients: \n",
      " [1.37371817 0.16781537 1.75205774 0.45542589]\n",
      "=====================================================================\n",
      "Independent term: \n",
      " -13.613317972841674\n",
      "=====================================================================\n",
      "Mean squared error: 0.2426\n",
      "=====================================================================\n",
      "Variance score: 0.8880\n"
     ]
    }
   ],
   "source": [
    "X_train_4, X_test_4, y_train_4, y_test_4 = train_test_split(X_4.iloc[:,0:].values, y_4.iloc[:].values, test_size = 0.3, random_state=1964)\n",
    "\n",
    "# Modelo cuatro Rezagos\n",
    "\n",
    "modelo_4_rezago = linear_model.LinearRegression()\n",
    "\n",
    "# Entrenamos modelo base\n",
    "modelo_4_rezago.fit(X_train_4, y_train_4)\n",
    "\n",
    "# Hacemos las predicciones con el modelos base sobre el conjunto de entrenamiento\n",
    "y_pred_4 = modelo_4_rezago.predict(X_train_4)\n",
    "\n",
    "# Veamos los coeficienetes obtenidos, En nuestro caso, serán la Tangente\n",
    "print('Coefficients: \\n', modelo_4_rezago.coef_)\n",
    "print(\"=====================================================================\")\n",
    "# Este es el valor donde corta el eje Y (en X=0)\n",
    "print('Independent term: \\n', modelo_4_rezago.intercept_)\n",
    "print(\"=====================================================================\")\n",
    "# Error Cuadrado Medio\n",
    "ErrorCueadraticoMedioTrain_4 = mean_squared_error(y_train_4, y_pred_4)\n",
    "print(\"Mean squared error: %.4f\" % ErrorCueadraticoMedioTrain_4)\n",
    "print(\"=====================================================================\")\n",
    "R2_Train_4 = r2_score(y_train_4, y_pred_4)\n",
    "print('Variance score: %.4f' % R2_Train_4)\n",
    "\n",
    "EcmTrainRegMult.append(ErrorCueadraticoMedioTrain_4)\n",
    "R2_TrainRegMult.append(R2_Train_4)"
   ]
  },
  {
   "cell_type": "code",
   "execution_count": 54,
   "metadata": {},
   "outputs": [
    {
     "name": "stdout",
     "output_type": "stream",
     "text": [
      "Mean squared error: 0.2383\n",
      "=====================================================================\n",
      "Variance score: 0.8918\n"
     ]
    }
   ],
   "source": [
    "# Predicciones sobre el conjunto de prueba Cuatro Rezago\n",
    "y_pred_test_4 = modelo_4_rezago.predict(X_test_4)\n",
    "\n",
    "ErrorCuadraticoMedioTest_4 = mean_squared_error(y_test_4, y_pred_test_4)\n",
    "print(\"Mean squared error: %.4f\" % ErrorCuadraticoMedioTest_4)\n",
    "print(\"=====================================================================\")\n",
    "\n",
    "R2_Test_4 = r2_score(y_test_4, y_pred_test_4)\n",
    "print('Variance score: %.4f' % R2_Test_4)\n",
    "\n",
    "EcmTestRegMult.append(ErrorCuadraticoMedioTest_4)\n",
    "R2_TestRegMult.append(R2_Test_4)"
   ]
  },
  {
   "cell_type": "code",
   "execution_count": 55,
   "metadata": {},
   "outputs": [
    {
     "name": "stdout",
     "output_type": "stream",
     "text": [
      "Coefficients: \n",
      " [1.37824319 0.16409911 1.73952957 0.47473794]\n",
      "=====================================================================\n",
      "Independent term: \n",
      " -13.639258256279442\n",
      "=====================================================================\n",
      "Mean squared error: 0.2417\n",
      "=====================================================================\n",
      "Variance score: 0.8884\n"
     ]
    }
   ],
   "source": [
    "X_train_5, X_test_5, y_train_5, y_test_5 = train_test_split(X_5.iloc[:,0:].values, y_5.iloc[:].values, test_size = 0.3, random_state=1964)\n",
    "\n",
    "# Modelo cinco Rezagos\n",
    "\n",
    "modelo_5_rezago = linear_model.LinearRegression()\n",
    "\n",
    "# Entrenamos modelo base\n",
    "modelo_5_rezago.fit(X_train_5, y_train_5)\n",
    "\n",
    "# Hacemos las predicciones con el modelos base sobre el conjunto de entrenamiento\n",
    "y_pred_5 = modelo_5_rezago.predict(X_train_5)\n",
    "\n",
    "# Veamos los coeficienetes obtenidos, En nuestro caso, serán la Tangente\n",
    "print('Coefficients: \\n', modelo_5_rezago.coef_)\n",
    "print(\"=====================================================================\")\n",
    "# Este es el valor donde corta el eje Y (en X=0)\n",
    "print('Independent term: \\n', modelo_5_rezago.intercept_)\n",
    "print(\"=====================================================================\")\n",
    "# Error Cuadrado Medio\n",
    "ErrorCueadraticoMedioTrain_5 = mean_squared_error(y_train_5, y_pred_5)\n",
    "print(\"Mean squared error: %.4f\" % ErrorCueadraticoMedioTrain_5)\n",
    "print(\"=====================================================================\")\n",
    "R2_Train_5 = r2_score(y_train_5, y_pred_5)\n",
    "print('Variance score: %.4f' % R2_Train_5)\n",
    "\n",
    "\n",
    "EcmTrainRegMult.append(ErrorCueadraticoMedioTrain_5)\n",
    "R2_TrainRegMult.append(R2_Train_5)"
   ]
  },
  {
   "cell_type": "code",
   "execution_count": 56,
   "metadata": {},
   "outputs": [
    {
     "name": "stdout",
     "output_type": "stream",
     "text": [
      "Mean squared error: 0.2455\n",
      "=====================================================================\n",
      "Variance score: 0.8882\n"
     ]
    }
   ],
   "source": [
    "# Predicciones sobre el conjunto de prueba Cinco Rezago\n",
    "y_pred_test_5 = modelo_5_rezago.predict(X_test_5)\n",
    "\n",
    "ErrorCuadraticoMedioTest_5 = mean_squared_error(y_test_5, y_pred_test_5)\n",
    "print(\"Mean squared error: %.4f\" % ErrorCuadraticoMedioTest_5)\n",
    "print(\"=====================================================================\")\n",
    "\n",
    "R2_Test_5 = r2_score(y_test_5, y_pred_test_5)\n",
    "print('Variance score: %.4f' % R2_Test_5)\n",
    "\n",
    "EcmTestRegMult.append(ErrorCuadraticoMedioTest_5)\n",
    "R2_TestRegMult.append(R2_Test_5)"
   ]
  },
  {
   "cell_type": "code",
   "execution_count": 57,
   "metadata": {},
   "outputs": [
    {
     "name": "stdout",
     "output_type": "stream",
     "text": [
      "Coefficients: \n",
      " [1.48919596 0.17239598 1.64541267 0.44449435]\n",
      "=====================================================================\n",
      "Independent term: \n",
      " -13.863055950098719\n",
      "=====================================================================\n",
      "Mean squared error: 0.2418\n",
      "=====================================================================\n",
      "Variance score: 0.8876\n"
     ]
    }
   ],
   "source": [
    "X_train_6, X_test_6, y_train_6, y_test_6 = train_test_split(X_6.iloc[:,0:].values, y_6.iloc[:].values, test_size = 0.3, random_state=1964)\n",
    "\n",
    "# Modelo seis Rezagos\n",
    "\n",
    "modelo_6_rezago = linear_model.LinearRegression()\n",
    "\n",
    "# Entrenamos modelo base\n",
    "modelo_6_rezago.fit(X_train_6, y_train_6)\n",
    "\n",
    "# Hacemos las predicciones con el modelos base sobre el conjunto de entrenamiento\n",
    "y_pred_6 = modelo_6_rezago.predict(X_train_6)\n",
    "\n",
    "# Veamos los coeficienetes obtenidos, En nuestro caso, serán la Tangente\n",
    "print('Coefficients: \\n', modelo_6_rezago.coef_)\n",
    "print(\"=====================================================================\")\n",
    "# Este es el valor donde corta el eje Y (en X=0)\n",
    "print('Independent term: \\n', modelo_6_rezago.intercept_)\n",
    "print(\"=====================================================================\")\n",
    "# Error Cuadrado Medio\n",
    "ErrorCueadraticoMedioTrain_6 = mean_squared_error(y_train_6, y_pred_6)\n",
    "print(\"Mean squared error: %.4f\" % ErrorCueadraticoMedioTrain_6)\n",
    "print(\"=====================================================================\")\n",
    "R2_Train_6 = r2_score(y_train_6, y_pred_6)\n",
    "print('Variance score: %.4f' % R2_Train_6)\n",
    "\n",
    "\n",
    "EcmTrainRegMult.append(ErrorCueadraticoMedioTrain_6)\n",
    "R2_TrainRegMult.append(R2_Train_6)"
   ]
  },
  {
   "cell_type": "code",
   "execution_count": 58,
   "metadata": {},
   "outputs": [
    {
     "name": "stdout",
     "output_type": "stream",
     "text": [
      "Mean squared error: 0.2492\n",
      "=====================================================================\n",
      "Variance score: 0.8880\n"
     ]
    }
   ],
   "source": [
    "# Predicciones sobre el conjunto de seis Cinco Rezago\n",
    "y_pred_test_6 = modelo_6_rezago.predict(X_test_6)\n",
    "\n",
    "ErrorCuadraticoMedioTest_6 = mean_squared_error(y_test_6, y_pred_test_6)\n",
    "print(\"Mean squared error: %.4f\" % ErrorCuadraticoMedioTest_6)\n",
    "print(\"=====================================================================\")\n",
    "\n",
    "R2_Test_6 = r2_score(y_test_6, y_pred_test_6)\n",
    "print('Variance score: %.4f' % R2_Test_6)\n",
    "\n",
    "EcmTestRegMult.append(ErrorCuadraticoMedioTest_6)\n",
    "R2_TestRegMult.append(R2_Test_6)"
   ]
  },
  {
   "cell_type": "code",
   "execution_count": 59,
   "metadata": {},
   "outputs": [
    {
     "name": "stdout",
     "output_type": "stream",
     "text": [
      "Coefficients: \n",
      " [1.34338721 0.19370412 1.69320824 0.48258373]\n",
      "=====================================================================\n",
      "Independent term: \n",
      " -13.421945500003456\n",
      "=====================================================================\n",
      "Mean squared error: 0.2420\n",
      "=====================================================================\n",
      "Variance score: 0.8872\n"
     ]
    }
   ],
   "source": [
    "X_train_7, X_test_7, y_train_7, y_test_7 = train_test_split(X_7.iloc[:,0:].values, y_7.iloc[:].values, test_size = 0.3, random_state=1964)\n",
    "\n",
    "# Modelo siete Rezagos\n",
    "\n",
    "modelo_7_rezago = linear_model.LinearRegression()\n",
    "\n",
    "# Entrenamos modelo base\n",
    "modelo_7_rezago.fit(X_train_7, y_train_7)\n",
    "\n",
    "# Hacemos las predicciones con el modelos base sobre el conjunto de entrenamiento\n",
    "y_pred_7 = modelo_7_rezago.predict(X_train_7)\n",
    "\n",
    "# Veamos los coeficienetes obtenidos, En nuestro caso, serán la Tangente\n",
    "print('Coefficients: \\n', modelo_7_rezago.coef_)\n",
    "print(\"=====================================================================\")\n",
    "# Este es el valor donde corta el eje Y (en X=0)\n",
    "print('Independent term: \\n', modelo_7_rezago.intercept_)\n",
    "print(\"=====================================================================\")\n",
    "# Error Cuadrado Medio\n",
    "ErrorCueadraticoMedioTrain_7 = mean_squared_error(y_train_7, y_pred_7)\n",
    "print(\"Mean squared error: %.4f\" % ErrorCueadraticoMedioTrain_7)\n",
    "print(\"=====================================================================\")\n",
    "R2_Train_7 = r2_score(y_train_7, y_pred_7)\n",
    "print('Variance score: %.4f' % R2_Train_7)\n",
    "\n",
    "\n",
    "EcmTrainRegMult.append(ErrorCueadraticoMedioTrain_7)\n",
    "R2_TrainRegMult.append(R2_Train_7)"
   ]
  },
  {
   "cell_type": "code",
   "execution_count": 60,
   "metadata": {},
   "outputs": [
    {
     "name": "stdout",
     "output_type": "stream",
     "text": [
      "Mean squared error: 0.2540\n",
      "=====================================================================\n",
      "Variance score: 0.8862\n"
     ]
    }
   ],
   "source": [
    "# Predicciones sobre el conjunto de siete Cinco Rezago\n",
    "y_pred_test_7 = modelo_7_rezago.predict(X_test_7)\n",
    "\n",
    "ErrorCuadraticoMedioTest_7 = mean_squared_error(y_test_7, y_pred_test_7)\n",
    "print(\"Mean squared error: %.4f\" % ErrorCuadraticoMedioTest_7)\n",
    "print(\"=====================================================================\")\n",
    "\n",
    "R2_Test_7 = r2_score(y_test_7, y_pred_test_7)\n",
    "print('Variance score: %.4f' % R2_Test_7)\n",
    "\n",
    "EcmTestRegMult.append(ErrorCuadraticoMedioTest_7)\n",
    "R2_TestRegMult.append(R2_Test_7)"
   ]
  },
  {
   "cell_type": "code",
   "execution_count": 61,
   "metadata": {},
   "outputs": [
    {
     "name": "stdout",
     "output_type": "stream",
     "text": [
      "=====================================================================================================\n",
      "Resumen de los modelos de Regresión corrido para los rezagos de 1 hasta siete:\n",
      "\n",
      "El menor Error Cuadrático Medio en los datos de entreanamientos es: 0.2312\n",
      "Corresponde al modelo con:  1  Rezago(s)\n",
      "\n",
      "El mayor Coeficiente de determinación (R2) en los datos de entreanamientos es: 0.8924\n",
      "Corresponde al modelo con:  1  Rezago(s)\n",
      "\n",
      "El menor Error Cuadrático Medio en los datos de prueba es: 0.2383\n",
      "Corresponde al modelo con:  4  Rezago(s)\n",
      "\n",
      "El mayor Coeficiente de determinación (R2) en los datos de prueba es: 0.8918\n",
      "Corresponde al modelo con:  4  Rezago(s)\n"
     ]
    }
   ],
   "source": [
    "print(\"=====================================================================================================\")\n",
    "print(\"Resumen de los modelos de Regresión corrido para los rezagos de 1 hasta siete:\")\n",
    "print()\n",
    "print(\"El menor Error Cuadrático Medio en los datos de entreanamientos es:\", round(np.min(EcmTrainRegMult), 4))\n",
    "print(\"Corresponde al modelo con: \",EcmTrainRegMult.index(np.min(EcmTrainRegMult))+1,\" Rezago(s)\")\n",
    "print()\n",
    "print(\"El mayor Coeficiente de determinación (R2) en los datos de entreanamientos es:\", round(np.max(R2_TrainRegMult), 4))\n",
    "print(\"Corresponde al modelo con: \",R2_TrainRegMult.index(np.max(R2_TrainRegMult))+1,\" Rezago(s)\")\n",
    "print()\n",
    "print(\"El menor Error Cuadrático Medio en los datos de prueba es:\", round(np.min(EcmTestRegMult), 4))\n",
    "print(\"Corresponde al modelo con: \",EcmTestRegMult.index(np.min(EcmTestRegMult))+1,\" Rezago(s)\")\n",
    "print()\n",
    "print(\"El mayor Coeficiente de determinación (R2) en los datos de prueba es:\", round(np.max(R2_TestRegMult), 4))\n",
    "print(\"Corresponde al modelo con: \",R2_TestRegMult.index(np.max(R2_TestRegMult))+1,\" Rezago(s)\")\n",
    "\n"
   ]
  },
  {
   "cell_type": "code",
   "execution_count": 78,
   "metadata": {},
   "outputs": [
    {
     "data": {
      "image/png": "[encoded data removed]",
      "text/plain": [
       "<Figure size 432x288 with 1 Axes>"
      ]
     },
     "metadata": {
      "needs_background": "light"
     },
     "output_type": "display_data"
    }
   ],
   "source": [
    "ypos = ['Modelo 1 Rezago','Modelo 2 Rezagos','Modelo 3 Rezagos','Modelo 4 Rezagos','Modelo 5 Rezagos','Modelo 6 Rezagos',\n",
    "        'Modelo 7 Rezagos']\n",
    "\n",
    "\n",
    "plt.barh(ypos, EcmTrainRegMult, align='center', alpha=0.5)\n",
    "plt.title('Conjunto de Entrenamiento - Error Cuadrático MediCoeo para cada uno de los modelos')\n",
    "plt.xlabel('Error Cuadrático Medio')\n",
    "plt.ylabel('Modelos')\n",
    "plt.xlim(0.2, .25)\n",
    "plt.show()"
   ]
  },
  {
   "cell_type": "code",
   "execution_count": 87,
   "metadata": {},
   "outputs": [
    {
     "data": {
      "image/png": "[encoded data removed]",
      "text/plain": [
       "<Figure size 432x288 with 1 Axes>"
      ]
     },
     "metadata": {
      "needs_background": "light"
     },
     "output_type": "display_data"
    }
   ],
   "source": [
    "plt.barh(ypos, R2_TrainRegMult, align='center', alpha=0.5)\n",
    "plt.title('Conjunto de Entrenamiento - Coeficiente de determinación para cada uno de los modelos')\n",
    "plt.xlabel('Coeficiente de determinación')\n",
    "plt.ylabel('Modelos')\n",
    "plt.xlim(0.85, 0.9)\n",
    "plt.show()"
   ]
  },
  {
   "cell_type": "code",
   "execution_count": 85,
   "metadata": {},
   "outputs": [
    {
     "data": {
      "image/png": "[encoded data removed]",
      "text/plain": [
       "<Figure size 432x288 with 1 Axes>"
      ]
     },
     "metadata": {
      "needs_background": "light"
     },
     "output_type": "display_data"
    }
   ],
   "source": [
    "plt.barh(ypos, EcmTestRegMult, align='center', alpha=0.5)\n",
    "plt.title('Conjunto de Test - Error Cuadrático MediCoeo para cada uno de los modelos')\n",
    "plt.xlabel('Error Cuadrático Medio')\n",
    "plt.ylabel('Modelos')\n",
    "plt.xlim(0.2, .27)\n",
    "plt.show()"
   ]
  },
  {
   "cell_type": "code",
   "execution_count": 86,
   "metadata": {},
   "outputs": [
    {
     "data": {
      "image/png": "[encoded data removed]",
      "text/plain": [
       "<Figure size 432x288 with 1 Axes>"
      ]
     },
     "metadata": {
      "needs_background": "light"
     },
     "output_type": "display_data"
    }
   ],
   "source": [
    "plt.barh(ypos, R2_TestRegMult, align='center', alpha=0.5)\n",
    "plt.title('Conjunto de Test - Coeficiente de determinación para cada uno de los modelos')\n",
    "plt.xlabel('Coeficiente de determinación')\n",
    "plt.ylabel('Modelos')\n",
    "plt.xlim(0.85, 0.9)\n",
    "plt.show()"
   ]
  },
  {
   "cell_type": "code",
   "execution_count": null,
   "metadata": {},
   "outputs": [],
   "source": []
  },
  {
   "cell_type": "code",
   "execution_count": null,
   "metadata": {},
   "outputs": [],
   "source": []
  },
  {
   "cell_type": "code",
   "execution_count": null,
   "metadata": {},
   "outputs": [],
   "source": []
  },
  {
   "cell_type": "code",
   "execution_count": null,
   "metadata": {},
   "outputs": [],
   "source": []
  },
  {
   "cell_type": "code",
   "execution_count": null,
   "metadata": {},
   "outputs": [],
   "source": []
  },
  {
   "cell_type": "code",
   "execution_count": null,
   "metadata": {},
   "outputs": [],
   "source": []
  },
  {
   "cell_type": "code",
   "execution_count": null,
   "metadata": {},
   "outputs": [],
   "source": []
  },
  {
   "cell_type": "code",
   "execution_count": null,
   "metadata": {},
   "outputs": [],
   "source": []
  },
  {
   "cell_type": "code",
   "execution_count": null,
   "metadata": {},
   "outputs": [],
   "source": []
  }
 ],
 "metadata": {
  "kernelspec": {
   "display_name": "Python 3",
   "language": "python",
   "name": "python3"
  },
  "language_info": {
   "codemirror_mode": {
    "name": "ipython",
    "version": 3
   },
   "file_extension": ".py",
   "mimetype": "text/x-python",
   "name": "python",
   "nbconvert_exporter": "python",
   "pygments_lexer": "ipython3",
   "version": "3.7.9"
  }
 },
 "nbformat": 4,
 "nbformat_minor": 4
}
