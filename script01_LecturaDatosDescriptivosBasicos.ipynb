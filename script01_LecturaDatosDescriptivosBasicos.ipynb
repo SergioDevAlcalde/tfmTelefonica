{
 "cells": [
  {
   "cell_type": "code",
   "execution_count": 1,
   "metadata": {},
   "outputs": [],
   "source": [
    "# importar bibliotécas de trabajo\n",
    "\n",
    "from time import time\n",
    "inicio = time()\n",
    "import pandas as pd"
   ]
  },
  {
   "cell_type": "code",
   "execution_count": 2,
   "metadata": {},
   "outputs": [],
   "source": [
    "# leer archivos de datos\n",
    "\n",
    "goog = pd.read_csv(\"D:\\\\datos\\\\Entrenamiento\\\\IntitutoTecnologicoTelefonica\\\\ProgramaSuperiorBigData\\\\Modulo_10_Proyecto\\\\GOOG.csv\",\n",
    "                    sep = \",\")\n",
    "\n",
    "fb = pd.read_csv(\"D:\\\\datos\\\\Entrenamiento\\\\IntitutoTecnologicoTelefonica\\\\ProgramaSuperiorBigData\\\\Modulo_10_Proyecto\\\\FB.csv\",\n",
    "                    sep = \",\")\n",
    "\n",
    "amzn = pd.read_csv(\"D:\\\\datos\\\\Entrenamiento\\\\IntitutoTecnologicoTelefonica\\\\ProgramaSuperiorBigData\\\\Modulo_10_Proyecto\\\\AMZN.csv\",\n",
    "                    sep = \",\")\n",
    "\n",
    "msft = pd.read_csv(\"D:\\\\datos\\\\Entrenamiento\\\\IntitutoTecnologicoTelefonica\\\\ProgramaSuperiorBigData\\\\Modulo_10_Proyecto\\\\MSFT.csv\",\n",
    "                    sep = \",\")\n",
    "\n",
    "btc_usd = pd.read_csv(\"D:\\\\datos\\\\Entrenamiento\\\\IntitutoTecnologicoTelefonica\\\\ProgramaSuperiorBigData\\\\Modulo_10_Proyecto\\\\BTC_USD.csv\",\n",
    "                    sep = \",\")\n",
    "\n",
    "#dias = pd.read_excel(\"D:\\\\datos\\\\Entrenamiento\\\\IntitutoTecnologicoTelefonica\\\\ProgramaSuperiorBigData\\\\Modulo_10_Proyecto\\\\DIAS.xlsx\")\n",
    "\n"
   ]
  },
  {
   "cell_type": "code",
   "execution_count": 3,
   "metadata": {},
   "outputs": [
    {
     "data": {
      "text/html": [
       "<div>\n",
       "<style scoped>\n",
       "    .dataframe tbody tr th:only-of-type {\n",
       "        vertical-align: middle;\n",
       "    }\n",
       "\n",
       "    .dataframe tbody tr th {\n",
       "        vertical-align: top;\n",
       "    }\n",
       "\n",
       "    .dataframe thead th {\n",
       "        text-align: right;\n",
       "    }\n",
       "</style>\n",
       "<table border=\"1\" class=\"dataframe\">\n",
       "  <thead>\n",
       "    <tr style=\"text-align: right;\">\n",
       "      <th></th>\n",
       "      <th>Date</th>\n",
       "      <th>Open</th>\n",
       "      <th>High</th>\n",
       "      <th>Low</th>\n",
       "      <th>Close</th>\n",
       "      <th>Adj Close</th>\n",
       "      <th>Volume</th>\n",
       "    </tr>\n",
       "  </thead>\n",
       "  <tbody>\n",
       "    <tr>\n",
       "      <th>0</th>\n",
       "      <td>2014-09-17</td>\n",
       "      <td>578.421936</td>\n",
       "      <td>585.911377</td>\n",
       "      <td>577.190308</td>\n",
       "      <td>583.168884</td>\n",
       "      <td>583.168884</td>\n",
       "      <td>1692800</td>\n",
       "    </tr>\n",
       "    <tr>\n",
       "      <th>1</th>\n",
       "      <td>2014-09-18</td>\n",
       "      <td>585.392822</td>\n",
       "      <td>587.925842</td>\n",
       "      <td>583.398254</td>\n",
       "      <td>587.656616</td>\n",
       "      <td>587.656616</td>\n",
       "      <td>1444500</td>\n",
       "    </tr>\n",
       "    <tr>\n",
       "      <th>2</th>\n",
       "      <td>2014-09-19</td>\n",
       "      <td>589.880493</td>\n",
       "      <td>594.846863</td>\n",
       "      <td>587.885986</td>\n",
       "      <td>594.447937</td>\n",
       "      <td>594.447937</td>\n",
       "      <td>3736600</td>\n",
       "    </tr>\n",
       "    <tr>\n",
       "      <th>3</th>\n",
       "      <td>2014-09-22</td>\n",
       "      <td>592.194153</td>\n",
       "      <td>592.322754</td>\n",
       "      <td>581.862488</td>\n",
       "      <td>585.761780</td>\n",
       "      <td>585.761780</td>\n",
       "      <td>1689500</td>\n",
       "    </tr>\n",
       "    <tr>\n",
       "      <th>4</th>\n",
       "      <td>2014-09-23</td>\n",
       "      <td>585.243225</td>\n",
       "      <td>585.243225</td>\n",
       "      <td>579.409241</td>\n",
       "      <td>579.538879</td>\n",
       "      <td>579.538879</td>\n",
       "      <td>1471400</td>\n",
       "    </tr>\n",
       "  </tbody>\n",
       "</table>\n",
       "</div>"
      ],
      "text/plain": [
       "         Date        Open        High         Low       Close   Adj Close  \\\n",
       "0  2014-09-17  578.421936  585.911377  577.190308  583.168884  583.168884   \n",
       "1  2014-09-18  585.392822  587.925842  583.398254  587.656616  587.656616   \n",
       "2  2014-09-19  589.880493  594.846863  587.885986  594.447937  594.447937   \n",
       "3  2014-09-22  592.194153  592.322754  581.862488  585.761780  585.761780   \n",
       "4  2014-09-23  585.243225  585.243225  579.409241  579.538879  579.538879   \n",
       "\n",
       "    Volume  \n",
       "0  1692800  \n",
       "1  1444500  \n",
       "2  3736600  \n",
       "3  1689500  \n",
       "4  1471400  "
      ]
     },
     "execution_count": 3,
     "metadata": {},
     "output_type": "execute_result"
    }
   ],
   "source": [
    "goog.head()"
   ]
  },
  {
   "cell_type": "code",
   "execution_count": 4,
   "metadata": {},
   "outputs": [
    {
     "data": {
      "text/html": [
       "<div>\n",
       "<style scoped>\n",
       "    .dataframe tbody tr th:only-of-type {\n",
       "        vertical-align: middle;\n",
       "    }\n",
       "\n",
       "    .dataframe tbody tr th {\n",
       "        vertical-align: top;\n",
       "    }\n",
       "\n",
       "    .dataframe thead th {\n",
       "        text-align: right;\n",
       "    }\n",
       "</style>\n",
       "<table border=\"1\" class=\"dataframe\">\n",
       "  <thead>\n",
       "    <tr style=\"text-align: right;\">\n",
       "      <th></th>\n",
       "      <th>Date</th>\n",
       "      <th>Open</th>\n",
       "      <th>High</th>\n",
       "      <th>Low</th>\n",
       "      <th>Close</th>\n",
       "      <th>Adj Close</th>\n",
       "      <th>Volume</th>\n",
       "    </tr>\n",
       "  </thead>\n",
       "  <tbody>\n",
       "    <tr>\n",
       "      <th>0</th>\n",
       "      <td>2014-09-17</td>\n",
       "      <td>327.760010</td>\n",
       "      <td>328.000000</td>\n",
       "      <td>321.519989</td>\n",
       "      <td>324.000000</td>\n",
       "      <td>324.000000</td>\n",
       "      <td>4136000</td>\n",
       "    </tr>\n",
       "    <tr>\n",
       "      <th>1</th>\n",
       "      <td>2014-09-18</td>\n",
       "      <td>325.440002</td>\n",
       "      <td>327.100006</td>\n",
       "      <td>323.709991</td>\n",
       "      <td>325.000000</td>\n",
       "      <td>325.000000</td>\n",
       "      <td>2576900</td>\n",
       "    </tr>\n",
       "    <tr>\n",
       "      <th>2</th>\n",
       "      <td>2014-09-19</td>\n",
       "      <td>327.600006</td>\n",
       "      <td>332.760010</td>\n",
       "      <td>325.570007</td>\n",
       "      <td>331.320007</td>\n",
       "      <td>331.320007</td>\n",
       "      <td>6886200</td>\n",
       "    </tr>\n",
       "    <tr>\n",
       "      <th>3</th>\n",
       "      <td>2014-09-22</td>\n",
       "      <td>328.489990</td>\n",
       "      <td>329.489990</td>\n",
       "      <td>321.059998</td>\n",
       "      <td>324.500000</td>\n",
       "      <td>324.500000</td>\n",
       "      <td>3109700</td>\n",
       "    </tr>\n",
       "    <tr>\n",
       "      <th>4</th>\n",
       "      <td>2014-09-23</td>\n",
       "      <td>322.459991</td>\n",
       "      <td>327.600006</td>\n",
       "      <td>321.250000</td>\n",
       "      <td>323.630005</td>\n",
       "      <td>323.630005</td>\n",
       "      <td>2352600</td>\n",
       "    </tr>\n",
       "  </tbody>\n",
       "</table>\n",
       "</div>"
      ],
      "text/plain": [
       "         Date        Open        High         Low       Close   Adj Close  \\\n",
       "0  2014-09-17  327.760010  328.000000  321.519989  324.000000  324.000000   \n",
       "1  2014-09-18  325.440002  327.100006  323.709991  325.000000  325.000000   \n",
       "2  2014-09-19  327.600006  332.760010  325.570007  331.320007  331.320007   \n",
       "3  2014-09-22  328.489990  329.489990  321.059998  324.500000  324.500000   \n",
       "4  2014-09-23  322.459991  327.600006  321.250000  323.630005  323.630005   \n",
       "\n",
       "    Volume  \n",
       "0  4136000  \n",
       "1  2576900  \n",
       "2  6886200  \n",
       "3  3109700  \n",
       "4  2352600  "
      ]
     },
     "execution_count": 4,
     "metadata": {},
     "output_type": "execute_result"
    }
   ],
   "source": [
    "amzn.head()"
   ]
  },
  {
   "cell_type": "code",
   "execution_count": 5,
   "metadata": {},
   "outputs": [
    {
     "data": {
      "text/html": [
       "<div>\n",
       "<style scoped>\n",
       "    .dataframe tbody tr th:only-of-type {\n",
       "        vertical-align: middle;\n",
       "    }\n",
       "\n",
       "    .dataframe tbody tr th {\n",
       "        vertical-align: top;\n",
       "    }\n",
       "\n",
       "    .dataframe thead th {\n",
       "        text-align: right;\n",
       "    }\n",
       "</style>\n",
       "<table border=\"1\" class=\"dataframe\">\n",
       "  <thead>\n",
       "    <tr style=\"text-align: right;\">\n",
       "      <th></th>\n",
       "      <th>Date</th>\n",
       "      <th>Open</th>\n",
       "      <th>High</th>\n",
       "      <th>Low</th>\n",
       "      <th>Close</th>\n",
       "      <th>Adj Close</th>\n",
       "      <th>Volume</th>\n",
       "    </tr>\n",
       "  </thead>\n",
       "  <tbody>\n",
       "    <tr>\n",
       "      <th>0</th>\n",
       "      <td>2014-09-17</td>\n",
       "      <td>46.259998</td>\n",
       "      <td>46.689999</td>\n",
       "      <td>46.230000</td>\n",
       "      <td>46.520000</td>\n",
       "      <td>41.066914</td>\n",
       "      <td>38311900</td>\n",
       "    </tr>\n",
       "    <tr>\n",
       "      <th>1</th>\n",
       "      <td>2014-09-18</td>\n",
       "      <td>46.590000</td>\n",
       "      <td>46.830002</td>\n",
       "      <td>46.459999</td>\n",
       "      <td>46.680000</td>\n",
       "      <td>41.208172</td>\n",
       "      <td>35556600</td>\n",
       "    </tr>\n",
       "    <tr>\n",
       "      <th>2</th>\n",
       "      <td>2014-09-19</td>\n",
       "      <td>46.810001</td>\n",
       "      <td>47.570000</td>\n",
       "      <td>46.599998</td>\n",
       "      <td>47.520000</td>\n",
       "      <td>41.949707</td>\n",
       "      <td>202522400</td>\n",
       "    </tr>\n",
       "    <tr>\n",
       "      <th>3</th>\n",
       "      <td>2014-09-22</td>\n",
       "      <td>47.299999</td>\n",
       "      <td>47.380001</td>\n",
       "      <td>46.980000</td>\n",
       "      <td>47.060001</td>\n",
       "      <td>41.543625</td>\n",
       "      <td>38686100</td>\n",
       "    </tr>\n",
       "    <tr>\n",
       "      <th>4</th>\n",
       "      <td>2014-09-23</td>\n",
       "      <td>46.849998</td>\n",
       "      <td>46.980000</td>\n",
       "      <td>46.470001</td>\n",
       "      <td>46.560001</td>\n",
       "      <td>41.102226</td>\n",
       "      <td>33430300</td>\n",
       "    </tr>\n",
       "  </tbody>\n",
       "</table>\n",
       "</div>"
      ],
      "text/plain": [
       "         Date       Open       High        Low      Close  Adj Close  \\\n",
       "0  2014-09-17  46.259998  46.689999  46.230000  46.520000  41.066914   \n",
       "1  2014-09-18  46.590000  46.830002  46.459999  46.680000  41.208172   \n",
       "2  2014-09-19  46.810001  47.570000  46.599998  47.520000  41.949707   \n",
       "3  2014-09-22  47.299999  47.380001  46.980000  47.060001  41.543625   \n",
       "4  2014-09-23  46.849998  46.980000  46.470001  46.560001  41.102226   \n",
       "\n",
       "      Volume  \n",
       "0   38311900  \n",
       "1   35556600  \n",
       "2  202522400  \n",
       "3   38686100  \n",
       "4   33430300  "
      ]
     },
     "execution_count": 5,
     "metadata": {},
     "output_type": "execute_result"
    }
   ],
   "source": [
    "msft.head()"
   ]
  },
  {
   "cell_type": "code",
   "execution_count": 6,
   "metadata": {},
   "outputs": [
    {
     "data": {
      "text/html": [
       "<div>\n",
       "<style scoped>\n",
       "    .dataframe tbody tr th:only-of-type {\n",
       "        vertical-align: middle;\n",
       "    }\n",
       "\n",
       "    .dataframe tbody tr th {\n",
       "        vertical-align: top;\n",
       "    }\n",
       "\n",
       "    .dataframe thead th {\n",
       "        text-align: right;\n",
       "    }\n",
       "</style>\n",
       "<table border=\"1\" class=\"dataframe\">\n",
       "  <thead>\n",
       "    <tr style=\"text-align: right;\">\n",
       "      <th></th>\n",
       "      <th>Date</th>\n",
       "      <th>Open</th>\n",
       "      <th>High</th>\n",
       "      <th>Low</th>\n",
       "      <th>Close</th>\n",
       "      <th>Adj Close</th>\n",
       "      <th>Volume</th>\n",
       "    </tr>\n",
       "  </thead>\n",
       "  <tbody>\n",
       "    <tr>\n",
       "      <th>0</th>\n",
       "      <td>2014-09-17</td>\n",
       "      <td>75.959999</td>\n",
       "      <td>77.250000</td>\n",
       "      <td>75.570000</td>\n",
       "      <td>76.430000</td>\n",
       "      <td>76.430000</td>\n",
       "      <td>28693000</td>\n",
       "    </tr>\n",
       "    <tr>\n",
       "      <th>1</th>\n",
       "      <td>2014-09-18</td>\n",
       "      <td>76.769997</td>\n",
       "      <td>77.330002</td>\n",
       "      <td>76.519997</td>\n",
       "      <td>77.000000</td>\n",
       "      <td>77.000000</td>\n",
       "      <td>23031000</td>\n",
       "    </tr>\n",
       "    <tr>\n",
       "      <th>2</th>\n",
       "      <td>2014-09-19</td>\n",
       "      <td>77.400002</td>\n",
       "      <td>78.300003</td>\n",
       "      <td>76.440002</td>\n",
       "      <td>77.910004</td>\n",
       "      <td>77.910004</td>\n",
       "      <td>76671000</td>\n",
       "    </tr>\n",
       "    <tr>\n",
       "      <th>3</th>\n",
       "      <td>2014-09-22</td>\n",
       "      <td>77.000000</td>\n",
       "      <td>77.529999</td>\n",
       "      <td>75.949997</td>\n",
       "      <td>76.800003</td>\n",
       "      <td>76.800003</td>\n",
       "      <td>31961000</td>\n",
       "    </tr>\n",
       "    <tr>\n",
       "      <th>4</th>\n",
       "      <td>2014-09-23</td>\n",
       "      <td>76.330002</td>\n",
       "      <td>78.629997</td>\n",
       "      <td>76.040001</td>\n",
       "      <td>78.290001</td>\n",
       "      <td>78.290001</td>\n",
       "      <td>36814000</td>\n",
       "    </tr>\n",
       "  </tbody>\n",
       "</table>\n",
       "</div>"
      ],
      "text/plain": [
       "         Date       Open       High        Low      Close  Adj Close    Volume\n",
       "0  2014-09-17  75.959999  77.250000  75.570000  76.430000  76.430000  28693000\n",
       "1  2014-09-18  76.769997  77.330002  76.519997  77.000000  77.000000  23031000\n",
       "2  2014-09-19  77.400002  78.300003  76.440002  77.910004  77.910004  76671000\n",
       "3  2014-09-22  77.000000  77.529999  75.949997  76.800003  76.800003  31961000\n",
       "4  2014-09-23  76.330002  78.629997  76.040001  78.290001  78.290001  36814000"
      ]
     },
     "execution_count": 6,
     "metadata": {},
     "output_type": "execute_result"
    }
   ],
   "source": [
    "fb.head()"
   ]
  },
  {
   "cell_type": "code",
   "execution_count": 7,
   "metadata": {},
   "outputs": [
    {
     "data": {
      "text/html": [
       "<div>\n",
       "<style scoped>\n",
       "    .dataframe tbody tr th:only-of-type {\n",
       "        vertical-align: middle;\n",
       "    }\n",
       "\n",
       "    .dataframe tbody tr th {\n",
       "        vertical-align: top;\n",
       "    }\n",
       "\n",
       "    .dataframe thead th {\n",
       "        text-align: right;\n",
       "    }\n",
       "</style>\n",
       "<table border=\"1\" class=\"dataframe\">\n",
       "  <thead>\n",
       "    <tr style=\"text-align: right;\">\n",
       "      <th></th>\n",
       "      <th>Date</th>\n",
       "      <th>Open</th>\n",
       "      <th>High</th>\n",
       "      <th>Low</th>\n",
       "      <th>Close</th>\n",
       "      <th>Adj Close</th>\n",
       "      <th>Volume</th>\n",
       "    </tr>\n",
       "  </thead>\n",
       "  <tbody>\n",
       "    <tr>\n",
       "      <th>0</th>\n",
       "      <td>2014-09-17</td>\n",
       "      <td>465.864014</td>\n",
       "      <td>468.174011</td>\n",
       "      <td>452.421997</td>\n",
       "      <td>457.334015</td>\n",
       "      <td>457.334015</td>\n",
       "      <td>21056800</td>\n",
       "    </tr>\n",
       "    <tr>\n",
       "      <th>1</th>\n",
       "      <td>2014-09-18</td>\n",
       "      <td>456.859985</td>\n",
       "      <td>456.859985</td>\n",
       "      <td>413.104004</td>\n",
       "      <td>424.440002</td>\n",
       "      <td>424.440002</td>\n",
       "      <td>34483200</td>\n",
       "    </tr>\n",
       "    <tr>\n",
       "      <th>2</th>\n",
       "      <td>2014-09-19</td>\n",
       "      <td>424.102997</td>\n",
       "      <td>427.834991</td>\n",
       "      <td>384.532013</td>\n",
       "      <td>394.795990</td>\n",
       "      <td>394.795990</td>\n",
       "      <td>37919700</td>\n",
       "    </tr>\n",
       "    <tr>\n",
       "      <th>3</th>\n",
       "      <td>2014-09-20</td>\n",
       "      <td>394.673004</td>\n",
       "      <td>423.295990</td>\n",
       "      <td>389.882996</td>\n",
       "      <td>408.903992</td>\n",
       "      <td>408.903992</td>\n",
       "      <td>36863600</td>\n",
       "    </tr>\n",
       "    <tr>\n",
       "      <th>4</th>\n",
       "      <td>2014-09-21</td>\n",
       "      <td>408.084991</td>\n",
       "      <td>412.425995</td>\n",
       "      <td>393.181000</td>\n",
       "      <td>398.821014</td>\n",
       "      <td>398.821014</td>\n",
       "      <td>26580100</td>\n",
       "    </tr>\n",
       "  </tbody>\n",
       "</table>\n",
       "</div>"
      ],
      "text/plain": [
       "         Date        Open        High         Low       Close   Adj Close  \\\n",
       "0  2014-09-17  465.864014  468.174011  452.421997  457.334015  457.334015   \n",
       "1  2014-09-18  456.859985  456.859985  413.104004  424.440002  424.440002   \n",
       "2  2014-09-19  424.102997  427.834991  384.532013  394.795990  394.795990   \n",
       "3  2014-09-20  394.673004  423.295990  389.882996  408.903992  408.903992   \n",
       "4  2014-09-21  408.084991  412.425995  393.181000  398.821014  398.821014   \n",
       "\n",
       "     Volume  \n",
       "0  21056800  \n",
       "1  34483200  \n",
       "2  37919700  \n",
       "3  36863600  \n",
       "4  26580100  "
      ]
     },
     "execution_count": 7,
     "metadata": {},
     "output_type": "execute_result"
    }
   ],
   "source": [
    "btc_usd.head()"
   ]
  },
  {
   "cell_type": "code",
   "execution_count": 8,
   "metadata": {},
   "outputs": [],
   "source": [
    "btc_usd['Date'] = pd.to_datetime(btc_usd['Date'], format ='%Y-%m-%d')"
   ]
  },
  {
   "cell_type": "code",
   "execution_count": 9,
   "metadata": {},
   "outputs": [],
   "source": [
    "# Selección de los datos de interés\n",
    "\n",
    "\n",
    "goog_cierre = goog[[\"Date\",\"Close\"]]\n",
    "\n",
    "fb_cierre = fb[[\"Date\",\"Close\"]]\n",
    "\n",
    "amzn_cierre = amzn[[\"Date\",\"Close\"]]\n",
    "\n",
    "msft_cierre = msft[[\"Date\",\"Close\"]]\n",
    "\n",
    "btc_usd_cierre = btc_usd[[\"Date\",\"Close\"]]\n",
    "\n"
   ]
  },
  {
   "cell_type": "code",
   "execution_count": 10,
   "metadata": {},
   "outputs": [],
   "source": [
    "# Renombrar columna de cierre de cada DataFrame, para que no se confundan al hacer el merge\n",
    "\n",
    "goog_cierre = goog_cierre.rename(columns = {\"Close\" : \"CloseGoog\"})\n",
    "fb_cierre = fb_cierre.rename(columns = {\"Close\" : \"CloseFb\"})\n",
    "amzn_cierre = amzn_cierre.rename(columns = {\"Close\" : \"CloseAmzn\"})\n",
    "msft_cierre = msft_cierre.rename(columns = {\"Close\" : \"CloseMsft\"})\n",
    "btc_usd_cierre = btc_usd_cierre.rename(columns = {\"Close\" : \"ClosBtcEur\"})\n",
    "\n",
    "# Establecer el índice en la columna Date para cada archivo\n",
    "\n",
    "goog_cierre.set_index('Date', inplace = True)\n",
    "fb_cierre.set_index('Date', inplace = True)\n",
    "amzn_cierre.set_index('Date', inplace = True)\n",
    "msft_cierre.set_index('Date', inplace = True)\n",
    "btc_usd_cierre.set_index('Date', inplace = True)\n"
   ]
  },
  {
   "cell_type": "code",
   "execution_count": 11,
   "metadata": {},
   "outputs": [
    {
     "data": {
      "text/html": [
       "<div>\n",
       "<style scoped>\n",
       "    .dataframe tbody tr th:only-of-type {\n",
       "        vertical-align: middle;\n",
       "    }\n",
       "\n",
       "    .dataframe tbody tr th {\n",
       "        vertical-align: top;\n",
       "    }\n",
       "\n",
       "    .dataframe thead th {\n",
       "        text-align: right;\n",
       "    }\n",
       "</style>\n",
       "<table border=\"1\" class=\"dataframe\">\n",
       "  <thead>\n",
       "    <tr style=\"text-align: right;\">\n",
       "      <th></th>\n",
       "      <th>CloseGoog</th>\n",
       "    </tr>\n",
       "    <tr>\n",
       "      <th>Date</th>\n",
       "      <th></th>\n",
       "    </tr>\n",
       "  </thead>\n",
       "  <tbody>\n",
       "    <tr>\n",
       "      <th>2014-09-17</th>\n",
       "      <td>583.168884</td>\n",
       "    </tr>\n",
       "    <tr>\n",
       "      <th>2014-09-18</th>\n",
       "      <td>587.656616</td>\n",
       "    </tr>\n",
       "    <tr>\n",
       "      <th>2014-09-19</th>\n",
       "      <td>594.447937</td>\n",
       "    </tr>\n",
       "    <tr>\n",
       "      <th>2014-09-22</th>\n",
       "      <td>585.761780</td>\n",
       "    </tr>\n",
       "    <tr>\n",
       "      <th>2014-09-23</th>\n",
       "      <td>579.538879</td>\n",
       "    </tr>\n",
       "  </tbody>\n",
       "</table>\n",
       "</div>"
      ],
      "text/plain": [
       "             CloseGoog\n",
       "Date                  \n",
       "2014-09-17  583.168884\n",
       "2014-09-18  587.656616\n",
       "2014-09-19  594.447937\n",
       "2014-09-22  585.761780\n",
       "2014-09-23  579.538879"
      ]
     },
     "execution_count": 11,
     "metadata": {},
     "output_type": "execute_result"
    }
   ],
   "source": [
    "goog_cierre.head()"
   ]
  },
  {
   "cell_type": "code",
   "execution_count": 12,
   "metadata": {},
   "outputs": [
    {
     "data": {
      "text/html": [
       "<div>\n",
       "<style scoped>\n",
       "    .dataframe tbody tr th:only-of-type {\n",
       "        vertical-align: middle;\n",
       "    }\n",
       "\n",
       "    .dataframe tbody tr th {\n",
       "        vertical-align: top;\n",
       "    }\n",
       "\n",
       "    .dataframe thead th {\n",
       "        text-align: right;\n",
       "    }\n",
       "</style>\n",
       "<table border=\"1\" class=\"dataframe\">\n",
       "  <thead>\n",
       "    <tr style=\"text-align: right;\">\n",
       "      <th></th>\n",
       "      <th>CloseFb</th>\n",
       "    </tr>\n",
       "    <tr>\n",
       "      <th>Date</th>\n",
       "      <th></th>\n",
       "    </tr>\n",
       "  </thead>\n",
       "  <tbody>\n",
       "    <tr>\n",
       "      <th>2014-09-17</th>\n",
       "      <td>76.430000</td>\n",
       "    </tr>\n",
       "    <tr>\n",
       "      <th>2014-09-18</th>\n",
       "      <td>77.000000</td>\n",
       "    </tr>\n",
       "    <tr>\n",
       "      <th>2014-09-19</th>\n",
       "      <td>77.910004</td>\n",
       "    </tr>\n",
       "    <tr>\n",
       "      <th>2014-09-22</th>\n",
       "      <td>76.800003</td>\n",
       "    </tr>\n",
       "    <tr>\n",
       "      <th>2014-09-23</th>\n",
       "      <td>78.290001</td>\n",
       "    </tr>\n",
       "  </tbody>\n",
       "</table>\n",
       "</div>"
      ],
      "text/plain": [
       "              CloseFb\n",
       "Date                 \n",
       "2014-09-17  76.430000\n",
       "2014-09-18  77.000000\n",
       "2014-09-19  77.910004\n",
       "2014-09-22  76.800003\n",
       "2014-09-23  78.290001"
      ]
     },
     "execution_count": 12,
     "metadata": {},
     "output_type": "execute_result"
    }
   ],
   "source": [
    "fb_cierre.head()"
   ]
  },
  {
   "cell_type": "code",
   "execution_count": 13,
   "metadata": {},
   "outputs": [
    {
     "data": {
      "text/html": [
       "<div>\n",
       "<style scoped>\n",
       "    .dataframe tbody tr th:only-of-type {\n",
       "        vertical-align: middle;\n",
       "    }\n",
       "\n",
       "    .dataframe tbody tr th {\n",
       "        vertical-align: top;\n",
       "    }\n",
       "\n",
       "    .dataframe thead th {\n",
       "        text-align: right;\n",
       "    }\n",
       "</style>\n",
       "<table border=\"1\" class=\"dataframe\">\n",
       "  <thead>\n",
       "    <tr style=\"text-align: right;\">\n",
       "      <th></th>\n",
       "      <th>CloseAmzn</th>\n",
       "    </tr>\n",
       "    <tr>\n",
       "      <th>Date</th>\n",
       "      <th></th>\n",
       "    </tr>\n",
       "  </thead>\n",
       "  <tbody>\n",
       "    <tr>\n",
       "      <th>2014-09-17</th>\n",
       "      <td>324.000000</td>\n",
       "    </tr>\n",
       "    <tr>\n",
       "      <th>2014-09-18</th>\n",
       "      <td>325.000000</td>\n",
       "    </tr>\n",
       "    <tr>\n",
       "      <th>2014-09-19</th>\n",
       "      <td>331.320007</td>\n",
       "    </tr>\n",
       "    <tr>\n",
       "      <th>2014-09-22</th>\n",
       "      <td>324.500000</td>\n",
       "    </tr>\n",
       "    <tr>\n",
       "      <th>2014-09-23</th>\n",
       "      <td>323.630005</td>\n",
       "    </tr>\n",
       "  </tbody>\n",
       "</table>\n",
       "</div>"
      ],
      "text/plain": [
       "             CloseAmzn\n",
       "Date                  \n",
       "2014-09-17  324.000000\n",
       "2014-09-18  325.000000\n",
       "2014-09-19  331.320007\n",
       "2014-09-22  324.500000\n",
       "2014-09-23  323.630005"
      ]
     },
     "execution_count": 13,
     "metadata": {},
     "output_type": "execute_result"
    }
   ],
   "source": [
    "amzn_cierre.head()"
   ]
  },
  {
   "cell_type": "code",
   "execution_count": 14,
   "metadata": {},
   "outputs": [
    {
     "data": {
      "text/html": [
       "<div>\n",
       "<style scoped>\n",
       "    .dataframe tbody tr th:only-of-type {\n",
       "        vertical-align: middle;\n",
       "    }\n",
       "\n",
       "    .dataframe tbody tr th {\n",
       "        vertical-align: top;\n",
       "    }\n",
       "\n",
       "    .dataframe thead th {\n",
       "        text-align: right;\n",
       "    }\n",
       "</style>\n",
       "<table border=\"1\" class=\"dataframe\">\n",
       "  <thead>\n",
       "    <tr style=\"text-align: right;\">\n",
       "      <th></th>\n",
       "      <th>CloseMsft</th>\n",
       "    </tr>\n",
       "    <tr>\n",
       "      <th>Date</th>\n",
       "      <th></th>\n",
       "    </tr>\n",
       "  </thead>\n",
       "  <tbody>\n",
       "    <tr>\n",
       "      <th>2014-09-17</th>\n",
       "      <td>46.520000</td>\n",
       "    </tr>\n",
       "    <tr>\n",
       "      <th>2014-09-18</th>\n",
       "      <td>46.680000</td>\n",
       "    </tr>\n",
       "    <tr>\n",
       "      <th>2014-09-19</th>\n",
       "      <td>47.520000</td>\n",
       "    </tr>\n",
       "    <tr>\n",
       "      <th>2014-09-22</th>\n",
       "      <td>47.060001</td>\n",
       "    </tr>\n",
       "    <tr>\n",
       "      <th>2014-09-23</th>\n",
       "      <td>46.560001</td>\n",
       "    </tr>\n",
       "  </tbody>\n",
       "</table>\n",
       "</div>"
      ],
      "text/plain": [
       "            CloseMsft\n",
       "Date                 \n",
       "2014-09-17  46.520000\n",
       "2014-09-18  46.680000\n",
       "2014-09-19  47.520000\n",
       "2014-09-22  47.060001\n",
       "2014-09-23  46.560001"
      ]
     },
     "execution_count": 14,
     "metadata": {},
     "output_type": "execute_result"
    }
   ],
   "source": [
    "msft_cierre.head()"
   ]
  },
  {
   "cell_type": "code",
   "execution_count": 15,
   "metadata": {},
   "outputs": [
    {
     "data": {
      "text/html": [
       "<div>\n",
       "<style scoped>\n",
       "    .dataframe tbody tr th:only-of-type {\n",
       "        vertical-align: middle;\n",
       "    }\n",
       "\n",
       "    .dataframe tbody tr th {\n",
       "        vertical-align: top;\n",
       "    }\n",
       "\n",
       "    .dataframe thead th {\n",
       "        text-align: right;\n",
       "    }\n",
       "</style>\n",
       "<table border=\"1\" class=\"dataframe\">\n",
       "  <thead>\n",
       "    <tr style=\"text-align: right;\">\n",
       "      <th></th>\n",
       "      <th>ClosBtcEur</th>\n",
       "    </tr>\n",
       "    <tr>\n",
       "      <th>Date</th>\n",
       "      <th></th>\n",
       "    </tr>\n",
       "  </thead>\n",
       "  <tbody>\n",
       "    <tr>\n",
       "      <th>2014-09-17</th>\n",
       "      <td>457.334015</td>\n",
       "    </tr>\n",
       "    <tr>\n",
       "      <th>2014-09-18</th>\n",
       "      <td>424.440002</td>\n",
       "    </tr>\n",
       "    <tr>\n",
       "      <th>2014-09-19</th>\n",
       "      <td>394.795990</td>\n",
       "    </tr>\n",
       "    <tr>\n",
       "      <th>2014-09-20</th>\n",
       "      <td>408.903992</td>\n",
       "    </tr>\n",
       "    <tr>\n",
       "      <th>2014-09-21</th>\n",
       "      <td>398.821014</td>\n",
       "    </tr>\n",
       "  </tbody>\n",
       "</table>\n",
       "</div>"
      ],
      "text/plain": [
       "            ClosBtcEur\n",
       "Date                  \n",
       "2014-09-17  457.334015\n",
       "2014-09-18  424.440002\n",
       "2014-09-19  394.795990\n",
       "2014-09-20  408.903992\n",
       "2014-09-21  398.821014"
      ]
     },
     "execution_count": 15,
     "metadata": {},
     "output_type": "execute_result"
    }
   ],
   "source": [
    "btc_usd_cierre.head()"
   ]
  },
  {
   "cell_type": "code",
   "execution_count": 16,
   "metadata": {},
   "outputs": [
    {
     "data": {
      "text/html": [
       "<div>\n",
       "<style scoped>\n",
       "    .dataframe tbody tr th:only-of-type {\n",
       "        vertical-align: middle;\n",
       "    }\n",
       "\n",
       "    .dataframe tbody tr th {\n",
       "        vertical-align: top;\n",
       "    }\n",
       "\n",
       "    .dataframe thead th {\n",
       "        text-align: right;\n",
       "    }\n",
       "</style>\n",
       "<table border=\"1\" class=\"dataframe\">\n",
       "  <thead>\n",
       "    <tr style=\"text-align: right;\">\n",
       "      <th></th>\n",
       "      <th>ClosBtcEur</th>\n",
       "      <th>CloseGoog</th>\n",
       "      <th>CloseAmzn</th>\n",
       "      <th>CloseFb</th>\n",
       "      <th>CloseMsft</th>\n",
       "    </tr>\n",
       "    <tr>\n",
       "      <th>Date</th>\n",
       "      <th></th>\n",
       "      <th></th>\n",
       "      <th></th>\n",
       "      <th></th>\n",
       "      <th></th>\n",
       "    </tr>\n",
       "  </thead>\n",
       "  <tbody>\n",
       "    <tr>\n",
       "      <th>2014-09-17</th>\n",
       "      <td>457.334015</td>\n",
       "      <td>583.168884</td>\n",
       "      <td>324.000000</td>\n",
       "      <td>76.430000</td>\n",
       "      <td>46.52</td>\n",
       "    </tr>\n",
       "    <tr>\n",
       "      <th>2014-09-18</th>\n",
       "      <td>424.440002</td>\n",
       "      <td>587.656616</td>\n",
       "      <td>325.000000</td>\n",
       "      <td>77.000000</td>\n",
       "      <td>46.68</td>\n",
       "    </tr>\n",
       "    <tr>\n",
       "      <th>2014-09-19</th>\n",
       "      <td>394.795990</td>\n",
       "      <td>594.447937</td>\n",
       "      <td>331.320007</td>\n",
       "      <td>77.910004</td>\n",
       "      <td>47.52</td>\n",
       "    </tr>\n",
       "    <tr>\n",
       "      <th>2014-09-20</th>\n",
       "      <td>408.903992</td>\n",
       "      <td>NaN</td>\n",
       "      <td>NaN</td>\n",
       "      <td>NaN</td>\n",
       "      <td>NaN</td>\n",
       "    </tr>\n",
       "    <tr>\n",
       "      <th>2014-09-21</th>\n",
       "      <td>398.821014</td>\n",
       "      <td>NaN</td>\n",
       "      <td>NaN</td>\n",
       "      <td>NaN</td>\n",
       "      <td>NaN</td>\n",
       "    </tr>\n",
       "  </tbody>\n",
       "</table>\n",
       "</div>"
      ],
      "text/plain": [
       "            ClosBtcEur   CloseGoog   CloseAmzn    CloseFb  CloseMsft\n",
       "Date                                                                \n",
       "2014-09-17  457.334015  583.168884  324.000000  76.430000      46.52\n",
       "2014-09-18  424.440002  587.656616  325.000000  77.000000      46.68\n",
       "2014-09-19  394.795990  594.447937  331.320007  77.910004      47.52\n",
       "2014-09-20  408.903992         NaN         NaN        NaN        NaN\n",
       "2014-09-21  398.821014         NaN         NaN        NaN        NaN"
      ]
     },
     "execution_count": 16,
     "metadata": {},
     "output_type": "execute_result"
    }
   ],
   "source": [
    "# Integración de todos los dataframe en uno solo dataframe\n",
    "\n",
    "df_combinado = btc_usd_cierre.join(goog_cierre).join(amzn_cierre).join(fb_cierre).join(msft_cierre)\n",
    "df_combinado.head()\n"
   ]
  },
  {
   "cell_type": "code",
   "execution_count": 17,
   "metadata": {},
   "outputs": [
    {
     "data": {
      "text/html": [
       "<div>\n",
       "<style scoped>\n",
       "    .dataframe tbody tr th:only-of-type {\n",
       "        vertical-align: middle;\n",
       "    }\n",
       "\n",
       "    .dataframe tbody tr th {\n",
       "        vertical-align: top;\n",
       "    }\n",
       "\n",
       "    .dataframe thead th {\n",
       "        text-align: right;\n",
       "    }\n",
       "</style>\n",
       "<table border=\"1\" class=\"dataframe\">\n",
       "  <thead>\n",
       "    <tr style=\"text-align: right;\">\n",
       "      <th></th>\n",
       "      <th>count</th>\n",
       "      <th>mean</th>\n",
       "      <th>std</th>\n",
       "      <th>min</th>\n",
       "      <th>25%</th>\n",
       "      <th>50%</th>\n",
       "      <th>75%</th>\n",
       "      <th>max</th>\n",
       "    </tr>\n",
       "  </thead>\n",
       "  <tbody>\n",
       "    <tr>\n",
       "      <th>ClosBtcEur</th>\n",
       "      <td>2304.0</td>\n",
       "      <td>5006.556875</td>\n",
       "      <td>5028.177584</td>\n",
       "      <td>178.102997</td>\n",
       "      <td>445.919991</td>\n",
       "      <td>3904.584961</td>\n",
       "      <td>8488.242920</td>\n",
       "      <td>34741.707031</td>\n",
       "    </tr>\n",
       "    <tr>\n",
       "      <th>CloseGoog</th>\n",
       "      <td>1587.0</td>\n",
       "      <td>987.871607</td>\n",
       "      <td>316.886451</td>\n",
       "      <td>491.201416</td>\n",
       "      <td>733.770019</td>\n",
       "      <td>1007.039978</td>\n",
       "      <td>1188.289978</td>\n",
       "      <td>1827.989990</td>\n",
       "    </tr>\n",
       "    <tr>\n",
       "      <th>CloseAmzn</th>\n",
       "      <td>1587.0</td>\n",
       "      <td>1329.917391</td>\n",
       "      <td>807.451260</td>\n",
       "      <td>286.950012</td>\n",
       "      <td>671.235016</td>\n",
       "      <td>1125.349976</td>\n",
       "      <td>1819.224976</td>\n",
       "      <td>3531.449951</td>\n",
       "    </tr>\n",
       "    <tr>\n",
       "      <th>CloseFb</th>\n",
       "      <td>1587.0</td>\n",
       "      <td>154.719011</td>\n",
       "      <td>53.024936</td>\n",
       "      <td>72.629997</td>\n",
       "      <td>112.694999</td>\n",
       "      <td>155.270004</td>\n",
       "      <td>185.715003</td>\n",
       "      <td>303.910004</td>\n",
       "    </tr>\n",
       "    <tr>\n",
       "      <th>CloseMsft</th>\n",
       "      <td>1587.0</td>\n",
       "      <td>97.494058</td>\n",
       "      <td>52.015881</td>\n",
       "      <td>40.290001</td>\n",
       "      <td>53.809999</td>\n",
       "      <td>83.180000</td>\n",
       "      <td>131.795006</td>\n",
       "      <td>231.649994</td>\n",
       "    </tr>\n",
       "  </tbody>\n",
       "</table>\n",
       "</div>"
      ],
      "text/plain": [
       "             count         mean          std         min         25%  \\\n",
       "ClosBtcEur  2304.0  5006.556875  5028.177584  178.102997  445.919991   \n",
       "CloseGoog   1587.0   987.871607   316.886451  491.201416  733.770019   \n",
       "CloseAmzn   1587.0  1329.917391   807.451260  286.950012  671.235016   \n",
       "CloseFb     1587.0   154.719011    53.024936   72.629997  112.694999   \n",
       "CloseMsft   1587.0    97.494058    52.015881   40.290001   53.809999   \n",
       "\n",
       "                    50%          75%           max  \n",
       "ClosBtcEur  3904.584961  8488.242920  34741.707031  \n",
       "CloseGoog   1007.039978  1188.289978   1827.989990  \n",
       "CloseAmzn   1125.349976  1819.224976   3531.449951  \n",
       "CloseFb      155.270004   185.715003    303.910004  \n",
       "CloseMsft     83.180000   131.795006    231.649994  "
      ]
     },
     "execution_count": 17,
     "metadata": {},
     "output_type": "execute_result"
    }
   ],
   "source": [
    "df_combinado.describe().transpose()"
   ]
  },
  {
   "cell_type": "markdown",
   "metadata": {},
   "source": [
    "# Comentario respecto al resumen descriptivo\n",
    "\n",
    "Se observa como en los precios de cierre de las empresas el número de registros válidoses de 1587 casos esto es 329 casos perdidos respecto al precio de cierre del Bitcoin (2304), estos valores perdidos se corresponden a los días en que no hay actividad en las bolsas de valores, por lo que se sustituiran los mismos por el valor de cierre del último día hábil antes del valor perdido.\n",
    "\n",
    "La sustitución de los valores perdidos se hace en el siguiente código"
   ]
  },
  {
   "cell_type": "code",
   "execution_count": 18,
   "metadata": {},
   "outputs": [
    {
     "data": {
      "text/html": [
       "<div>\n",
       "<style scoped>\n",
       "    .dataframe tbody tr th:only-of-type {\n",
       "        vertical-align: middle;\n",
       "    }\n",
       "\n",
       "    .dataframe tbody tr th {\n",
       "        vertical-align: top;\n",
       "    }\n",
       "\n",
       "    .dataframe thead th {\n",
       "        text-align: right;\n",
       "    }\n",
       "</style>\n",
       "<table border=\"1\" class=\"dataframe\">\n",
       "  <thead>\n",
       "    <tr style=\"text-align: right;\">\n",
       "      <th></th>\n",
       "      <th>ClosBtcEur</th>\n",
       "      <th>CloseGoog</th>\n",
       "      <th>CloseAmzn</th>\n",
       "      <th>CloseFb</th>\n",
       "      <th>CloseMsft</th>\n",
       "    </tr>\n",
       "    <tr>\n",
       "      <th>Date</th>\n",
       "      <th></th>\n",
       "      <th></th>\n",
       "      <th></th>\n",
       "      <th></th>\n",
       "      <th></th>\n",
       "    </tr>\n",
       "  </thead>\n",
       "  <tbody>\n",
       "    <tr>\n",
       "      <th>2014-09-17</th>\n",
       "      <td>457.334015</td>\n",
       "      <td>583.168884</td>\n",
       "      <td>324.000000</td>\n",
       "      <td>76.430000</td>\n",
       "      <td>46.520000</td>\n",
       "    </tr>\n",
       "    <tr>\n",
       "      <th>2014-09-18</th>\n",
       "      <td>424.440002</td>\n",
       "      <td>587.656616</td>\n",
       "      <td>325.000000</td>\n",
       "      <td>77.000000</td>\n",
       "      <td>46.680000</td>\n",
       "    </tr>\n",
       "    <tr>\n",
       "      <th>2014-09-19</th>\n",
       "      <td>394.795990</td>\n",
       "      <td>594.447937</td>\n",
       "      <td>331.320007</td>\n",
       "      <td>77.910004</td>\n",
       "      <td>47.520000</td>\n",
       "    </tr>\n",
       "    <tr>\n",
       "      <th>2014-09-20</th>\n",
       "      <td>408.903992</td>\n",
       "      <td>594.447937</td>\n",
       "      <td>331.320007</td>\n",
       "      <td>77.910004</td>\n",
       "      <td>47.520000</td>\n",
       "    </tr>\n",
       "    <tr>\n",
       "      <th>2014-09-21</th>\n",
       "      <td>398.821014</td>\n",
       "      <td>594.447937</td>\n",
       "      <td>331.320007</td>\n",
       "      <td>77.910004</td>\n",
       "      <td>47.520000</td>\n",
       "    </tr>\n",
       "    <tr>\n",
       "      <th>2014-09-22</th>\n",
       "      <td>402.152008</td>\n",
       "      <td>585.761780</td>\n",
       "      <td>324.500000</td>\n",
       "      <td>76.800003</td>\n",
       "      <td>47.060001</td>\n",
       "    </tr>\n",
       "    <tr>\n",
       "      <th>2014-09-23</th>\n",
       "      <td>435.790985</td>\n",
       "      <td>579.538879</td>\n",
       "      <td>323.630005</td>\n",
       "      <td>78.290001</td>\n",
       "      <td>46.560001</td>\n",
       "    </tr>\n",
       "    <tr>\n",
       "      <th>2014-09-24</th>\n",
       "      <td>423.204987</td>\n",
       "      <td>586.380066</td>\n",
       "      <td>328.209991</td>\n",
       "      <td>78.540001</td>\n",
       "      <td>47.080002</td>\n",
       "    </tr>\n",
       "    <tr>\n",
       "      <th>2014-09-25</th>\n",
       "      <td>411.574005</td>\n",
       "      <td>573.485474</td>\n",
       "      <td>321.929993</td>\n",
       "      <td>77.220001</td>\n",
       "      <td>46.040001</td>\n",
       "    </tr>\n",
       "    <tr>\n",
       "      <th>2014-09-26</th>\n",
       "      <td>404.424988</td>\n",
       "      <td>575.519897</td>\n",
       "      <td>323.209991</td>\n",
       "      <td>78.790001</td>\n",
       "      <td>46.410000</td>\n",
       "    </tr>\n",
       "  </tbody>\n",
       "</table>\n",
       "</div>"
      ],
      "text/plain": [
       "            ClosBtcEur   CloseGoog   CloseAmzn    CloseFb  CloseMsft\n",
       "Date                                                                \n",
       "2014-09-17  457.334015  583.168884  324.000000  76.430000  46.520000\n",
       "2014-09-18  424.440002  587.656616  325.000000  77.000000  46.680000\n",
       "2014-09-19  394.795990  594.447937  331.320007  77.910004  47.520000\n",
       "2014-09-20  408.903992  594.447937  331.320007  77.910004  47.520000\n",
       "2014-09-21  398.821014  594.447937  331.320007  77.910004  47.520000\n",
       "2014-09-22  402.152008  585.761780  324.500000  76.800003  47.060001\n",
       "2014-09-23  435.790985  579.538879  323.630005  78.290001  46.560001\n",
       "2014-09-24  423.204987  586.380066  328.209991  78.540001  47.080002\n",
       "2014-09-25  411.574005  573.485474  321.929993  77.220001  46.040001\n",
       "2014-09-26  404.424988  575.519897  323.209991  78.790001  46.410000"
      ]
     },
     "execution_count": 18,
     "metadata": {},
     "output_type": "execute_result"
    }
   ],
   "source": [
    "# Dado que los valores perdidos que hay en data set se corresponden con días donde no hay cotización de las acciones \n",
    "# En la bolsa de valores, estos serán sustitudios por el último valor válido, para ello usaremos el método de pandas ffill()\n",
    "# que propaga el último valor valido hacia adelante, así si el último valor valido fue de un viernes, ese valor se asignará\n",
    "# al sábado y al domingo\n",
    "\n",
    "df_combinado = df_combinado.ffill()\n",
    "df_combinado.head(n=10)            "
   ]
  },
  {
   "cell_type": "code",
   "execution_count": 19,
   "metadata": {},
   "outputs": [
    {
     "data": {
      "text/html": [
       "<div>\n",
       "<style scoped>\n",
       "    .dataframe tbody tr th:only-of-type {\n",
       "        vertical-align: middle;\n",
       "    }\n",
       "\n",
       "    .dataframe tbody tr th {\n",
       "        vertical-align: top;\n",
       "    }\n",
       "\n",
       "    .dataframe thead th {\n",
       "        text-align: right;\n",
       "    }\n",
       "</style>\n",
       "<table border=\"1\" class=\"dataframe\">\n",
       "  <thead>\n",
       "    <tr style=\"text-align: right;\">\n",
       "      <th></th>\n",
       "      <th>count</th>\n",
       "      <th>mean</th>\n",
       "      <th>std</th>\n",
       "      <th>min</th>\n",
       "      <th>25%</th>\n",
       "      <th>50%</th>\n",
       "      <th>75%</th>\n",
       "      <th>max</th>\n",
       "    </tr>\n",
       "  </thead>\n",
       "  <tbody>\n",
       "    <tr>\n",
       "      <th>ClosBtcEur</th>\n",
       "      <td>2304.0</td>\n",
       "      <td>5006.556875</td>\n",
       "      <td>5028.177584</td>\n",
       "      <td>178.102997</td>\n",
       "      <td>445.919991</td>\n",
       "      <td>3904.584961</td>\n",
       "      <td>8488.242920</td>\n",
       "      <td>34741.707031</td>\n",
       "    </tr>\n",
       "    <tr>\n",
       "      <th>CloseGoog</th>\n",
       "      <td>2304.0</td>\n",
       "      <td>988.458379</td>\n",
       "      <td>317.691941</td>\n",
       "      <td>491.201416</td>\n",
       "      <td>733.775024</td>\n",
       "      <td>1010.169983</td>\n",
       "      <td>1188.194977</td>\n",
       "      <td>1827.989990</td>\n",
       "    </tr>\n",
       "    <tr>\n",
       "      <th>CloseAmzn</th>\n",
       "      <td>2304.0</td>\n",
       "      <td>1329.480004</td>\n",
       "      <td>806.596225</td>\n",
       "      <td>286.950012</td>\n",
       "      <td>672.640015</td>\n",
       "      <td>1126.500000</td>\n",
       "      <td>1818.597504</td>\n",
       "      <td>3531.449951</td>\n",
       "    </tr>\n",
       "    <tr>\n",
       "      <th>CloseFb</th>\n",
       "      <td>2304.0</td>\n",
       "      <td>154.714718</td>\n",
       "      <td>53.082751</td>\n",
       "      <td>72.629997</td>\n",
       "      <td>112.655002</td>\n",
       "      <td>155.070007</td>\n",
       "      <td>185.767505</td>\n",
       "      <td>303.910004</td>\n",
       "    </tr>\n",
       "    <tr>\n",
       "      <th>CloseMsft</th>\n",
       "      <td>2304.0</td>\n",
       "      <td>97.581918</td>\n",
       "      <td>52.067325</td>\n",
       "      <td>40.290001</td>\n",
       "      <td>53.762501</td>\n",
       "      <td>83.260002</td>\n",
       "      <td>131.642505</td>\n",
       "      <td>231.649994</td>\n",
       "    </tr>\n",
       "  </tbody>\n",
       "</table>\n",
       "</div>"
      ],
      "text/plain": [
       "             count         mean          std         min         25%  \\\n",
       "ClosBtcEur  2304.0  5006.556875  5028.177584  178.102997  445.919991   \n",
       "CloseGoog   2304.0   988.458379   317.691941  491.201416  733.775024   \n",
       "CloseAmzn   2304.0  1329.480004   806.596225  286.950012  672.640015   \n",
       "CloseFb     2304.0   154.714718    53.082751   72.629997  112.655002   \n",
       "CloseMsft   2304.0    97.581918    52.067325   40.290001   53.762501   \n",
       "\n",
       "                    50%          75%           max  \n",
       "ClosBtcEur  3904.584961  8488.242920  34741.707031  \n",
       "CloseGoog   1010.169983  1188.194977   1827.989990  \n",
       "CloseAmzn   1126.500000  1818.597504   3531.449951  \n",
       "CloseFb      155.070007   185.767505    303.910004  \n",
       "CloseMsft     83.260002   131.642505    231.649994  "
      ]
     },
     "execution_count": 19,
     "metadata": {},
     "output_type": "execute_result"
    }
   ],
   "source": [
    "df_combinado.describe().transpose()\n",
    "\n"
   ]
  },
  {
   "cell_type": "markdown",
   "metadata": {},
   "source": [
    "El resultado anterio, muestra que los valores perdidos fueron reemplazados, respecto a los valores de los estadísticos descriptivos, los mismos no presentaron modificaciones significativas"
   ]
  },
  {
   "cell_type": "code",
   "execution_count": 20,
   "metadata": {},
   "outputs": [
    {
     "data": {
      "text/plain": [
       "<AxesSubplot:>"
      ]
     },
     "execution_count": 20,
     "metadata": {},
     "output_type": "execute_result"
    },
    {
     "data": {
      "image/png": "[encoded data removed]",
      "text/plain": [
       "<Figure size 432x288 with 1 Axes>"
      ]
     },
     "metadata": {
      "needs_background": "light"
     },
     "output_type": "display_data"
    }
   ],
   "source": [
    "df_combinado.loc[:, ['ClosBtcEur', 'CloseGoog', 'CloseAmzn', 'CloseFb', 'CloseMsft']].boxplot()"
   ]
  },
  {
   "cell_type": "code",
   "execution_count": 21,
   "metadata": {},
   "outputs": [
    {
     "data": {
      "text/plain": [
       "<AxesSubplot:xlabel='Date'>"
      ]
     },
     "execution_count": 21,
     "metadata": {},
     "output_type": "execute_result"
    },
    {
     "data": {
      "image/png": "[encoded data removed]",
      "text/plain": [
       "<Figure size 432x288 with 1 Axes>"
      ]
     },
     "metadata": {
      "needs_background": "light"
     },
     "output_type": "display_data"
    }
   ],
   "source": [
    "df_combinado.loc[:, ['ClosBtcEur', 'CloseGoog', 'CloseAmzn', 'CloseFb', 'CloseMsft']].plot()"
   ]
  },
  {
   "cell_type": "markdown",
   "metadata": {},
   "source": [
    "# Comentario respecto al gráfico de cajas\n",
    "\n",
    "Se observa la diferencia en la variabilidad de los precios de cierre de goole respecto a los precios de cierre de las empresas tecnológicas,en particular los precios de cierre de google presentan una distribución de cola larga"
   ]
  },
  {
   "cell_type": "code",
   "execution_count": 22,
   "metadata": {},
   "outputs": [],
   "source": [
    "import matplotlib.pyplot as plt\n",
    "%matplotlib inline\n",
    "\n"
   ]
  },
  {
   "cell_type": "code",
   "execution_count": 23,
   "metadata": {},
   "outputs": [
    {
     "data": {
      "image/png": "[encoded data removed]",
      "text/plain": [
       "<Figure size 432x288 with 1 Axes>"
      ]
     },
     "metadata": {
      "needs_background": "light"
     },
     "output_type": "display_data"
    }
   ],
   "source": [
    "plt.hist(x=df_combinado.iloc[:,0])\n",
    "plt.title('Histograma - Precio de Cierre de Bitcoins')\n",
    "plt.xlabel('Precio de Cierre')\n",
    "plt.ylabel('Frecuencia')\n",
    "plt.show()"
   ]
  },
  {
   "cell_type": "code",
   "execution_count": 24,
   "metadata": {},
   "outputs": [
    {
     "data": {
      "image/png": "[encoded data removed]",
      "text/plain": [
       "<Figure size 432x288 with 1 Axes>"
      ]
     },
     "metadata": {
      "needs_background": "light"
     },
     "output_type": "display_data"
    }
   ],
   "source": [
    "plt.hist(x=df_combinado.iloc[:,1])\n",
    "plt.title('Histograma - Precio de Cierre de Google')\n",
    "plt.xlabel('Precio de Cierre')\n",
    "plt.ylabel('Frecuencia')\n",
    "plt.show()"
   ]
  },
  {
   "cell_type": "code",
   "execution_count": 25,
   "metadata": {},
   "outputs": [
    {
     "data": {
      "image/png": "[encoded data removed]",
      "text/plain": [
       "<Figure size 432x288 with 1 Axes>"
      ]
     },
     "metadata": {
      "needs_background": "light"
     },
     "output_type": "display_data"
    }
   ],
   "source": [
    "plt.hist(x=df_combinado.iloc[:,2])\n",
    "plt.title('Histograma - Precio de Cierre de Amazon')\n",
    "plt.xlabel('Precio de Cierre')\n",
    "plt.ylabel('Frecuencia')\n",
    "plt.show()"
   ]
  },
  {
   "cell_type": "code",
   "execution_count": 26,
   "metadata": {},
   "outputs": [
    {
     "data": {
      "image/png": "[encoded data removed]",
      "text/plain": [
       "<Figure size 432x288 with 1 Axes>"
      ]
     },
     "metadata": {
      "needs_background": "light"
     },
     "output_type": "display_data"
    }
   ],
   "source": [
    "plt.hist(x=df_combinado.iloc[:,3])\n",
    "plt.title('Histograma - Precio de Cierre de Faceboock')\n",
    "plt.xlabel('Precio de Cierre')\n",
    "plt.ylabel('Frecuencia')\n",
    "plt.show()"
   ]
  },
  {
   "cell_type": "code",
   "execution_count": 27,
   "metadata": {},
   "outputs": [
    {
     "data": {
      "image/png": "[encoded data removed]",
      "text/plain": [
       "<Figure size 432x288 with 1 Axes>"
      ]
     },
     "metadata": {
      "needs_background": "light"
     },
     "output_type": "display_data"
    }
   ],
   "source": [
    "plt.hist(x=df_combinado.iloc[:,4])\n",
    "plt.title('Histograma - Precio de Cierre de Microsoft')\n",
    "plt.xlabel('Precio de Cierre')\n",
    "plt.ylabel('Frecuencia')\n",
    "plt.show()"
   ]
  },
  {
   "cell_type": "markdown",
   "metadata": {},
   "source": [
    "En todos los gáficos se evidencia lo asimétrico de los datos. Lo anterior sugiere que es combeniente realizar algún tipo de transformación en los datos.\n",
    "\n",
    "Para ello usamos la transformación logaritmica "
   ]
  },
  {
   "cell_type": "code",
   "execution_count": 28,
   "metadata": {},
   "outputs": [],
   "source": [
    "import numpy as np"
   ]
  },
  {
   "cell_type": "code",
   "execution_count": 29,
   "metadata": {},
   "outputs": [
    {
     "data": {
      "image/png": "[encoded data removed]",
      "text/plain": [
       "<Figure size 432x288 with 1 Axes>"
      ]
     },
     "metadata": {
      "needs_background": "light"
     },
     "output_type": "display_data"
    }
   ],
   "source": [
    "plt.hist(x=np.log(df_combinado.iloc[:,0]))\n",
    "plt.title('Histograma - Logaritmo del Precio de Cierre de Bitcoins')\n",
    "plt.xlabel('Logaritmo Precio de Cierre')\n",
    "plt.ylabel('Frecuencia')\n",
    "plt.show()"
   ]
  },
  {
   "cell_type": "code",
   "execution_count": 30,
   "metadata": {},
   "outputs": [
    {
     "data": {
      "image/png": "[encoded data removed]",
      "text/plain": [
       "<Figure size 432x288 with 1 Axes>"
      ]
     },
     "metadata": {
      "needs_background": "light"
     },
     "output_type": "display_data"
    }
   ],
   "source": [
    "plt.hist(x=np.log(df_combinado.iloc[:,2]))\n",
    "plt.title('Histograma - Logaritmo del Precio de Cierre de Amazon')\n",
    "plt.xlabel('Precio de Cierre')\n",
    "plt.ylabel('Frecuencia')\n",
    "plt.show()"
   ]
  },
  {
   "cell_type": "code",
   "execution_count": 31,
   "metadata": {},
   "outputs": [
    {
     "data": {
      "image/png": "[encoded data removed]",
      "text/plain": [
       "<Figure size 432x288 with 1 Axes>"
      ]
     },
     "metadata": {
      "needs_background": "light"
     },
     "output_type": "display_data"
    }
   ],
   "source": [
    "plt.hist(x=np.log(df_combinado.iloc[:,1]))\n",
    "plt.title('Histograma - Logartimo del Precio de Cierre de Google')\n",
    "plt.xlabel('Precio de Cierre')\n",
    "plt.ylabel('Frecuencia')\n",
    "plt.show()"
   ]
  },
  {
   "cell_type": "code",
   "execution_count": 32,
   "metadata": {},
   "outputs": [
    {
     "data": {
      "image/png": "[encoded data removed]",
      "text/plain": [
       "<Figure size 432x288 with 1 Axes>"
      ]
     },
     "metadata": {
      "needs_background": "light"
     },
     "output_type": "display_data"
    }
   ],
   "source": [
    "plt.hist(x=np.log(df_combinado.iloc[:,3]))\n",
    "plt.title('Histograma - Logartimo del Precio de Cierre de Faceboock')\n",
    "plt.xlabel('Precio de Cierre')\n",
    "plt.ylabel('Frecuencia')\n",
    "plt.show()"
   ]
  },
  {
   "cell_type": "code",
   "execution_count": 33,
   "metadata": {},
   "outputs": [
    {
     "data": {
      "image/png": "[encoded data removed]",
      "text/plain": [
       "<Figure size 432x288 with 1 Axes>"
      ]
     },
     "metadata": {
      "needs_background": "light"
     },
     "output_type": "display_data"
    }
   ],
   "source": [
    "plt.hist(x=np.log(df_combinado.iloc[:,4]))\n",
    "plt.title('Histograma - Logaritmo del Precio de Cierre de Microsoft')\n",
    "plt.xlabel('Precio de Cierre')\n",
    "plt.ylabel('Frecuencia')\n",
    "plt.show()"
   ]
  },
  {
   "cell_type": "code",
   "execution_count": 34,
   "metadata": {},
   "outputs": [
    {
     "data": {
      "image/png": "[encoded data removed]",
      "text/plain": [
       "<Figure size 432x288 with 1 Axes>"
      ]
     },
     "metadata": {
      "needs_background": "light"
     },
     "output_type": "display_data"
    }
   ],
   "source": [
    "plt.hist(x=np.log(df_combinado.iloc[:,3]))\n",
    "plt.title('Histograma - Logartimo del Precio de Cierre de Faceboock')\n",
    "plt.xlabel('Precio de Cierre')\n",
    "plt.ylabel('Frecuencia')\n",
    "plt.show()"
   ]
  },
  {
   "cell_type": "code",
   "execution_count": 35,
   "metadata": {},
   "outputs": [
    {
     "data": {
      "text/plain": [
       "<AxesSubplot:>"
      ]
     },
     "execution_count": 35,
     "metadata": {},
     "output_type": "execute_result"
    },
    {
     "data": {
      "image/png": "[encoded data removed]",
      "text/plain": [
       "<Figure size 432x288 with 1 Axes>"
      ]
     },
     "metadata": {
      "needs_background": "light"
     },
     "output_type": "display_data"
    }
   ],
   "source": [
    "df_combinado_log = np.log(df_combinado)\n",
    "\n",
    "df_combinado_log.loc[:, ['ClosBtcEur', 'CloseGoog', 'CloseAmzn', 'CloseFb', 'CloseMsft']].boxplot()"
   ]
  },
  {
   "cell_type": "code",
   "execution_count": 36,
   "metadata": {},
   "outputs": [
    {
     "data": {
      "text/plain": [
       "<AxesSubplot:xlabel='Date'>"
      ]
     },
     "execution_count": 36,
     "metadata": {},
     "output_type": "execute_result"
    },
    {
     "data": {
      "image/png": "[encoded data removed]",
      "text/plain": [
       "<Figure size 432x288 with 1 Axes>"
      ]
     },
     "metadata": {
      "needs_background": "light"
     },
     "output_type": "display_data"
    }
   ],
   "source": [
    "df_combinado_log.loc[:, ['ClosBtcEur', 'CloseGoog', 'CloseAmzn', 'CloseFb', 'CloseMsft']].plot()"
   ]
  },
  {
   "cell_type": "code",
   "execution_count": 37,
   "metadata": {},
   "outputs": [
    {
     "data": {
      "text/html": [
       "<div>\n",
       "<style scoped>\n",
       "    .dataframe tbody tr th:only-of-type {\n",
       "        vertical-align: middle;\n",
       "    }\n",
       "\n",
       "    .dataframe tbody tr th {\n",
       "        vertical-align: top;\n",
       "    }\n",
       "\n",
       "    .dataframe thead th {\n",
       "        text-align: right;\n",
       "    }\n",
       "</style>\n",
       "<table border=\"1\" class=\"dataframe\">\n",
       "  <thead>\n",
       "    <tr style=\"text-align: right;\">\n",
       "      <th></th>\n",
       "      <th>ClosBtcEur</th>\n",
       "      <th>CloseGoog</th>\n",
       "      <th>CloseAmzn</th>\n",
       "      <th>CloseFb</th>\n",
       "      <th>CloseMsft</th>\n",
       "    </tr>\n",
       "    <tr>\n",
       "      <th>Date</th>\n",
       "      <th></th>\n",
       "      <th></th>\n",
       "      <th></th>\n",
       "      <th></th>\n",
       "      <th></th>\n",
       "    </tr>\n",
       "  </thead>\n",
       "  <tbody>\n",
       "    <tr>\n",
       "      <th>2014-09-17</th>\n",
       "      <td>6.125414</td>\n",
       "      <td>6.368477</td>\n",
       "      <td>5.780744</td>\n",
       "      <td>4.336375</td>\n",
       "      <td>3.839882</td>\n",
       "    </tr>\n",
       "    <tr>\n",
       "      <th>2014-09-18</th>\n",
       "      <td>6.050771</td>\n",
       "      <td>6.376143</td>\n",
       "      <td>5.783825</td>\n",
       "      <td>4.343805</td>\n",
       "      <td>3.843316</td>\n",
       "    </tr>\n",
       "    <tr>\n",
       "      <th>2014-09-19</th>\n",
       "      <td>5.978369</td>\n",
       "      <td>6.387633</td>\n",
       "      <td>5.803085</td>\n",
       "      <td>4.355554</td>\n",
       "      <td>3.861151</td>\n",
       "    </tr>\n",
       "    <tr>\n",
       "      <th>2014-09-20</th>\n",
       "      <td>6.013480</td>\n",
       "      <td>6.387633</td>\n",
       "      <td>5.803085</td>\n",
       "      <td>4.355554</td>\n",
       "      <td>3.861151</td>\n",
       "    </tr>\n",
       "    <tr>\n",
       "      <th>2014-09-21</th>\n",
       "      <td>5.988513</td>\n",
       "      <td>6.387633</td>\n",
       "      <td>5.803085</td>\n",
       "      <td>4.355554</td>\n",
       "      <td>3.861151</td>\n",
       "    </tr>\n",
       "  </tbody>\n",
       "</table>\n",
       "</div>"
      ],
      "text/plain": [
       "            ClosBtcEur  CloseGoog  CloseAmzn   CloseFb  CloseMsft\n",
       "Date                                                             \n",
       "2014-09-17    6.125414   6.368477   5.780744  4.336375   3.839882\n",
       "2014-09-18    6.050771   6.376143   5.783825  4.343805   3.843316\n",
       "2014-09-19    5.978369   6.387633   5.803085  4.355554   3.861151\n",
       "2014-09-20    6.013480   6.387633   5.803085  4.355554   3.861151\n",
       "2014-09-21    5.988513   6.387633   5.803085  4.355554   3.861151"
      ]
     },
     "execution_count": 37,
     "metadata": {},
     "output_type": "execute_result"
    }
   ],
   "source": [
    "df_combinado_log.head()  "
   ]
  },
  {
   "cell_type": "code",
   "execution_count": 38,
   "metadata": {},
   "outputs": [
    {
     "data": {
      "text/html": [
       "<div>\n",
       "<style scoped>\n",
       "    .dataframe tbody tr th:only-of-type {\n",
       "        vertical-align: middle;\n",
       "    }\n",
       "\n",
       "    .dataframe tbody tr th {\n",
       "        vertical-align: top;\n",
       "    }\n",
       "\n",
       "    .dataframe thead th {\n",
       "        text-align: right;\n",
       "    }\n",
       "</style>\n",
       "<table border=\"1\" class=\"dataframe\">\n",
       "  <thead>\n",
       "    <tr style=\"text-align: right;\">\n",
       "      <th></th>\n",
       "      <th>ClosBtcEur</th>\n",
       "      <th>CloseGoog</th>\n",
       "      <th>CloseAmzn</th>\n",
       "      <th>CloseFb</th>\n",
       "      <th>CloseMsft</th>\n",
       "    </tr>\n",
       "    <tr>\n",
       "      <th>Date</th>\n",
       "      <th></th>\n",
       "      <th></th>\n",
       "      <th></th>\n",
       "      <th></th>\n",
       "      <th></th>\n",
       "    </tr>\n",
       "  </thead>\n",
       "  <tbody>\n",
       "    <tr>\n",
       "      <th>2021-01-02</th>\n",
       "      <td>10.377460</td>\n",
       "      <td>7.468445</td>\n",
       "      <td>8.088540</td>\n",
       "      <td>5.610058</td>\n",
       "      <td>5.404567</td>\n",
       "    </tr>\n",
       "    <tr>\n",
       "      <th>2021-01-03</th>\n",
       "      <td>10.397636</td>\n",
       "      <td>7.468445</td>\n",
       "      <td>8.088540</td>\n",
       "      <td>5.610058</td>\n",
       "      <td>5.404567</td>\n",
       "    </tr>\n",
       "    <tr>\n",
       "      <th>2021-01-04</th>\n",
       "      <td>10.372613</td>\n",
       "      <td>7.454859</td>\n",
       "      <td>8.066719</td>\n",
       "      <td>5.594488</td>\n",
       "      <td>5.383072</td>\n",
       "    </tr>\n",
       "    <tr>\n",
       "      <th>2021-01-05</th>\n",
       "      <td>10.433893</td>\n",
       "      <td>7.462169</td>\n",
       "      <td>8.076674</td>\n",
       "      <td>5.602008</td>\n",
       "      <td>5.384036</td>\n",
       "    </tr>\n",
       "    <tr>\n",
       "      <th>2021-01-06</th>\n",
       "      <td>10.455696</td>\n",
       "      <td>7.462169</td>\n",
       "      <td>8.076674</td>\n",
       "      <td>5.602008</td>\n",
       "      <td>5.384036</td>\n",
       "    </tr>\n",
       "  </tbody>\n",
       "</table>\n",
       "</div>"
      ],
      "text/plain": [
       "            ClosBtcEur  CloseGoog  CloseAmzn   CloseFb  CloseMsft\n",
       "Date                                                             \n",
       "2021-01-02   10.377460   7.468445   8.088540  5.610058   5.404567\n",
       "2021-01-03   10.397636   7.468445   8.088540  5.610058   5.404567\n",
       "2021-01-04   10.372613   7.454859   8.066719  5.594488   5.383072\n",
       "2021-01-05   10.433893   7.462169   8.076674  5.602008   5.384036\n",
       "2021-01-06   10.455696   7.462169   8.076674  5.602008   5.384036"
      ]
     },
     "execution_count": 38,
     "metadata": {},
     "output_type": "execute_result"
    }
   ],
   "source": [
    "df_combinado_log.tail() "
   ]
  },
  {
   "cell_type": "markdown",
   "metadata": {},
   "source": [
    "# ¿Cuántos rezagos usar?\n",
    "\n",
    "Dado que el objetivo del proyecot es predecir los precios de cierre de Bitcoins, en función de los precios de cierre de las empresas de tecnología seleccionadas, tendremos que determinar primero con cuantos periodos de rezagos debemos trabajar, esto es si queremos saber el precio de cierre del Bitcoins en el período t, la idea sería tomar los precios de cierre en los períodos anteriores (t-1, t-2, t-2, t-4...t-k) que son conocidos al momento de hacer la predicción.\n",
    "\n",
    "Los siguientes pasos modificaran el dataframe, para lograr esta estructura para modelar\n",
    "\n",
    "Trabajaremos con el dataframe transformado en logarítmos"
   ]
  },
  {
   "cell_type": "code",
   "execution_count": 39,
   "metadata": {},
   "outputs": [
    {
     "name": "stdout",
     "output_type": "stream",
     "text": [
      "Número de filas del dataframe original:  2304\n",
      "Número de filas del dataframe transformado en logaritmos:  2304\n"
     ]
    }
   ],
   "source": [
    "print(\"Número de filas del dataframe original: \",df_combinado.shape[0])\n",
    "print(\"Número de filas del dataframe transformado en logaritmos: \",df_combinado_log.shape[0])\n"
   ]
  },
  {
   "cell_type": "code",
   "execution_count": 40,
   "metadata": {},
   "outputs": [
    {
     "name": "stdout",
     "output_type": "stream",
     "text": [
      "Matriz de correlaciones del dataframe en logaritmos\n",
      "\n",
      "            ClosBtcEur  CloseGoog  CloseAmzn   CloseFb  CloseMsft\n",
      "ClosBtcEur    1.000000   0.939073   0.926605  0.934863   0.907827\n",
      "CloseGoog     0.939073   1.000000   0.980698  0.973778   0.960315\n",
      "CloseAmzn     0.926605   0.980698   1.000000  0.957867   0.958233\n",
      "CloseFb       0.934863   0.973778   0.957867  1.000000   0.920217\n",
      "CloseMsft     0.907827   0.960315   0.958233  0.920217   1.000000\n",
      "\n"
     ]
    }
   ],
   "source": [
    "# Matriz de correlaciones del dataframe en logaritmos y en diferencias de logaritmos\n",
    "\n",
    "print(\"Matriz de correlaciones del dataframe en logaritmos\")\n",
    "print()\n",
    "print(df_combinado_log.corr())\n",
    "print()"
   ]
  },
  {
   "cell_type": "code",
   "execution_count": 41,
   "metadata": {},
   "outputs": [],
   "source": [
    "# Con estas dos funciones se generan los datos al número de rezagos que se quiera modelar\n",
    "\n",
    "def rezagos_y(df, rezagos):\n",
    "    y = df.iloc[0:df_combinado.shape[0]-rezagos]\n",
    "    return y\n",
    "\n",
    "def rezagos_X(df, rezagos):\n",
    "    X = df.iloc[rezagos:df_combinado.shape[0]]\n",
    "    return X"
   ]
  },
  {
   "cell_type": "code",
   "execution_count": 42,
   "metadata": {},
   "outputs": [],
   "source": [
    "# Separación de los datasets de entrenamiento y prueba para los rezagos desede i= 1...7\n",
    "\n",
    "y = df_combinado_log.iloc[:,0]\n",
    "X = df_combinado_log.loc[:,['CloseGoog','CloseAmzn','CloseFb','CloseMsft']]\n",
    "y_list = []\n",
    "X_list = []\n",
    "\n",
    "for i in range(1,8):\n",
    "    y_rezagos = rezagos_y(y,i)\n",
    "    y_list.append(y_rezagos)\n",
    "    X_rezagos =rezagos_X(X,i)\n",
    "    X_list.append(X_rezagos)"
   ]
  },
  {
   "cell_type": "code",
   "execution_count": 43,
   "metadata": {},
   "outputs": [],
   "source": [
    "# Librerias para correr Regresión - Un Rezago\n",
    "from sklearn.model_selection import train_test_split\n",
    "from sklearn import linear_model\n",
    "from sklearn.metrics import mean_squared_error, r2_score\n",
    "from sklearn.preprocessing import StandardScaler\n",
    "\n",
    "#Listas donde se va a guardar el error cuadrático medio y el coeficiente de determinación de cada uno de los modelos\n",
    "EcmTrainRegMult = []\n",
    "R2_TrainRegMult = []\n",
    "EcmTestRegMult = []\n",
    "R2_TestRegMult = []\n",
    "X_trainStand = []\n",
    "y_trainStand = []\n",
    "X_testStand = []\n",
    "y_testStand =[]\n",
    "predTest =[]\n",
    "\n",
    "\n",
    "#Entrenamiento del algoritmode regresión lineal múltiple para los modelos con rezagos desde 1 hasta 7\n",
    "for i in range(7):\n",
    "    #Se estandarizan los datos por las variciones en las magnitudes,\n",
    "    #aún cuando todas las variables están en la misma escacal (log(USD))\n",
    "\n",
    "    y =y_list[i].values\n",
    "    y =y.reshape(-1,1)\n",
    "    X = X_list[i]\n",
    "    sc_X = StandardScaler()\n",
    "    sc_y = StandardScaler()\n",
    "    X = sc_X.fit_transform(X)\n",
    "    y = sc_y.fit_transform(y)\n",
    "    \n",
    "\n",
    "    \n",
    "    X_train, X_test, y_train, y_test = train_test_split(X, y, test_size = 0.3, random_state=1964)\n",
    "    #Actualizar lista con DF estandarizados\n",
    "    X_trainStand.append(X_train)\n",
    "    y_trainStand.append(y_train)\n",
    "    X_testStand.append(X_test)\n",
    "    y_testStand.append(y_test)\n",
    "    # Estimación de los modelos\n",
    "    modeloRLineal = linear_model.LinearRegression()\n",
    "    modeloRLineal.fit(X_train, y_train)\n",
    "    # Predicciones con los datos de entrenamiento\n",
    "    y_predTrain= modeloRLineal.predict(X_train)\n",
    "    \n",
    "    ErrorCueadraticoMedioTrain = mean_squared_error(y_train, y_predTrain)\n",
    "    EcmTrainRegMult.append(ErrorCueadraticoMedioTrain)\n",
    "    R2_Train = r2_score(y_train, y_predTrain)\n",
    "    R2_TrainRegMult.append(R2_Train)\n",
    "\n",
    "    #Validación del algoritmo de regresión lineal múltiple para los modelos con rezagos desde 1 hasta 7\n",
    "    \n",
    "    # Predicciones sobre el conjunto de prueba\n",
    "    y_predTest = modeloRLineal.predict(X_test)\n",
    "    predTest.append(y_predTest)\n",
    "    ErrorCuadraticoMedioTest = mean_squared_error(y_test, y_predTest)\n",
    "    EcmTestRegMult.append(ErrorCuadraticoMedioTest)\n",
    "    R2_Test = r2_score(y_test, y_predTest)\n",
    "    R2_TestRegMult.append(R2_Test)"
   ]
  },
  {
   "cell_type": "code",
   "execution_count": 44,
   "metadata": {},
   "outputs": [],
   "source": [
    "import sklearn.svm as svm\n",
    "\n",
    "\n",
    "#Listas donde se va a guardar el error cuadrático medio y el coeficiente de determinación de cada uno de los modelos\n",
    "\n",
    "kernel = ['linear', 'poly', 'rbf']\n",
    "\n",
    "# SVM - kernel lineal\n",
    "EcmTrainSVR_Klinear = []\n",
    "R2_TrainSVR_Klinear = []\n",
    "EcmTestSVR_Klinear = []\n",
    "R2_TestSVR_Klinear = []\n",
    "predTestSVR_Klinear =[]\n",
    "\n",
    "# SVM - kernel Polinómico\n",
    "EcmTrainSVR_Kpoly = []\n",
    "R2_TrainSVR_Kpoly = []\n",
    "EcmTestSVR_Kpoly = []\n",
    "R2_TestSVR_Kpoly = []\n",
    "predTestSVR_Kpoly =[]\n",
    "\n",
    "# SVM - kernel rbf\n",
    "\n",
    "EcmTrainSVR_Krbf = []\n",
    "R2_TrainSVR_Krbf = []\n",
    "EcmTestSVR_Krbf = []\n",
    "R2_TestSVR_Krbf = []\n",
    "predTestSVR_Krbf =[]"
   ]
  },
  {
   "cell_type": "code",
   "execution_count": 45,
   "metadata": {},
   "outputs": [
    {
     "name": "stderr",
     "output_type": "stream",
     "text": [
      "C:\\Users\\rmoli\\Anaconda3\\envs\\ITT_BigData\\lib\\site-packages\\sklearn\\utils\\validation.py:72: DataConversionWarning: A column-vector y was passed when a 1d array was expected. Please change the shape of y to (n_samples, ), for example using ravel().\n",
      "  return f(**kwargs)\n",
      "C:\\Users\\rmoli\\Anaconda3\\envs\\ITT_BigData\\lib\\site-packages\\sklearn\\utils\\validation.py:72: DataConversionWarning: A column-vector y was passed when a 1d array was expected. Please change the shape of y to (n_samples, ), for example using ravel().\n",
      "  return f(**kwargs)\n",
      "C:\\Users\\rmoli\\Anaconda3\\envs\\ITT_BigData\\lib\\site-packages\\sklearn\\utils\\validation.py:72: DataConversionWarning: A column-vector y was passed when a 1d array was expected. Please change the shape of y to (n_samples, ), for example using ravel().\n",
      "  return f(**kwargs)\n",
      "C:\\Users\\rmoli\\Anaconda3\\envs\\ITT_BigData\\lib\\site-packages\\sklearn\\utils\\validation.py:72: DataConversionWarning: A column-vector y was passed when a 1d array was expected. Please change the shape of y to (n_samples, ), for example using ravel().\n",
      "  return f(**kwargs)\n",
      "C:\\Users\\rmoli\\Anaconda3\\envs\\ITT_BigData\\lib\\site-packages\\sklearn\\utils\\validation.py:72: DataConversionWarning: A column-vector y was passed when a 1d array was expected. Please change the shape of y to (n_samples, ), for example using ravel().\n",
      "  return f(**kwargs)\n",
      "C:\\Users\\rmoli\\Anaconda3\\envs\\ITT_BigData\\lib\\site-packages\\sklearn\\utils\\validation.py:72: DataConversionWarning: A column-vector y was passed when a 1d array was expected. Please change the shape of y to (n_samples, ), for example using ravel().\n",
      "  return f(**kwargs)\n",
      "C:\\Users\\rmoli\\Anaconda3\\envs\\ITT_BigData\\lib\\site-packages\\sklearn\\utils\\validation.py:72: DataConversionWarning: A column-vector y was passed when a 1d array was expected. Please change the shape of y to (n_samples, ), for example using ravel().\n",
      "  return f(**kwargs)\n",
      "C:\\Users\\rmoli\\Anaconda3\\envs\\ITT_BigData\\lib\\site-packages\\sklearn\\utils\\validation.py:72: DataConversionWarning: A column-vector y was passed when a 1d array was expected. Please change the shape of y to (n_samples, ), for example using ravel().\n",
      "  return f(**kwargs)\n",
      "C:\\Users\\rmoli\\Anaconda3\\envs\\ITT_BigData\\lib\\site-packages\\sklearn\\utils\\validation.py:72: DataConversionWarning: A column-vector y was passed when a 1d array was expected. Please change the shape of y to (n_samples, ), for example using ravel().\n",
      "  return f(**kwargs)\n",
      "C:\\Users\\rmoli\\Anaconda3\\envs\\ITT_BigData\\lib\\site-packages\\sklearn\\utils\\validation.py:72: DataConversionWarning: A column-vector y was passed when a 1d array was expected. Please change the shape of y to (n_samples, ), for example using ravel().\n",
      "  return f(**kwargs)\n",
      "C:\\Users\\rmoli\\Anaconda3\\envs\\ITT_BigData\\lib\\site-packages\\sklearn\\utils\\validation.py:72: DataConversionWarning: A column-vector y was passed when a 1d array was expected. Please change the shape of y to (n_samples, ), for example using ravel().\n",
      "  return f(**kwargs)\n",
      "C:\\Users\\rmoli\\Anaconda3\\envs\\ITT_BigData\\lib\\site-packages\\sklearn\\utils\\validation.py:72: DataConversionWarning: A column-vector y was passed when a 1d array was expected. Please change the shape of y to (n_samples, ), for example using ravel().\n",
      "  return f(**kwargs)\n",
      "C:\\Users\\rmoli\\Anaconda3\\envs\\ITT_BigData\\lib\\site-packages\\sklearn\\utils\\validation.py:72: DataConversionWarning: A column-vector y was passed when a 1d array was expected. Please change the shape of y to (n_samples, ), for example using ravel().\n",
      "  return f(**kwargs)\n",
      "C:\\Users\\rmoli\\Anaconda3\\envs\\ITT_BigData\\lib\\site-packages\\sklearn\\utils\\validation.py:72: DataConversionWarning: A column-vector y was passed when a 1d array was expected. Please change the shape of y to (n_samples, ), for example using ravel().\n",
      "  return f(**kwargs)\n",
      "C:\\Users\\rmoli\\Anaconda3\\envs\\ITT_BigData\\lib\\site-packages\\sklearn\\utils\\validation.py:72: DataConversionWarning: A column-vector y was passed when a 1d array was expected. Please change the shape of y to (n_samples, ), for example using ravel().\n",
      "  return f(**kwargs)\n",
      "C:\\Users\\rmoli\\Anaconda3\\envs\\ITT_BigData\\lib\\site-packages\\sklearn\\utils\\validation.py:72: DataConversionWarning: A column-vector y was passed when a 1d array was expected. Please change the shape of y to (n_samples, ), for example using ravel().\n",
      "  return f(**kwargs)\n",
      "C:\\Users\\rmoli\\Anaconda3\\envs\\ITT_BigData\\lib\\site-packages\\sklearn\\utils\\validation.py:72: DataConversionWarning: A column-vector y was passed when a 1d array was expected. Please change the shape of y to (n_samples, ), for example using ravel().\n",
      "  return f(**kwargs)\n",
      "C:\\Users\\rmoli\\Anaconda3\\envs\\ITT_BigData\\lib\\site-packages\\sklearn\\utils\\validation.py:72: DataConversionWarning: A column-vector y was passed when a 1d array was expected. Please change the shape of y to (n_samples, ), for example using ravel().\n",
      "  return f(**kwargs)\n",
      "C:\\Users\\rmoli\\Anaconda3\\envs\\ITT_BigData\\lib\\site-packages\\sklearn\\utils\\validation.py:72: DataConversionWarning: A column-vector y was passed when a 1d array was expected. Please change the shape of y to (n_samples, ), for example using ravel().\n",
      "  return f(**kwargs)\n",
      "C:\\Users\\rmoli\\Anaconda3\\envs\\ITT_BigData\\lib\\site-packages\\sklearn\\utils\\validation.py:72: DataConversionWarning: A column-vector y was passed when a 1d array was expected. Please change the shape of y to (n_samples, ), for example using ravel().\n",
      "  return f(**kwargs)\n",
      "C:\\Users\\rmoli\\Anaconda3\\envs\\ITT_BigData\\lib\\site-packages\\sklearn\\utils\\validation.py:72: DataConversionWarning: A column-vector y was passed when a 1d array was expected. Please change the shape of y to (n_samples, ), for example using ravel().\n",
      "  return f(**kwargs)\n"
     ]
    }
   ],
   "source": [
    "# Entrenamiento preduicción correspondiete a los modelos SVM\n",
    "\n",
    "for k in range(len(kernel)):\n",
    "    for i in range(7):\n",
    "        if kernel[k] == \"linear\":\n",
    "            # Entrenamiento SVM - Kernel lieal\n",
    "            modeloSVR_Klinear = svm.SVR(kernel=kernel[k], gamma='auto')\n",
    "            modeloSVR_Klinear.fit(X_trainStand[i], y_trainStand[i])\n",
    "            # Predicciones con los datos de entrenamiento\n",
    "            y_predTrain= modeloSVR_Klinear.predict(X_trainStand[i])\n",
    "            \n",
    "            # Cálculo de las medidas de ajuste del algoritmo conjunto de entrenamiento\n",
    "            ErrorCueadraticoMedioTrain = mean_squared_error(y_trainStand[i], y_predTrain)\n",
    "            EcmTrainSVR_Klinear.append(ErrorCueadraticoMedioTrain)\n",
    "            R2_Train = r2_score(y_trainStand[i], y_predTrain)\n",
    "            R2_TrainSVR_Klinear.append(R2_Train)\n",
    "            \n",
    "            # Predicciones sobre el conjunto de prueba\n",
    "            y_predTest = modeloSVR_Klinear.predict(X_testStand[i])\n",
    "            predTestSVR_Klinear.append(y_predTest)\n",
    "           \n",
    "            # Cálculo de las medidas de ajuste del algoritmo conjunto de entrenamiento\n",
    "            ErrorCuadraticoMedioTest = mean_squared_error(y_testStand[i], y_predTest)\n",
    "            EcmTestSVR_Klinear.append(ErrorCuadraticoMedioTest)\n",
    "            R2_Test = r2_score(y_testStand[i], y_predTest)\n",
    "            R2_TestSVR_Klinear.append(R2_Test)\n",
    "\n",
    "        elif kernel[k] == \"poly\":\n",
    "            # Entrenamiento SVM - Kernel polinómico\n",
    "            modeloSVR_Kpoly = svm.SVR(kernel=kernel[k], gamma='auto')\n",
    "            modeloSVR_Kpoly.fit(X_trainStand[i], y_trainStand[i])\n",
    "            # Predicciones con los datos de entrenamiento\n",
    "            y_predTrain= modeloSVR_Kpoly.predict(X_trainStand[i])\n",
    "\n",
    "            # Cálculo de las medidas de ajuste del algoritmo\n",
    "            ErrorCueadraticoMedioTrain = mean_squared_error(y_trainStand[i], y_predTrain)\n",
    "            EcmTrainSVR_Kpoly.append(ErrorCueadraticoMedioTrain)\n",
    "            R2_Train = r2_score(y_trainStand[i], y_predTrain)\n",
    "            R2_TrainSVR_Kpoly.append(R2_Train)\n",
    "            \n",
    "            # Predicciones sobre el conjunto de prueba\n",
    "            y_predTest = modeloSVR_Kpoly.predict(X_testStand[i])\n",
    "            predTestSVR_Kpoly.append(y_predTest)\n",
    "            \n",
    "            # Cálculo de las medidas de ajuste del algoritmo conjunto de entrenamiento\n",
    "            ErrorCuadraticoMedioTest = mean_squared_error(y_testStand[i], y_predTest)\n",
    "            EcmTestSVR_Kpoly.append(ErrorCuadraticoMedioTest)\n",
    "            R2_Test = r2_score(y_testStand[i], y_predTest)\n",
    "            R2_TestSVR_Kpoly.append(R2_Test)\n",
    "\n",
    "        else:\n",
    "            # Entrenamiento SVM - Kernel rbf\n",
    "            modeloSVR_Krbf = svm.SVR(kernel=kernel[k], gamma='auto')\n",
    "            modeloSVR_Krbf.fit(X_trainStand[i], y_trainStand[i])\n",
    "            # Predicciones con los datos de entrenamiento\n",
    "            y_predTrain= modeloSVR_Krbf.predict(X_trainStand[i])\n",
    "\n",
    "            # Cálculo de las medidas de ajuste del algoritmo\n",
    "            ErrorCueadraticoMedioTrain = mean_squared_error(y_trainStand[i], y_predTrain)\n",
    "            EcmTrainSVR_Krbf.append(ErrorCueadraticoMedioTrain)\n",
    "            R2_Train = r2_score(y_trainStand[i], y_predTrain)\n",
    "            R2_TrainSVR_Krbf.append(R2_Train)\n",
    "            \n",
    "            # Predicciones sobre el conjunto de prueba\n",
    "            y_predTest = modeloSVR_Krbf.predict(X_testStand[i])\n",
    "            predTestSVR_Krbf.append(y_predTest)\n",
    "            \n",
    "            # Cálculo de las medidas de ajuste del algoritmo conjunto de entrenamiento\n",
    "            ErrorCuadraticoMedioTest = mean_squared_error(y_testStand[i], y_predTest)\n",
    "            EcmTestSVR_Krbf.append(ErrorCuadraticoMedioTest)\n",
    "            R2_Test = r2_score(y_testStand[i], y_predTest)\n",
    "            R2_TestSVR_Krbf.append(R2_Test)\n"
   ]
  },
  {
   "cell_type": "code",
   "execution_count": 46,
   "metadata": {},
   "outputs": [
    {
     "name": "stdout",
     "output_type": "stream",
     "text": [
      "=====================================================================================================\n",
      "Resumen de los modelos de Regresión corrido para los rezagos de 1 hasta siete:\n",
      "\n",
      "El menor Error Cuadrático Medio en los datos de entreanamientos es: 0.1059\n",
      "Corresponde al modelo con:  1  Rezago(s)\n",
      "\n",
      "El mayor Coeficiente de determinación (R2) en los datos de entreanamientos es: 0.8924\n",
      "Corresponde al modelo con:  1  Rezago(s)\n",
      "\n",
      "El menor Error Cuadrático Medio en los datos de prueba es: 0.1094\n",
      "Corresponde al modelo con:  4  Rezago(s)\n",
      "\n",
      "El mayor Coeficiente de determinación (R2) en los datos de prueba es: 0.8918\n",
      "Corresponde al modelo con:  4  Rezago(s)\n",
      "=====================================================================================================\n",
      "Resumen de los modelos de SVM -Kernel linear , corrido para los rezagos de 1 hasta siete:\n",
      "\n",
      "El menor Error Cuadrático Medio en los datos de entreanamientos es: 0.112\n",
      "Corresponde al modelo con:  1  Rezago(s)\n",
      "\n",
      "El mayor Coeficiente de determinación (R2) en los datos de entreanamientos es: 0.8861\n",
      "Corresponde al modelo con:  1  Rezago(s)\n",
      "\n",
      "El menor Error Cuadrático Medio en los datos de prueba es: 0.1156\n",
      "Corresponde al modelo con:  3  Rezago(s)\n",
      "\n",
      "El mayor Coeficiente de determinación (R2) en los datos de prueba es: 0.8867\n",
      "Corresponde al modelo con:  3  Rezago(s)\n",
      "=====================================================================================================\n",
      "Resumen de los modelos de SVM -Kernel poly , corrido para los rezagos de 1 hasta siete:\n",
      "\n",
      "El menor Error Cuadrático Medio en los datos de entreanamientos es: 0.3554\n",
      "Corresponde al modelo con:  3  Rezago(s)\n",
      "\n",
      "El mayor Coeficiente de determinación (R2) en los datos de entreanamientos es: 0.6412\n",
      "Corresponde al modelo con:  3  Rezago(s)\n",
      "\n",
      "El menor Error Cuadrático Medio en los datos de prueba es: 0.352\n",
      "Corresponde al modelo con:  5  Rezago(s)\n",
      "\n",
      "El mayor Coeficiente de determinación (R2) en los datos de prueba es: 0.6547\n",
      "Corresponde al modelo con:  2  Rezago(s)\n",
      "=====================================================================================================\n",
      "Resumen de los modelos de SVM -Kernel rbf , corrido para los rezagos de 1 hasta siete:\n",
      "\n",
      "El menor Error Cuadrático Medio en los datos de entreanamientos es: 0.0192\n",
      "Corresponde al modelo con:  1  Rezago(s)\n",
      "\n",
      "El mayor Coeficiente de determinación (R2) en los datos de entreanamientos es: 0.9805\n",
      "Corresponde al modelo con:  1  Rezago(s)\n",
      "\n",
      "El menor Error Cuadrático Medio en los datos de prueba es: 0.0185\n",
      "Corresponde al modelo con:  4  Rezago(s)\n",
      "\n",
      "El mayor Coeficiente de determinación (R2) en los datos de prueba es: 0.9817\n",
      "Corresponde al modelo con:  4  Rezago(s)\n"
     ]
    }
   ],
   "source": [
    "'''A continuación se imprimen el ajuste de los 28 modelos corridos a saber:\n",
    "    1.- Siete modelos de Regresión Múltiple.\n",
    "    2.- Siete modelos de Máquina de Soporte Vectorial, con kernel Lineal.\n",
    "    3.- Siete modelos de Máquina de Soporte Vectorial, con kernel Polinómico.\n",
    "    4.- Siete modelos de Máquina de Soporte Vectorial, con kernel Radial.'''\n",
    "\n",
    "print(\"=====================================================================================================\")\n",
    "print(\"Resumen de los modelos de Regresión corrido para los rezagos de 1 hasta siete:\")\n",
    "print()\n",
    "print(\"El menor Error Cuadrático Medio en los datos de entreanamientos es:\", round(np.min(EcmTrainRegMult), 4))\n",
    "print(\"Corresponde al modelo con: \",EcmTrainRegMult.index(np.min(EcmTrainRegMult))+1,\" Rezago(s)\")\n",
    "print()\n",
    "print(\"El mayor Coeficiente de determinación (R2) en los datos de entreanamientos es:\", round(np.max(R2_TrainRegMult), 4))\n",
    "print(\"Corresponde al modelo con: \",R2_TrainRegMult.index(np.max(R2_TrainRegMult))+1,\" Rezago(s)\")\n",
    "print()\n",
    "print(\"El menor Error Cuadrático Medio en los datos de prueba es:\", round(np.min(EcmTestRegMult), 4))\n",
    "print(\"Corresponde al modelo con: \",EcmTestRegMult.index(np.min(EcmTestRegMult))+1,\" Rezago(s)\")\n",
    "print()\n",
    "print(\"El mayor Coeficiente de determinación (R2) en los datos de prueba es:\", round(np.max(R2_TestRegMult), 4))\n",
    "print(\"Corresponde al modelo con: \",R2_TestRegMult.index(np.max(R2_TestRegMult))+1,\" Rezago(s)\")\n",
    "\n",
    "\n",
    "\n",
    "for k in range(len(kernel)):\n",
    "    print(\"=====================================================================================================\")\n",
    "    print(\"Resumen de los modelos de SVM -Kernel\", kernel[k], \", corrido para los rezagos de 1 hasta siete:\")\n",
    "    print()\n",
    "    \n",
    "    if kernel[k] == 'linear':\n",
    "        print(\"El menor Error Cuadrático Medio en los datos de entreanamientos es:\", round(np.min(EcmTrainSVR_Klinear), 4))\n",
    "        print(\"Corresponde al modelo con: \",EcmTrainSVR_Klinear.index(np.min(EcmTrainSVR_Klinear))+1,\" Rezago(s)\")\n",
    "        print()\n",
    "        print(\"El mayor Coeficiente de determinación (R2) en los datos de entreanamientos es:\", round(np.max(R2_TrainSVR_Klinear), 4))\n",
    "        print(\"Corresponde al modelo con: \",R2_TrainSVR_Klinear.index(np.max(R2_TrainSVR_Klinear))+1,\" Rezago(s)\")\n",
    "        print()\n",
    "        print(\"El menor Error Cuadrático Medio en los datos de prueba es:\", round(np.min(EcmTestSVR_Klinear), 4))\n",
    "        print(\"Corresponde al modelo con: \",EcmTestSVR_Klinear.index(np.min(EcmTestSVR_Klinear))+1,\" Rezago(s)\")\n",
    "        print()\n",
    "        print(\"El mayor Coeficiente de determinación (R2) en los datos de prueba es:\", round(np.max(R2_TestSVR_Klinear), 4))\n",
    "        print(\"Corresponde al modelo con: \",R2_TestSVR_Klinear.index(np.max(R2_TestSVR_Klinear))+1,\" Rezago(s)\")\n",
    "        \n",
    "    elif kernel[k] == 'poly':\n",
    "        print(\"El menor Error Cuadrático Medio en los datos de entreanamientos es:\", round(np.min(EcmTrainSVR_Kpoly), 4))\n",
    "        print(\"Corresponde al modelo con: \",EcmTrainSVR_Kpoly.index(np.min(EcmTrainSVR_Kpoly))+1,\" Rezago(s)\")\n",
    "        print()\n",
    "        print(\"El mayor Coeficiente de determinación (R2) en los datos de entreanamientos es:\", round(np.max(R2_TrainSVR_Kpoly), 4))\n",
    "        print(\"Corresponde al modelo con: \",R2_TrainSVR_Kpoly.index(np.max(R2_TrainSVR_Kpoly))+1,\" Rezago(s)\")\n",
    "        print()\n",
    "        print(\"El menor Error Cuadrático Medio en los datos de prueba es:\", round(np.min(EcmTestSVR_Kpoly), 4))\n",
    "        print(\"Corresponde al modelo con: \",EcmTestSVR_Kpoly.index(np.min(EcmTestSVR_Kpoly))+1,\" Rezago(s)\")\n",
    "        print()\n",
    "        print(\"El mayor Coeficiente de determinación (R2) en los datos de prueba es:\", round(np.max(R2_TestSVR_Kpoly), 4))\n",
    "        print(\"Corresponde al modelo con: \",R2_TestSVR_Kpoly.index(np.max(R2_TestSVR_Kpoly))+1,\" Rezago(s)\")\n",
    "\n",
    "    else:\n",
    "        print(\"El menor Error Cuadrático Medio en los datos de entreanamientos es:\", round(np.min(EcmTrainSVR_Krbf), 4))\n",
    "        print(\"Corresponde al modelo con: \",EcmTrainSVR_Krbf.index(np.min(EcmTrainSVR_Krbf))+1,\" Rezago(s)\")\n",
    "        print()\n",
    "        print(\"El mayor Coeficiente de determinación (R2) en los datos de entreanamientos es:\", round(np.max(R2_TrainSVR_Krbf), 4))\n",
    "        print(\"Corresponde al modelo con: \",R2_TrainSVR_Krbf.index(np.max(R2_TrainSVR_Krbf))+1,\" Rezago(s)\")\n",
    "        print()\n",
    "        print(\"El menor Error Cuadrático Medio en los datos de prueba es:\", round(np.min(EcmTestSVR_Krbf), 4))\n",
    "        print(\"Corresponde al modelo con: \",EcmTestSVR_Krbf.index(np.min(EcmTestSVR_Krbf))+1,\" Rezago(s)\")\n",
    "        print()\n",
    "        print(\"El mayor Coeficiente de determinación (R2) en los datos de prueba es:\", round(np.max(R2_TestSVR_Krbf), 4))\n",
    "        print(\"Corresponde al modelo con: \",R2_TestSVR_Krbf.index(np.max(R2_TestSVR_Krbf))+1,\" Rezago(s)\")\n",
    "        \n",
    " "
   ]
  },
  {
   "cell_type": "markdown",
   "metadata": {},
   "source": [
    "# Selección del algoritmo\n",
    "\n",
    "De los indicadores de ajuste de los distintos modelos entrenados, se tiene que el que mejor resultados arroja tanto en los datos entrenamiento, como de pruebas es el **Algoritmo de Máquina de Soprte Vectorial, utilizando un Kernel Función de Base Radial**. Presenta el menor **Error Cuadrático Medio** tanto en los datos de prueba, como en los de validación con 0.0192 y 0.0185, respectivamente, siendo un 88% más bajos que los Errores cuadráticos medios correspondienent al algoritmo de Regresión Lineal, que fue el segundo en calidad.\n",
    "\n",
    "En cuanto al Coeficiente de determinaciónl los valores son de un ajueste del 98,05% y 98,17%, para el conjunto de entrenamiento y validación respectivamente. Esto es un 10,7% de mejoara en la capacidad predictiva, respecto al algoritmo que llegó en el segundo lugar.\n",
    "\n",
    "Con cuatro Rezagos"
   ]
  },
  {
   "cell_type": "code",
   "execution_count": 47,
   "metadata": {},
   "outputs": [
    {
     "data": {
      "image/png": "[encoded data removed]",
      "text/plain": [
       "<Figure size 432x288 with 1 Axes>"
      ]
     },
     "metadata": {
      "needs_background": "light"
     },
     "output_type": "display_data"
    }
   ],
   "source": [
    "ypos = ['ModeloMSV_Kernel_rbf 1 Rezago','ModeloMSV_Kernel_rbf 2 Rezagos','ModeloMSV_Kernel_rbf 3 Rezagos','ModeloMSV_Kernel_rbf 4 Rezagos',\n",
    "        'ModeloMSV_Kernel_rbf 5 Rezagos','ModeloMSV_Kernel_rbf 6 Rezagos','ModeloMSV_Kernel_rbf 7 Rezagos']\n",
    "\n",
    "\n",
    "plt.barh(ypos, EcmTrainSVR_Krbf, align='center', alpha=0.5)\n",
    "plt.title('Conjunto de Entrenamiento - Error Cuadrático Medio para cada uno de los modelos')\n",
    "plt.xlabel('Error Cuadrático Medio')\n",
    "plt.ylabel('Modelos')\n",
    "plt.xlim(0.0, .025)\n",
    "plt.show()"
   ]
  },
  {
   "cell_type": "code",
   "execution_count": 48,
   "metadata": {},
   "outputs": [
    {
     "data": {
      "image/png": "[encoded data removed]",
      "text/plain": [
       "<Figure size 432x288 with 1 Axes>"
      ]
     },
     "metadata": {
      "needs_background": "light"
     },
     "output_type": "display_data"
    }
   ],
   "source": [
    "plt.barh(ypos, R2_TrainSVR_Krbf, align='center', alpha=0.5)\n",
    "plt.title('Conjunto de Entrenamiento - Coeficiente de determinación para cada uno de los modelos')\n",
    "plt.xlabel('Coeficiente de determinación')\n",
    "plt.ylabel('Modelos')\n",
    "plt.xlim(0.9, 1)\n",
    "plt.show()"
   ]
  },
  {
   "cell_type": "code",
   "execution_count": 49,
   "metadata": {},
   "outputs": [
    {
     "data": {
      "image/png": "[encoded data removed]",
      "text/plain": [
       "<Figure size 432x288 with 1 Axes>"
      ]
     },
     "metadata": {
      "needs_background": "light"
     },
     "output_type": "display_data"
    }
   ],
   "source": [
    "plt.barh(ypos, EcmTestSVR_Krbf, align='center', alpha=0.5)\n",
    "plt.title('Conjunto de Entrenamiento - Error Cuadrático Medio para cada uno de los modelos')\n",
    "plt.xlabel('Error Cuadrático Medio')\n",
    "plt.ylabel('Modelos')\n",
    "plt.xlim(0.0, .025)\n",
    "plt.show()"
   ]
  },
  {
   "cell_type": "code",
   "execution_count": 50,
   "metadata": {},
   "outputs": [
    {
     "data": {
      "image/png": "[encoded data removed]",
      "text/plain": [
       "<Figure size 432x288 with 1 Axes>"
      ]
     },
     "metadata": {
      "needs_background": "light"
     },
     "output_type": "display_data"
    }
   ],
   "source": [
    "plt.barh(ypos, R2_TestSVR_Krbf, align='center', alpha=0.5)\n",
    "plt.title('Conjunto de Entrenamiento - Coeficiente de determinación para cada uno de los modelos')\n",
    "plt.xlabel('Coeficiente de determinación')\n",
    "plt.ylabel('Modelos')\n",
    "plt.xlim(0.9, 1)\n",
    "plt.show()"
   ]
  },
  {
   "cell_type": "code",
   "execution_count": 51,
   "metadata": {},
   "outputs": [],
   "source": [
    "#Cálculo de predicciones en términos de las unidades originales de las variables\n",
    "\n",
    "index = R2_TestSVR_Krbf.index(np.max(R2_TestSVR_Krbf))+1\n",
    "\n",
    "realBitcoinTest = np.exp(sc_y.inverse_transform(y_testStand[index]))\n",
    "precidccionesBitcoinTest = np.exp(sc_y.inverse_transform(predTestSVR_Krbf[index]))"
   ]
  },
  {
   "cell_type": "code",
   "execution_count": 52,
   "metadata": {},
   "outputs": [
    {
     "data": {
      "image/png": "[encoded data removed]",
      "text/plain": [
       "<Figure size 432x288 with 1 Axes>"
      ]
     },
     "metadata": {
      "needs_background": "light"
     },
     "output_type": "display_data"
    }
   ],
   "source": [
    "plt.plot(realBitcoinTest, label = \"Valores Reales\")\n",
    "plt.plot(precidccionesBitcoinTest, label = \"Predicciones\")\n",
    "plt.title(\"Conjunto de Validación - Valores Reales Vs Predichos por el algoritmo de Regresión Múltiple\")\n",
    "plt.legend()\n",
    "plt.show()"
   ]
  },
  {
   "cell_type": "code",
   "execution_count": 53,
   "metadata": {},
   "outputs": [
    {
     "name": "stderr",
     "output_type": "stream",
     "text": [
      "C:\\Users\\rmoli\\Anaconda3\\envs\\ITT_BigData\\lib\\site-packages\\seaborn\\distributions.py:2551: FutureWarning: `distplot` is a deprecated function and will be removed in a future version. Please adapt your code to use either `displot` (a figure-level function with similar flexibility) or `histplot` (an axes-level function for histograms).\n",
      "  warnings.warn(msg, FutureWarning)\n"
     ]
    },
    {
     "data": {
      "image/png": "[encoded data removed]",
      "text/plain": [
       "<Figure size 432x288 with 1 Axes>"
      ]
     },
     "metadata": {
      "needs_background": "light"
     },
     "output_type": "display_data"
    }
   ],
   "source": [
    "import seaborn as sns\n",
    "\n",
    "sns.distplot((realBitcoinTest - precidccionesBitcoinTest), bins = 50)\n",
    "plt.ylabel(\"Densidad\")\n",
    "plt.show()"
   ]
  },
  {
   "cell_type": "markdown",
   "metadata": {},
   "source": [
    "Para entrenar el modelo final, se corre el algoritmo seleccionado, en este caso el de SVR con Kernerl rbf, con cuatro (4) rezagos"
   ]
  },
  {
   "cell_type": "code",
   "execution_count": 54,
   "metadata": {},
   "outputs": [
    {
     "name": "stdout",
     "output_type": "stream",
     "text": [
      "============================================================================================\n",
      "\n",
      "El error cuadrático medio para el modelo final es: 0.0194\n",
      "\n",
      "El coeficiente de determinación(R2) para el modelo final es: 0.9806\n",
      "\n",
      "============================================================================================\n"
     ]
    },
    {
     "name": "stderr",
     "output_type": "stream",
     "text": [
      "C:\\Users\\rmoli\\Anaconda3\\envs\\ITT_BigData\\lib\\site-packages\\sklearn\\utils\\validation.py:72: DataConversionWarning: A column-vector y was passed when a 1d array was expected. Please change the shape of y to (n_samples, ), for example using ravel().\n",
      "  return f(**kwargs)\n"
     ]
    }
   ],
   "source": [
    "# Modelo final\n",
    "\n",
    "# 1.- Extracción de la información correspondiente a las variables y, X\n",
    "y_final = y_list[3]\n",
    "X_final = X_list[3]\n",
    "\n",
    "# 2.- Estandarización de todo el dataframe\n",
    "y_final = y_final.values\n",
    "y_final = y_final.reshape(-1,1)\n",
    "sc_X = StandardScaler()\n",
    "sc_y = StandardScaler()\n",
    "X_final = sc_X.fit_transform(X_final)\n",
    "y_final = sc_y.fit_transform(y_final)\n",
    "\n",
    "\n",
    "# Entrenamiento del modelo Final\n",
    "\n",
    "modeloSVR_Krbf_final = svm.SVR(kernel='rbf', gamma='auto')\n",
    "modeloSVR_Krbf_final.fit(X_final, y_final)\n",
    "\n",
    "# Predicciones con los datos de entrenamiento\n",
    "y_pred_final= modeloSVR_Krbf_final.predict(X_final)\n",
    "\n",
    "# Cálculo de las medidas de ajuste del algoritmo\n",
    "ErrorCueadraticoMedioFinal = mean_squared_error(y_final, y_pred_final)\n",
    "R2_Final = r2_score(y_final, y_pred_final)\n",
    "\n",
    "print(\"============================================================================================\")\n",
    "print()\n",
    "print(\"El error cuadrático medio para el modelo final es:\", round(ErrorCueadraticoMedioFinal,4))\n",
    "print()\n",
    "print(\"El coeficiente de determinación(R2) para el modelo final es:\", round(R2_Final,4))\n",
    "print()\n",
    "print(\"============================================================================================\")"
   ]
  },
  {
   "cell_type": "markdown",
   "metadata": {},
   "source": [
    "Las siguientes líneas de código guardan el modelo final entrenado para ser usado posteriormente con nuevos datos y no tener que pasar por todo el proceso "
   ]
  },
  {
   "cell_type": "code",
   "execution_count": 55,
   "metadata": {},
   "outputs": [
    {
     "data": {
      "text/plain": [
       "['modeloSVR_Krbf_final.pkl']"
      ]
     },
     "execution_count": 55,
     "metadata": {},
     "output_type": "execute_result"
    }
   ],
   "source": [
    "import joblib\n",
    "\n",
    "joblib.dump(sc_X, 'estandariza_X.pkl')\n",
    "joblib.dump(sc_y, 'estandariza_y.pkl')\n",
    "joblib.dump(modeloSVR_Krbf_final, 'modeloSVR_Krbf_final.pkl')"
   ]
  },
  {
   "cell_type": "code",
   "execution_count": 56,
   "metadata": {},
   "outputs": [
    {
     "name": "stdout",
     "output_type": "stream",
     "text": [
      "El tiempo de ejecucion (en segundos) fue: 10.886220693588257 segundos\n"
     ]
    }
   ],
   "source": [
    "fin = time() \n",
    " \n",
    "duracion_ejecucion_script = fin - inicio\n",
    " \n",
    "print('El tiempo de ejecucion (en segundos) fue:',duracion_ejecucion_script,'segundos') #En segundos"
   ]
  }
 ],
 "metadata": {
  "kernelspec": {
   "display_name": "Python 3",
   "language": "python",
   "name": "python3"
  },
  "language_info": {
   "codemirror_mode": {
    "name": "ipython",
    "version": 3
   },
   "file_extension": ".py",
   "mimetype": "text/x-python",
   "name": "python",
   "nbconvert_exporter": "python",
   "pygments_lexer": "ipython3",
   "version": "3.7.9"
  }
 },
 "nbformat": 4,
 "nbformat_minor": 4
}
