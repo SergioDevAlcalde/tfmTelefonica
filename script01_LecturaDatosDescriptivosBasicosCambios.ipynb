{
 "cells": [
  {
   "cell_type": "code",
   "execution_count": 446,
   "metadata": {},
   "outputs": [],
   "source": [
    "# importar bibliotécas de trabajo\n",
    "\n",
    "from time import time\n",
    "inicio = time()\n",
    "import pandas as pd"
   ]
  },
  {
   "cell_type": "code",
   "execution_count": 447,
   "metadata": {},
   "outputs": [],
   "source": [
    "# leer archivos de datos\n",
    "\n",
    "goog = getDataByOneCollection(\"tfmTelefonica\", \"Google\")\n",
    "\n",
    "fb = getDataByOneCollection(\"tfmTelefonica\", \"Facebook\")\n",
    "\n",
    "amzn = getDataByOneCollection(\"tfmTelefonica\", \"Amazon\")\n",
    "\n",
    "msft = getDataByOneCollection(\"tfmTelefonica\", \"Microsoft\")\n",
    "\n",
    "btc_usd = getDataByOneCollection(\"tfmTelefonica\", \"Bitcoin_USD\")\n",
    "\n",
    "#dias = pd.read_excel(\"D:\\\\datos\\\\Entrenamiento\\\\IntitutoTecnologicoTelefonica\\\\ProgramaSuperiorBigData\\\\Modulo_10_Proyecto\\\\DIAS.xlsx\")\n",
    "\n"
   ]
  },
  {
   "cell_type": "code",
   "execution_count": 435,
   "metadata": {},
   "outputs": [
    {
     "data": {
      "text/html": [
       "<div>\n",
       "<style scoped>\n",
       "    .dataframe tbody tr th:only-of-type {\n",
       "        vertical-align: middle;\n",
       "    }\n",
       "\n",
       "    .dataframe tbody tr th {\n",
       "        vertical-align: top;\n",
       "    }\n",
       "\n",
       "    .dataframe thead th {\n",
       "        text-align: right;\n",
       "    }\n",
       "</style>\n",
       "<table border=\"1\" class=\"dataframe\">\n",
       "  <thead>\n",
       "    <tr style=\"text-align: right;\">\n",
       "      <th></th>\n",
       "      <th>Company</th>\n",
       "      <th>Date</th>\n",
       "      <th>Open</th>\n",
       "      <th>High</th>\n",
       "      <th>Low</th>\n",
       "      <th>Close</th>\n",
       "      <th>Adj Close</th>\n",
       "      <th>Volume</th>\n",
       "    </tr>\n",
       "  </thead>\n",
       "  <tbody>\n",
       "    <tr>\n",
       "      <th>0</th>\n",
       "      <td>Google</td>\n",
       "      <td>2021-03-12</td>\n",
       "      <td>2085.00</td>\n",
       "      <td>2090.26</td>\n",
       "      <td>2047.55</td>\n",
       "      <td>2061.92</td>\n",
       "      <td>2061.92</td>\n",
       "      <td>1725000</td>\n",
       "    </tr>\n",
       "    <tr>\n",
       "      <th>1</th>\n",
       "      <td>Google</td>\n",
       "      <td>2021-03-11</td>\n",
       "      <td>2074.06</td>\n",
       "      <td>2125.70</td>\n",
       "      <td>2072.38</td>\n",
       "      <td>2114.77</td>\n",
       "      <td>2114.77</td>\n",
       "      <td>1238300</td>\n",
       "    </tr>\n",
       "    <tr>\n",
       "      <th>2</th>\n",
       "      <td>Google</td>\n",
       "      <td>2021-03-10</td>\n",
       "      <td>2071.76</td>\n",
       "      <td>2075.00</td>\n",
       "      <td>2033.37</td>\n",
       "      <td>2055.03</td>\n",
       "      <td>2055.03</td>\n",
       "      <td>1267800</td>\n",
       "    </tr>\n",
       "    <tr>\n",
       "      <th>3</th>\n",
       "      <td>Google</td>\n",
       "      <td>2021-03-09</td>\n",
       "      <td>2070.00</td>\n",
       "      <td>2078.04</td>\n",
       "      <td>2047.83</td>\n",
       "      <td>2052.70</td>\n",
       "      <td>2052.70</td>\n",
       "      <td>1696400</td>\n",
       "    </tr>\n",
       "    <tr>\n",
       "      <th>4</th>\n",
       "      <td>Google</td>\n",
       "      <td>2021-03-08</td>\n",
       "      <td>2101.13</td>\n",
       "      <td>2128.81</td>\n",
       "      <td>2021.61</td>\n",
       "      <td>2024.17</td>\n",
       "      <td>2024.17</td>\n",
       "      <td>1646000</td>\n",
       "    </tr>\n",
       "  </tbody>\n",
       "</table>\n",
       "</div>"
      ],
      "text/plain": [
       "  Company        Date     Open     High      Low    Close Adj Close   Volume\n",
       "0  Google  2021-03-12  2085.00  2090.26  2047.55  2061.92   2061.92  1725000\n",
       "1  Google  2021-03-11  2074.06  2125.70  2072.38  2114.77   2114.77  1238300\n",
       "2  Google  2021-03-10  2071.76  2075.00  2033.37  2055.03   2055.03  1267800\n",
       "3  Google  2021-03-09  2070.00  2078.04  2047.83  2052.70   2052.70  1696400\n",
       "4  Google  2021-03-08  2101.13  2128.81  2021.61  2024.17   2024.17  1646000"
      ]
     },
     "execution_count": 435,
     "metadata": {},
     "output_type": "execute_result"
    }
   ],
   "source": [
    "goog.head()"
   ]
  },
  {
   "cell_type": "code",
   "execution_count": 397,
   "metadata": {},
   "outputs": [
    {
     "data": {
      "text/plain": [
       "Company      object\n",
       "Date         object\n",
       "Open         object\n",
       "High         object\n",
       "Low          object\n",
       "Close        object\n",
       "Adj Close    object\n",
       "Volume       object\n",
       "dtype: object"
      ]
     },
     "execution_count": 397,
     "metadata": {},
     "output_type": "execute_result"
    }
   ],
   "source": [
    "amzn.dtypes"
   ]
  },
  {
   "cell_type": "code",
   "execution_count": 436,
   "metadata": {},
   "outputs": [
    {
     "data": {
      "text/html": [
       "<div>\n",
       "<style scoped>\n",
       "    .dataframe tbody tr th:only-of-type {\n",
       "        vertical-align: middle;\n",
       "    }\n",
       "\n",
       "    .dataframe tbody tr th {\n",
       "        vertical-align: top;\n",
       "    }\n",
       "\n",
       "    .dataframe thead th {\n",
       "        text-align: right;\n",
       "    }\n",
       "</style>\n",
       "<table border=\"1\" class=\"dataframe\">\n",
       "  <thead>\n",
       "    <tr style=\"text-align: right;\">\n",
       "      <th></th>\n",
       "      <th>Company</th>\n",
       "      <th>Date</th>\n",
       "      <th>Open</th>\n",
       "      <th>High</th>\n",
       "      <th>Low</th>\n",
       "      <th>Close</th>\n",
       "      <th>Adj Close</th>\n",
       "      <th>Volume</th>\n",
       "    </tr>\n",
       "  </thead>\n",
       "  <tbody>\n",
       "    <tr>\n",
       "      <th>0</th>\n",
       "      <td>Microsoft</td>\n",
       "      <td>2021-03-12</td>\n",
       "      <td>234.01</td>\n",
       "      <td>235.82</td>\n",
       "      <td>233.23</td>\n",
       "      <td>235.75</td>\n",
       "      <td>235.75</td>\n",
       "      <td>22647900</td>\n",
       "    </tr>\n",
       "    <tr>\n",
       "      <th>1</th>\n",
       "      <td>Microsoft</td>\n",
       "      <td>2021-03-11</td>\n",
       "      <td>234.96</td>\n",
       "      <td>239.17</td>\n",
       "      <td>234.31</td>\n",
       "      <td>237.13</td>\n",
       "      <td>237.13</td>\n",
       "      <td>29896000</td>\n",
       "    </tr>\n",
       "    <tr>\n",
       "      <th>2</th>\n",
       "      <td>Microsoft</td>\n",
       "      <td>2021-03-10</td>\n",
       "      <td>237.00</td>\n",
       "      <td>237.00</td>\n",
       "      <td>232.04</td>\n",
       "      <td>232.42</td>\n",
       "      <td>232.42</td>\n",
       "      <td>29733000</td>\n",
       "    </tr>\n",
       "    <tr>\n",
       "      <th>3</th>\n",
       "      <td>Microsoft</td>\n",
       "      <td>2021-03-09</td>\n",
       "      <td>232.88</td>\n",
       "      <td>235.38</td>\n",
       "      <td>231.67</td>\n",
       "      <td>233.78</td>\n",
       "      <td>233.78</td>\n",
       "      <td>33034000</td>\n",
       "    </tr>\n",
       "    <tr>\n",
       "      <th>4</th>\n",
       "      <td>Microsoft</td>\n",
       "      <td>2021-03-08</td>\n",
       "      <td>231.37</td>\n",
       "      <td>233.37</td>\n",
       "      <td>227.13</td>\n",
       "      <td>227.39</td>\n",
       "      <td>227.39</td>\n",
       "      <td>35245900</td>\n",
       "    </tr>\n",
       "  </tbody>\n",
       "</table>\n",
       "</div>"
      ],
      "text/plain": [
       "     Company        Date    Open    High     Low   Close Adj Close    Volume\n",
       "0  Microsoft  2021-03-12  234.01  235.82  233.23  235.75    235.75  22647900\n",
       "1  Microsoft  2021-03-11  234.96  239.17  234.31  237.13    237.13  29896000\n",
       "2  Microsoft  2021-03-10  237.00  237.00  232.04  232.42    232.42  29733000\n",
       "3  Microsoft  2021-03-09  232.88  235.38  231.67  233.78    233.78  33034000\n",
       "4  Microsoft  2021-03-08  231.37  233.37  227.13  227.39    227.39  35245900"
      ]
     },
     "execution_count": 436,
     "metadata": {},
     "output_type": "execute_result"
    }
   ],
   "source": [
    "msft.head()"
   ]
  },
  {
   "cell_type": "code",
   "execution_count": 399,
   "metadata": {},
   "outputs": [
    {
     "data": {
      "text/html": [
       "<div>\n",
       "<style scoped>\n",
       "    .dataframe tbody tr th:only-of-type {\n",
       "        vertical-align: middle;\n",
       "    }\n",
       "\n",
       "    .dataframe tbody tr th {\n",
       "        vertical-align: top;\n",
       "    }\n",
       "\n",
       "    .dataframe thead th {\n",
       "        text-align: right;\n",
       "    }\n",
       "</style>\n",
       "<table border=\"1\" class=\"dataframe\">\n",
       "  <thead>\n",
       "    <tr style=\"text-align: right;\">\n",
       "      <th></th>\n",
       "      <th>Company</th>\n",
       "      <th>Date</th>\n",
       "      <th>Open</th>\n",
       "      <th>High</th>\n",
       "      <th>Low</th>\n",
       "      <th>Close</th>\n",
       "      <th>Adj Close</th>\n",
       "      <th>Volume</th>\n",
       "    </tr>\n",
       "  </thead>\n",
       "  <tbody>\n",
       "    <tr>\n",
       "      <th>0</th>\n",
       "      <td>Facebook</td>\n",
       "      <td>2021-03-12</td>\n",
       "      <td>269.14</td>\n",
       "      <td>269.74</td>\n",
       "      <td>264.02</td>\n",
       "      <td>268.40</td>\n",
       "      <td>268.40</td>\n",
       "      <td>20590000</td>\n",
       "    </tr>\n",
       "    <tr>\n",
       "      <th>1</th>\n",
       "      <td>Facebook</td>\n",
       "      <td>2021-03-11</td>\n",
       "      <td>268.11</td>\n",
       "      <td>277.90</td>\n",
       "      <td>267.82</td>\n",
       "      <td>273.88</td>\n",
       "      <td>273.88</td>\n",
       "      <td>21816600</td>\n",
       "    </tr>\n",
       "    <tr>\n",
       "      <th>2</th>\n",
       "      <td>Facebook</td>\n",
       "      <td>2021-03-10</td>\n",
       "      <td>268.64</td>\n",
       "      <td>268.97</td>\n",
       "      <td>262.87</td>\n",
       "      <td>264.90</td>\n",
       "      <td>264.90</td>\n",
       "      <td>14197500</td>\n",
       "    </tr>\n",
       "    <tr>\n",
       "      <th>3</th>\n",
       "      <td>Facebook</td>\n",
       "      <td>2021-03-09</td>\n",
       "      <td>261.18</td>\n",
       "      <td>268.53</td>\n",
       "      <td>259.81</td>\n",
       "      <td>265.74</td>\n",
       "      <td>265.74</td>\n",
       "      <td>22018400</td>\n",
       "    </tr>\n",
       "    <tr>\n",
       "      <th>4</th>\n",
       "      <td>Facebook</td>\n",
       "      <td>2021-03-08</td>\n",
       "      <td>265.55</td>\n",
       "      <td>265.58</td>\n",
       "      <td>255.05</td>\n",
       "      <td>255.31</td>\n",
       "      <td>255.31</td>\n",
       "      <td>18372700</td>\n",
       "    </tr>\n",
       "  </tbody>\n",
       "</table>\n",
       "</div>"
      ],
      "text/plain": [
       "    Company        Date    Open    High     Low   Close Adj Close    Volume\n",
       "0  Facebook  2021-03-12  269.14  269.74  264.02  268.40    268.40  20590000\n",
       "1  Facebook  2021-03-11  268.11  277.90  267.82  273.88    273.88  21816600\n",
       "2  Facebook  2021-03-10  268.64  268.97  262.87  264.90    264.90  14197500\n",
       "3  Facebook  2021-03-09  261.18  268.53  259.81  265.74    265.74  22018400\n",
       "4  Facebook  2021-03-08  265.55  265.58  255.05  255.31    255.31  18372700"
      ]
     },
     "execution_count": 399,
     "metadata": {},
     "output_type": "execute_result"
    }
   ],
   "source": [
    "fb.head()"
   ]
  },
  {
   "cell_type": "code",
   "execution_count": 7,
   "metadata": {},
   "outputs": [
    {
     "data": {
      "text/html": [
       "<div>\n",
       "<style scoped>\n",
       "    .dataframe tbody tr th:only-of-type {\n",
       "        vertical-align: middle;\n",
       "    }\n",
       "\n",
       "    .dataframe tbody tr th {\n",
       "        vertical-align: top;\n",
       "    }\n",
       "\n",
       "    .dataframe thead th {\n",
       "        text-align: right;\n",
       "    }\n",
       "</style>\n",
       "<table border=\"1\" class=\"dataframe\">\n",
       "  <thead>\n",
       "    <tr style=\"text-align: right;\">\n",
       "      <th></th>\n",
       "      <th>Date</th>\n",
       "      <th>Open</th>\n",
       "      <th>High</th>\n",
       "      <th>Low</th>\n",
       "      <th>Close</th>\n",
       "      <th>Adj Close</th>\n",
       "      <th>Volume</th>\n",
       "    </tr>\n",
       "  </thead>\n",
       "  <tbody>\n",
       "    <tr>\n",
       "      <th>0</th>\n",
       "      <td>2014-09-17</td>\n",
       "      <td>465.864014</td>\n",
       "      <td>468.174011</td>\n",
       "      <td>452.421997</td>\n",
       "      <td>457.334015</td>\n",
       "      <td>457.334015</td>\n",
       "      <td>21056800</td>\n",
       "    </tr>\n",
       "    <tr>\n",
       "      <th>1</th>\n",
       "      <td>2014-09-18</td>\n",
       "      <td>456.859985</td>\n",
       "      <td>456.859985</td>\n",
       "      <td>413.104004</td>\n",
       "      <td>424.440002</td>\n",
       "      <td>424.440002</td>\n",
       "      <td>34483200</td>\n",
       "    </tr>\n",
       "    <tr>\n",
       "      <th>2</th>\n",
       "      <td>2014-09-19</td>\n",
       "      <td>424.102997</td>\n",
       "      <td>427.834991</td>\n",
       "      <td>384.532013</td>\n",
       "      <td>394.795990</td>\n",
       "      <td>394.795990</td>\n",
       "      <td>37919700</td>\n",
       "    </tr>\n",
       "    <tr>\n",
       "      <th>3</th>\n",
       "      <td>2014-09-20</td>\n",
       "      <td>394.673004</td>\n",
       "      <td>423.295990</td>\n",
       "      <td>389.882996</td>\n",
       "      <td>408.903992</td>\n",
       "      <td>408.903992</td>\n",
       "      <td>36863600</td>\n",
       "    </tr>\n",
       "    <tr>\n",
       "      <th>4</th>\n",
       "      <td>2014-09-21</td>\n",
       "      <td>408.084991</td>\n",
       "      <td>412.425995</td>\n",
       "      <td>393.181000</td>\n",
       "      <td>398.821014</td>\n",
       "      <td>398.821014</td>\n",
       "      <td>26580100</td>\n",
       "    </tr>\n",
       "  </tbody>\n",
       "</table>\n",
       "</div>"
      ],
      "text/plain": [
       "         Date        Open        High         Low       Close   Adj Close  \\\n",
       "0  2014-09-17  465.864014  468.174011  452.421997  457.334015  457.334015   \n",
       "1  2014-09-18  456.859985  456.859985  413.104004  424.440002  424.440002   \n",
       "2  2014-09-19  424.102997  427.834991  384.532013  394.795990  394.795990   \n",
       "3  2014-09-20  394.673004  423.295990  389.882996  408.903992  408.903992   \n",
       "4  2014-09-21  408.084991  412.425995  393.181000  398.821014  398.821014   \n",
       "\n",
       "     Volume  \n",
       "0  21056800  \n",
       "1  34483200  \n",
       "2  37919700  \n",
       "3  36863600  \n",
       "4  26580100  "
      ]
     },
     "execution_count": 7,
     "metadata": {},
     "output_type": "execute_result"
    }
   ],
   "source": [
    "btc_usd.head()"
   ]
  },
  {
   "cell_type": "code",
   "execution_count": 400,
   "metadata": {},
   "outputs": [],
   "source": [
    "#btc_usd['Date'] = pd.to_datetime(btc_usd['Date'], format ='%Y-%m-%d')"
   ]
  },
  {
   "cell_type": "code",
   "execution_count": 437,
   "metadata": {},
   "outputs": [
    {
     "data": {
      "text/plain": [
       "Date     object\n",
       "Close    object\n",
       "dtype: object"
      ]
     },
     "execution_count": 437,
     "metadata": {},
     "output_type": "execute_result"
    }
   ],
   "source": [
    "# Selección de los datos de interés\n",
    "\n",
    "\n",
    "goog_cierre = goog[[\"Date\",\"Close\"]]\n",
    "goog_cierre['Close'].astype('float64') \n",
    "\n",
    "fb_cierre = fb[[\"Date\",\"Close\"]]\n",
    "fb_cierre['Close'].astype('float64') \n",
    "\n",
    "\n",
    "amzn_cierre = amzn[[\"Date\",\"Close\"]]\n",
    "amzn_cierre['Close'].astype('float64') \n",
    "\n",
    "\n",
    "msft_cierre = msft[[\"Date\",\"Close\"]]\n",
    "msft_cierre['Close'].astype('float64') \n",
    "\n",
    "\n",
    "btc_usd_cierre = btc_usd[[\"Date\",\"Close\"]]\n",
    "btc_usd_cierre['Close'].astype('float64') \n",
    "\n",
    "btc_usd_cierre.dtypes\n",
    "\n"
   ]
  },
  {
   "cell_type": "code",
   "execution_count": 425,
   "metadata": {},
   "outputs": [],
   "source": [
    "# Renombrar columna de cierre de cada DataFrame, para que no se confundan al hacer el merge\n",
    "\n",
    "goog_cierre = goog_cierre.rename(columns = {\"Close\" : \"CloseGoog\"})\n",
    "fb_cierre = fb_cierre.rename(columns = {\"Close\" : \"CloseFb\"})\n",
    "amzn_cierre = amzn_cierre.rename(columns = {\"Close\" : \"CloseAmzn\"})\n",
    "msft_cierre = msft_cierre.rename(columns = {\"Close\" : \"CloseMsft\"})\n",
    "btc_usd_cierre = btc_usd_cierre.rename(columns = {\"Close\" : \"ClosBtcEur\"})\n",
    "\n",
    "# Establecer el índice en la columna Date para cada archivo\n",
    "\n",
    "goog_cierre.set_index('Date', inplace = True)\n",
    "\n",
    "fb_cierre.set_index('Date', inplace = True)\n",
    "\n",
    "amzn_cierre.set_index('Date', inplace = True)\n",
    "\n",
    "msft_cierre.set_index('Date', inplace = True)\n",
    "\n",
    "btc_usd_cierre.set_index('Date', inplace = True)\n",
    "\n"
   ]
  },
  {
   "cell_type": "code",
   "execution_count": 426,
   "metadata": {},
   "outputs": [
    {
     "data": {
      "text/plain": [
       "CloseGoog    object\n",
       "dtype: object"
      ]
     },
     "execution_count": 426,
     "metadata": {},
     "output_type": "execute_result"
    }
   ],
   "source": [
    "goog_cierre.dtypes"
   ]
  },
  {
   "cell_type": "code",
   "execution_count": 392,
   "metadata": {},
   "outputs": [
    {
     "data": {
      "text/plain": [
       "CloseFb    object\n",
       "dtype: object"
      ]
     },
     "execution_count": 392,
     "metadata": {},
     "output_type": "execute_result"
    }
   ],
   "source": [
    "fb_cierre.dtypes"
   ]
  },
  {
   "cell_type": "code",
   "execution_count": 356,
   "metadata": {},
   "outputs": [
    {
     "data": {
      "text/plain": [
       "CloseAmzn    object\n",
       "dtype: object"
      ]
     },
     "execution_count": 356,
     "metadata": {},
     "output_type": "execute_result"
    }
   ],
   "source": [
    "amzn_cierre.dtypes"
   ]
  },
  {
   "cell_type": "code",
   "execution_count": 355,
   "metadata": {},
   "outputs": [
    {
     "data": {
      "text/plain": [
       "CloseMsft    object\n",
       "dtype: object"
      ]
     },
     "execution_count": 355,
     "metadata": {},
     "output_type": "execute_result"
    }
   ],
   "source": [
    "msft_cierre.dtypes"
   ]
  },
  {
   "cell_type": "code",
   "execution_count": 404,
   "metadata": {},
   "outputs": [
    {
     "data": {
      "text/plain": [
       "CloseGoog    object\n",
       "dtype: object"
      ]
     },
     "execution_count": 404,
     "metadata": {},
     "output_type": "execute_result"
    }
   ],
   "source": [
    "goog_cierre.dtypes"
   ]
  },
  {
   "cell_type": "code",
   "execution_count": 427,
   "metadata": {},
   "outputs": [
    {
     "data": {
      "text/html": [
       "<div>\n",
       "<style scoped>\n",
       "    .dataframe tbody tr th:only-of-type {\n",
       "        vertical-align: middle;\n",
       "    }\n",
       "\n",
       "    .dataframe tbody tr th {\n",
       "        vertical-align: top;\n",
       "    }\n",
       "\n",
       "    .dataframe thead th {\n",
       "        text-align: right;\n",
       "    }\n",
       "</style>\n",
       "<table border=\"1\" class=\"dataframe\">\n",
       "  <thead>\n",
       "    <tr style=\"text-align: right;\">\n",
       "      <th></th>\n",
       "      <th>ClosBtcEur</th>\n",
       "      <th>CloseGoog</th>\n",
       "      <th>CloseAmzn</th>\n",
       "      <th>CloseFb</th>\n",
       "      <th>CloseMsft</th>\n",
       "    </tr>\n",
       "    <tr>\n",
       "      <th>Date</th>\n",
       "      <th></th>\n",
       "      <th></th>\n",
       "      <th></th>\n",
       "      <th></th>\n",
       "      <th></th>\n",
       "    </tr>\n",
       "  </thead>\n",
       "  <tbody>\n",
       "    <tr>\n",
       "      <th>2021-03-14</th>\n",
       "      <td>60044.67</td>\n",
       "      <td>NaN</td>\n",
       "      <td>NaN</td>\n",
       "      <td>NaN</td>\n",
       "      <td>NaN</td>\n",
       "    </tr>\n",
       "    <tr>\n",
       "      <th>2021-03-13</th>\n",
       "      <td>61243.09</td>\n",
       "      <td>NaN</td>\n",
       "      <td>NaN</td>\n",
       "      <td>NaN</td>\n",
       "      <td>NaN</td>\n",
       "    </tr>\n",
       "    <tr>\n",
       "      <th>2021-03-12</th>\n",
       "      <td>57332.09</td>\n",
       "      <td>2061.92</td>\n",
       "      <td>3089.49</td>\n",
       "      <td>268.40</td>\n",
       "      <td>235.75</td>\n",
       "    </tr>\n",
       "    <tr>\n",
       "      <th>2021-03-11</th>\n",
       "      <td>57805.12</td>\n",
       "      <td>2114.77</td>\n",
       "      <td>3113.59</td>\n",
       "      <td>273.88</td>\n",
       "      <td>237.13</td>\n",
       "    </tr>\n",
       "    <tr>\n",
       "      <th>2021-03-10</th>\n",
       "      <td>56008.55</td>\n",
       "      <td>2055.03</td>\n",
       "      <td>3057.64</td>\n",
       "      <td>264.90</td>\n",
       "      <td>232.42</td>\n",
       "    </tr>\n",
       "    <tr>\n",
       "      <th>...</th>\n",
       "      <td>...</td>\n",
       "      <td>...</td>\n",
       "      <td>...</td>\n",
       "      <td>...</td>\n",
       "      <td>...</td>\n",
       "    </tr>\n",
       "    <tr>\n",
       "      <th>2020-12-09</th>\n",
       "      <td>18553.92</td>\n",
       "      <td>1784.13</td>\n",
       "      <td>3104.20</td>\n",
       "      <td>277.92</td>\n",
       "      <td>211.80</td>\n",
       "    </tr>\n",
       "    <tr>\n",
       "      <th>2020-12-08</th>\n",
       "      <td>18321.14</td>\n",
       "      <td>1818.55</td>\n",
       "      <td>3177.29</td>\n",
       "      <td>283.40</td>\n",
       "      <td>216.01</td>\n",
       "    </tr>\n",
       "    <tr>\n",
       "      <th>2020-12-07</th>\n",
       "      <td>19191.63</td>\n",
       "      <td>1819.48</td>\n",
       "      <td>3158.00</td>\n",
       "      <td>285.58</td>\n",
       "      <td>214.29</td>\n",
       "    </tr>\n",
       "    <tr>\n",
       "      <th>2020-12-06</th>\n",
       "      <td>19345.12</td>\n",
       "      <td>NaN</td>\n",
       "      <td>NaN</td>\n",
       "      <td>NaN</td>\n",
       "      <td>NaN</td>\n",
       "    </tr>\n",
       "    <tr>\n",
       "      <th>2020-12-05</th>\n",
       "      <td>19154.23</td>\n",
       "      <td>NaN</td>\n",
       "      <td>NaN</td>\n",
       "      <td>NaN</td>\n",
       "      <td>NaN</td>\n",
       "    </tr>\n",
       "  </tbody>\n",
       "</table>\n",
       "<p>100 rows × 5 columns</p>\n",
       "</div>"
      ],
      "text/plain": [
       "           ClosBtcEur CloseGoog CloseAmzn CloseFb CloseMsft\n",
       "Date                                                       \n",
       "2021-03-14   60044.67       NaN       NaN     NaN       NaN\n",
       "2021-03-13   61243.09       NaN       NaN     NaN       NaN\n",
       "2021-03-12   57332.09   2061.92   3089.49  268.40    235.75\n",
       "2021-03-11   57805.12   2114.77   3113.59  273.88    237.13\n",
       "2021-03-10   56008.55   2055.03   3057.64  264.90    232.42\n",
       "...               ...       ...       ...     ...       ...\n",
       "2020-12-09   18553.92   1784.13   3104.20  277.92    211.80\n",
       "2020-12-08   18321.14   1818.55   3177.29  283.40    216.01\n",
       "2020-12-07   19191.63   1819.48   3158.00  285.58    214.29\n",
       "2020-12-06   19345.12       NaN       NaN     NaN       NaN\n",
       "2020-12-05   19154.23       NaN       NaN     NaN       NaN\n",
       "\n",
       "[100 rows x 5 columns]"
      ]
     },
     "execution_count": 427,
     "metadata": {},
     "output_type": "execute_result"
    }
   ],
   "source": [
    "# Integración de todos los dataframe en uno solo dataframe\n",
    "\n",
    "df_combinado = btc_usd_cierre.join(goog_cierre).join(amzn_cierre).join(fb_cierre).join(msft_cierre)\n",
    "df_combinado\n"
   ]
  },
  {
   "cell_type": "code",
   "execution_count": 428,
   "metadata": {},
   "outputs": [
    {
     "data": {
      "text/html": [
       "<div>\n",
       "<style scoped>\n",
       "    .dataframe tbody tr th:only-of-type {\n",
       "        vertical-align: middle;\n",
       "    }\n",
       "\n",
       "    .dataframe tbody tr th {\n",
       "        vertical-align: top;\n",
       "    }\n",
       "\n",
       "    .dataframe thead th {\n",
       "        text-align: right;\n",
       "    }\n",
       "</style>\n",
       "<table border=\"1\" class=\"dataframe\">\n",
       "  <thead>\n",
       "    <tr style=\"text-align: right;\">\n",
       "      <th></th>\n",
       "      <th>count</th>\n",
       "      <th>unique</th>\n",
       "      <th>top</th>\n",
       "      <th>freq</th>\n",
       "    </tr>\n",
       "  </thead>\n",
       "  <tbody>\n",
       "    <tr>\n",
       "      <th>ClosBtcEur</th>\n",
       "      <td>100</td>\n",
       "      <td>100</td>\n",
       "      <td>47093.85</td>\n",
       "      <td>1</td>\n",
       "    </tr>\n",
       "    <tr>\n",
       "      <th>CloseGoog</th>\n",
       "      <td>66</td>\n",
       "      <td>66</td>\n",
       "      <td>2081.51</td>\n",
       "      <td>1</td>\n",
       "    </tr>\n",
       "    <tr>\n",
       "      <th>CloseAmzn</th>\n",
       "      <td>66</td>\n",
       "      <td>66</td>\n",
       "      <td>3322.00</td>\n",
       "      <td>1</td>\n",
       "    </tr>\n",
       "    <tr>\n",
       "      <th>CloseFb</th>\n",
       "      <td>66</td>\n",
       "      <td>65</td>\n",
       "      <td>271.87</td>\n",
       "      <td>2</td>\n",
       "    </tr>\n",
       "    <tr>\n",
       "      <th>CloseMsft</th>\n",
       "      <td>66</td>\n",
       "      <td>66</td>\n",
       "      <td>231.60</td>\n",
       "      <td>1</td>\n",
       "    </tr>\n",
       "  </tbody>\n",
       "</table>\n",
       "</div>"
      ],
      "text/plain": [
       "           count unique       top freq\n",
       "ClosBtcEur   100    100  47093.85    1\n",
       "CloseGoog     66     66   2081.51    1\n",
       "CloseAmzn     66     66   3322.00    1\n",
       "CloseFb       66     65    271.87    2\n",
       "CloseMsft     66     66    231.60    1"
      ]
     },
     "execution_count": 428,
     "metadata": {},
     "output_type": "execute_result"
    }
   ],
   "source": [
    "df_combinado.describe().transpose()"
   ]
  },
  {
   "cell_type": "markdown",
   "metadata": {},
   "source": [
    "# Comentario respecto al resumen descriptivo\n",
    "\n",
    "Se observa como en los precios de cierre de las empresas el número de registros válidoses de 1587 casos esto es 329 casos perdidos respecto al precio de cierre del Bitcoin (2304), estos valores perdidos se corresponden a los días en que no hay actividad en las bolsas de valores, por lo que se sustituiran los mismos por el valor de cierre del último día hábil antes del valor perdido.\n",
    "\n",
    "La sustitución de los valores perdidos se hace en el siguiente código"
   ]
  },
  {
   "cell_type": "code",
   "execution_count": 442,
   "metadata": {},
   "outputs": [],
   "source": [
    "# Dado que los valores perdidos que hay en data set se corresponden con días donde no hay cotización de las acciones \n",
    "# En la bolsa de valores, estos serán sustitudios por el último valor válido, para ello usaremos el método de pandas ffill()\n",
    "# que propaga el último valor valido hacia adelante, así si el último valor valido fue de un viernes, ese valor se asignará\n",
    "# al sábado y al domingo\n",
    "df_combinado = df_combinado.ffill().iloc[:-1]\n",
    "df_combinado = df_combinado[3:]\n",
    "#df_combinado.head(50)\n",
    "#df_combinado.tail(50)           "
   ]
  },
  {
   "cell_type": "code",
   "execution_count": null,
   "metadata": {},
   "outputs": [],
   "source": []
  },
  {
   "cell_type": "code",
   "execution_count": 430,
   "metadata": {},
   "outputs": [
    {
     "data": {
      "text/html": [
       "<div>\n",
       "<style scoped>\n",
       "    .dataframe tbody tr th:only-of-type {\n",
       "        vertical-align: middle;\n",
       "    }\n",
       "\n",
       "    .dataframe tbody tr th {\n",
       "        vertical-align: top;\n",
       "    }\n",
       "\n",
       "    .dataframe thead th {\n",
       "        text-align: right;\n",
       "    }\n",
       "</style>\n",
       "<table border=\"1\" class=\"dataframe\">\n",
       "  <thead>\n",
       "    <tr style=\"text-align: right;\">\n",
       "      <th></th>\n",
       "      <th>count</th>\n",
       "      <th>unique</th>\n",
       "      <th>top</th>\n",
       "      <th>freq</th>\n",
       "    </tr>\n",
       "  </thead>\n",
       "  <tbody>\n",
       "    <tr>\n",
       "      <th>ClosBtcEur</th>\n",
       "      <td>96</td>\n",
       "      <td>96</td>\n",
       "      <td>47093.85</td>\n",
       "      <td>1</td>\n",
       "    </tr>\n",
       "    <tr>\n",
       "      <th>CloseGoog</th>\n",
       "      <td>96</td>\n",
       "      <td>65</td>\n",
       "      <td>1728.24</td>\n",
       "      <td>4</td>\n",
       "    </tr>\n",
       "    <tr>\n",
       "      <th>CloseAmzn</th>\n",
       "      <td>96</td>\n",
       "      <td>65</td>\n",
       "      <td>3120.76</td>\n",
       "      <td>4</td>\n",
       "    </tr>\n",
       "    <tr>\n",
       "      <th>CloseFb</th>\n",
       "      <td>96</td>\n",
       "      <td>64</td>\n",
       "      <td>277.00</td>\n",
       "      <td>4</td>\n",
       "    </tr>\n",
       "    <tr>\n",
       "      <th>CloseMsft</th>\n",
       "      <td>96</td>\n",
       "      <td>65</td>\n",
       "      <td>224.96</td>\n",
       "      <td>4</td>\n",
       "    </tr>\n",
       "  </tbody>\n",
       "</table>\n",
       "</div>"
      ],
      "text/plain": [
       "           count unique       top freq\n",
       "ClosBtcEur    96     96  47093.85    1\n",
       "CloseGoog     96     65   1728.24    4\n",
       "CloseAmzn     96     65   3120.76    4\n",
       "CloseFb       96     64    277.00    4\n",
       "CloseMsft     96     65    224.96    4"
      ]
     },
     "execution_count": 430,
     "metadata": {},
     "output_type": "execute_result"
    }
   ],
   "source": [
    "df_combinado.describe().transpose()\n",
    "\n"
   ]
  },
  {
   "cell_type": "markdown",
   "metadata": {},
   "source": [
    "El resultado anterio, muestra que los valores perdidos fueron reemplazados, respecto a los valores de los estadísticos descriptivos, los mismos no presentaron modificaciones significativas"
   ]
  },
  {
   "cell_type": "code",
   "execution_count": 309,
   "metadata": {},
   "outputs": [],
   "source": [
    "# df_combinado.loc[['ClosBtcEur', 'CloseGoog', 'CloseAmzn', 'CloseFb', 'CloseMsft']].boxplot()"
   ]
  },
  {
   "cell_type": "code",
   "execution_count": 431,
   "metadata": {},
   "outputs": [
    {
     "ename": "TypeError",
     "evalue": "no numeric data to plot",
     "output_type": "error",
     "traceback": [
      "\u001b[1;31m---------------------------------------------------------------------------\u001b[0m",
      "\u001b[1;31mTypeError\u001b[0m                                 Traceback (most recent call last)",
      "\u001b[1;32m<ipython-input-431-63c14a14085d>\u001b[0m in \u001b[0;36m<module>\u001b[1;34m\u001b[0m\n\u001b[1;32m----> 1\u001b[1;33m \u001b[0mdf_combinado\u001b[0m\u001b[1;33m.\u001b[0m\u001b[0mloc\u001b[0m\u001b[1;33m[\u001b[0m\u001b[1;33m:\u001b[0m\u001b[1;33m,\u001b[0m \u001b[1;33m[\u001b[0m\u001b[1;34m'ClosBtcEur'\u001b[0m\u001b[1;33m,\u001b[0m \u001b[1;34m'CloseGoog'\u001b[0m\u001b[1;33m,\u001b[0m \u001b[1;34m'CloseAmzn'\u001b[0m\u001b[1;33m,\u001b[0m \u001b[1;34m'CloseFb'\u001b[0m\u001b[1;33m,\u001b[0m \u001b[1;34m'CloseMsft'\u001b[0m\u001b[1;33m]\u001b[0m\u001b[1;33m]\u001b[0m\u001b[1;33m.\u001b[0m\u001b[0mplot\u001b[0m\u001b[1;33m(\u001b[0m\u001b[1;33m)\u001b[0m\u001b[1;33m\u001b[0m\u001b[1;33m\u001b[0m\u001b[0m\n\u001b[0m",
      "\u001b[1;32m~\\Anaconda3\\envs\\MasterBigData\\lib\\site-packages\\pandas\\plotting\\_core.py\u001b[0m in \u001b[0;36m__call__\u001b[1;34m(self, *args, **kwargs)\u001b[0m\n\u001b[0;32m    947\u001b[0m                     \u001b[0mdata\u001b[0m\u001b[1;33m.\u001b[0m\u001b[0mcolumns\u001b[0m \u001b[1;33m=\u001b[0m \u001b[0mlabel_name\u001b[0m\u001b[1;33m\u001b[0m\u001b[1;33m\u001b[0m\u001b[0m\n\u001b[0;32m    948\u001b[0m \u001b[1;33m\u001b[0m\u001b[0m\n\u001b[1;32m--> 949\u001b[1;33m         \u001b[1;32mreturn\u001b[0m \u001b[0mplot_backend\u001b[0m\u001b[1;33m.\u001b[0m\u001b[0mplot\u001b[0m\u001b[1;33m(\u001b[0m\u001b[0mdata\u001b[0m\u001b[1;33m,\u001b[0m \u001b[0mkind\u001b[0m\u001b[1;33m=\u001b[0m\u001b[0mkind\u001b[0m\u001b[1;33m,\u001b[0m \u001b[1;33m**\u001b[0m\u001b[0mkwargs\u001b[0m\u001b[1;33m)\u001b[0m\u001b[1;33m\u001b[0m\u001b[1;33m\u001b[0m\u001b[0m\n\u001b[0m\u001b[0;32m    950\u001b[0m \u001b[1;33m\u001b[0m\u001b[0m\n\u001b[0;32m    951\u001b[0m     \u001b[0m__call__\u001b[0m\u001b[1;33m.\u001b[0m\u001b[0m__doc__\u001b[0m \u001b[1;33m=\u001b[0m \u001b[0m__doc__\u001b[0m\u001b[1;33m\u001b[0m\u001b[1;33m\u001b[0m\u001b[0m\n",
      "\u001b[1;32m~\\Anaconda3\\envs\\MasterBigData\\lib\\site-packages\\pandas\\plotting\\_matplotlib\\__init__.py\u001b[0m in \u001b[0;36mplot\u001b[1;34m(data, kind, **kwargs)\u001b[0m\n\u001b[0;32m     59\u001b[0m             \u001b[0mkwargs\u001b[0m\u001b[1;33m[\u001b[0m\u001b[1;34m\"ax\"\u001b[0m\u001b[1;33m]\u001b[0m \u001b[1;33m=\u001b[0m \u001b[0mgetattr\u001b[0m\u001b[1;33m(\u001b[0m\u001b[0max\u001b[0m\u001b[1;33m,\u001b[0m \u001b[1;34m\"left_ax\"\u001b[0m\u001b[1;33m,\u001b[0m \u001b[0max\u001b[0m\u001b[1;33m)\u001b[0m\u001b[1;33m\u001b[0m\u001b[1;33m\u001b[0m\u001b[0m\n\u001b[0;32m     60\u001b[0m     \u001b[0mplot_obj\u001b[0m \u001b[1;33m=\u001b[0m \u001b[0mPLOT_CLASSES\u001b[0m\u001b[1;33m[\u001b[0m\u001b[0mkind\u001b[0m\u001b[1;33m]\u001b[0m\u001b[1;33m(\u001b[0m\u001b[0mdata\u001b[0m\u001b[1;33m,\u001b[0m \u001b[1;33m**\u001b[0m\u001b[0mkwargs\u001b[0m\u001b[1;33m)\u001b[0m\u001b[1;33m\u001b[0m\u001b[1;33m\u001b[0m\u001b[0m\n\u001b[1;32m---> 61\u001b[1;33m     \u001b[0mplot_obj\u001b[0m\u001b[1;33m.\u001b[0m\u001b[0mgenerate\u001b[0m\u001b[1;33m(\u001b[0m\u001b[1;33m)\u001b[0m\u001b[1;33m\u001b[0m\u001b[1;33m\u001b[0m\u001b[0m\n\u001b[0m\u001b[0;32m     62\u001b[0m     \u001b[0mplot_obj\u001b[0m\u001b[1;33m.\u001b[0m\u001b[0mdraw\u001b[0m\u001b[1;33m(\u001b[0m\u001b[1;33m)\u001b[0m\u001b[1;33m\u001b[0m\u001b[1;33m\u001b[0m\u001b[0m\n\u001b[0;32m     63\u001b[0m     \u001b[1;32mreturn\u001b[0m \u001b[0mplot_obj\u001b[0m\u001b[1;33m.\u001b[0m\u001b[0mresult\u001b[0m\u001b[1;33m\u001b[0m\u001b[1;33m\u001b[0m\u001b[0m\n",
      "\u001b[1;32m~\\Anaconda3\\envs\\MasterBigData\\lib\\site-packages\\pandas\\plotting\\_matplotlib\\core.py\u001b[0m in \u001b[0;36mgenerate\u001b[1;34m(self)\u001b[0m\n\u001b[0;32m    267\u001b[0m     \u001b[1;32mdef\u001b[0m \u001b[0mgenerate\u001b[0m\u001b[1;33m(\u001b[0m\u001b[0mself\u001b[0m\u001b[1;33m)\u001b[0m\u001b[1;33m:\u001b[0m\u001b[1;33m\u001b[0m\u001b[1;33m\u001b[0m\u001b[0m\n\u001b[0;32m    268\u001b[0m         \u001b[0mself\u001b[0m\u001b[1;33m.\u001b[0m\u001b[0m_args_adjust\u001b[0m\u001b[1;33m(\u001b[0m\u001b[1;33m)\u001b[0m\u001b[1;33m\u001b[0m\u001b[1;33m\u001b[0m\u001b[0m\n\u001b[1;32m--> 269\u001b[1;33m         \u001b[0mself\u001b[0m\u001b[1;33m.\u001b[0m\u001b[0m_compute_plot_data\u001b[0m\u001b[1;33m(\u001b[0m\u001b[1;33m)\u001b[0m\u001b[1;33m\u001b[0m\u001b[1;33m\u001b[0m\u001b[0m\n\u001b[0m\u001b[0;32m    270\u001b[0m         \u001b[0mself\u001b[0m\u001b[1;33m.\u001b[0m\u001b[0m_setup_subplots\u001b[0m\u001b[1;33m(\u001b[0m\u001b[1;33m)\u001b[0m\u001b[1;33m\u001b[0m\u001b[1;33m\u001b[0m\u001b[0m\n\u001b[0;32m    271\u001b[0m         \u001b[0mself\u001b[0m\u001b[1;33m.\u001b[0m\u001b[0m_make_plot\u001b[0m\u001b[1;33m(\u001b[0m\u001b[1;33m)\u001b[0m\u001b[1;33m\u001b[0m\u001b[1;33m\u001b[0m\u001b[0m\n",
      "\u001b[1;32m~\\Anaconda3\\envs\\MasterBigData\\lib\\site-packages\\pandas\\plotting\\_matplotlib\\core.py\u001b[0m in \u001b[0;36m_compute_plot_data\u001b[1;34m(self)\u001b[0m\n\u001b[0;32m    416\u001b[0m         \u001b[1;31m# no non-numeric frames or series allowed\u001b[0m\u001b[1;33m\u001b[0m\u001b[1;33m\u001b[0m\u001b[1;33m\u001b[0m\u001b[0m\n\u001b[0;32m    417\u001b[0m         \u001b[1;32mif\u001b[0m \u001b[0mis_empty\u001b[0m\u001b[1;33m:\u001b[0m\u001b[1;33m\u001b[0m\u001b[1;33m\u001b[0m\u001b[0m\n\u001b[1;32m--> 418\u001b[1;33m             \u001b[1;32mraise\u001b[0m \u001b[0mTypeError\u001b[0m\u001b[1;33m(\u001b[0m\u001b[1;34m\"no numeric data to plot\"\u001b[0m\u001b[1;33m)\u001b[0m\u001b[1;33m\u001b[0m\u001b[1;33m\u001b[0m\u001b[0m\n\u001b[0m\u001b[0;32m    419\u001b[0m \u001b[1;33m\u001b[0m\u001b[0m\n\u001b[0;32m    420\u001b[0m         \u001b[1;31m# GH25587: cast ExtensionArray of pandas (IntegerArray, etc.) to\u001b[0m\u001b[1;33m\u001b[0m\u001b[1;33m\u001b[0m\u001b[1;33m\u001b[0m\u001b[0m\n",
      "\u001b[1;31mTypeError\u001b[0m: no numeric data to plot"
     ]
    }
   ],
   "source": [
    "df_combinado.loc[:, ['ClosBtcEur', 'CloseGoog', 'CloseAmzn', 'CloseFb', 'CloseMsft']].plot()"
   ]
  },
  {
   "cell_type": "markdown",
   "metadata": {},
   "source": [
    "# Comentario respecto al gráfico de cajas\n",
    "\n",
    "Se observa la diferencia en la variabilidad de los precios de cierre de goole respecto a los precios de cierre de las empresas tecnológicas,en particular los precios de cierre de google presentan una distribución de cola larga"
   ]
  },
  {
   "cell_type": "code",
   "execution_count": 410,
   "metadata": {},
   "outputs": [],
   "source": [
    "import matplotlib.pyplot as plt\n",
    "%matplotlib inline\n",
    "\n"
   ]
  },
  {
   "cell_type": "code",
   "execution_count": 411,
   "metadata": {},
   "outputs": [
    {
     "data": {
      "image/png": "[encoded data removed]",
      "text/plain": [
       "<Figure size 432x288 with 1 Axes>"
      ]
     },
     "metadata": {
      "needs_background": "light"
     },
     "output_type": "display_data"
    }
   ],
   "source": [
    "plt.hist(x=df_combinado.iloc[:,0])\n",
    "plt.title('Histograma - Precio de Cierre de Bitcoins')\n",
    "plt.xlabel('Precio de Cierre')\n",
    "plt.ylabel('Frecuencia')\n",
    "plt.show()"
   ]
  },
  {
   "cell_type": "code",
   "execution_count": 412,
   "metadata": {},
   "outputs": [
    {
     "data": {
      "image/png": "[encoded data removed]",
      "text/plain": [
       "<Figure size 432x288 with 1 Axes>"
      ]
     },
     "metadata": {
      "needs_background": "light"
     },
     "output_type": "display_data"
    }
   ],
   "source": [
    "plt.hist(x=df_combinado.iloc[:,1])\n",
    "plt.title('Histograma - Precio de Cierre de Google')\n",
    "plt.xlabel('Precio de Cierre')\n",
    "plt.ylabel('Frecuencia')\n",
    "plt.show()"
   ]
  },
  {
   "cell_type": "code",
   "execution_count": 413,
   "metadata": {},
   "outputs": [
    {
     "data": {
      "image/png": "[encoded data removed]",
      "text/plain": [
       "<Figure size 432x288 with 1 Axes>"
      ]
     },
     "metadata": {
      "needs_background": "light"
     },
     "output_type": "display_data"
    }
   ],
   "source": [
    "plt.hist(x=df_combinado.iloc[:,2])\n",
    "plt.title('Histograma - Precio de Cierre de Amazon')\n",
    "plt.xlabel('Precio de Cierre')\n",
    "plt.ylabel('Frecuencia')\n",
    "plt.show()"
   ]
  },
  {
   "cell_type": "code",
   "execution_count": 414,
   "metadata": {},
   "outputs": [
    {
     "data": {
      "image/png": "[encoded data removed]",
      "text/plain": [
       "<Figure size 432x288 with 1 Axes>"
      ]
     },
     "metadata": {
      "needs_background": "light"
     },
     "output_type": "display_data"
    }
   ],
   "source": [
    "plt.hist(x=df_combinado.iloc[:,3])\n",
    "plt.title('Histograma - Precio de Cierre de Faceboock')\n",
    "plt.xlabel('Precio de Cierre')\n",
    "plt.ylabel('Frecuencia')\n",
    "plt.show()"
   ]
  },
  {
   "cell_type": "code",
   "execution_count": 415,
   "metadata": {},
   "outputs": [
    {
     "data": {
      "image/png": "[encoded data removed]",
      "text/plain": [
       "<Figure size 432x288 with 1 Axes>"
      ]
     },
     "metadata": {
      "needs_background": "light"
     },
     "output_type": "display_data"
    }
   ],
   "source": [
    "plt.hist(x=df_combinado.iloc[:,4])\n",
    "plt.title('Histograma - Precio de Cierre de Microsoft')\n",
    "plt.xlabel('Precio de Cierre')\n",
    "plt.ylabel('Frecuencia')\n",
    "plt.show()"
   ]
  },
  {
   "cell_type": "markdown",
   "metadata": {},
   "source": [
    "En todos los gáficos se evidencia lo asimétrico de los datos. Lo anterior sugiere que es combeniente realizar algún tipo de transformación en los datos.\n",
    "\n",
    "Para ello usamos la transformación logaritmica "
   ]
  },
  {
   "cell_type": "code",
   "execution_count": 438,
   "metadata": {},
   "outputs": [],
   "source": [
    "import numpy as np"
   ]
  },
  {
   "cell_type": "code",
   "execution_count": 439,
   "metadata": {},
   "outputs": [
    {
     "ename": "TypeError",
     "evalue": "loop of ufunc does not support argument 0 of type str which has no callable log method",
     "output_type": "error",
     "traceback": [
      "\u001b[1;31m---------------------------------------------------------------------------\u001b[0m",
      "\u001b[1;31mAttributeError\u001b[0m                            Traceback (most recent call last)",
      "\u001b[1;31mAttributeError\u001b[0m: 'str' object has no attribute 'log'",
      "\nThe above exception was the direct cause of the following exception:\n",
      "\u001b[1;31mTypeError\u001b[0m                                 Traceback (most recent call last)",
      "\u001b[1;32m<ipython-input-439-c05df16c3760>\u001b[0m in \u001b[0;36m<module>\u001b[1;34m\u001b[0m\n\u001b[1;32m----> 1\u001b[1;33m \u001b[0mplt\u001b[0m\u001b[1;33m.\u001b[0m\u001b[0mhist\u001b[0m\u001b[1;33m(\u001b[0m\u001b[0mx\u001b[0m\u001b[1;33m=\u001b[0m\u001b[0mnp\u001b[0m\u001b[1;33m.\u001b[0m\u001b[0mlog\u001b[0m\u001b[1;33m(\u001b[0m\u001b[0mdf_combinado\u001b[0m\u001b[1;33m.\u001b[0m\u001b[0miloc\u001b[0m\u001b[1;33m[\u001b[0m\u001b[1;33m:\u001b[0m\u001b[1;33m,\u001b[0m\u001b[1;36m0\u001b[0m\u001b[1;33m]\u001b[0m\u001b[1;33m)\u001b[0m\u001b[1;33m)\u001b[0m\u001b[1;33m\u001b[0m\u001b[1;33m\u001b[0m\u001b[0m\n\u001b[0m\u001b[0;32m      2\u001b[0m \u001b[0mplt\u001b[0m\u001b[1;33m.\u001b[0m\u001b[0mtitle\u001b[0m\u001b[1;33m(\u001b[0m\u001b[1;34m'Histograma - Logaritmo del Precio de Cierre de Bitcoins'\u001b[0m\u001b[1;33m)\u001b[0m\u001b[1;33m\u001b[0m\u001b[1;33m\u001b[0m\u001b[0m\n\u001b[0;32m      3\u001b[0m \u001b[0mplt\u001b[0m\u001b[1;33m.\u001b[0m\u001b[0mxlabel\u001b[0m\u001b[1;33m(\u001b[0m\u001b[1;34m'Logaritmo Precio de Cierre'\u001b[0m\u001b[1;33m)\u001b[0m\u001b[1;33m\u001b[0m\u001b[1;33m\u001b[0m\u001b[0m\n\u001b[0;32m      4\u001b[0m \u001b[0mplt\u001b[0m\u001b[1;33m.\u001b[0m\u001b[0mylabel\u001b[0m\u001b[1;33m(\u001b[0m\u001b[1;34m'Frecuencia'\u001b[0m\u001b[1;33m)\u001b[0m\u001b[1;33m\u001b[0m\u001b[1;33m\u001b[0m\u001b[0m\n\u001b[0;32m      5\u001b[0m \u001b[0mplt\u001b[0m\u001b[1;33m.\u001b[0m\u001b[0mshow\u001b[0m\u001b[1;33m(\u001b[0m\u001b[1;33m)\u001b[0m\u001b[1;33m\u001b[0m\u001b[1;33m\u001b[0m\u001b[0m\n",
      "\u001b[1;32m~\\Anaconda3\\envs\\MasterBigData\\lib\\site-packages\\pandas\\core\\series.py\u001b[0m in \u001b[0;36m__array_ufunc__\u001b[1;34m(self, ufunc, method, *inputs, **kwargs)\u001b[0m\n\u001b[0;32m    724\u001b[0m \u001b[1;33m\u001b[0m\u001b[0m\n\u001b[0;32m    725\u001b[0m         \u001b[0minputs\u001b[0m \u001b[1;33m=\u001b[0m \u001b[0mtuple\u001b[0m\u001b[1;33m(\u001b[0m\u001b[0mextract_array\u001b[0m\u001b[1;33m(\u001b[0m\u001b[0mx\u001b[0m\u001b[1;33m,\u001b[0m \u001b[0mextract_numpy\u001b[0m\u001b[1;33m=\u001b[0m\u001b[1;32mTrue\u001b[0m\u001b[1;33m)\u001b[0m \u001b[1;32mfor\u001b[0m \u001b[0mx\u001b[0m \u001b[1;32min\u001b[0m \u001b[0minputs\u001b[0m\u001b[1;33m)\u001b[0m\u001b[1;33m\u001b[0m\u001b[1;33m\u001b[0m\u001b[0m\n\u001b[1;32m--> 726\u001b[1;33m         \u001b[0mresult\u001b[0m \u001b[1;33m=\u001b[0m \u001b[0mgetattr\u001b[0m\u001b[1;33m(\u001b[0m\u001b[0mufunc\u001b[0m\u001b[1;33m,\u001b[0m \u001b[0mmethod\u001b[0m\u001b[1;33m)\u001b[0m\u001b[1;33m(\u001b[0m\u001b[1;33m*\u001b[0m\u001b[0minputs\u001b[0m\u001b[1;33m,\u001b[0m \u001b[1;33m**\u001b[0m\u001b[0mkwargs\u001b[0m\u001b[1;33m)\u001b[0m\u001b[1;33m\u001b[0m\u001b[1;33m\u001b[0m\u001b[0m\n\u001b[0m\u001b[0;32m    727\u001b[0m \u001b[1;33m\u001b[0m\u001b[0m\n\u001b[0;32m    728\u001b[0m         \u001b[0mname\u001b[0m \u001b[1;33m=\u001b[0m \u001b[0mnames\u001b[0m\u001b[1;33m[\u001b[0m\u001b[1;36m0\u001b[0m\u001b[1;33m]\u001b[0m \u001b[1;32mif\u001b[0m \u001b[0mlen\u001b[0m\u001b[1;33m(\u001b[0m\u001b[0mset\u001b[0m\u001b[1;33m(\u001b[0m\u001b[0mnames\u001b[0m\u001b[1;33m)\u001b[0m\u001b[1;33m)\u001b[0m \u001b[1;33m==\u001b[0m \u001b[1;36m1\u001b[0m \u001b[1;32melse\u001b[0m \u001b[1;32mNone\u001b[0m\u001b[1;33m\u001b[0m\u001b[1;33m\u001b[0m\u001b[0m\n",
      "\u001b[1;31mTypeError\u001b[0m: loop of ufunc does not support argument 0 of type str which has no callable log method"
     ]
    }
   ],
   "source": [
    "plt.hist(x=np.log(df_combinado.iloc[:,0]))\n",
    "plt.title('Histograma - Logaritmo del Precio de Cierre de Bitcoins')\n",
    "plt.xlabel('Logaritmo Precio de Cierre')\n",
    "plt.ylabel('Frecuencia')\n",
    "plt.show()"
   ]
  },
  {
   "cell_type": "code",
   "execution_count": 419,
   "metadata": {},
   "outputs": [
    {
     "ename": "TypeError",
     "evalue": "loop of ufunc does not support argument 0 of type str which has no callable log method",
     "output_type": "error",
     "traceback": [
      "\u001b[1;31m---------------------------------------------------------------------------\u001b[0m",
      "\u001b[1;31mAttributeError\u001b[0m                            Traceback (most recent call last)",
      "\u001b[1;31mAttributeError\u001b[0m: 'str' object has no attribute 'log'",
      "\nThe above exception was the direct cause of the following exception:\n",
      "\u001b[1;31mTypeError\u001b[0m                                 Traceback (most recent call last)",
      "\u001b[1;32m<ipython-input-419-711098d670ed>\u001b[0m in \u001b[0;36m<module>\u001b[1;34m\u001b[0m\n\u001b[1;32m----> 1\u001b[1;33m \u001b[0mplt\u001b[0m\u001b[1;33m.\u001b[0m\u001b[0mhist\u001b[0m\u001b[1;33m(\u001b[0m\u001b[0mx\u001b[0m\u001b[1;33m=\u001b[0m\u001b[0mnp\u001b[0m\u001b[1;33m.\u001b[0m\u001b[0mlog\u001b[0m\u001b[1;33m(\u001b[0m\u001b[0mdf_combinado\u001b[0m\u001b[1;33m.\u001b[0m\u001b[0miloc\u001b[0m\u001b[1;33m[\u001b[0m\u001b[1;33m:\u001b[0m\u001b[1;33m,\u001b[0m\u001b[1;36m2\u001b[0m\u001b[1;33m]\u001b[0m\u001b[1;33m)\u001b[0m\u001b[1;33m)\u001b[0m\u001b[1;33m\u001b[0m\u001b[1;33m\u001b[0m\u001b[0m\n\u001b[0m\u001b[0;32m      2\u001b[0m \u001b[0mplt\u001b[0m\u001b[1;33m.\u001b[0m\u001b[0mtitle\u001b[0m\u001b[1;33m(\u001b[0m\u001b[1;34m'Histograma - Logaritmo del Precio de Cierre de Amazon'\u001b[0m\u001b[1;33m)\u001b[0m\u001b[1;33m\u001b[0m\u001b[1;33m\u001b[0m\u001b[0m\n\u001b[0;32m      3\u001b[0m \u001b[0mplt\u001b[0m\u001b[1;33m.\u001b[0m\u001b[0mxlabel\u001b[0m\u001b[1;33m(\u001b[0m\u001b[1;34m'Precio de Cierre'\u001b[0m\u001b[1;33m)\u001b[0m\u001b[1;33m\u001b[0m\u001b[1;33m\u001b[0m\u001b[0m\n\u001b[0;32m      4\u001b[0m \u001b[0mplt\u001b[0m\u001b[1;33m.\u001b[0m\u001b[0mylabel\u001b[0m\u001b[1;33m(\u001b[0m\u001b[1;34m'Frecuencia'\u001b[0m\u001b[1;33m)\u001b[0m\u001b[1;33m\u001b[0m\u001b[1;33m\u001b[0m\u001b[0m\n\u001b[0;32m      5\u001b[0m \u001b[0mplt\u001b[0m\u001b[1;33m.\u001b[0m\u001b[0mshow\u001b[0m\u001b[1;33m(\u001b[0m\u001b[1;33m)\u001b[0m\u001b[1;33m\u001b[0m\u001b[1;33m\u001b[0m\u001b[0m\n",
      "\u001b[1;32m~\\Anaconda3\\envs\\MasterBigData\\lib\\site-packages\\pandas\\core\\series.py\u001b[0m in \u001b[0;36m__array_ufunc__\u001b[1;34m(self, ufunc, method, *inputs, **kwargs)\u001b[0m\n\u001b[0;32m    724\u001b[0m \u001b[1;33m\u001b[0m\u001b[0m\n\u001b[0;32m    725\u001b[0m         \u001b[0minputs\u001b[0m \u001b[1;33m=\u001b[0m \u001b[0mtuple\u001b[0m\u001b[1;33m(\u001b[0m\u001b[0mextract_array\u001b[0m\u001b[1;33m(\u001b[0m\u001b[0mx\u001b[0m\u001b[1;33m,\u001b[0m \u001b[0mextract_numpy\u001b[0m\u001b[1;33m=\u001b[0m\u001b[1;32mTrue\u001b[0m\u001b[1;33m)\u001b[0m \u001b[1;32mfor\u001b[0m \u001b[0mx\u001b[0m \u001b[1;32min\u001b[0m \u001b[0minputs\u001b[0m\u001b[1;33m)\u001b[0m\u001b[1;33m\u001b[0m\u001b[1;33m\u001b[0m\u001b[0m\n\u001b[1;32m--> 726\u001b[1;33m         \u001b[0mresult\u001b[0m \u001b[1;33m=\u001b[0m \u001b[0mgetattr\u001b[0m\u001b[1;33m(\u001b[0m\u001b[0mufunc\u001b[0m\u001b[1;33m,\u001b[0m \u001b[0mmethod\u001b[0m\u001b[1;33m)\u001b[0m\u001b[1;33m(\u001b[0m\u001b[1;33m*\u001b[0m\u001b[0minputs\u001b[0m\u001b[1;33m,\u001b[0m \u001b[1;33m**\u001b[0m\u001b[0mkwargs\u001b[0m\u001b[1;33m)\u001b[0m\u001b[1;33m\u001b[0m\u001b[1;33m\u001b[0m\u001b[0m\n\u001b[0m\u001b[0;32m    727\u001b[0m \u001b[1;33m\u001b[0m\u001b[0m\n\u001b[0;32m    728\u001b[0m         \u001b[0mname\u001b[0m \u001b[1;33m=\u001b[0m \u001b[0mnames\u001b[0m\u001b[1;33m[\u001b[0m\u001b[1;36m0\u001b[0m\u001b[1;33m]\u001b[0m \u001b[1;32mif\u001b[0m \u001b[0mlen\u001b[0m\u001b[1;33m(\u001b[0m\u001b[0mset\u001b[0m\u001b[1;33m(\u001b[0m\u001b[0mnames\u001b[0m\u001b[1;33m)\u001b[0m\u001b[1;33m)\u001b[0m \u001b[1;33m==\u001b[0m \u001b[1;36m1\u001b[0m \u001b[1;32melse\u001b[0m \u001b[1;32mNone\u001b[0m\u001b[1;33m\u001b[0m\u001b[1;33m\u001b[0m\u001b[0m\n",
      "\u001b[1;31mTypeError\u001b[0m: loop of ufunc does not support argument 0 of type str which has no callable log method"
     ]
    }
   ],
   "source": [
    "plt.hist(x=np.log(df_combinado.iloc[:,2]))\n",
    "plt.title('Histograma - Logaritmo del Precio de Cierre de Amazon')\n",
    "plt.xlabel('Precio de Cierre')\n",
    "plt.ylabel('Frecuencia')\n",
    "plt.show()"
   ]
  },
  {
   "cell_type": "code",
   "execution_count": 420,
   "metadata": {},
   "outputs": [
    {
     "ename": "TypeError",
     "evalue": "loop of ufunc does not support argument 0 of type str which has no callable log method",
     "output_type": "error",
     "traceback": [
      "\u001b[1;31m---------------------------------------------------------------------------\u001b[0m",
      "\u001b[1;31mAttributeError\u001b[0m                            Traceback (most recent call last)",
      "\u001b[1;31mAttributeError\u001b[0m: 'str' object has no attribute 'log'",
      "\nThe above exception was the direct cause of the following exception:\n",
      "\u001b[1;31mTypeError\u001b[0m                                 Traceback (most recent call last)",
      "\u001b[1;32m<ipython-input-420-92aa23b1ddf6>\u001b[0m in \u001b[0;36m<module>\u001b[1;34m\u001b[0m\n\u001b[1;32m----> 1\u001b[1;33m \u001b[0mplt\u001b[0m\u001b[1;33m.\u001b[0m\u001b[0mhist\u001b[0m\u001b[1;33m(\u001b[0m\u001b[0mx\u001b[0m\u001b[1;33m=\u001b[0m\u001b[0mnp\u001b[0m\u001b[1;33m.\u001b[0m\u001b[0mlog\u001b[0m\u001b[1;33m(\u001b[0m\u001b[0mdf_combinado\u001b[0m\u001b[1;33m.\u001b[0m\u001b[0miloc\u001b[0m\u001b[1;33m[\u001b[0m\u001b[1;33m:\u001b[0m\u001b[1;33m,\u001b[0m\u001b[1;36m1\u001b[0m\u001b[1;33m]\u001b[0m\u001b[1;33m)\u001b[0m\u001b[1;33m)\u001b[0m\u001b[1;33m\u001b[0m\u001b[1;33m\u001b[0m\u001b[0m\n\u001b[0m\u001b[0;32m      2\u001b[0m \u001b[0mplt\u001b[0m\u001b[1;33m.\u001b[0m\u001b[0mtitle\u001b[0m\u001b[1;33m(\u001b[0m\u001b[1;34m'Histograma - Logartimo del Precio de Cierre de Google'\u001b[0m\u001b[1;33m)\u001b[0m\u001b[1;33m\u001b[0m\u001b[1;33m\u001b[0m\u001b[0m\n\u001b[0;32m      3\u001b[0m \u001b[0mplt\u001b[0m\u001b[1;33m.\u001b[0m\u001b[0mxlabel\u001b[0m\u001b[1;33m(\u001b[0m\u001b[1;34m'Precio de Cierre'\u001b[0m\u001b[1;33m)\u001b[0m\u001b[1;33m\u001b[0m\u001b[1;33m\u001b[0m\u001b[0m\n\u001b[0;32m      4\u001b[0m \u001b[0mplt\u001b[0m\u001b[1;33m.\u001b[0m\u001b[0mylabel\u001b[0m\u001b[1;33m(\u001b[0m\u001b[1;34m'Frecuencia'\u001b[0m\u001b[1;33m)\u001b[0m\u001b[1;33m\u001b[0m\u001b[1;33m\u001b[0m\u001b[0m\n\u001b[0;32m      5\u001b[0m \u001b[0mplt\u001b[0m\u001b[1;33m.\u001b[0m\u001b[0mshow\u001b[0m\u001b[1;33m(\u001b[0m\u001b[1;33m)\u001b[0m\u001b[1;33m\u001b[0m\u001b[1;33m\u001b[0m\u001b[0m\n",
      "\u001b[1;32m~\\Anaconda3\\envs\\MasterBigData\\lib\\site-packages\\pandas\\core\\series.py\u001b[0m in \u001b[0;36m__array_ufunc__\u001b[1;34m(self, ufunc, method, *inputs, **kwargs)\u001b[0m\n\u001b[0;32m    724\u001b[0m \u001b[1;33m\u001b[0m\u001b[0m\n\u001b[0;32m    725\u001b[0m         \u001b[0minputs\u001b[0m \u001b[1;33m=\u001b[0m \u001b[0mtuple\u001b[0m\u001b[1;33m(\u001b[0m\u001b[0mextract_array\u001b[0m\u001b[1;33m(\u001b[0m\u001b[0mx\u001b[0m\u001b[1;33m,\u001b[0m \u001b[0mextract_numpy\u001b[0m\u001b[1;33m=\u001b[0m\u001b[1;32mTrue\u001b[0m\u001b[1;33m)\u001b[0m \u001b[1;32mfor\u001b[0m \u001b[0mx\u001b[0m \u001b[1;32min\u001b[0m \u001b[0minputs\u001b[0m\u001b[1;33m)\u001b[0m\u001b[1;33m\u001b[0m\u001b[1;33m\u001b[0m\u001b[0m\n\u001b[1;32m--> 726\u001b[1;33m         \u001b[0mresult\u001b[0m \u001b[1;33m=\u001b[0m \u001b[0mgetattr\u001b[0m\u001b[1;33m(\u001b[0m\u001b[0mufunc\u001b[0m\u001b[1;33m,\u001b[0m \u001b[0mmethod\u001b[0m\u001b[1;33m)\u001b[0m\u001b[1;33m(\u001b[0m\u001b[1;33m*\u001b[0m\u001b[0minputs\u001b[0m\u001b[1;33m,\u001b[0m \u001b[1;33m**\u001b[0m\u001b[0mkwargs\u001b[0m\u001b[1;33m)\u001b[0m\u001b[1;33m\u001b[0m\u001b[1;33m\u001b[0m\u001b[0m\n\u001b[0m\u001b[0;32m    727\u001b[0m \u001b[1;33m\u001b[0m\u001b[0m\n\u001b[0;32m    728\u001b[0m         \u001b[0mname\u001b[0m \u001b[1;33m=\u001b[0m \u001b[0mnames\u001b[0m\u001b[1;33m[\u001b[0m\u001b[1;36m0\u001b[0m\u001b[1;33m]\u001b[0m \u001b[1;32mif\u001b[0m \u001b[0mlen\u001b[0m\u001b[1;33m(\u001b[0m\u001b[0mset\u001b[0m\u001b[1;33m(\u001b[0m\u001b[0mnames\u001b[0m\u001b[1;33m)\u001b[0m\u001b[1;33m)\u001b[0m \u001b[1;33m==\u001b[0m \u001b[1;36m1\u001b[0m \u001b[1;32melse\u001b[0m \u001b[1;32mNone\u001b[0m\u001b[1;33m\u001b[0m\u001b[1;33m\u001b[0m\u001b[0m\n",
      "\u001b[1;31mTypeError\u001b[0m: loop of ufunc does not support argument 0 of type str which has no callable log method"
     ]
    }
   ],
   "source": [
    "plt.hist(x=np.log(df_combinado.iloc[:,1]))\n",
    "plt.title('Histograma - Logartimo del Precio de Cierre de Google')\n",
    "plt.xlabel('Precio de Cierre')\n",
    "plt.ylabel('Frecuencia')\n",
    "plt.show()"
   ]
  },
  {
   "cell_type": "code",
   "execution_count": 440,
   "metadata": {},
   "outputs": [
    {
     "ename": "TypeError",
     "evalue": "loop of ufunc does not support argument 0 of type str which has no callable log method",
     "output_type": "error",
     "traceback": [
      "\u001b[1;31m---------------------------------------------------------------------------\u001b[0m",
      "\u001b[1;31mAttributeError\u001b[0m                            Traceback (most recent call last)",
      "\u001b[1;31mAttributeError\u001b[0m: 'str' object has no attribute 'log'",
      "\nThe above exception was the direct cause of the following exception:\n",
      "\u001b[1;31mTypeError\u001b[0m                                 Traceback (most recent call last)",
      "\u001b[1;32m<ipython-input-440-7abf7d46f66d>\u001b[0m in \u001b[0;36m<module>\u001b[1;34m\u001b[0m\n\u001b[1;32m----> 1\u001b[1;33m \u001b[0mplt\u001b[0m\u001b[1;33m.\u001b[0m\u001b[0mhist\u001b[0m\u001b[1;33m(\u001b[0m\u001b[0mx\u001b[0m\u001b[1;33m=\u001b[0m\u001b[0mnp\u001b[0m\u001b[1;33m.\u001b[0m\u001b[0mlog\u001b[0m\u001b[1;33m(\u001b[0m\u001b[0mdf_combinado\u001b[0m\u001b[1;33m.\u001b[0m\u001b[0miloc\u001b[0m\u001b[1;33m[\u001b[0m\u001b[1;33m:\u001b[0m\u001b[1;33m,\u001b[0m\u001b[1;36m3\u001b[0m\u001b[1;33m]\u001b[0m\u001b[1;33m)\u001b[0m\u001b[1;33m)\u001b[0m\u001b[1;33m\u001b[0m\u001b[1;33m\u001b[0m\u001b[0m\n\u001b[0m\u001b[0;32m      2\u001b[0m \u001b[0mplt\u001b[0m\u001b[1;33m.\u001b[0m\u001b[0mtitle\u001b[0m\u001b[1;33m(\u001b[0m\u001b[1;34m'Histograma - Logartimo del Precio de Cierre de Faceboock'\u001b[0m\u001b[1;33m)\u001b[0m\u001b[1;33m\u001b[0m\u001b[1;33m\u001b[0m\u001b[0m\n\u001b[0;32m      3\u001b[0m \u001b[0mplt\u001b[0m\u001b[1;33m.\u001b[0m\u001b[0mxlabel\u001b[0m\u001b[1;33m(\u001b[0m\u001b[1;34m'Precio de Cierre'\u001b[0m\u001b[1;33m)\u001b[0m\u001b[1;33m\u001b[0m\u001b[1;33m\u001b[0m\u001b[0m\n\u001b[0;32m      4\u001b[0m \u001b[0mplt\u001b[0m\u001b[1;33m.\u001b[0m\u001b[0mylabel\u001b[0m\u001b[1;33m(\u001b[0m\u001b[1;34m'Frecuencia'\u001b[0m\u001b[1;33m)\u001b[0m\u001b[1;33m\u001b[0m\u001b[1;33m\u001b[0m\u001b[0m\n\u001b[0;32m      5\u001b[0m \u001b[0mplt\u001b[0m\u001b[1;33m.\u001b[0m\u001b[0mshow\u001b[0m\u001b[1;33m(\u001b[0m\u001b[1;33m)\u001b[0m\u001b[1;33m\u001b[0m\u001b[1;33m\u001b[0m\u001b[0m\n",
      "\u001b[1;32m~\\Anaconda3\\envs\\MasterBigData\\lib\\site-packages\\pandas\\core\\series.py\u001b[0m in \u001b[0;36m__array_ufunc__\u001b[1;34m(self, ufunc, method, *inputs, **kwargs)\u001b[0m\n\u001b[0;32m    724\u001b[0m \u001b[1;33m\u001b[0m\u001b[0m\n\u001b[0;32m    725\u001b[0m         \u001b[0minputs\u001b[0m \u001b[1;33m=\u001b[0m \u001b[0mtuple\u001b[0m\u001b[1;33m(\u001b[0m\u001b[0mextract_array\u001b[0m\u001b[1;33m(\u001b[0m\u001b[0mx\u001b[0m\u001b[1;33m,\u001b[0m \u001b[0mextract_numpy\u001b[0m\u001b[1;33m=\u001b[0m\u001b[1;32mTrue\u001b[0m\u001b[1;33m)\u001b[0m \u001b[1;32mfor\u001b[0m \u001b[0mx\u001b[0m \u001b[1;32min\u001b[0m \u001b[0minputs\u001b[0m\u001b[1;33m)\u001b[0m\u001b[1;33m\u001b[0m\u001b[1;33m\u001b[0m\u001b[0m\n\u001b[1;32m--> 726\u001b[1;33m         \u001b[0mresult\u001b[0m \u001b[1;33m=\u001b[0m \u001b[0mgetattr\u001b[0m\u001b[1;33m(\u001b[0m\u001b[0mufunc\u001b[0m\u001b[1;33m,\u001b[0m \u001b[0mmethod\u001b[0m\u001b[1;33m)\u001b[0m\u001b[1;33m(\u001b[0m\u001b[1;33m*\u001b[0m\u001b[0minputs\u001b[0m\u001b[1;33m,\u001b[0m \u001b[1;33m**\u001b[0m\u001b[0mkwargs\u001b[0m\u001b[1;33m)\u001b[0m\u001b[1;33m\u001b[0m\u001b[1;33m\u001b[0m\u001b[0m\n\u001b[0m\u001b[0;32m    727\u001b[0m \u001b[1;33m\u001b[0m\u001b[0m\n\u001b[0;32m    728\u001b[0m         \u001b[0mname\u001b[0m \u001b[1;33m=\u001b[0m \u001b[0mnames\u001b[0m\u001b[1;33m[\u001b[0m\u001b[1;36m0\u001b[0m\u001b[1;33m]\u001b[0m \u001b[1;32mif\u001b[0m \u001b[0mlen\u001b[0m\u001b[1;33m(\u001b[0m\u001b[0mset\u001b[0m\u001b[1;33m(\u001b[0m\u001b[0mnames\u001b[0m\u001b[1;33m)\u001b[0m\u001b[1;33m)\u001b[0m \u001b[1;33m==\u001b[0m \u001b[1;36m1\u001b[0m \u001b[1;32melse\u001b[0m \u001b[1;32mNone\u001b[0m\u001b[1;33m\u001b[0m\u001b[1;33m\u001b[0m\u001b[0m\n",
      "\u001b[1;31mTypeError\u001b[0m: loop of ufunc does not support argument 0 of type str which has no callable log method"
     ]
    }
   ],
   "source": [
    "plt.hist(x=np.log(df_combinado.iloc[:,3]))\n",
    "plt.title('Histograma - Logartimo del Precio de Cierre de Faceboock')\n",
    "plt.xlabel('Precio de Cierre')\n",
    "plt.ylabel('Frecuencia')\n",
    "plt.show()"
   ]
  },
  {
   "cell_type": "code",
   "execution_count": 33,
   "metadata": {},
   "outputs": [
    {
     "data": {
      "image/png": "[encoded data removed]",
      "text/plain": [
       "<Figure size 432x288 with 1 Axes>"
      ]
     },
     "metadata": {
      "needs_background": "light"
     },
     "output_type": "display_data"
    }
   ],
   "source": [
    "plt.hist(x=np.log(df_combinado.iloc[:,4]))\n",
    "plt.title('Histograma - Logaritmo del Precio de Cierre de Microsoft')\n",
    "plt.xlabel('Precio de Cierre')\n",
    "plt.ylabel('Frecuencia')\n",
    "plt.show()"
   ]
  },
  {
   "cell_type": "code",
   "execution_count": 445,
   "metadata": {},
   "outputs": [
    {
     "ename": "TypeError",
     "evalue": "loop of ufunc does not support argument 0 of type str which has no callable log method",
     "output_type": "error",
     "traceback": [
      "\u001b[1;31m---------------------------------------------------------------------------\u001b[0m",
      "\u001b[1;31mAttributeError\u001b[0m                            Traceback (most recent call last)",
      "\u001b[1;31mAttributeError\u001b[0m: 'str' object has no attribute 'log'",
      "\nThe above exception was the direct cause of the following exception:\n",
      "\u001b[1;31mTypeError\u001b[0m                                 Traceback (most recent call last)",
      "\u001b[1;32m<ipython-input-445-7abf7d46f66d>\u001b[0m in \u001b[0;36m<module>\u001b[1;34m\u001b[0m\n\u001b[1;32m----> 1\u001b[1;33m \u001b[0mplt\u001b[0m\u001b[1;33m.\u001b[0m\u001b[0mhist\u001b[0m\u001b[1;33m(\u001b[0m\u001b[0mx\u001b[0m\u001b[1;33m=\u001b[0m\u001b[0mnp\u001b[0m\u001b[1;33m.\u001b[0m\u001b[0mlog\u001b[0m\u001b[1;33m(\u001b[0m\u001b[0mdf_combinado\u001b[0m\u001b[1;33m.\u001b[0m\u001b[0miloc\u001b[0m\u001b[1;33m[\u001b[0m\u001b[1;33m:\u001b[0m\u001b[1;33m,\u001b[0m\u001b[1;36m3\u001b[0m\u001b[1;33m]\u001b[0m\u001b[1;33m)\u001b[0m\u001b[1;33m)\u001b[0m\u001b[1;33m\u001b[0m\u001b[1;33m\u001b[0m\u001b[0m\n\u001b[0m\u001b[0;32m      2\u001b[0m \u001b[0mplt\u001b[0m\u001b[1;33m.\u001b[0m\u001b[0mtitle\u001b[0m\u001b[1;33m(\u001b[0m\u001b[1;34m'Histograma - Logartimo del Precio de Cierre de Faceboock'\u001b[0m\u001b[1;33m)\u001b[0m\u001b[1;33m\u001b[0m\u001b[1;33m\u001b[0m\u001b[0m\n\u001b[0;32m      3\u001b[0m \u001b[0mplt\u001b[0m\u001b[1;33m.\u001b[0m\u001b[0mxlabel\u001b[0m\u001b[1;33m(\u001b[0m\u001b[1;34m'Precio de Cierre'\u001b[0m\u001b[1;33m)\u001b[0m\u001b[1;33m\u001b[0m\u001b[1;33m\u001b[0m\u001b[0m\n\u001b[0;32m      4\u001b[0m \u001b[0mplt\u001b[0m\u001b[1;33m.\u001b[0m\u001b[0mylabel\u001b[0m\u001b[1;33m(\u001b[0m\u001b[1;34m'Frecuencia'\u001b[0m\u001b[1;33m)\u001b[0m\u001b[1;33m\u001b[0m\u001b[1;33m\u001b[0m\u001b[0m\n\u001b[0;32m      5\u001b[0m \u001b[0mplt\u001b[0m\u001b[1;33m.\u001b[0m\u001b[0mshow\u001b[0m\u001b[1;33m(\u001b[0m\u001b[1;33m)\u001b[0m\u001b[1;33m\u001b[0m\u001b[1;33m\u001b[0m\u001b[0m\n",
      "\u001b[1;32m~\\Anaconda3\\envs\\MasterBigData\\lib\\site-packages\\pandas\\core\\series.py\u001b[0m in \u001b[0;36m__array_ufunc__\u001b[1;34m(self, ufunc, method, *inputs, **kwargs)\u001b[0m\n\u001b[0;32m    724\u001b[0m \u001b[1;33m\u001b[0m\u001b[0m\n\u001b[0;32m    725\u001b[0m         \u001b[0minputs\u001b[0m \u001b[1;33m=\u001b[0m \u001b[0mtuple\u001b[0m\u001b[1;33m(\u001b[0m\u001b[0mextract_array\u001b[0m\u001b[1;33m(\u001b[0m\u001b[0mx\u001b[0m\u001b[1;33m,\u001b[0m \u001b[0mextract_numpy\u001b[0m\u001b[1;33m=\u001b[0m\u001b[1;32mTrue\u001b[0m\u001b[1;33m)\u001b[0m \u001b[1;32mfor\u001b[0m \u001b[0mx\u001b[0m \u001b[1;32min\u001b[0m \u001b[0minputs\u001b[0m\u001b[1;33m)\u001b[0m\u001b[1;33m\u001b[0m\u001b[1;33m\u001b[0m\u001b[0m\n\u001b[1;32m--> 726\u001b[1;33m         \u001b[0mresult\u001b[0m \u001b[1;33m=\u001b[0m \u001b[0mgetattr\u001b[0m\u001b[1;33m(\u001b[0m\u001b[0mufunc\u001b[0m\u001b[1;33m,\u001b[0m \u001b[0mmethod\u001b[0m\u001b[1;33m)\u001b[0m\u001b[1;33m(\u001b[0m\u001b[1;33m*\u001b[0m\u001b[0minputs\u001b[0m\u001b[1;33m,\u001b[0m \u001b[1;33m**\u001b[0m\u001b[0mkwargs\u001b[0m\u001b[1;33m)\u001b[0m\u001b[1;33m\u001b[0m\u001b[1;33m\u001b[0m\u001b[0m\n\u001b[0m\u001b[0;32m    727\u001b[0m \u001b[1;33m\u001b[0m\u001b[0m\n\u001b[0;32m    728\u001b[0m         \u001b[0mname\u001b[0m \u001b[1;33m=\u001b[0m \u001b[0mnames\u001b[0m\u001b[1;33m[\u001b[0m\u001b[1;36m0\u001b[0m\u001b[1;33m]\u001b[0m \u001b[1;32mif\u001b[0m \u001b[0mlen\u001b[0m\u001b[1;33m(\u001b[0m\u001b[0mset\u001b[0m\u001b[1;33m(\u001b[0m\u001b[0mnames\u001b[0m\u001b[1;33m)\u001b[0m\u001b[1;33m)\u001b[0m \u001b[1;33m==\u001b[0m \u001b[1;36m1\u001b[0m \u001b[1;32melse\u001b[0m \u001b[1;32mNone\u001b[0m\u001b[1;33m\u001b[0m\u001b[1;33m\u001b[0m\u001b[0m\n",
      "\u001b[1;31mTypeError\u001b[0m: loop of ufunc does not support argument 0 of type str which has no callable log method"
     ]
    }
   ],
   "source": [
    "plt.hist(x=np.log(df_combinado.iloc[:,3]))\n",
    "plt.title('Histograma - Logartimo del Precio de Cierre de Faceboock')\n",
    "plt.xlabel('Precio de Cierre')\n",
    "plt.ylabel('Frecuencia')\n",
    "plt.show()"
   ]
  },
  {
   "cell_type": "code",
   "execution_count": 444,
   "metadata": {},
   "outputs": [
    {
     "ename": "TypeError",
     "evalue": "loop of ufunc does not support argument 0 of type str which has no callable log method",
     "output_type": "error",
     "traceback": [
      "\u001b[1;31m---------------------------------------------------------------------------\u001b[0m",
      "\u001b[1;31mAttributeError\u001b[0m                            Traceback (most recent call last)",
      "\u001b[1;31mAttributeError\u001b[0m: 'str' object has no attribute 'log'",
      "\nThe above exception was the direct cause of the following exception:\n",
      "\u001b[1;31mTypeError\u001b[0m                                 Traceback (most recent call last)",
      "\u001b[1;32m<ipython-input-444-a000c10fdfc1>\u001b[0m in \u001b[0;36m<module>\u001b[1;34m\u001b[0m\n\u001b[1;32m----> 1\u001b[1;33m \u001b[0mdf_combinado_log\u001b[0m \u001b[1;33m=\u001b[0m \u001b[0mnp\u001b[0m\u001b[1;33m.\u001b[0m\u001b[0mlog\u001b[0m\u001b[1;33m(\u001b[0m\u001b[0mdf_combinado\u001b[0m\u001b[1;33m)\u001b[0m\u001b[1;33m\u001b[0m\u001b[1;33m\u001b[0m\u001b[0m\n\u001b[0m\u001b[0;32m      2\u001b[0m \u001b[1;33m\u001b[0m\u001b[0m\n\u001b[0;32m      3\u001b[0m \u001b[0mdf_combinado_log\u001b[0m\u001b[1;33m.\u001b[0m\u001b[0mloc\u001b[0m\u001b[1;33m[\u001b[0m\u001b[1;33m:\u001b[0m\u001b[1;33m,\u001b[0m \u001b[1;33m[\u001b[0m\u001b[1;34m'ClosBtcEur'\u001b[0m\u001b[1;33m,\u001b[0m \u001b[1;34m'CloseGoog'\u001b[0m\u001b[1;33m,\u001b[0m \u001b[1;34m'CloseAmzn'\u001b[0m\u001b[1;33m,\u001b[0m \u001b[1;34m'CloseFb'\u001b[0m\u001b[1;33m,\u001b[0m \u001b[1;34m'CloseMsft'\u001b[0m\u001b[1;33m]\u001b[0m\u001b[1;33m]\u001b[0m\u001b[1;33m.\u001b[0m\u001b[0mboxplot\u001b[0m\u001b[1;33m(\u001b[0m\u001b[1;33m)\u001b[0m\u001b[1;33m\u001b[0m\u001b[1;33m\u001b[0m\u001b[0m\n",
      "\u001b[1;31mTypeError\u001b[0m: loop of ufunc does not support argument 0 of type str which has no callable log method"
     ]
    }
   ],
   "source": [
    "df_combinado_log = np.log(df_combinado)\n",
    "\n",
    "df_combinado_log.loc[:, ['ClosBtcEur', 'CloseGoog', 'CloseAmzn', 'CloseFb', 'CloseMsft']].boxplot()"
   ]
  },
  {
   "cell_type": "code",
   "execution_count": 441,
   "metadata": {},
   "outputs": [
    {
     "ename": "NameError",
     "evalue": "name 'df_combinado_log' is not defined",
     "output_type": "error",
     "traceback": [
      "\u001b[1;31m---------------------------------------------------------------------------\u001b[0m",
      "\u001b[1;31mNameError\u001b[0m                                 Traceback (most recent call last)",
      "\u001b[1;32m<ipython-input-441-b6ad2b2837b4>\u001b[0m in \u001b[0;36m<module>\u001b[1;34m\u001b[0m\n\u001b[1;32m----> 1\u001b[1;33m \u001b[0mdf_combinado_log\u001b[0m\u001b[1;33m.\u001b[0m\u001b[0mloc\u001b[0m\u001b[1;33m[\u001b[0m\u001b[1;33m:\u001b[0m\u001b[1;33m,\u001b[0m \u001b[1;33m[\u001b[0m\u001b[1;34m'ClosBtcEur'\u001b[0m\u001b[1;33m,\u001b[0m \u001b[1;34m'CloseGoog'\u001b[0m\u001b[1;33m,\u001b[0m \u001b[1;34m'CloseAmzn'\u001b[0m\u001b[1;33m,\u001b[0m \u001b[1;34m'CloseFb'\u001b[0m\u001b[1;33m,\u001b[0m \u001b[1;34m'CloseMsft'\u001b[0m\u001b[1;33m]\u001b[0m\u001b[1;33m]\u001b[0m\u001b[1;33m.\u001b[0m\u001b[0mplot\u001b[0m\u001b[1;33m(\u001b[0m\u001b[1;33m)\u001b[0m\u001b[1;33m\u001b[0m\u001b[1;33m\u001b[0m\u001b[0m\n\u001b[0m",
      "\u001b[1;31mNameError\u001b[0m: name 'df_combinado_log' is not defined"
     ]
    }
   ],
   "source": [
    "df_combinado_log.loc[:, ['ClosBtcEur', 'CloseGoog', 'CloseAmzn', 'CloseFb', 'CloseMsft']].plot()"
   ]
  },
  {
   "cell_type": "code",
   "execution_count": 37,
   "metadata": {},
   "outputs": [
    {
     "data": {
      "text/html": [
       "<div>\n",
       "<style scoped>\n",
       "    .dataframe tbody tr th:only-of-type {\n",
       "        vertical-align: middle;\n",
       "    }\n",
       "\n",
       "    .dataframe tbody tr th {\n",
       "        vertical-align: top;\n",
       "    }\n",
       "\n",
       "    .dataframe thead th {\n",
       "        text-align: right;\n",
       "    }\n",
       "</style>\n",
       "<table border=\"1\" class=\"dataframe\">\n",
       "  <thead>\n",
       "    <tr style=\"text-align: right;\">\n",
       "      <th></th>\n",
       "      <th>ClosBtcEur</th>\n",
       "      <th>CloseGoog</th>\n",
       "      <th>CloseAmzn</th>\n",
       "      <th>CloseFb</th>\n",
       "      <th>CloseMsft</th>\n",
       "    </tr>\n",
       "    <tr>\n",
       "      <th>Date</th>\n",
       "      <th></th>\n",
       "      <th></th>\n",
       "      <th></th>\n",
       "      <th></th>\n",
       "      <th></th>\n",
       "    </tr>\n",
       "  </thead>\n",
       "  <tbody>\n",
       "    <tr>\n",
       "      <th>2014-09-17</th>\n",
       "      <td>6.125414</td>\n",
       "      <td>6.368477</td>\n",
       "      <td>5.780744</td>\n",
       "      <td>4.336375</td>\n",
       "      <td>3.839882</td>\n",
       "    </tr>\n",
       "    <tr>\n",
       "      <th>2014-09-18</th>\n",
       "      <td>6.050771</td>\n",
       "      <td>6.376143</td>\n",
       "      <td>5.783825</td>\n",
       "      <td>4.343805</td>\n",
       "      <td>3.843316</td>\n",
       "    </tr>\n",
       "    <tr>\n",
       "      <th>2014-09-19</th>\n",
       "      <td>5.978369</td>\n",
       "      <td>6.387633</td>\n",
       "      <td>5.803085</td>\n",
       "      <td>4.355554</td>\n",
       "      <td>3.861151</td>\n",
       "    </tr>\n",
       "    <tr>\n",
       "      <th>2014-09-20</th>\n",
       "      <td>6.013480</td>\n",
       "      <td>6.387633</td>\n",
       "      <td>5.803085</td>\n",
       "      <td>4.355554</td>\n",
       "      <td>3.861151</td>\n",
       "    </tr>\n",
       "    <tr>\n",
       "      <th>2014-09-21</th>\n",
       "      <td>5.988513</td>\n",
       "      <td>6.387633</td>\n",
       "      <td>5.803085</td>\n",
       "      <td>4.355554</td>\n",
       "      <td>3.861151</td>\n",
       "    </tr>\n",
       "  </tbody>\n",
       "</table>\n",
       "</div>"
      ],
      "text/plain": [
       "            ClosBtcEur  CloseGoog  CloseAmzn   CloseFb  CloseMsft\n",
       "Date                                                             \n",
       "2014-09-17    6.125414   6.368477   5.780744  4.336375   3.839882\n",
       "2014-09-18    6.050771   6.376143   5.783825  4.343805   3.843316\n",
       "2014-09-19    5.978369   6.387633   5.803085  4.355554   3.861151\n",
       "2014-09-20    6.013480   6.387633   5.803085  4.355554   3.861151\n",
       "2014-09-21    5.988513   6.387633   5.803085  4.355554   3.861151"
      ]
     },
     "execution_count": 37,
     "metadata": {},
     "output_type": "execute_result"
    }
   ],
   "source": [
    "df_combinado_log.head()  "
   ]
  },
  {
   "cell_type": "code",
   "execution_count": 38,
   "metadata": {},
   "outputs": [
    {
     "data": {
      "text/html": [
       "<div>\n",
       "<style scoped>\n",
       "    .dataframe tbody tr th:only-of-type {\n",
       "        vertical-align: middle;\n",
       "    }\n",
       "\n",
       "    .dataframe tbody tr th {\n",
       "        vertical-align: top;\n",
       "    }\n",
       "\n",
       "    .dataframe thead th {\n",
       "        text-align: right;\n",
       "    }\n",
       "</style>\n",
       "<table border=\"1\" class=\"dataframe\">\n",
       "  <thead>\n",
       "    <tr style=\"text-align: right;\">\n",
       "      <th></th>\n",
       "      <th>ClosBtcEur</th>\n",
       "      <th>CloseGoog</th>\n",
       "      <th>CloseAmzn</th>\n",
       "      <th>CloseFb</th>\n",
       "      <th>CloseMsft</th>\n",
       "    </tr>\n",
       "    <tr>\n",
       "      <th>Date</th>\n",
       "      <th></th>\n",
       "      <th></th>\n",
       "      <th></th>\n",
       "      <th></th>\n",
       "      <th></th>\n",
       "    </tr>\n",
       "  </thead>\n",
       "  <tbody>\n",
       "    <tr>\n",
       "      <th>2021-01-02</th>\n",
       "      <td>10.377460</td>\n",
       "      <td>7.468445</td>\n",
       "      <td>8.088540</td>\n",
       "      <td>5.610058</td>\n",
       "      <td>5.404567</td>\n",
       "    </tr>\n",
       "    <tr>\n",
       "      <th>2021-01-03</th>\n",
       "      <td>10.397636</td>\n",
       "      <td>7.468445</td>\n",
       "      <td>8.088540</td>\n",
       "      <td>5.610058</td>\n",
       "      <td>5.404567</td>\n",
       "    </tr>\n",
       "    <tr>\n",
       "      <th>2021-01-04</th>\n",
       "      <td>10.372613</td>\n",
       "      <td>7.454859</td>\n",
       "      <td>8.066719</td>\n",
       "      <td>5.594488</td>\n",
       "      <td>5.383072</td>\n",
       "    </tr>\n",
       "    <tr>\n",
       "      <th>2021-01-05</th>\n",
       "      <td>10.433893</td>\n",
       "      <td>7.462169</td>\n",
       "      <td>8.076674</td>\n",
       "      <td>5.602008</td>\n",
       "      <td>5.384036</td>\n",
       "    </tr>\n",
       "    <tr>\n",
       "      <th>2021-01-06</th>\n",
       "      <td>10.455696</td>\n",
       "      <td>7.462169</td>\n",
       "      <td>8.076674</td>\n",
       "      <td>5.602008</td>\n",
       "      <td>5.384036</td>\n",
       "    </tr>\n",
       "  </tbody>\n",
       "</table>\n",
       "</div>"
      ],
      "text/plain": [
       "            ClosBtcEur  CloseGoog  CloseAmzn   CloseFb  CloseMsft\n",
       "Date                                                             \n",
       "2021-01-02   10.377460   7.468445   8.088540  5.610058   5.404567\n",
       "2021-01-03   10.397636   7.468445   8.088540  5.610058   5.404567\n",
       "2021-01-04   10.372613   7.454859   8.066719  5.594488   5.383072\n",
       "2021-01-05   10.433893   7.462169   8.076674  5.602008   5.384036\n",
       "2021-01-06   10.455696   7.462169   8.076674  5.602008   5.384036"
      ]
     },
     "execution_count": 38,
     "metadata": {},
     "output_type": "execute_result"
    }
   ],
   "source": [
    "df_combinado_log.tail() "
   ]
  },
  {
   "cell_type": "markdown",
   "metadata": {},
   "source": [
    "# ¿Cuántos rezagos usar?\n",
    "\n",
    "Dado que el objetivo del proyecot es predecir los precios de cierre de Bitcoins, en función de los precios de cierre de las empresas de tecnología seleccionadas, tendremos que determinar primero con cuantos periodos de rezagos debemos trabajar, esto es si queremos saber el precio de cierre del Bitcoins en el período t, la idea sería tomar los precios de cierre en los períodos anteriores (t-1, t-2, t-2, t-4...t-k) que son conocidos al momento de hacer la predicción.\n",
    "\n",
    "Los siguientes pasos modificaran el dataframe, para lograr esta estructura para modelar\n",
    "\n",
    "Trabajaremos con el dataframe transformado en logarítmos"
   ]
  },
  {
   "cell_type": "code",
   "execution_count": 443,
   "metadata": {},
   "outputs": [
    {
     "name": "stdout",
     "output_type": "stream",
     "text": [
      "Número de filas del dataframe original:  92\n"
     ]
    },
    {
     "ename": "NameError",
     "evalue": "name 'df_combinado_log' is not defined",
     "output_type": "error",
     "traceback": [
      "\u001b[1;31m---------------------------------------------------------------------------\u001b[0m",
      "\u001b[1;31mNameError\u001b[0m                                 Traceback (most recent call last)",
      "\u001b[1;32m<ipython-input-443-c33bfc447e7c>\u001b[0m in \u001b[0;36m<module>\u001b[1;34m\u001b[0m\n\u001b[0;32m      1\u001b[0m \u001b[0mprint\u001b[0m\u001b[1;33m(\u001b[0m\u001b[1;34m\"Número de filas del dataframe original: \"\u001b[0m\u001b[1;33m,\u001b[0m\u001b[0mdf_combinado\u001b[0m\u001b[1;33m.\u001b[0m\u001b[0mshape\u001b[0m\u001b[1;33m[\u001b[0m\u001b[1;36m0\u001b[0m\u001b[1;33m]\u001b[0m\u001b[1;33m)\u001b[0m\u001b[1;33m\u001b[0m\u001b[1;33m\u001b[0m\u001b[0m\n\u001b[1;32m----> 2\u001b[1;33m \u001b[0mprint\u001b[0m\u001b[1;33m(\u001b[0m\u001b[1;34m\"Número de filas del dataframe transformado en logaritmos: \"\u001b[0m\u001b[1;33m,\u001b[0m\u001b[0mdf_combinado_log\u001b[0m\u001b[1;33m.\u001b[0m\u001b[0mshape\u001b[0m\u001b[1;33m[\u001b[0m\u001b[1;36m0\u001b[0m\u001b[1;33m]\u001b[0m\u001b[1;33m)\u001b[0m\u001b[1;33m\u001b[0m\u001b[1;33m\u001b[0m\u001b[0m\n\u001b[0m",
      "\u001b[1;31mNameError\u001b[0m: name 'df_combinado_log' is not defined"
     ]
    }
   ],
   "source": [
    "print(\"Número de filas del dataframe original: \",df_combinado.shape[0])\n",
    "print(\"Número de filas del dataframe transformado en logaritmos: \",df_combinado_log.shape[0])\n"
   ]
  },
  {
   "cell_type": "code",
   "execution_count": 40,
   "metadata": {},
   "outputs": [
    {
     "name": "stdout",
     "output_type": "stream",
     "text": [
      "Matriz de correlaciones del dataframe en logaritmos\n",
      "\n",
      "            ClosBtcEur  CloseGoog  CloseAmzn   CloseFb  CloseMsft\n",
      "ClosBtcEur    1.000000   0.939073   0.926605  0.934863   0.907827\n",
      "CloseGoog     0.939073   1.000000   0.980698  0.973778   0.960315\n",
      "CloseAmzn     0.926605   0.980698   1.000000  0.957867   0.958233\n",
      "CloseFb       0.934863   0.973778   0.957867  1.000000   0.920217\n",
      "CloseMsft     0.907827   0.960315   0.958233  0.920217   1.000000\n",
      "\n"
     ]
    }
   ],
   "source": [
    "# Matriz de correlaciones del dataframe en logaritmos y en diferencias de logaritmos\n",
    "\n",
    "print(\"Matriz de correlaciones del dataframe en logaritmos\")\n",
    "print()\n",
    "print(df_combinado_log.corr())\n",
    "print()"
   ]
  },
  {
   "cell_type": "code",
   "execution_count": 41,
   "metadata": {},
   "outputs": [],
   "source": [
    "# Con estas dos funciones se generan los datos al número de rezagos que se quiera modelar\n",
    "\n",
    "def rezagos_y(df, rezagos):\n",
    "    y = df.iloc[0:df_combinado.shape[0]-rezagos]\n",
    "    return y\n",
    "\n",
    "def rezagos_X(df, rezagos):\n",
    "    X = df.iloc[rezagos:df_combinado.shape[0]]\n",
    "    return X"
   ]
  },
  {
   "cell_type": "code",
   "execution_count": 42,
   "metadata": {},
   "outputs": [],
   "source": [
    "# Separación de los datasets de entrenamiento y prueba para los rezagos desede i= 1...7\n",
    "\n",
    "y = df_combinado_log.iloc[:,0]\n",
    "X = df_combinado_log.loc[:,['CloseGoog','CloseAmzn','CloseFb','CloseMsft']]\n",
    "y_list = []\n",
    "X_list = []\n",
    "\n",
    "for i in range(1,8):\n",
    "    y_rezagos = rezagos_y(y,i)\n",
    "    y_list.append(y_rezagos)\n",
    "    X_rezagos =rezagos_X(X,i)\n",
    "    X_list.append(X_rezagos)"
   ]
  },
  {
   "cell_type": "code",
   "execution_count": 43,
   "metadata": {},
   "outputs": [],
   "source": [
    "# Librerias para correr Regresión - Un Rezago\n",
    "from sklearn.model_selection import train_test_split\n",
    "from sklearn import linear_model\n",
    "from sklearn.metrics import mean_squared_error, r2_score\n",
    "from sklearn.preprocessing import StandardScaler\n",
    "\n",
    "#Listas donde se va a guardar el error cuadrático medio y el coeficiente de determinación de cada uno de los modelos\n",
    "EcmTrainRegMult = []\n",
    "R2_TrainRegMult = []\n",
    "EcmTestRegMult = []\n",
    "R2_TestRegMult = []\n",
    "X_trainStand = []\n",
    "y_trainStand = []\n",
    "X_testStand = []\n",
    "y_testStand =[]\n",
    "predTest =[]\n",
    "\n",
    "\n",
    "#Entrenamiento del algoritmode regresión lineal múltiple para los modelos con rezagos desde 1 hasta 7\n",
    "for i in range(7):\n",
    "    #Se estandarizan los datos por las variciones en las magnitudes,\n",
    "    #aún cuando todas las variables están en la misma escacal (log(USD))\n",
    "\n",
    "    y =y_list[i].values\n",
    "    y =y.reshape(-1,1)\n",
    "    X = X_list[i]\n",
    "    sc_X = StandardScaler()\n",
    "    sc_y = StandardScaler()\n",
    "    X = sc_X.fit_transform(X)\n",
    "    y = sc_y.fit_transform(y)\n",
    "    \n",
    "\n",
    "    \n",
    "    X_train, X_test, y_train, y_test = train_test_split(X, y, test_size = 0.3, random_state=1964)\n",
    "    #Actualizar lista con DF estandarizados\n",
    "    X_trainStand.append(X_train)\n",
    "    y_trainStand.append(y_train)\n",
    "    X_testStand.append(X_test)\n",
    "    y_testStand.append(y_test)\n",
    "    # Estimación de los modelos\n",
    "    modeloRLineal = linear_model.LinearRegression()\n",
    "    modeloRLineal.fit(X_train, y_train)\n",
    "    # Predicciones con los datos de entrenamiento\n",
    "    y_predTrain= modeloRLineal.predict(X_train)\n",
    "    \n",
    "    ErrorCueadraticoMedioTrain = mean_squared_error(y_train, y_predTrain)\n",
    "    EcmTrainRegMult.append(ErrorCueadraticoMedioTrain)\n",
    "    R2_Train = r2_score(y_train, y_predTrain)\n",
    "    R2_TrainRegMult.append(R2_Train)\n",
    "\n",
    "    #Validación del algoritmo de regresión lineal múltiple para los modelos con rezagos desde 1 hasta 7\n",
    "    \n",
    "    # Predicciones sobre el conjunto de prueba\n",
    "    y_predTest = modeloRLineal.predict(X_test)\n",
    "    predTest.append(y_predTest)\n",
    "    ErrorCuadraticoMedioTest = mean_squared_error(y_test, y_predTest)\n",
    "    EcmTestRegMult.append(ErrorCuadraticoMedioTest)\n",
    "    R2_Test = r2_score(y_test, y_predTest)\n",
    "    R2_TestRegMult.append(R2_Test)"
   ]
  },
  {
   "cell_type": "code",
   "execution_count": 44,
   "metadata": {},
   "outputs": [],
   "source": [
    "import sklearn.svm as svm\n",
    "\n",
    "\n",
    "#Listas donde se va a guardar el error cuadrático medio y el coeficiente de determinación de cada uno de los modelos\n",
    "\n",
    "kernel = ['linear', 'poly', 'rbf']\n",
    "\n",
    "# SVM - kernel lineal\n",
    "EcmTrainSVR_Klinear = []\n",
    "R2_TrainSVR_Klinear = []\n",
    "EcmTestSVR_Klinear = []\n",
    "R2_TestSVR_Klinear = []\n",
    "predTestSVR_Klinear =[]\n",
    "\n",
    "# SVM - kernel Polinómico\n",
    "EcmTrainSVR_Kpoly = []\n",
    "R2_TrainSVR_Kpoly = []\n",
    "EcmTestSVR_Kpoly = []\n",
    "R2_TestSVR_Kpoly = []\n",
    "predTestSVR_Kpoly =[]\n",
    "\n",
    "# SVM - kernel rbf\n",
    "\n",
    "EcmTrainSVR_Krbf = []\n",
    "R2_TrainSVR_Krbf = []\n",
    "EcmTestSVR_Krbf = []\n",
    "R2_TestSVR_Krbf = []\n",
    "predTestSVR_Krbf =[]"
   ]
  },
  {
   "cell_type": "code",
   "execution_count": 45,
   "metadata": {},
   "outputs": [
    {
     "name": "stderr",
     "output_type": "stream",
     "text": [
      "C:\\Users\\rmoli\\Anaconda3\\envs\\ITT_BigData\\lib\\site-packages\\sklearn\\utils\\validation.py:72: DataConversionWarning: A column-vector y was passed when a 1d array was expected. Please change the shape of y to (n_samples, ), for example using ravel().\n",
      "  return f(**kwargs)\n",
      "C:\\Users\\rmoli\\Anaconda3\\envs\\ITT_BigData\\lib\\site-packages\\sklearn\\utils\\validation.py:72: DataConversionWarning: A column-vector y was passed when a 1d array was expected. Please change the shape of y to (n_samples, ), for example using ravel().\n",
      "  return f(**kwargs)\n",
      "C:\\Users\\rmoli\\Anaconda3\\envs\\ITT_BigData\\lib\\site-packages\\sklearn\\utils\\validation.py:72: DataConversionWarning: A column-vector y was passed when a 1d array was expected. Please change the shape of y to (n_samples, ), for example using ravel().\n",
      "  return f(**kwargs)\n",
      "C:\\Users\\rmoli\\Anaconda3\\envs\\ITT_BigData\\lib\\site-packages\\sklearn\\utils\\validation.py:72: DataConversionWarning: A column-vector y was passed when a 1d array was expected. Please change the shape of y to (n_samples, ), for example using ravel().\n",
      "  return f(**kwargs)\n",
      "C:\\Users\\rmoli\\Anaconda3\\envs\\ITT_BigData\\lib\\site-packages\\sklearn\\utils\\validation.py:72: DataConversionWarning: A column-vector y was passed when a 1d array was expected. Please change the shape of y to (n_samples, ), for example using ravel().\n",
      "  return f(**kwargs)\n",
      "C:\\Users\\rmoli\\Anaconda3\\envs\\ITT_BigData\\lib\\site-packages\\sklearn\\utils\\validation.py:72: DataConversionWarning: A column-vector y was passed when a 1d array was expected. Please change the shape of y to (n_samples, ), for example using ravel().\n",
      "  return f(**kwargs)\n",
      "C:\\Users\\rmoli\\Anaconda3\\envs\\ITT_BigData\\lib\\site-packages\\sklearn\\utils\\validation.py:72: DataConversionWarning: A column-vector y was passed when a 1d array was expected. Please change the shape of y to (n_samples, ), for example using ravel().\n",
      "  return f(**kwargs)\n",
      "C:\\Users\\rmoli\\Anaconda3\\envs\\ITT_BigData\\lib\\site-packages\\sklearn\\utils\\validation.py:72: DataConversionWarning: A column-vector y was passed when a 1d array was expected. Please change the shape of y to (n_samples, ), for example using ravel().\n",
      "  return f(**kwargs)\n",
      "C:\\Users\\rmoli\\Anaconda3\\envs\\ITT_BigData\\lib\\site-packages\\sklearn\\utils\\validation.py:72: DataConversionWarning: A column-vector y was passed when a 1d array was expected. Please change the shape of y to (n_samples, ), for example using ravel().\n",
      "  return f(**kwargs)\n",
      "C:\\Users\\rmoli\\Anaconda3\\envs\\ITT_BigData\\lib\\site-packages\\sklearn\\utils\\validation.py:72: DataConversionWarning: A column-vector y was passed when a 1d array was expected. Please change the shape of y to (n_samples, ), for example using ravel().\n",
      "  return f(**kwargs)\n",
      "C:\\Users\\rmoli\\Anaconda3\\envs\\ITT_BigData\\lib\\site-packages\\sklearn\\utils\\validation.py:72: DataConversionWarning: A column-vector y was passed when a 1d array was expected. Please change the shape of y to (n_samples, ), for example using ravel().\n",
      "  return f(**kwargs)\n",
      "C:\\Users\\rmoli\\Anaconda3\\envs\\ITT_BigData\\lib\\site-packages\\sklearn\\utils\\validation.py:72: DataConversionWarning: A column-vector y was passed when a 1d array was expected. Please change the shape of y to (n_samples, ), for example using ravel().\n",
      "  return f(**kwargs)\n",
      "C:\\Users\\rmoli\\Anaconda3\\envs\\ITT_BigData\\lib\\site-packages\\sklearn\\utils\\validation.py:72: DataConversionWarning: A column-vector y was passed when a 1d array was expected. Please change the shape of y to (n_samples, ), for example using ravel().\n",
      "  return f(**kwargs)\n",
      "C:\\Users\\rmoli\\Anaconda3\\envs\\ITT_BigData\\lib\\site-packages\\sklearn\\utils\\validation.py:72: DataConversionWarning: A column-vector y was passed when a 1d array was expected. Please change the shape of y to (n_samples, ), for example using ravel().\n",
      "  return f(**kwargs)\n",
      "C:\\Users\\rmoli\\Anaconda3\\envs\\ITT_BigData\\lib\\site-packages\\sklearn\\utils\\validation.py:72: DataConversionWarning: A column-vector y was passed when a 1d array was expected. Please change the shape of y to (n_samples, ), for example using ravel().\n",
      "  return f(**kwargs)\n",
      "C:\\Users\\rmoli\\Anaconda3\\envs\\ITT_BigData\\lib\\site-packages\\sklearn\\utils\\validation.py:72: DataConversionWarning: A column-vector y was passed when a 1d array was expected. Please change the shape of y to (n_samples, ), for example using ravel().\n",
      "  return f(**kwargs)\n",
      "C:\\Users\\rmoli\\Anaconda3\\envs\\ITT_BigData\\lib\\site-packages\\sklearn\\utils\\validation.py:72: DataConversionWarning: A column-vector y was passed when a 1d array was expected. Please change the shape of y to (n_samples, ), for example using ravel().\n",
      "  return f(**kwargs)\n",
      "C:\\Users\\rmoli\\Anaconda3\\envs\\ITT_BigData\\lib\\site-packages\\sklearn\\utils\\validation.py:72: DataConversionWarning: A column-vector y was passed when a 1d array was expected. Please change the shape of y to (n_samples, ), for example using ravel().\n",
      "  return f(**kwargs)\n",
      "C:\\Users\\rmoli\\Anaconda3\\envs\\ITT_BigData\\lib\\site-packages\\sklearn\\utils\\validation.py:72: DataConversionWarning: A column-vector y was passed when a 1d array was expected. Please change the shape of y to (n_samples, ), for example using ravel().\n",
      "  return f(**kwargs)\n",
      "C:\\Users\\rmoli\\Anaconda3\\envs\\ITT_BigData\\lib\\site-packages\\sklearn\\utils\\validation.py:72: DataConversionWarning: A column-vector y was passed when a 1d array was expected. Please change the shape of y to (n_samples, ), for example using ravel().\n",
      "  return f(**kwargs)\n",
      "C:\\Users\\rmoli\\Anaconda3\\envs\\ITT_BigData\\lib\\site-packages\\sklearn\\utils\\validation.py:72: DataConversionWarning: A column-vector y was passed when a 1d array was expected. Please change the shape of y to (n_samples, ), for example using ravel().\n",
      "  return f(**kwargs)\n"
     ]
    }
   ],
   "source": [
    "# Entrenamiento preduicción correspondiete a los modelos SVM\n",
    "\n",
    "for k in range(len(kernel)):\n",
    "    for i in range(7):\n",
    "        if kernel[k] == \"linear\":\n",
    "            # Entrenamiento SVM - Kernel lieal\n",
    "            modeloSVR_Klinear = svm.SVR(kernel=kernel[k], gamma='auto')\n",
    "            modeloSVR_Klinear.fit(X_trainStand[i], y_trainStand[i])\n",
    "            # Predicciones con los datos de entrenamiento\n",
    "            y_predTrain= modeloSVR_Klinear.predict(X_trainStand[i])\n",
    "            \n",
    "            # Cálculo de las medidas de ajuste del algoritmo conjunto de entrenamiento\n",
    "            ErrorCueadraticoMedioTrain = mean_squared_error(y_trainStand[i], y_predTrain)\n",
    "            EcmTrainSVR_Klinear.append(ErrorCueadraticoMedioTrain)\n",
    "            R2_Train = r2_score(y_trainStand[i], y_predTrain)\n",
    "            R2_TrainSVR_Klinear.append(R2_Train)\n",
    "            \n",
    "            # Predicciones sobre el conjunto de prueba\n",
    "            y_predTest = modeloSVR_Klinear.predict(X_testStand[i])\n",
    "            predTestSVR_Klinear.append(y_predTest)\n",
    "           \n",
    "            # Cálculo de las medidas de ajuste del algoritmo conjunto de entrenamiento\n",
    "            ErrorCuadraticoMedioTest = mean_squared_error(y_testStand[i], y_predTest)\n",
    "            EcmTestSVR_Klinear.append(ErrorCuadraticoMedioTest)\n",
    "            R2_Test = r2_score(y_testStand[i], y_predTest)\n",
    "            R2_TestSVR_Klinear.append(R2_Test)\n",
    "\n",
    "        elif kernel[k] == \"poly\":\n",
    "            # Entrenamiento SVM - Kernel polinómico\n",
    "            modeloSVR_Kpoly = svm.SVR(kernel=kernel[k], gamma='auto')\n",
    "            modeloSVR_Kpoly.fit(X_trainStand[i], y_trainStand[i])\n",
    "            # Predicciones con los datos de entrenamiento\n",
    "            y_predTrain= modeloSVR_Kpoly.predict(X_trainStand[i])\n",
    "\n",
    "            # Cálculo de las medidas de ajuste del algoritmo\n",
    "            ErrorCueadraticoMedioTrain = mean_squared_error(y_trainStand[i], y_predTrain)\n",
    "            EcmTrainSVR_Kpoly.append(ErrorCueadraticoMedioTrain)\n",
    "            R2_Train = r2_score(y_trainStand[i], y_predTrain)\n",
    "            R2_TrainSVR_Kpoly.append(R2_Train)\n",
    "            \n",
    "            # Predicciones sobre el conjunto de prueba\n",
    "            y_predTest = modeloSVR_Kpoly.predict(X_testStand[i])\n",
    "            predTestSVR_Kpoly.append(y_predTest)\n",
    "            \n",
    "            # Cálculo de las medidas de ajuste del algoritmo conjunto de entrenamiento\n",
    "            ErrorCuadraticoMedioTest = mean_squared_error(y_testStand[i], y_predTest)\n",
    "            EcmTestSVR_Kpoly.append(ErrorCuadraticoMedioTest)\n",
    "            R2_Test = r2_score(y_testStand[i], y_predTest)\n",
    "            R2_TestSVR_Kpoly.append(R2_Test)\n",
    "\n",
    "        else:\n",
    "            # Entrenamiento SVM - Kernel rbf\n",
    "            modeloSVR_Krbf = svm.SVR(kernel=kernel[k], gamma='auto')\n",
    "            modeloSVR_Krbf.fit(X_trainStand[i], y_trainStand[i])\n",
    "            # Predicciones con los datos de entrenamiento\n",
    "            y_predTrain= modeloSVR_Krbf.predict(X_trainStand[i])\n",
    "\n",
    "            # Cálculo de las medidas de ajuste del algoritmo\n",
    "            ErrorCueadraticoMedioTrain = mean_squared_error(y_trainStand[i], y_predTrain)\n",
    "            EcmTrainSVR_Krbf.append(ErrorCueadraticoMedioTrain)\n",
    "            R2_Train = r2_score(y_trainStand[i], y_predTrain)\n",
    "            R2_TrainSVR_Krbf.append(R2_Train)\n",
    "            \n",
    "            # Predicciones sobre el conjunto de prueba\n",
    "            y_predTest = modeloSVR_Krbf.predict(X_testStand[i])\n",
    "            predTestSVR_Krbf.append(y_predTest)\n",
    "            \n",
    "            # Cálculo de las medidas de ajuste del algoritmo conjunto de entrenamiento\n",
    "            ErrorCuadraticoMedioTest = mean_squared_error(y_testStand[i], y_predTest)\n",
    "            EcmTestSVR_Krbf.append(ErrorCuadraticoMedioTest)\n",
    "            R2_Test = r2_score(y_testStand[i], y_predTest)\n",
    "            R2_TestSVR_Krbf.append(R2_Test)\n"
   ]
  },
  {
   "cell_type": "code",
   "execution_count": 46,
   "metadata": {},
   "outputs": [
    {
     "name": "stdout",
     "output_type": "stream",
     "text": [
      "=====================================================================================================\n",
      "Resumen de los modelos de Regresión corrido para los rezagos de 1 hasta siete:\n",
      "\n",
      "El menor Error Cuadrático Medio en los datos de entreanamientos es: 0.1059\n",
      "Corresponde al modelo con:  1  Rezago(s)\n",
      "\n",
      "El mayor Coeficiente de determinación (R2) en los datos de entreanamientos es: 0.8924\n",
      "Corresponde al modelo con:  1  Rezago(s)\n",
      "\n",
      "El menor Error Cuadrático Medio en los datos de prueba es: 0.1094\n",
      "Corresponde al modelo con:  4  Rezago(s)\n",
      "\n",
      "El mayor Coeficiente de determinación (R2) en los datos de prueba es: 0.8918\n",
      "Corresponde al modelo con:  4  Rezago(s)\n",
      "=====================================================================================================\n",
      "Resumen de los modelos de SVM -Kernel linear , corrido para los rezagos de 1 hasta siete:\n",
      "\n",
      "El menor Error Cuadrático Medio en los datos de entreanamientos es: 0.112\n",
      "Corresponde al modelo con:  1  Rezago(s)\n",
      "\n",
      "El mayor Coeficiente de determinación (R2) en los datos de entreanamientos es: 0.8861\n",
      "Corresponde al modelo con:  1  Rezago(s)\n",
      "\n",
      "El menor Error Cuadrático Medio en los datos de prueba es: 0.1156\n",
      "Corresponde al modelo con:  3  Rezago(s)\n",
      "\n",
      "El mayor Coeficiente de determinación (R2) en los datos de prueba es: 0.8867\n",
      "Corresponde al modelo con:  3  Rezago(s)\n",
      "=====================================================================================================\n",
      "Resumen de los modelos de SVM -Kernel poly , corrido para los rezagos de 1 hasta siete:\n",
      "\n",
      "El menor Error Cuadrático Medio en los datos de entreanamientos es: 0.3554\n",
      "Corresponde al modelo con:  3  Rezago(s)\n",
      "\n",
      "El mayor Coeficiente de determinación (R2) en los datos de entreanamientos es: 0.6412\n",
      "Corresponde al modelo con:  3  Rezago(s)\n",
      "\n",
      "El menor Error Cuadrático Medio en los datos de prueba es: 0.352\n",
      "Corresponde al modelo con:  5  Rezago(s)\n",
      "\n",
      "El mayor Coeficiente de determinación (R2) en los datos de prueba es: 0.6547\n",
      "Corresponde al modelo con:  2  Rezago(s)\n",
      "=====================================================================================================\n",
      "Resumen de los modelos de SVM -Kernel rbf , corrido para los rezagos de 1 hasta siete:\n",
      "\n",
      "El menor Error Cuadrático Medio en los datos de entreanamientos es: 0.0192\n",
      "Corresponde al modelo con:  1  Rezago(s)\n",
      "\n",
      "El mayor Coeficiente de determinación (R2) en los datos de entreanamientos es: 0.9805\n",
      "Corresponde al modelo con:  1  Rezago(s)\n",
      "\n",
      "El menor Error Cuadrático Medio en los datos de prueba es: 0.0185\n",
      "Corresponde al modelo con:  4  Rezago(s)\n",
      "\n",
      "El mayor Coeficiente de determinación (R2) en los datos de prueba es: 0.9817\n",
      "Corresponde al modelo con:  4  Rezago(s)\n"
     ]
    }
   ],
   "source": [
    "'''A continuación se imprimen el ajuste de los 28 modelos corridos a saber:\n",
    "    1.- Siete modelos de Regresión Múltiple.\n",
    "    2.- Siete modelos de Máquina de Soporte Vectorial, con kernel Lineal.\n",
    "    3.- Siete modelos de Máquina de Soporte Vectorial, con kernel Polinómico.\n",
    "    4.- Siete modelos de Máquina de Soporte Vectorial, con kernel Radial.'''\n",
    "\n",
    "print(\"=====================================================================================================\")\n",
    "print(\"Resumen de los modelos de Regresión corrido para los rezagos de 1 hasta siete:\")\n",
    "print()\n",
    "print(\"El menor Error Cuadrático Medio en los datos de entreanamientos es:\", round(np.min(EcmTrainRegMult), 4))\n",
    "print(\"Corresponde al modelo con: \",EcmTrainRegMult.index(np.min(EcmTrainRegMult))+1,\" Rezago(s)\")\n",
    "print()\n",
    "print(\"El mayor Coeficiente de determinación (R2) en los datos de entreanamientos es:\", round(np.max(R2_TrainRegMult), 4))\n",
    "print(\"Corresponde al modelo con: \",R2_TrainRegMult.index(np.max(R2_TrainRegMult))+1,\" Rezago(s)\")\n",
    "print()\n",
    "print(\"El menor Error Cuadrático Medio en los datos de prueba es:\", round(np.min(EcmTestRegMult), 4))\n",
    "print(\"Corresponde al modelo con: \",EcmTestRegMult.index(np.min(EcmTestRegMult))+1,\" Rezago(s)\")\n",
    "print()\n",
    "print(\"El mayor Coeficiente de determinación (R2) en los datos de prueba es:\", round(np.max(R2_TestRegMult), 4))\n",
    "print(\"Corresponde al modelo con: \",R2_TestRegMult.index(np.max(R2_TestRegMult))+1,\" Rezago(s)\")\n",
    "\n",
    "\n",
    "\n",
    "for k in range(len(kernel)):\n",
    "    print(\"=====================================================================================================\")\n",
    "    print(\"Resumen de los modelos de SVM -Kernel\", kernel[k], \", corrido para los rezagos de 1 hasta siete:\")\n",
    "    print()\n",
    "    \n",
    "    if kernel[k] == 'linear':\n",
    "        print(\"El menor Error Cuadrático Medio en los datos de entreanamientos es:\", round(np.min(EcmTrainSVR_Klinear), 4))\n",
    "        print(\"Corresponde al modelo con: \",EcmTrainSVR_Klinear.index(np.min(EcmTrainSVR_Klinear))+1,\" Rezago(s)\")\n",
    "        print()\n",
    "        print(\"El mayor Coeficiente de determinación (R2) en los datos de entreanamientos es:\", round(np.max(R2_TrainSVR_Klinear), 4))\n",
    "        print(\"Corresponde al modelo con: \",R2_TrainSVR_Klinear.index(np.max(R2_TrainSVR_Klinear))+1,\" Rezago(s)\")\n",
    "        print()\n",
    "        print(\"El menor Error Cuadrático Medio en los datos de prueba es:\", round(np.min(EcmTestSVR_Klinear), 4))\n",
    "        print(\"Corresponde al modelo con: \",EcmTestSVR_Klinear.index(np.min(EcmTestSVR_Klinear))+1,\" Rezago(s)\")\n",
    "        print()\n",
    "        print(\"El mayor Coeficiente de determinación (R2) en los datos de prueba es:\", round(np.max(R2_TestSVR_Klinear), 4))\n",
    "        print(\"Corresponde al modelo con: \",R2_TestSVR_Klinear.index(np.max(R2_TestSVR_Klinear))+1,\" Rezago(s)\")\n",
    "        \n",
    "    elif kernel[k] == 'poly':\n",
    "        print(\"El menor Error Cuadrático Medio en los datos de entreanamientos es:\", round(np.min(EcmTrainSVR_Kpoly), 4))\n",
    "        print(\"Corresponde al modelo con: \",EcmTrainSVR_Kpoly.index(np.min(EcmTrainSVR_Kpoly))+1,\" Rezago(s)\")\n",
    "        print()\n",
    "        print(\"El mayor Coeficiente de determinación (R2) en los datos de entreanamientos es:\", round(np.max(R2_TrainSVR_Kpoly), 4))\n",
    "        print(\"Corresponde al modelo con: \",R2_TrainSVR_Kpoly.index(np.max(R2_TrainSVR_Kpoly))+1,\" Rezago(s)\")\n",
    "        print()\n",
    "        print(\"El menor Error Cuadrático Medio en los datos de prueba es:\", round(np.min(EcmTestSVR_Kpoly), 4))\n",
    "        print(\"Corresponde al modelo con: \",EcmTestSVR_Kpoly.index(np.min(EcmTestSVR_Kpoly))+1,\" Rezago(s)\")\n",
    "        print()\n",
    "        print(\"El mayor Coeficiente de determinación (R2) en los datos de prueba es:\", round(np.max(R2_TestSVR_Kpoly), 4))\n",
    "        print(\"Corresponde al modelo con: \",R2_TestSVR_Kpoly.index(np.max(R2_TestSVR_Kpoly))+1,\" Rezago(s)\")\n",
    "\n",
    "    else:\n",
    "        print(\"El menor Error Cuadrático Medio en los datos de entreanamientos es:\", round(np.min(EcmTrainSVR_Krbf), 4))\n",
    "        print(\"Corresponde al modelo con: \",EcmTrainSVR_Krbf.index(np.min(EcmTrainSVR_Krbf))+1,\" Rezago(s)\")\n",
    "        print()\n",
    "        print(\"El mayor Coeficiente de determinación (R2) en los datos de entreanamientos es:\", round(np.max(R2_TrainSVR_Krbf), 4))\n",
    "        print(\"Corresponde al modelo con: \",R2_TrainSVR_Krbf.index(np.max(R2_TrainSVR_Krbf))+1,\" Rezago(s)\")\n",
    "        print()\n",
    "        print(\"El menor Error Cuadrático Medio en los datos de prueba es:\", round(np.min(EcmTestSVR_Krbf), 4))\n",
    "        print(\"Corresponde al modelo con: \",EcmTestSVR_Krbf.index(np.min(EcmTestSVR_Krbf))+1,\" Rezago(s)\")\n",
    "        print()\n",
    "        print(\"El mayor Coeficiente de determinación (R2) en los datos de prueba es:\", round(np.max(R2_TestSVR_Krbf), 4))\n",
    "        print(\"Corresponde al modelo con: \",R2_TestSVR_Krbf.index(np.max(R2_TestSVR_Krbf))+1,\" Rezago(s)\")\n",
    "        \n",
    " "
   ]
  },
  {
   "cell_type": "markdown",
   "metadata": {},
   "source": [
    "# Selección del algoritmo\n",
    "\n",
    "De los indicadores de ajuste de los distintos modelos entrenados, se tiene que el que mejor resultados arroja tanto en los datos entrenamiento, como de pruebas es el **Algoritmo de Máquina de Soprte Vectorial, utilizando un Kernel Función de Base Radial**. Presenta el menor **Error Cuadrático Medio** tanto en los datos de prueba, como en los de validación con 0.0192 y 0.0185, respectivamente, siendo un 88% más bajos que los Errores cuadráticos medios correspondienent al algoritmo de Regresión Lineal, que fue el segundo en calidad.\n",
    "\n",
    "En cuanto al Coeficiente de determinaciónl los valores son de un ajueste del 98,05% y 98,17%, para el conjunto de entrenamiento y validación respectivamente. Esto es un 10,7% de mejoara en la capacidad predictiva, respecto al algoritmo que llegó en el segundo lugar.\n",
    "\n",
    "Con cuatro Rezagos"
   ]
  },
  {
   "cell_type": "code",
   "execution_count": 47,
   "metadata": {},
   "outputs": [
    {
     "data": {
      "image/png": "[encoded data removed]",
      "text/plain": [
       "<Figure size 432x288 with 1 Axes>"
      ]
     },
     "metadata": {
      "needs_background": "light"
     },
     "output_type": "display_data"
    }
   ],
   "source": [
    "ypos = ['ModeloMSV_Kernel_rbf 1 Rezago','ModeloMSV_Kernel_rbf 2 Rezagos','ModeloMSV_Kernel_rbf 3 Rezagos','ModeloMSV_Kernel_rbf 4 Rezagos',\n",
    "        'ModeloMSV_Kernel_rbf 5 Rezagos','ModeloMSV_Kernel_rbf 6 Rezagos','ModeloMSV_Kernel_rbf 7 Rezagos']\n",
    "\n",
    "\n",
    "plt.barh(ypos, EcmTrainSVR_Krbf, align='center', alpha=0.5)\n",
    "plt.title('Conjunto de Entrenamiento - Error Cuadrático Medio para cada uno de los modelos')\n",
    "plt.xlabel('Error Cuadrático Medio')\n",
    "plt.ylabel('Modelos')\n",
    "plt.xlim(0.0, .025)\n",
    "plt.show()"
   ]
  },
  {
   "cell_type": "code",
   "execution_count": 48,
   "metadata": {},
   "outputs": [
    {
     "data": {
      "image/png": "[encoded data removed]",
      "text/plain": [
       "<Figure size 432x288 with 1 Axes>"
      ]
     },
     "metadata": {
      "needs_background": "light"
     },
     "output_type": "display_data"
    }
   ],
   "source": [
    "plt.barh(ypos, R2_TrainSVR_Krbf, align='center', alpha=0.5)\n",
    "plt.title('Conjunto de Entrenamiento - Coeficiente de determinación para cada uno de los modelos')\n",
    "plt.xlabel('Coeficiente de determinación')\n",
    "plt.ylabel('Modelos')\n",
    "plt.xlim(0.9, 1)\n",
    "plt.show()"
   ]
  },
  {
   "cell_type": "code",
   "execution_count": 49,
   "metadata": {},
   "outputs": [
    {
     "data": {
      "image/png": "[encoded data removed]",
      "text/plain": [
       "<Figure size 432x288 with 1 Axes>"
      ]
     },
     "metadata": {
      "needs_background": "light"
     },
     "output_type": "display_data"
    }
   ],
   "source": [
    "plt.barh(ypos, EcmTestSVR_Krbf, align='center', alpha=0.5)\n",
    "plt.title('Conjunto de Entrenamiento - Error Cuadrático Medio para cada uno de los modelos')\n",
    "plt.xlabel('Error Cuadrático Medio')\n",
    "plt.ylabel('Modelos')\n",
    "plt.xlim(0.0, .025)\n",
    "plt.show()"
   ]
  },
  {
   "cell_type": "code",
   "execution_count": 50,
   "metadata": {},
   "outputs": [
    {
     "data": {
      "image/png": "[encoded data removed]",
      "text/plain": [
       "<Figure size 432x288 with 1 Axes>"
      ]
     },
     "metadata": {
      "needs_background": "light"
     },
     "output_type": "display_data"
    }
   ],
   "source": [
    "plt.barh(ypos, R2_TestSVR_Krbf, align='center', alpha=0.5)\n",
    "plt.title('Conjunto de Entrenamiento - Coeficiente de determinación para cada uno de los modelos')\n",
    "plt.xlabel('Coeficiente de determinación')\n",
    "plt.ylabel('Modelos')\n",
    "plt.xlim(0.9, 1)\n",
    "plt.show()"
   ]
  },
  {
   "cell_type": "code",
   "execution_count": 51,
   "metadata": {},
   "outputs": [],
   "source": [
    "#Cálculo de predicciones en términos de las unidades originales de las variables\n",
    "\n",
    "index = R2_TestSVR_Krbf.index(np.max(R2_TestSVR_Krbf))+1\n",
    "\n",
    "realBitcoinTest = np.exp(sc_y.inverse_transform(y_testStand[index]))\n",
    "precidccionesBitcoinTest = np.exp(sc_y.inverse_transform(predTestSVR_Krbf[index]))"
   ]
  },
  {
   "cell_type": "code",
   "execution_count": 52,
   "metadata": {},
   "outputs": [
    {
     "data": {
      "image/png": "[encoded data removed]",
      "text/plain": [
       "<Figure size 432x288 with 1 Axes>"
      ]
     },
     "metadata": {
      "needs_background": "light"
     },
     "output_type": "display_data"
    }
   ],
   "source": [
    "plt.plot(realBitcoinTest, label = \"Valores Reales\")\n",
    "plt.plot(precidccionesBitcoinTest, label = \"Predicciones\")\n",
    "plt.title(\"Conjunto de Validación - Valores Reales Vs Predichos por el algoritmo de Regresión Múltiple\")\n",
    "plt.legend()\n",
    "plt.show()"
   ]
  },
  {
   "cell_type": "code",
   "execution_count": 53,
   "metadata": {},
   "outputs": [
    {
     "name": "stderr",
     "output_type": "stream",
     "text": [
      "C:\\Users\\rmoli\\Anaconda3\\envs\\ITT_BigData\\lib\\site-packages\\seaborn\\distributions.py:2551: FutureWarning: `distplot` is a deprecated function and will be removed in a future version. Please adapt your code to use either `displot` (a figure-level function with similar flexibility) or `histplot` (an axes-level function for histograms).\n",
      "  warnings.warn(msg, FutureWarning)\n"
     ]
    },
    {
     "data": {
      "image/png": "[encoded data removed]",
      "text/plain": [
       "<Figure size 432x288 with 1 Axes>"
      ]
     },
     "metadata": {
      "needs_background": "light"
     },
     "output_type": "display_data"
    }
   ],
   "source": [
    "import seaborn as sns\n",
    "\n",
    "sns.distplot((realBitcoinTest - precidccionesBitcoinTest), bins = 50)\n",
    "plt.ylabel(\"Densidad\")\n",
    "plt.show()"
   ]
  },
  {
   "cell_type": "markdown",
   "metadata": {},
   "source": [
    "Para entrenar el modelo final, se corre el algoritmo seleccionado, en este caso el de SVR con Kernerl rbf, con cuatro (4) rezagos"
   ]
  },
  {
   "cell_type": "code",
   "execution_count": 54,
   "metadata": {},
   "outputs": [
    {
     "name": "stdout",
     "output_type": "stream",
     "text": [
      "============================================================================================\n",
      "\n",
      "El error cuadrático medio para el modelo final es: 0.0194\n",
      "\n",
      "El coeficiente de determinación(R2) para el modelo final es: 0.9806\n",
      "\n",
      "============================================================================================\n"
     ]
    },
    {
     "name": "stderr",
     "output_type": "stream",
     "text": [
      "C:\\Users\\rmoli\\Anaconda3\\envs\\ITT_BigData\\lib\\site-packages\\sklearn\\utils\\validation.py:72: DataConversionWarning: A column-vector y was passed when a 1d array was expected. Please change the shape of y to (n_samples, ), for example using ravel().\n",
      "  return f(**kwargs)\n"
     ]
    }
   ],
   "source": [
    "# Modelo final\n",
    "\n",
    "# 1.- Extracción de la información correspondiente a las variables y, X\n",
    "y_final = y_list[3]\n",
    "X_final = X_list[3]\n",
    "\n",
    "# 2.- Estandarización de todo el dataframe\n",
    "y_final = y_final.values\n",
    "y_final = y_final.reshape(-1,1)\n",
    "sc_X = StandardScaler()\n",
    "sc_y = StandardScaler()\n",
    "X_final = sc_X.fit_transform(X_final)\n",
    "y_final = sc_y.fit_transform(y_final)\n",
    "\n",
    "\n",
    "# Entrenamiento del modelo Final\n",
    "\n",
    "modeloSVR_Krbf_final = svm.SVR(kernel='rbf', gamma='auto')\n",
    "modeloSVR_Krbf_final.fit(X_final, y_final)\n",
    "\n",
    "# Predicciones con los datos de entrenamiento\n",
    "y_pred_final= modeloSVR_Krbf_final.predict(X_final)\n",
    "\n",
    "# Cálculo de las medidas de ajuste del algoritmo\n",
    "ErrorCueadraticoMedioFinal = mean_squared_error(y_final, y_pred_final)\n",
    "R2_Final = r2_score(y_final, y_pred_final)\n",
    "\n",
    "print(\"============================================================================================\")\n",
    "print()\n",
    "print(\"El error cuadrático medio para el modelo final es:\", round(ErrorCueadraticoMedioFinal,4))\n",
    "print()\n",
    "print(\"El coeficiente de determinación(R2) para el modelo final es:\", round(R2_Final,4))\n",
    "print()\n",
    "print(\"============================================================================================\")"
   ]
  },
  {
   "cell_type": "markdown",
   "metadata": {},
   "source": [
    "Las siguientes líneas de código guardan el modelo final entrenado para ser usado posteriormente con nuevos datos y no tener que pasar por todo el proceso "
   ]
  },
  {
   "cell_type": "code",
   "execution_count": 55,
   "metadata": {},
   "outputs": [
    {
     "data": {
      "text/plain": [
       "['modeloSVR_Krbf_final.pkl']"
      ]
     },
     "execution_count": 55,
     "metadata": {},
     "output_type": "execute_result"
    }
   ],
   "source": [
    "import joblib\n",
    "\n",
    "joblib.dump(sc_X, 'estandariza_X.pkl')\n",
    "joblib.dump(sc_y, 'estandariza_y.pkl')\n",
    "joblib.dump(modeloSVR_Krbf_final, 'modeloSVR_Krbf_final.pkl')"
   ]
  },
  {
   "cell_type": "code",
   "execution_count": 56,
   "metadata": {},
   "outputs": [
    {
     "name": "stdout",
     "output_type": "stream",
     "text": [
      "El tiempo de ejecucion (en segundos) fue: 10.886220693588257 segundos\n"
     ]
    }
   ],
   "source": [
    "fin = time() \n",
    " \n",
    "duracion_ejecucion_script = fin - inicio\n",
    " \n",
    "print('El tiempo de ejecucion (en segundos) fue:',duracion_ejecucion_script,'segundos') #En segundos"
   ]
  }
 ],
 "metadata": {
  "kernelspec": {
   "display_name": "Python 3",
   "language": "python",
   "name": "python3"
  },
  "language_info": {
   "codemirror_mode": {
    "name": "ipython",
    "version": 3
   },
   "file_extension": ".py",
   "mimetype": "text/x-python",
   "name": "python",
   "nbconvert_exporter": "python",
   "pygments_lexer": "ipython3",
   "version": "3.8.5"
  }
 },
 "nbformat": 4,
 "nbformat_minor": 4
}
