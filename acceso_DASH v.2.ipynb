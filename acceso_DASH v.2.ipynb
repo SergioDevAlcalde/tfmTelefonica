{
 "cells": [
  {
   "cell_type": "code",
   "execution_count": 1,
   "metadata": {},
   "outputs": [],
   "source": [
    "import pymongo\n",
    "import numpy as np\n",
    "import pandas as pd\n",
    "from pandas import DataFrame\n",
    "uri=\"mongodb://localhost:27017\"\n",
    "cx=pymongo.MongoClient(uri)\n",
    "mndb = cx[\"BD_proyecto\"]\n",
    "mycol = mndb['bbdd1']\n",
    "null = 'null' "
   ]
  },
  {
   "cell_type": "code",
   "execution_count": 2,
   "metadata": {},
   "outputs": [
    {
     "name": "stdout",
     "output_type": "stream",
     "text": [
      "2021-03-15\n"
     ]
    }
   ],
   "source": [
    "for inst in mycol.aggregate([{ \"$group\": {\"_id\": null,\"MaximumValue\": { \"$max\": \"$Date\" }}}]):\n",
    "    fecmax=inst ['MaximumValue']\n",
    "print(fecmax) "
   ]
  },
  {
   "cell_type": "code",
   "execution_count": 3,
   "metadata": {},
   "outputs": [
    {
     "name": "stdout",
     "output_type": "stream",
     "text": [
      "['AMZN', 'BTC_USD', 'FB', 'GOOG', 'MSFT']\n"
     ]
    }
   ],
   "source": [
    "list_emp = []\n",
    "for inst in  mycol.distinct( \"Desc\" ) : \n",
    "    list_emp.append(inst) \n",
    "    \n",
    "print(list_emp)    "
   ]
  },
  {
   "cell_type": "code",
   "execution_count": 4,
   "metadata": {},
   "outputs": [
    {
     "name": "stdout",
     "output_type": "stream",
     "text": [
      "AMZN\n",
      "BTC_USD\n",
      "FB\n",
      "GOOG\n",
      "MSFT\n"
     ]
    }
   ],
   "source": [
    "def descarga_bbdd(emp):\n",
    "    listn=[]\n",
    "    for inst in mycol.find( { \"Desc\":emp } , {\"_id\": 0,\"Close\":1,\"Date\":1,\"Desc\":1}):\n",
    "        listn.append(inst)\n",
    "    return listn\n",
    "\n",
    "n=0  \n",
    "descarga=[]\n",
    "for i in  list_emp: \n",
    "    emp = list_emp[n]\n",
    "    print(emp)\n",
    "    lista=descarga_bbdd(emp)\n",
    "    descarga.append(lista)\n",
    "#    print(lista)\n",
    "    n+=1"
   ]
  },
  {
   "cell_type": "code",
   "execution_count": 5,
   "metadata": {},
   "outputs": [],
   "source": [
    "amzn_df = DataFrame (descarga[0])\n",
    "btc_usd_df = DataFrame (descarga[1])\n",
    "fb_df = DataFrame (descarga[2])\n",
    "goog_df = DataFrame (descarga[3])\n",
    "msft_df = DataFrame (descarga[4])"
   ]
  },
  {
   "cell_type": "code",
   "execution_count": 6,
   "metadata": {},
   "outputs": [],
   "source": [
    "amzn_df.drop(['Desc'] , axis = 1, inplace = True)   \n",
    "btc_usd_df.drop(['Desc'] , axis = 1, inplace = True)   \n",
    "fb_df.drop(['Desc'] , axis = 1, inplace = True)   \n",
    "goog_df.drop(['Desc'] , axis = 1, inplace = True)   \n",
    "msft_df.drop(['Desc'] , axis = 1, inplace = True)  "
   ]
  },
  {
   "cell_type": "code",
   "execution_count": 7,
   "metadata": {},
   "outputs": [],
   "source": [
    "#amzn_df2   = amzn_df.rename(columns = {\"Close\" : \"Close\"+ list_emp[0]})\n",
    "#btc_usd_df2=btc_usd_df.rename(columns = {\"Close\" : \"Close\"+ list_emp[1]})  \n",
    "#fb_df2     = fb_df.rename(columns = {\"Close\" : \"Close\"+ list_emp[2]})\n",
    "#goog_df2   = goog_df.rename(columns = {\"Close\" : \"Close\"+ list_emp[3]})\n",
    "#msft_d2f   = msft_df.rename(columns = {\"Close\" : \"Close\"+ list_emp[4]})\n",
    "amzn_cierre   = amzn_df.rename(columns = {\"Close\" : \"Close\"+ list_emp[0]})\n",
    "btc_usd_cierre=btc_usd_df.rename(columns = {\"Close\" : \"Close\"+ list_emp[1]})  \n",
    "fb_cierre     = fb_df.rename(columns = {\"Close\" : \"Close\"+ list_emp[2]})\n",
    "goog_cierre   = goog_df.rename(columns = {\"Close\" : \"Close\"+ list_emp[3]})\n",
    "msft_cierre   = msft_df.rename(columns = {\"Close\" : \"Close\"+ list_emp[4]})"
   ]
  },
  {
   "cell_type": "code",
   "execution_count": 8,
   "metadata": {},
   "outputs": [],
   "source": [
    " # Establecer el índice en la columna Date para cada archivo\n",
    "goog_cierre.set_index('Date', inplace = True)\n",
    "fb_cierre.set_index('Date', inplace = True)\n",
    "amzn_cierre.set_index('Date', inplace = True)\n",
    "msft_cierre.set_index('Date', inplace = True)\n",
    "btc_usd_cierre.set_index('Date', inplace = True)"
   ]
  },
  {
   "cell_type": "code",
   "execution_count": 9,
   "metadata": {},
   "outputs": [
    {
     "data": {
      "text/html": [
       "<div>\n",
       "<style scoped>\n",
       "    .dataframe tbody tr th:only-of-type {\n",
       "        vertical-align: middle;\n",
       "    }\n",
       "\n",
       "    .dataframe tbody tr th {\n",
       "        vertical-align: top;\n",
       "    }\n",
       "\n",
       "    .dataframe thead th {\n",
       "        text-align: right;\n",
       "    }\n",
       "</style>\n",
       "<table border=\"1\" class=\"dataframe\">\n",
       "  <thead>\n",
       "    <tr style=\"text-align: right;\">\n",
       "      <th></th>\n",
       "      <th>CloseBTC_USD</th>\n",
       "      <th>CloseGOOG</th>\n",
       "      <th>CloseAMZN</th>\n",
       "      <th>CloseFB</th>\n",
       "      <th>CloseMSFT</th>\n",
       "    </tr>\n",
       "    <tr>\n",
       "      <th>Date</th>\n",
       "      <th></th>\n",
       "      <th></th>\n",
       "      <th></th>\n",
       "      <th></th>\n",
       "      <th></th>\n",
       "    </tr>\n",
       "  </thead>\n",
       "  <tbody>\n",
       "    <tr>\n",
       "      <th>2014-09-17</th>\n",
       "      <td>457.334015</td>\n",
       "      <td>583.168884</td>\n",
       "      <td>324.000000</td>\n",
       "      <td>76.430000</td>\n",
       "      <td>46.520000</td>\n",
       "    </tr>\n",
       "    <tr>\n",
       "      <th>2014-09-18</th>\n",
       "      <td>424.440002</td>\n",
       "      <td>587.656616</td>\n",
       "      <td>325.000000</td>\n",
       "      <td>77.000000</td>\n",
       "      <td>46.680000</td>\n",
       "    </tr>\n",
       "    <tr>\n",
       "      <th>2014-09-19</th>\n",
       "      <td>394.795990</td>\n",
       "      <td>594.447937</td>\n",
       "      <td>331.320007</td>\n",
       "      <td>77.910004</td>\n",
       "      <td>47.520000</td>\n",
       "    </tr>\n",
       "    <tr>\n",
       "      <th>2014-09-20</th>\n",
       "      <td>408.903992</td>\n",
       "      <td>NaN</td>\n",
       "      <td>NaN</td>\n",
       "      <td>NaN</td>\n",
       "      <td>NaN</td>\n",
       "    </tr>\n",
       "    <tr>\n",
       "      <th>2014-09-21</th>\n",
       "      <td>398.821014</td>\n",
       "      <td>NaN</td>\n",
       "      <td>NaN</td>\n",
       "      <td>NaN</td>\n",
       "      <td>NaN</td>\n",
       "    </tr>\n",
       "  </tbody>\n",
       "</table>\n",
       "</div>"
      ],
      "text/plain": [
       "           CloseBTC_USD   CloseGOOG   CloseAMZN    CloseFB  CloseMSFT\n",
       "Date                                                                 \n",
       "2014-09-17   457.334015  583.168884  324.000000  76.430000  46.520000\n",
       "2014-09-18   424.440002  587.656616  325.000000  77.000000  46.680000\n",
       "2014-09-19   394.795990  594.447937  331.320007  77.910004  47.520000\n",
       "2014-09-20   408.903992         NaN         NaN        NaN        NaN\n",
       "2014-09-21   398.821014         NaN         NaN        NaN        NaN"
      ]
     },
     "execution_count": 9,
     "metadata": {},
     "output_type": "execute_result"
    }
   ],
   "source": [
    "# Integración de todos los dataframe en uno solo dataframe\n",
    "df_combinado = btc_usd_cierre.join(goog_cierre).join(amzn_cierre).join(fb_cierre).join(msft_cierre) \n",
    "df_combinado.head()"
   ]
  },
  {
   "cell_type": "code",
   "execution_count": 10,
   "metadata": {},
   "outputs": [
    {
     "data": {
      "text/plain": [
       "CloseBTC_USD    2371\n",
       "CloseGOOG       1634\n",
       "CloseAMZN       1634\n",
       "CloseFB         1634\n",
       "CloseMSFT       1634\n",
       "dtype: int64"
      ]
     },
     "execution_count": 10,
     "metadata": {},
     "output_type": "execute_result"
    }
   ],
   "source": [
    "df_combinado.count()"
   ]
  },
  {
   "cell_type": "code",
   "execution_count": 11,
   "metadata": {},
   "outputs": [
    {
     "data": {
      "text/html": [
       "<div>\n",
       "<style scoped>\n",
       "    .dataframe tbody tr th:only-of-type {\n",
       "        vertical-align: middle;\n",
       "    }\n",
       "\n",
       "    .dataframe tbody tr th {\n",
       "        vertical-align: top;\n",
       "    }\n",
       "\n",
       "    .dataframe thead th {\n",
       "        text-align: right;\n",
       "    }\n",
       "</style>\n",
       "<table border=\"1\" class=\"dataframe\">\n",
       "  <thead>\n",
       "    <tr style=\"text-align: right;\">\n",
       "      <th></th>\n",
       "      <th>count</th>\n",
       "      <th>unique</th>\n",
       "      <th>top</th>\n",
       "      <th>freq</th>\n",
       "    </tr>\n",
       "  </thead>\n",
       "  <tbody>\n",
       "    <tr>\n",
       "      <th>CloseBTC_USD</th>\n",
       "      <td>2371</td>\n",
       "      <td>2368</td>\n",
       "      <td>1179.969971</td>\n",
       "      <td>2</td>\n",
       "    </tr>\n",
       "    <tr>\n",
       "      <th>CloseGOOG</th>\n",
       "      <td>1634</td>\n",
       "      <td>1618</td>\n",
       "      <td>1098.260010</td>\n",
       "      <td>2</td>\n",
       "    </tr>\n",
       "    <tr>\n",
       "      <th>CloseAMZN</th>\n",
       "      <td>1634</td>\n",
       "      <td>1619</td>\n",
       "      <td>488.100006</td>\n",
       "      <td>2</td>\n",
       "    </tr>\n",
       "    <tr>\n",
       "      <th>CloseFB</th>\n",
       "      <td>1634</td>\n",
       "      <td>1549</td>\n",
       "      <td>137.419998</td>\n",
       "      <td>3</td>\n",
       "    </tr>\n",
       "    <tr>\n",
       "      <th>CloseMSFT</th>\n",
       "      <td>1634</td>\n",
       "      <td>1497</td>\n",
       "      <td>62.299999</td>\n",
       "      <td>4</td>\n",
       "    </tr>\n",
       "  </tbody>\n",
       "</table>\n",
       "</div>"
      ],
      "text/plain": [
       "             count unique          top freq\n",
       "CloseBTC_USD  2371   2368  1179.969971    2\n",
       "CloseGOOG     1634   1618  1098.260010    2\n",
       "CloseAMZN     1634   1619   488.100006    2\n",
       "CloseFB       1634   1549   137.419998    3\n",
       "CloseMSFT     1634   1497    62.299999    4"
      ]
     },
     "execution_count": 11,
     "metadata": {},
     "output_type": "execute_result"
    }
   ],
   "source": [
    "df_combinado.describe().transpose()"
   ]
  },
  {
   "cell_type": "code",
   "execution_count": 12,
   "metadata": {},
   "outputs": [
    {
     "data": {
      "text/html": [
       "<div>\n",
       "<style scoped>\n",
       "    .dataframe tbody tr th:only-of-type {\n",
       "        vertical-align: middle;\n",
       "    }\n",
       "\n",
       "    .dataframe tbody tr th {\n",
       "        vertical-align: top;\n",
       "    }\n",
       "\n",
       "    .dataframe thead th {\n",
       "        text-align: right;\n",
       "    }\n",
       "</style>\n",
       "<table border=\"1\" class=\"dataframe\">\n",
       "  <thead>\n",
       "    <tr style=\"text-align: right;\">\n",
       "      <th></th>\n",
       "      <th>CloseBTC_USD</th>\n",
       "      <th>CloseGOOG</th>\n",
       "      <th>CloseAMZN</th>\n",
       "      <th>CloseFB</th>\n",
       "      <th>CloseMSFT</th>\n",
       "    </tr>\n",
       "    <tr>\n",
       "      <th>Date</th>\n",
       "      <th></th>\n",
       "      <th></th>\n",
       "      <th></th>\n",
       "      <th></th>\n",
       "      <th></th>\n",
       "    </tr>\n",
       "  </thead>\n",
       "  <tbody>\n",
       "    <tr>\n",
       "      <th>2014-09-17</th>\n",
       "      <td>457.334015</td>\n",
       "      <td>583.168884</td>\n",
       "      <td>324.000000</td>\n",
       "      <td>76.430000</td>\n",
       "      <td>46.520000</td>\n",
       "    </tr>\n",
       "    <tr>\n",
       "      <th>2014-09-18</th>\n",
       "      <td>424.440002</td>\n",
       "      <td>587.656616</td>\n",
       "      <td>325.000000</td>\n",
       "      <td>77.000000</td>\n",
       "      <td>46.680000</td>\n",
       "    </tr>\n",
       "    <tr>\n",
       "      <th>2014-09-19</th>\n",
       "      <td>394.795990</td>\n",
       "      <td>594.447937</td>\n",
       "      <td>331.320007</td>\n",
       "      <td>77.910004</td>\n",
       "      <td>47.520000</td>\n",
       "    </tr>\n",
       "    <tr>\n",
       "      <th>2014-09-20</th>\n",
       "      <td>408.903992</td>\n",
       "      <td>594.447937</td>\n",
       "      <td>331.320007</td>\n",
       "      <td>77.910004</td>\n",
       "      <td>47.520000</td>\n",
       "    </tr>\n",
       "    <tr>\n",
       "      <th>2014-09-21</th>\n",
       "      <td>398.821014</td>\n",
       "      <td>594.447937</td>\n",
       "      <td>331.320007</td>\n",
       "      <td>77.910004</td>\n",
       "      <td>47.520000</td>\n",
       "    </tr>\n",
       "    <tr>\n",
       "      <th>2014-09-22</th>\n",
       "      <td>402.152008</td>\n",
       "      <td>585.761780</td>\n",
       "      <td>324.500000</td>\n",
       "      <td>76.800003</td>\n",
       "      <td>47.060001</td>\n",
       "    </tr>\n",
       "    <tr>\n",
       "      <th>2014-09-23</th>\n",
       "      <td>435.790985</td>\n",
       "      <td>579.538879</td>\n",
       "      <td>323.630005</td>\n",
       "      <td>78.290001</td>\n",
       "      <td>46.560001</td>\n",
       "    </tr>\n",
       "    <tr>\n",
       "      <th>2014-09-24</th>\n",
       "      <td>423.204987</td>\n",
       "      <td>586.380066</td>\n",
       "      <td>328.209991</td>\n",
       "      <td>78.540001</td>\n",
       "      <td>47.080002</td>\n",
       "    </tr>\n",
       "    <tr>\n",
       "      <th>2014-09-25</th>\n",
       "      <td>411.574005</td>\n",
       "      <td>573.485474</td>\n",
       "      <td>321.929993</td>\n",
       "      <td>77.220001</td>\n",
       "      <td>46.040001</td>\n",
       "    </tr>\n",
       "    <tr>\n",
       "      <th>2014-09-26</th>\n",
       "      <td>404.424988</td>\n",
       "      <td>575.519897</td>\n",
       "      <td>323.209991</td>\n",
       "      <td>78.790001</td>\n",
       "      <td>46.410000</td>\n",
       "    </tr>\n",
       "  </tbody>\n",
       "</table>\n",
       "</div>"
      ],
      "text/plain": [
       "           CloseBTC_USD   CloseGOOG   CloseAMZN    CloseFB  CloseMSFT\n",
       "Date                                                                 \n",
       "2014-09-17   457.334015  583.168884  324.000000  76.430000  46.520000\n",
       "2014-09-18   424.440002  587.656616  325.000000  77.000000  46.680000\n",
       "2014-09-19   394.795990  594.447937  331.320007  77.910004  47.520000\n",
       "2014-09-20   408.903992  594.447937  331.320007  77.910004  47.520000\n",
       "2014-09-21   398.821014  594.447937  331.320007  77.910004  47.520000\n",
       "2014-09-22   402.152008  585.761780  324.500000  76.800003  47.060001\n",
       "2014-09-23   435.790985  579.538879  323.630005  78.290001  46.560001\n",
       "2014-09-24   423.204987  586.380066  328.209991  78.540001  47.080002\n",
       "2014-09-25   411.574005  573.485474  321.929993  77.220001  46.040001\n",
       "2014-09-26   404.424988  575.519897  323.209991  78.790001  46.410000"
      ]
     },
     "execution_count": 12,
     "metadata": {},
     "output_type": "execute_result"
    }
   ],
   "source": [
    "# Dado que los valores perdidos que hay en data set se corresponden con días donde no hay cotización de las acciones \n",
    "# En la bolsa de valores, estos serán sustitudios por el último valor válido, para ello usaremos el método de pandas ffill()\n",
    "# que propaga el último valor valido hacia adelante, así si el último valor valido fue de un viernes, ese valor se asignará\n",
    "# al sábado y al domingo\n",
    "\n",
    "df_combinado = df_combinado.ffill()\n",
    "df_combinado.head(n=10)"
   ]
  },
  {
   "cell_type": "code",
   "execution_count": 13,
   "metadata": {},
   "outputs": [
    {
     "name": "stdout",
     "output_type": "stream",
     "text": [
      "CloseBTC_USD    float64\n",
      "CloseGOOG       float64\n",
      "CloseAMZN       float64\n",
      "CloseFB         float64\n",
      "CloseMSFT       float64\n",
      "dtype: object\n"
     ]
    }
   ],
   "source": [
    "df_combinad2   = df_combinado.astype(float) \n",
    "#goog_cierre    = goog_df2['CloseGOOG'].astype(float) \n",
    "#fb_cierre      = fb_df2['CloseFB'].astype(float) \n",
    "#amzn_cierre    = amzn_df2['CloseAMZN'].astype(float) \n",
    "#msft_cierre    = msft_d2f['CloseMSFT'].astype(float) \n",
    "#btc_usd_cierre = btc_usd_df2['CloseBTC_USD'].astype(float) \n",
    "print(df_combinad2.dtypes)"
   ]
  },
  {
   "cell_type": "code",
   "execution_count": 14,
   "metadata": {},
   "outputs": [
    {
     "data": {
      "text/plain": [
       "<AxesSubplot:>"
      ]
     },
     "execution_count": 14,
     "metadata": {},
     "output_type": "execute_result"
    },
    {
     "data": {
      "image/png": "[encoded data removed]",
      "text/plain": [
       "<Figure size 432x288 with 1 Axes>"
      ]
     },
     "metadata": {
      "needs_background": "light"
     },
     "output_type": "display_data"
    }
   ],
   "source": [
    "df_combinad2.boxplot()"
   ]
  },
  {
   "cell_type": "code",
   "execution_count": 15,
   "metadata": {},
   "outputs": [
    {
     "data": {
      "text/plain": [
       "<AxesSubplot:xlabel='Date'>"
      ]
     },
     "execution_count": 15,
     "metadata": {},
     "output_type": "execute_result"
    },
    {
     "data": {
      "image/png": "[encoded data removed]",
      "text/plain": [
       "<Figure size 432x288 with 1 Axes>"
      ]
     },
     "metadata": {
      "needs_background": "light"
     },
     "output_type": "display_data"
    }
   ],
   "source": [
    "df_combinad2.loc[:, ['CloseBTC_USD','CloseGOOG','CloseAMZN','CloseFB','CloseMSFT']].plot()"
   ]
  },
  {
   "cell_type": "code",
   "execution_count": 16,
   "metadata": {},
   "outputs": [],
   "source": [
    "import matplotlib.pyplot as plt\n",
    "%matplotlib inline"
   ]
  },
  {
   "cell_type": "code",
   "execution_count": 17,
   "metadata": {},
   "outputs": [
    {
     "data": {
      "image/png": "[encoded data removed]",
      "text/plain": [
       "<Figure size 432x288 with 1 Axes>"
      ]
     },
     "metadata": {
      "needs_background": "light"
     },
     "output_type": "display_data"
    }
   ],
   "source": [
    "\n",
    "\n",
    "plt.hist(x=df_combinad2.iloc[:,0])\n",
    "plt.title('Histograma - Precio de Cierre de Bitcoins')\n",
    "plt.xlabel('Precio de Cierre')\n",
    "plt.ylabel('Frecuencia')\n",
    "plt.show()\n",
    "\n"
   ]
  },
  {
   "cell_type": "code",
   "execution_count": 18,
   "metadata": {},
   "outputs": [
    {
     "data": {
      "image/png": "[encoded data removed]",
      "text/plain": [
       "<Figure size 432x288 with 1 Axes>"
      ]
     },
     "metadata": {
      "needs_background": "light"
     },
     "output_type": "display_data"
    }
   ],
   "source": [
    "plt.hist(x=df_combinad2.iloc[:,1])\n",
    "plt.title('Histograma - Precio de Cierre de Google')\n",
    "plt.xlabel('Precio de Cierre')\n",
    "plt.ylabel('Frecuencia')\n",
    "plt.show()"
   ]
  },
  {
   "cell_type": "code",
   "execution_count": 19,
   "metadata": {},
   "outputs": [
    {
     "data": {
      "image/png": "[encoded data removed]",
      "text/plain": [
       "<Figure size 432x288 with 1 Axes>"
      ]
     },
     "metadata": {
      "needs_background": "light"
     },
     "output_type": "display_data"
    }
   ],
   "source": [
    "plt.hist(x=df_combinad2.iloc[:,2])\n",
    "plt.title('Histograma - Precio de Cierre de Amazon')\n",
    "plt.xlabel('Precio de Cierre')\n",
    "plt.ylabel('Frecuencia')\n",
    "plt.show()"
   ]
  },
  {
   "cell_type": "code",
   "execution_count": 20,
   "metadata": {},
   "outputs": [
    {
     "data": {
      "image/png": "[encoded data removed]",
      "text/plain": [
       "<Figure size 432x288 with 1 Axes>"
      ]
     },
     "metadata": {
      "needs_background": "light"
     },
     "output_type": "display_data"
    }
   ],
   "source": [
    "\n",
    "\n",
    "plt.hist(x=df_combinad2.iloc[:,3])\n",
    "plt.title('Histograma - Precio de Cierre de Faceboock')\n",
    "plt.xlabel('Precio de Cierre')\n",
    "plt.ylabel('Frecuencia')\n",
    "plt.show()\n",
    "\n"
   ]
  },
  {
   "cell_type": "code",
   "execution_count": 21,
   "metadata": {},
   "outputs": [
    {
     "data": {
      "image/png": "[encoded data removed]",
      "text/plain": [
       "<Figure size 432x288 with 1 Axes>"
      ]
     },
     "metadata": {
      "needs_background": "light"
     },
     "output_type": "display_data"
    }
   ],
   "source": [
    "plt.hist(x=df_combinad2.iloc[:,4])\n",
    "plt.title('Histograma - Precio de Cierre de Microsoft')\n",
    "plt.xlabel('Precio de Cierre')\n",
    "plt.ylabel('Frecuencia')\n",
    "plt.show()"
   ]
  },
  {
   "cell_type": "code",
   "execution_count": 22,
   "metadata": {},
   "outputs": [
    {
     "data": {
      "image/png": "[encoded data removed]",
      "text/plain": [
       "<Figure size 432x288 with 1 Axes>"
      ]
     },
     "metadata": {
      "needs_background": "light"
     },
     "output_type": "display_data"
    }
   ],
   "source": [
    "plt.hist(x=np.log(df_combinad2.iloc[:,0]))\n",
    "plt.title('Histograma - Logaritmo del Precio de Cierre de Bitcoins')\n",
    "plt.xlabel('Logaritmo Precio de Cierre')\n",
    "plt.ylabel('Frecuencia')\n",
    "plt.show()"
   ]
  },
  {
   "cell_type": "code",
   "execution_count": 23,
   "metadata": {},
   "outputs": [
    {
     "data": {
      "image/png": "[encoded data removed]",
      "text/plain": [
       "<Figure size 432x288 with 1 Axes>"
      ]
     },
     "metadata": {
      "needs_background": "light"
     },
     "output_type": "display_data"
    }
   ],
   "source": [
    "\n",
    "\n",
    "plt.hist(x=np.log(df_combinad2.iloc[:,2]))\n",
    "plt.title('Histograma - Logaritmo del Precio de Cierre de Amazon')\n",
    "plt.xlabel('Precio de Cierre')\n",
    "plt.ylabel('Frecuencia')\n",
    "plt.show()\n",
    "\n"
   ]
  },
  {
   "cell_type": "code",
   "execution_count": 24,
   "metadata": {},
   "outputs": [
    {
     "data": {
      "image/png": "[encoded data removed]",
      "text/plain": [
       "<Figure size 432x288 with 1 Axes>"
      ]
     },
     "metadata": {
      "needs_background": "light"
     },
     "output_type": "display_data"
    }
   ],
   "source": [
    "\n",
    "\n",
    "plt.hist(x=np.log(df_combinad2.iloc[:,1]))\n",
    "plt.title('Histograma - Logartimo del Precio de Cierre de Google')\n",
    "plt.xlabel('Precio de Cierre')\n",
    "plt.ylabel('Frecuencia')\n",
    "plt.show()\n",
    "\n"
   ]
  },
  {
   "cell_type": "code",
   "execution_count": 25,
   "metadata": {},
   "outputs": [
    {
     "data": {
      "image/png": "[encoded data removed]",
      "text/plain": [
       "<Figure size 432x288 with 1 Axes>"
      ]
     },
     "metadata": {
      "needs_background": "light"
     },
     "output_type": "display_data"
    }
   ],
   "source": [
    "plt.hist(x=np.log(df_combinad2.iloc[:,3]))\n",
    "plt.title('Histograma - Logartimo del Precio de Cierre de Faceboock')\n",
    "plt.xlabel('Precio de Cierre')\n",
    "plt.ylabel('Frecuencia')\n",
    "plt.show()"
   ]
  },
  {
   "cell_type": "code",
   "execution_count": 26,
   "metadata": {},
   "outputs": [
    {
     "data": {
      "image/png": "[encoded data removed]",
      "text/plain": [
       "<Figure size 432x288 with 1 Axes>"
      ]
     },
     "metadata": {
      "needs_background": "light"
     },
     "output_type": "display_data"
    }
   ],
   "source": [
    "\n",
    "\n",
    "plt.hist(x=np.log(df_combinad2.iloc[:,4]))\n",
    "plt.title('Histograma - Logaritmo del Precio de Cierre de Microsoft')\n",
    "plt.xlabel('Precio de Cierre')\n",
    "plt.ylabel('Frecuencia')\n",
    "plt.show()\n",
    "\n"
   ]
  },
  {
   "cell_type": "code",
   "execution_count": 27,
   "metadata": {},
   "outputs": [
    {
     "data": {
      "image/png": "[encoded data removed]",
      "text/plain": [
       "<Figure size 432x288 with 1 Axes>"
      ]
     },
     "metadata": {
      "needs_background": "light"
     },
     "output_type": "display_data"
    }
   ],
   "source": [
    "plt.hist(x=np.log(df_combinad2.iloc[:,3]))\n",
    "plt.title('Histograma - Logartimo del Precio de Cierre de Faceboock')\n",
    "plt.xlabel('Precio de Cierre')\n",
    "plt.ylabel('Frecuencia')\n",
    "plt.show()"
   ]
  },
  {
   "cell_type": "code",
   "execution_count": 28,
   "metadata": {},
   "outputs": [
    {
     "data": {
      "text/plain": [
       "<AxesSubplot:>"
      ]
     },
     "execution_count": 28,
     "metadata": {},
     "output_type": "execute_result"
    },
    {
     "data": {
      "image/png": "[encoded data removed]",
      "text/plain": [
       "<Figure size 432x288 with 1 Axes>"
      ]
     },
     "metadata": {
      "needs_background": "light"
     },
     "output_type": "display_data"
    }
   ],
   "source": [
    "df_combinad2_log = np.log(df_combinad2)\n",
    "\n",
    "df_combinad2_log.loc[:, ['CloseBTC_USD','CloseGOOG','CloseAMZN','CloseFB','CloseMSFT']].boxplot()"
   ]
  },
  {
   "cell_type": "code",
   "execution_count": 29,
   "metadata": {},
   "outputs": [
    {
     "data": {
      "text/plain": [
       "<AxesSubplot:xlabel='Date'>"
      ]
     },
     "execution_count": 29,
     "metadata": {},
     "output_type": "execute_result"
    },
    {
     "data": {
      "image/png": "[encoded data removed]",
      "text/plain": [
       "<Figure size 432x288 with 1 Axes>"
      ]
     },
     "metadata": {
      "needs_background": "light"
     },
     "output_type": "display_data"
    }
   ],
   "source": [
    "df_combinad2_log.loc[:,  ['CloseBTC_USD','CloseGOOG','CloseAMZN','CloseFB','CloseMSFT']].plot()"
   ]
  },
  {
   "cell_type": "code",
   "execution_count": 30,
   "metadata": {},
   "outputs": [
    {
     "data": {
      "text/html": [
       "<div>\n",
       "<style scoped>\n",
       "    .dataframe tbody tr th:only-of-type {\n",
       "        vertical-align: middle;\n",
       "    }\n",
       "\n",
       "    .dataframe tbody tr th {\n",
       "        vertical-align: top;\n",
       "    }\n",
       "\n",
       "    .dataframe thead th {\n",
       "        text-align: right;\n",
       "    }\n",
       "</style>\n",
       "<table border=\"1\" class=\"dataframe\">\n",
       "  <thead>\n",
       "    <tr style=\"text-align: right;\">\n",
       "      <th></th>\n",
       "      <th>CloseBTC_USD</th>\n",
       "      <th>CloseGOOG</th>\n",
       "      <th>CloseAMZN</th>\n",
       "      <th>CloseFB</th>\n",
       "      <th>CloseMSFT</th>\n",
       "    </tr>\n",
       "    <tr>\n",
       "      <th>Date</th>\n",
       "      <th></th>\n",
       "      <th></th>\n",
       "      <th></th>\n",
       "      <th></th>\n",
       "      <th></th>\n",
       "    </tr>\n",
       "  </thead>\n",
       "  <tbody>\n",
       "    <tr>\n",
       "      <th>2014-09-17</th>\n",
       "      <td>6.125414</td>\n",
       "      <td>6.368477</td>\n",
       "      <td>5.780744</td>\n",
       "      <td>4.336375</td>\n",
       "      <td>3.839882</td>\n",
       "    </tr>\n",
       "    <tr>\n",
       "      <th>2014-09-18</th>\n",
       "      <td>6.050771</td>\n",
       "      <td>6.376143</td>\n",
       "      <td>5.783825</td>\n",
       "      <td>4.343805</td>\n",
       "      <td>3.843316</td>\n",
       "    </tr>\n",
       "    <tr>\n",
       "      <th>2014-09-19</th>\n",
       "      <td>5.978369</td>\n",
       "      <td>6.387633</td>\n",
       "      <td>5.803085</td>\n",
       "      <td>4.355554</td>\n",
       "      <td>3.861151</td>\n",
       "    </tr>\n",
       "    <tr>\n",
       "      <th>2014-09-20</th>\n",
       "      <td>6.013480</td>\n",
       "      <td>6.387633</td>\n",
       "      <td>5.803085</td>\n",
       "      <td>4.355554</td>\n",
       "      <td>3.861151</td>\n",
       "    </tr>\n",
       "    <tr>\n",
       "      <th>2014-09-21</th>\n",
       "      <td>5.988513</td>\n",
       "      <td>6.387633</td>\n",
       "      <td>5.803085</td>\n",
       "      <td>4.355554</td>\n",
       "      <td>3.861151</td>\n",
       "    </tr>\n",
       "  </tbody>\n",
       "</table>\n",
       "</div>"
      ],
      "text/plain": [
       "            CloseBTC_USD  CloseGOOG  CloseAMZN   CloseFB  CloseMSFT\n",
       "Date                                                               \n",
       "2014-09-17      6.125414   6.368477   5.780744  4.336375   3.839882\n",
       "2014-09-18      6.050771   6.376143   5.783825  4.343805   3.843316\n",
       "2014-09-19      5.978369   6.387633   5.803085  4.355554   3.861151\n",
       "2014-09-20      6.013480   6.387633   5.803085  4.355554   3.861151\n",
       "2014-09-21      5.988513   6.387633   5.803085  4.355554   3.861151"
      ]
     },
     "execution_count": 30,
     "metadata": {},
     "output_type": "execute_result"
    }
   ],
   "source": [
    "df_combinad2_log.head()"
   ]
  },
  {
   "cell_type": "code",
   "execution_count": 31,
   "metadata": {},
   "outputs": [
    {
     "data": {
      "text/html": [
       "<div>\n",
       "<style scoped>\n",
       "    .dataframe tbody tr th:only-of-type {\n",
       "        vertical-align: middle;\n",
       "    }\n",
       "\n",
       "    .dataframe tbody tr th {\n",
       "        vertical-align: top;\n",
       "    }\n",
       "\n",
       "    .dataframe thead th {\n",
       "        text-align: right;\n",
       "    }\n",
       "</style>\n",
       "<table border=\"1\" class=\"dataframe\">\n",
       "  <thead>\n",
       "    <tr style=\"text-align: right;\">\n",
       "      <th></th>\n",
       "      <th>CloseBTC_USD</th>\n",
       "      <th>CloseGOOG</th>\n",
       "      <th>CloseAMZN</th>\n",
       "      <th>CloseFB</th>\n",
       "      <th>CloseMSFT</th>\n",
       "    </tr>\n",
       "    <tr>\n",
       "      <th>Date</th>\n",
       "      <th></th>\n",
       "      <th></th>\n",
       "      <th></th>\n",
       "      <th></th>\n",
       "      <th></th>\n",
       "    </tr>\n",
       "  </thead>\n",
       "  <tbody>\n",
       "    <tr>\n",
       "      <th>2021-01-10</th>\n",
       "      <td>10.554678</td>\n",
       "      <td>7.476880</td>\n",
       "      <td>8.043731</td>\n",
       "      <td>5.548453</td>\n",
       "      <td>5.382153</td>\n",
       "    </tr>\n",
       "    <tr>\n",
       "      <th>2021-01-09</th>\n",
       "      <td>10.602978</td>\n",
       "      <td>7.476880</td>\n",
       "      <td>8.043731</td>\n",
       "      <td>5.548453</td>\n",
       "      <td>5.382153</td>\n",
       "    </tr>\n",
       "    <tr>\n",
       "      <th>2021-01-08</th>\n",
       "      <td>10.616379</td>\n",
       "      <td>7.499539</td>\n",
       "      <td>8.065485</td>\n",
       "      <td>5.589381</td>\n",
       "      <td>5.391899</td>\n",
       "    </tr>\n",
       "    <tr>\n",
       "      <th>2021-01-07</th>\n",
       "      <td>10.580786</td>\n",
       "      <td>7.488433</td>\n",
       "      <td>8.059011</td>\n",
       "      <td>5.593744</td>\n",
       "      <td>5.385824</td>\n",
       "    </tr>\n",
       "    <tr>\n",
       "      <th>2021-01-06</th>\n",
       "      <td>10.513915</td>\n",
       "      <td>7.458930</td>\n",
       "      <td>8.051462</td>\n",
       "      <td>5.573332</td>\n",
       "      <td>5.357765</td>\n",
       "    </tr>\n",
       "  </tbody>\n",
       "</table>\n",
       "</div>"
      ],
      "text/plain": [
       "            CloseBTC_USD  CloseGOOG  CloseAMZN   CloseFB  CloseMSFT\n",
       "Date                                                               \n",
       "2021-01-10     10.554678   7.476880   8.043731  5.548453   5.382153\n",
       "2021-01-09     10.602978   7.476880   8.043731  5.548453   5.382153\n",
       "2021-01-08     10.616379   7.499539   8.065485  5.589381   5.391899\n",
       "2021-01-07     10.580786   7.488433   8.059011  5.593744   5.385824\n",
       "2021-01-06     10.513915   7.458930   8.051462  5.573332   5.357765"
      ]
     },
     "execution_count": 31,
     "metadata": {},
     "output_type": "execute_result"
    }
   ],
   "source": [
    "df_combinad2_log.tail()"
   ]
  },
  {
   "cell_type": "markdown",
   "metadata": {},
   "source": [
    "\n",
    "# ¿Cuántos rezagos usar?\n",
    "\n",
    "Dado que el objetivo del proyecot es predecir los precios de cierre de Bitcoins, en función de los precios de cierre de las empresas de tecnología seleccionadas, tendremos que determinar primero con cuantos periodos de rezagos debemos trabajar, esto es si queremos saber el precio de cierre del Bitcoins en el período t, la idea sería tomar los precios de cierre en los períodos anteriores (t-1, t-2, t-2, t-4...t-k) que son conocidos al momento de hacer la predicción.\n",
    "\n",
    "Los siguientes pasos modificaran el dataframe, para lograr esta estructura para modelar\n",
    "\n",
    "Trabajaremos con el dataframe transformado en logarítmos\n"
   ]
  },
  {
   "cell_type": "code",
   "execution_count": 32,
   "metadata": {},
   "outputs": [
    {
     "name": "stdout",
     "output_type": "stream",
     "text": [
      "Número de filas del dataframe original:  2371\n",
      "Número de filas del dataframe transformado en logaritmos:  2371\n"
     ]
    }
   ],
   "source": [
    "print(\"Número de filas del dataframe original: \",df_combinad2.shape[0])\n",
    "print(\"Número de filas del dataframe transformado en logaritmos: \",df_combinad2_log.shape[0])"
   ]
  },
  {
   "cell_type": "code",
   "execution_count": 33,
   "metadata": {},
   "outputs": [
    {
     "name": "stdout",
     "output_type": "stream",
     "text": [
      "Matriz de correlaciones del dataframe en logaritmos\n",
      "\n",
      "              CloseBTC_USD  CloseGOOG  CloseAMZN   CloseFB  CloseMSFT\n",
      "CloseBTC_USD      1.000000   0.944999   0.931001  0.939099   0.916822\n",
      "CloseGOOG         0.944999   1.000000   0.977612  0.972201   0.963635\n",
      "CloseAMZN         0.931001   0.977612   1.000000  0.960809   0.960348\n",
      "CloseFB           0.939099   0.972201   0.960809  1.000000   0.926048\n",
      "CloseMSFT         0.916822   0.963635   0.960348  0.926048   1.000000\n",
      "\n"
     ]
    }
   ],
   "source": [
    "# Matriz de correlaciones del dataframe en logaritmos y en diferencias de logaritmos\n",
    "\n",
    "print(\"Matriz de correlaciones del dataframe en logaritmos\")\n",
    "print()\n",
    "print(df_combinad2_log.corr())\n",
    "print()"
   ]
  },
  {
   "cell_type": "code",
   "execution_count": 34,
   "metadata": {},
   "outputs": [],
   "source": [
    "# Con estas dos funciones se generan los datos al número de rezagos que se quiera modelar\n",
    "\n",
    "def rezagos_y(df, rezagos):\n",
    "    y = df.iloc[0:df_combinad2.shape[0]-rezagos]\n",
    "    return y\n",
    "\n",
    "def rezagos_X(df, rezagos):\n",
    "    X = df.iloc[rezagos:df_combinad2.shape[0]]\n",
    "    return X"
   ]
  },
  {
   "cell_type": "code",
   "execution_count": 35,
   "metadata": {},
   "outputs": [],
   "source": [
    "# Separación de los datasets de entrenamiento y prueba para los rezagos desede i= 1...7\n",
    "\n",
    "y = df_combinad2_log.iloc[:,0]\n",
    "X = df_combinad2_log.loc[:,['CloseGOOG','CloseAMZN','CloseFB','CloseMSFT']]\n",
    "y_list = []\n",
    "X_list = []\n",
    "\n",
    "for i in range(1,8):\n",
    "    y_rezagos = rezagos_y(y,i)\n",
    "    y_list.append(y_rezagos)\n",
    "    X_rezagos =rezagos_X(X,i)\n",
    "    X_list.append(X_rezagos)"
   ]
  },
  {
   "cell_type": "code",
   "execution_count": 36,
   "metadata": {},
   "outputs": [],
   "source": [
    "# Librerias para correr Regresión - Un Rezago\n",
    "from sklearn.model_selection import train_test_split\n",
    "from sklearn import linear_model\n",
    "from sklearn.metrics import mean_squared_error, r2_score\n",
    "from sklearn.preprocessing import StandardScaler\n",
    "\n",
    "#Listas donde se va a guardar el error cuadrático medio y el coeficiente de determinación de cada uno de los modelos\n",
    "EcmTrainRegMult = []\n",
    "R2_TrainRegMult = []\n",
    "EcmTestRegMult = []\n",
    "R2_TestRegMult = []\n",
    "X_trainStand = []\n",
    "y_trainStand = []\n",
    "X_testStand = []\n",
    "y_testStand =[]\n",
    "predTest =[]\n",
    "\n",
    "\n",
    "#Entrenamiento del algoritmode regresión lineal múltiple para los modelos con rezagos desde 1 hasta 7\n",
    "for i in range(7):\n",
    "    #Se estandarizan los datos por las variciones en las magnitudes,\n",
    "    #aún cuando todas las variables están en la misma escacal (log(USD))\n",
    "\n",
    "    y =y_list[i].values\n",
    "    y =y.reshape(-1,1)\n",
    "    X = X_list[i]\n",
    "    sc_X = StandardScaler()\n",
    "    sc_y = StandardScaler()\n",
    "    X = sc_X.fit_transform(X)\n",
    "    y = sc_y.fit_transform(y)\n",
    "    \n",
    "\n",
    "    \n",
    "    X_train, X_test, y_train, y_test = train_test_split(X, y, test_size = 0.3, random_state=1964)\n",
    "    #Actualizar lista con DF estandarizados\n",
    "    X_trainStand.append(X_train)\n",
    "    y_trainStand.append(y_train)\n",
    "    X_testStand.append(X_test)\n",
    "    y_testStand.append(y_test)\n",
    "    # Estimación de los modelos\n",
    "    modeloRLineal = linear_model.LinearRegression()\n",
    "    modeloRLineal.fit(X_train, y_train)\n",
    "    # Predicciones con los datos de entrenamiento\n",
    "    y_predTrain= modeloRLineal.predict(X_train)\n",
    "    \n",
    "    ErrorCueadraticoMedioTrain = mean_squared_error(y_train, y_predTrain)\n",
    "    EcmTrainRegMult.append(ErrorCueadraticoMedioTrain)\n",
    "    R2_Train = r2_score(y_train, y_predTrain)\n",
    "    R2_TrainRegMult.append(R2_Train)\n",
    "\n",
    "    #Validación del algoritmo de regresión lineal múltiple para los modelos con rezagos desde 1 hasta 7\n",
    "    \n",
    "    # Predicciones sobre el conjunto de prueba\n",
    "    y_predTest = modeloRLineal.predict(X_test)\n",
    "    predTest.append(y_predTest)\n",
    "    ErrorCuadraticoMedioTest = mean_squared_error(y_test, y_predTest)\n",
    "    EcmTestRegMult.append(ErrorCuadraticoMedioTest)\n",
    "    R2_Test = r2_score(y_test, y_predTest)\n",
    "    R2_TestRegMult.append(R2_Test)"
   ]
  },
  {
   "cell_type": "code",
   "execution_count": 37,
   "metadata": {},
   "outputs": [],
   "source": [
    "import sklearn.svm as svm\n",
    "\n",
    "\n",
    "#Listas donde se va a guardar el error cuadrático medio y el coeficiente de determinación de cada uno de los modelos\n",
    "\n",
    "kernel = ['linear', 'poly', 'rbf']\n",
    "\n",
    "# SVM - kernel lineal\n",
    "EcmTrainSVR_Klinear = []\n",
    "R2_TrainSVR_Klinear = []\n",
    "EcmTestSVR_Klinear = []\n",
    "R2_TestSVR_Klinear = []\n",
    "predTestSVR_Klinear =[]\n",
    "\n",
    "# SVM - kernel Polinómico\n",
    "EcmTrainSVR_Kpoly = []\n",
    "R2_TrainSVR_Kpoly = []\n",
    "EcmTestSVR_Kpoly = []\n",
    "R2_TestSVR_Kpoly = []\n",
    "predTestSVR_Kpoly =[]\n",
    "\n",
    "# SVM - kernel rbf\n",
    "\n",
    "EcmTrainSVR_Krbf = []\n",
    "R2_TrainSVR_Krbf = []\n",
    "EcmTestSVR_Krbf = []\n",
    "R2_TestSVR_Krbf = []\n",
    "predTestSVR_Krbf =[]"
   ]
  },
  {
   "cell_type": "code",
   "execution_count": 38,
   "metadata": {},
   "outputs": [
    {
     "name": "stderr",
     "output_type": "stream",
     "text": [
      "C:\\Users\\jogar\\anaconda3.8\\envs\\ITT_Bigdata\\lib\\site-packages\\sklearn\\utils\\validation.py:72: DataConversionWarning: A column-vector y was passed when a 1d array was expected. Please change the shape of y to (n_samples, ), for example using ravel().\n",
      "  return f(**kwargs)\n",
      "C:\\Users\\jogar\\anaconda3.8\\envs\\ITT_Bigdata\\lib\\site-packages\\sklearn\\utils\\validation.py:72: DataConversionWarning: A column-vector y was passed when a 1d array was expected. Please change the shape of y to (n_samples, ), for example using ravel().\n",
      "  return f(**kwargs)\n",
      "C:\\Users\\jogar\\anaconda3.8\\envs\\ITT_Bigdata\\lib\\site-packages\\sklearn\\utils\\validation.py:72: DataConversionWarning: A column-vector y was passed when a 1d array was expected. Please change the shape of y to (n_samples, ), for example using ravel().\n",
      "  return f(**kwargs)\n",
      "C:\\Users\\jogar\\anaconda3.8\\envs\\ITT_Bigdata\\lib\\site-packages\\sklearn\\utils\\validation.py:72: DataConversionWarning: A column-vector y was passed when a 1d array was expected. Please change the shape of y to (n_samples, ), for example using ravel().\n",
      "  return f(**kwargs)\n",
      "C:\\Users\\jogar\\anaconda3.8\\envs\\ITT_Bigdata\\lib\\site-packages\\sklearn\\utils\\validation.py:72: DataConversionWarning: A column-vector y was passed when a 1d array was expected. Please change the shape of y to (n_samples, ), for example using ravel().\n",
      "  return f(**kwargs)\n",
      "C:\\Users\\jogar\\anaconda3.8\\envs\\ITT_Bigdata\\lib\\site-packages\\sklearn\\utils\\validation.py:72: DataConversionWarning: A column-vector y was passed when a 1d array was expected. Please change the shape of y to (n_samples, ), for example using ravel().\n",
      "  return f(**kwargs)\n",
      "C:\\Users\\jogar\\anaconda3.8\\envs\\ITT_Bigdata\\lib\\site-packages\\sklearn\\utils\\validation.py:72: DataConversionWarning: A column-vector y was passed when a 1d array was expected. Please change the shape of y to (n_samples, ), for example using ravel().\n",
      "  return f(**kwargs)\n",
      "C:\\Users\\jogar\\anaconda3.8\\envs\\ITT_Bigdata\\lib\\site-packages\\sklearn\\utils\\validation.py:72: DataConversionWarning: A column-vector y was passed when a 1d array was expected. Please change the shape of y to (n_samples, ), for example using ravel().\n",
      "  return f(**kwargs)\n",
      "C:\\Users\\jogar\\anaconda3.8\\envs\\ITT_Bigdata\\lib\\site-packages\\sklearn\\utils\\validation.py:72: DataConversionWarning: A column-vector y was passed when a 1d array was expected. Please change the shape of y to (n_samples, ), for example using ravel().\n",
      "  return f(**kwargs)\n",
      "C:\\Users\\jogar\\anaconda3.8\\envs\\ITT_Bigdata\\lib\\site-packages\\sklearn\\utils\\validation.py:72: DataConversionWarning: A column-vector y was passed when a 1d array was expected. Please change the shape of y to (n_samples, ), for example using ravel().\n",
      "  return f(**kwargs)\n",
      "C:\\Users\\jogar\\anaconda3.8\\envs\\ITT_Bigdata\\lib\\site-packages\\sklearn\\utils\\validation.py:72: DataConversionWarning: A column-vector y was passed when a 1d array was expected. Please change the shape of y to (n_samples, ), for example using ravel().\n",
      "  return f(**kwargs)\n",
      "C:\\Users\\jogar\\anaconda3.8\\envs\\ITT_Bigdata\\lib\\site-packages\\sklearn\\utils\\validation.py:72: DataConversionWarning: A column-vector y was passed when a 1d array was expected. Please change the shape of y to (n_samples, ), for example using ravel().\n",
      "  return f(**kwargs)\n",
      "C:\\Users\\jogar\\anaconda3.8\\envs\\ITT_Bigdata\\lib\\site-packages\\sklearn\\utils\\validation.py:72: DataConversionWarning: A column-vector y was passed when a 1d array was expected. Please change the shape of y to (n_samples, ), for example using ravel().\n",
      "  return f(**kwargs)\n",
      "C:\\Users\\jogar\\anaconda3.8\\envs\\ITT_Bigdata\\lib\\site-packages\\sklearn\\utils\\validation.py:72: DataConversionWarning: A column-vector y was passed when a 1d array was expected. Please change the shape of y to (n_samples, ), for example using ravel().\n",
      "  return f(**kwargs)\n",
      "C:\\Users\\jogar\\anaconda3.8\\envs\\ITT_Bigdata\\lib\\site-packages\\sklearn\\utils\\validation.py:72: DataConversionWarning: A column-vector y was passed when a 1d array was expected. Please change the shape of y to (n_samples, ), for example using ravel().\n",
      "  return f(**kwargs)\n",
      "C:\\Users\\jogar\\anaconda3.8\\envs\\ITT_Bigdata\\lib\\site-packages\\sklearn\\utils\\validation.py:72: DataConversionWarning: A column-vector y was passed when a 1d array was expected. Please change the shape of y to (n_samples, ), for example using ravel().\n",
      "  return f(**kwargs)\n",
      "C:\\Users\\jogar\\anaconda3.8\\envs\\ITT_Bigdata\\lib\\site-packages\\sklearn\\utils\\validation.py:72: DataConversionWarning: A column-vector y was passed when a 1d array was expected. Please change the shape of y to (n_samples, ), for example using ravel().\n",
      "  return f(**kwargs)\n",
      "C:\\Users\\jogar\\anaconda3.8\\envs\\ITT_Bigdata\\lib\\site-packages\\sklearn\\utils\\validation.py:72: DataConversionWarning: A column-vector y was passed when a 1d array was expected. Please change the shape of y to (n_samples, ), for example using ravel().\n",
      "  return f(**kwargs)\n",
      "C:\\Users\\jogar\\anaconda3.8\\envs\\ITT_Bigdata\\lib\\site-packages\\sklearn\\utils\\validation.py:72: DataConversionWarning: A column-vector y was passed when a 1d array was expected. Please change the shape of y to (n_samples, ), for example using ravel().\n",
      "  return f(**kwargs)\n",
      "C:\\Users\\jogar\\anaconda3.8\\envs\\ITT_Bigdata\\lib\\site-packages\\sklearn\\utils\\validation.py:72: DataConversionWarning: A column-vector y was passed when a 1d array was expected. Please change the shape of y to (n_samples, ), for example using ravel().\n",
      "  return f(**kwargs)\n",
      "C:\\Users\\jogar\\anaconda3.8\\envs\\ITT_Bigdata\\lib\\site-packages\\sklearn\\utils\\validation.py:72: DataConversionWarning: A column-vector y was passed when a 1d array was expected. Please change the shape of y to (n_samples, ), for example using ravel().\n",
      "  return f(**kwargs)\n"
     ]
    }
   ],
   "source": [
    "# Entrenamiento preduicción correspondiete a los modelos SVM\n",
    "\n",
    "for k in range(len(kernel)):\n",
    "    for i in range(7):\n",
    "        if kernel[k] == \"linear\":\n",
    "            # Entrenamiento SVM - Kernel lieal\n",
    "            modeloSVR_Klinear = svm.SVR(kernel=kernel[k], gamma='auto')\n",
    "            modeloSVR_Klinear.fit(X_trainStand[i], y_trainStand[i])\n",
    "            # Predicciones con los datos de entrenamiento\n",
    "            y_predTrain= modeloSVR_Klinear.predict(X_trainStand[i])\n",
    "            \n",
    "            # Cálculo de las medidas de ajuste del algoritmo conjunto de entrenamiento\n",
    "            ErrorCueadraticoMedioTrain = mean_squared_error(y_trainStand[i], y_predTrain)\n",
    "            EcmTrainSVR_Klinear.append(ErrorCueadraticoMedioTrain)\n",
    "            R2_Train = r2_score(y_trainStand[i], y_predTrain)\n",
    "            R2_TrainSVR_Klinear.append(R2_Train)\n",
    "            \n",
    "            # Predicciones sobre el conjunto de prueba\n",
    "            y_predTest = modeloSVR_Klinear.predict(X_testStand[i])\n",
    "            predTestSVR_Klinear.append(y_predTest)\n",
    "           \n",
    "            # Cálculo de las medidas de ajuste del algoritmo conjunto de entrenamiento\n",
    "            ErrorCuadraticoMedioTest = mean_squared_error(y_testStand[i], y_predTest)\n",
    "            EcmTestSVR_Klinear.append(ErrorCuadraticoMedioTest)\n",
    "            R2_Test = r2_score(y_testStand[i], y_predTest)\n",
    "            R2_TestSVR_Klinear.append(R2_Test)\n",
    "\n",
    "        elif kernel[k] == \"poly\":\n",
    "            # Entrenamiento SVM - Kernel polinómico\n",
    "            modeloSVR_Kpoly = svm.SVR(kernel=kernel[k], gamma='auto')\n",
    "            modeloSVR_Kpoly.fit(X_trainStand[i], y_trainStand[i])\n",
    "            # Predicciones con los datos de entrenamiento\n",
    "            y_predTrain= modeloSVR_Kpoly.predict(X_trainStand[i])\n",
    "\n",
    "            # Cálculo de las medidas de ajuste del algoritmo\n",
    "            ErrorCueadraticoMedioTrain = mean_squared_error(y_trainStand[i], y_predTrain)\n",
    "            EcmTrainSVR_Kpoly.append(ErrorCueadraticoMedioTrain)\n",
    "            R2_Train = r2_score(y_trainStand[i], y_predTrain)\n",
    "            R2_TrainSVR_Kpoly.append(R2_Train)\n",
    "            \n",
    "            # Predicciones sobre el conjunto de prueba\n",
    "            y_predTest = modeloSVR_Kpoly.predict(X_testStand[i])\n",
    "            predTestSVR_Kpoly.append(y_predTest)\n",
    "            \n",
    "            # Cálculo de las medidas de ajuste del algoritmo conjunto de entrenamiento\n",
    "            ErrorCuadraticoMedioTest = mean_squared_error(y_testStand[i], y_predTest)\n",
    "            EcmTestSVR_Kpoly.append(ErrorCuadraticoMedioTest)\n",
    "            R2_Test = r2_score(y_testStand[i], y_predTest)\n",
    "            R2_TestSVR_Kpoly.append(R2_Test)\n",
    "\n",
    "        else:\n",
    "            # Entrenamiento SVM - Kernel rbf\n",
    "            modeloSVR_Krbf = svm.SVR(kernel=kernel[k], gamma='auto')\n",
    "            modeloSVR_Krbf.fit(X_trainStand[i], y_trainStand[i])\n",
    "            # Predicciones con los datos de entrenamiento\n",
    "            y_predTrain= modeloSVR_Krbf.predict(X_trainStand[i])\n",
    "\n",
    "            # Cálculo de las medidas de ajuste del algoritmo\n",
    "            ErrorCueadraticoMedioTrain = mean_squared_error(y_trainStand[i], y_predTrain)\n",
    "            EcmTrainSVR_Krbf.append(ErrorCueadraticoMedioTrain)\n",
    "            R2_Train = r2_score(y_trainStand[i], y_predTrain)\n",
    "            R2_TrainSVR_Krbf.append(R2_Train)\n",
    "            \n",
    "            # Predicciones sobre el conjunto de prueba\n",
    "            y_predTest = modeloSVR_Krbf.predict(X_testStand[i])\n",
    "            predTestSVR_Krbf.append(y_predTest)\n",
    "            \n",
    "            # Cálculo de las medidas de ajuste del algoritmo conjunto de entrenamiento\n",
    "            ErrorCuadraticoMedioTest = mean_squared_error(y_testStand[i], y_predTest)\n",
    "            EcmTestSVR_Krbf.append(ErrorCuadraticoMedioTest)\n",
    "            R2_Test = r2_score(y_testStand[i], y_predTest)\n",
    "            R2_TestSVR_Krbf.append(R2_Test)"
   ]
  },
  {
   "cell_type": "code",
   "execution_count": 39,
   "metadata": {},
   "outputs": [
    {
     "name": "stdout",
     "output_type": "stream",
     "text": [
      "=====================================================================================================\n",
      "Resumen de los modelos de Regresión corrido para los rezagos de 1 hasta siete:\n",
      "\n",
      "El menor Error Cuadrático Medio en los datos de entreanamientos es: 0.0968\n",
      "Corresponde al modelo con:  1  Rezago(s)\n",
      "\n",
      "El mayor Coeficiente de determinación (R2) en los datos de entreanamientos es: 0.9012\n",
      "Corresponde al modelo con:  1  Rezago(s)\n",
      "\n",
      "El menor Error Cuadrático Medio en los datos de prueba es: 0.0988\n",
      "Corresponde al modelo con:  7  Rezago(s)\n",
      "\n",
      "El mayor Coeficiente de determinación (R2) en los datos de prueba es: 0.9067\n",
      "Corresponde al modelo con:  4  Rezago(s)\n",
      "=====================================================================================================\n",
      "Resumen de los modelos de SVM -Kernel linear , corrido para los rezagos de 1 hasta siete:\n",
      "\n",
      "El menor Error Cuadrático Medio en los datos de entreanamientos es: 0.1007\n",
      "Corresponde al modelo con:  1  Rezago(s)\n",
      "\n",
      "El mayor Coeficiente de determinación (R2) en los datos de entreanamientos es: 0.8973\n",
      "Corresponde al modelo con:  1  Rezago(s)\n",
      "\n",
      "El menor Error Cuadrático Medio en los datos de prueba es: 0.1026\n",
      "Corresponde al modelo con:  7  Rezago(s)\n",
      "\n",
      "El mayor Coeficiente de determinación (R2) en los datos de prueba es: 0.9017\n",
      "Corresponde al modelo con:  4  Rezago(s)\n",
      "=====================================================================================================\n",
      "Resumen de los modelos de SVM -Kernel poly , corrido para los rezagos de 1 hasta siete:\n",
      "\n",
      "El menor Error Cuadrático Medio en los datos de entreanamientos es: 0.3111\n",
      "Corresponde al modelo con:  1  Rezago(s)\n",
      "\n",
      "El mayor Coeficiente de determinación (R2) en los datos de entreanamientos es: 0.6826\n",
      "Corresponde al modelo con:  1  Rezago(s)\n",
      "\n",
      "El menor Error Cuadrático Medio en los datos de prueba es: 0.3079\n",
      "Corresponde al modelo con:  3  Rezago(s)\n",
      "\n",
      "El mayor Coeficiente de determinación (R2) en los datos de prueba es: 0.7079\n",
      "Corresponde al modelo con:  4  Rezago(s)\n",
      "=====================================================================================================\n",
      "Resumen de los modelos de SVM -Kernel rbf , corrido para los rezagos de 1 hasta siete:\n",
      "\n",
      "El menor Error Cuadrático Medio en los datos de entreanamientos es: 0.0182\n",
      "Corresponde al modelo con:  1  Rezago(s)\n",
      "\n",
      "El mayor Coeficiente de determinación (R2) en los datos de entreanamientos es: 0.9814\n",
      "Corresponde al modelo con:  1  Rezago(s)\n",
      "\n",
      "El menor Error Cuadrático Medio en los datos de prueba es: 0.0172\n",
      "Corresponde al modelo con:  2  Rezago(s)\n",
      "\n",
      "El mayor Coeficiente de determinación (R2) en los datos de prueba es: 0.9832\n",
      "Corresponde al modelo con:  2  Rezago(s)\n"
     ]
    }
   ],
   "source": [
    "'''A continuación se imprimen el ajuste de los 28 modelos corridos a saber:\n",
    "    1.- Siete modelos de Regresión Múltiple.\n",
    "    2.- Siete modelos de Máquina de Soporte Vectorial, con kernel Lineal.\n",
    "    3.- Siete modelos de Máquina de Soporte Vectorial, con kernel Polinómico.\n",
    "    4.- Siete modelos de Máquina de Soporte Vectorial, con kernel Radial.'''\n",
    "\n",
    "print(\"=====================================================================================================\")\n",
    "print(\"Resumen de los modelos de Regresión corrido para los rezagos de 1 hasta siete:\")\n",
    "print()\n",
    "print(\"El menor Error Cuadrático Medio en los datos de entreanamientos es:\", round(np.min(EcmTrainRegMult), 4))\n",
    "print(\"Corresponde al modelo con: \",EcmTrainRegMult.index(np.min(EcmTrainRegMult))+1,\" Rezago(s)\")\n",
    "print()\n",
    "print(\"El mayor Coeficiente de determinación (R2) en los datos de entreanamientos es:\", round(np.max(R2_TrainRegMult), 4))\n",
    "print(\"Corresponde al modelo con: \",R2_TrainRegMult.index(np.max(R2_TrainRegMult))+1,\" Rezago(s)\")\n",
    "print()\n",
    "print(\"El menor Error Cuadrático Medio en los datos de prueba es:\", round(np.min(EcmTestRegMult), 4))\n",
    "print(\"Corresponde al modelo con: \",EcmTestRegMult.index(np.min(EcmTestRegMult))+1,\" Rezago(s)\")\n",
    "print()\n",
    "print(\"El mayor Coeficiente de determinación (R2) en los datos de prueba es:\", round(np.max(R2_TestRegMult), 4))\n",
    "print(\"Corresponde al modelo con: \",R2_TestRegMult.index(np.max(R2_TestRegMult))+1,\" Rezago(s)\")\n",
    "\n",
    "\n",
    "\n",
    "for k in range(len(kernel)):\n",
    "    print(\"=====================================================================================================\")\n",
    "    print(\"Resumen de los modelos de SVM -Kernel\", kernel[k], \", corrido para los rezagos de 1 hasta siete:\")\n",
    "    print()\n",
    "    \n",
    "    if kernel[k] == 'linear':\n",
    "        print(\"El menor Error Cuadrático Medio en los datos de entreanamientos es:\", round(np.min(EcmTrainSVR_Klinear), 4))\n",
    "        print(\"Corresponde al modelo con: \",EcmTrainSVR_Klinear.index(np.min(EcmTrainSVR_Klinear))+1,\" Rezago(s)\")\n",
    "        print()\n",
    "        print(\"El mayor Coeficiente de determinación (R2) en los datos de entreanamientos es:\", round(np.max(R2_TrainSVR_Klinear), 4))\n",
    "        print(\"Corresponde al modelo con: \",R2_TrainSVR_Klinear.index(np.max(R2_TrainSVR_Klinear))+1,\" Rezago(s)\")\n",
    "        print()\n",
    "        print(\"El menor Error Cuadrático Medio en los datos de prueba es:\", round(np.min(EcmTestSVR_Klinear), 4))\n",
    "        print(\"Corresponde al modelo con: \",EcmTestSVR_Klinear.index(np.min(EcmTestSVR_Klinear))+1,\" Rezago(s)\")\n",
    "        print()\n",
    "        print(\"El mayor Coeficiente de determinación (R2) en los datos de prueba es:\", round(np.max(R2_TestSVR_Klinear), 4))\n",
    "        print(\"Corresponde al modelo con: \",R2_TestSVR_Klinear.index(np.max(R2_TestSVR_Klinear))+1,\" Rezago(s)\")\n",
    "        \n",
    "    elif kernel[k] == 'poly':\n",
    "        print(\"El menor Error Cuadrático Medio en los datos de entreanamientos es:\", round(np.min(EcmTrainSVR_Kpoly), 4))\n",
    "        print(\"Corresponde al modelo con: \",EcmTrainSVR_Kpoly.index(np.min(EcmTrainSVR_Kpoly))+1,\" Rezago(s)\")\n",
    "        print()\n",
    "        print(\"El mayor Coeficiente de determinación (R2) en los datos de entreanamientos es:\", round(np.max(R2_TrainSVR_Kpoly), 4))\n",
    "        print(\"Corresponde al modelo con: \",R2_TrainSVR_Kpoly.index(np.max(R2_TrainSVR_Kpoly))+1,\" Rezago(s)\")\n",
    "        print()\n",
    "        print(\"El menor Error Cuadrático Medio en los datos de prueba es:\", round(np.min(EcmTestSVR_Kpoly), 4))\n",
    "        print(\"Corresponde al modelo con: \",EcmTestSVR_Kpoly.index(np.min(EcmTestSVR_Kpoly))+1,\" Rezago(s)\")\n",
    "        print()\n",
    "        print(\"El mayor Coeficiente de determinación (R2) en los datos de prueba es:\", round(np.max(R2_TestSVR_Kpoly), 4))\n",
    "        print(\"Corresponde al modelo con: \",R2_TestSVR_Kpoly.index(np.max(R2_TestSVR_Kpoly))+1,\" Rezago(s)\")\n",
    "\n",
    "    else:\n",
    "        print(\"El menor Error Cuadrático Medio en los datos de entreanamientos es:\", round(np.min(EcmTrainSVR_Krbf), 4))\n",
    "        print(\"Corresponde al modelo con: \",EcmTrainSVR_Krbf.index(np.min(EcmTrainSVR_Krbf))+1,\" Rezago(s)\")\n",
    "        print()\n",
    "        print(\"El mayor Coeficiente de determinación (R2) en los datos de entreanamientos es:\", round(np.max(R2_TrainSVR_Krbf), 4))\n",
    "        print(\"Corresponde al modelo con: \",R2_TrainSVR_Krbf.index(np.max(R2_TrainSVR_Krbf))+1,\" Rezago(s)\")\n",
    "        print()\n",
    "        print(\"El menor Error Cuadrático Medio en los datos de prueba es:\", round(np.min(EcmTestSVR_Krbf), 4))\n",
    "        print(\"Corresponde al modelo con: \",EcmTestSVR_Krbf.index(np.min(EcmTestSVR_Krbf))+1,\" Rezago(s)\")\n",
    "        print()\n",
    "        print(\"El mayor Coeficiente de determinación (R2) en los datos de prueba es:\", round(np.max(R2_TestSVR_Krbf), 4))\n",
    "        print(\"Corresponde al modelo con: \",R2_TestSVR_Krbf.index(np.max(R2_TestSVR_Krbf))+1,\" Rezago(s)\")"
   ]
  },
  {
   "cell_type": "markdown",
   "metadata": {},
   "source": [
    "\n",
    "# Selección del algoritmo\n",
    "\n",
    "De los indicadores de ajuste de los distintos modelos entrenados, se tiene que el que mejor resultados arroja tanto en los datos entrenamiento, como de pruebas es el Algoritmo de Máquina de Soprte Vectorial, utilizando un Kernel Función de Base Radial. Presenta el menor Error Cuadrático Medio tanto en los datos de prueba, como en los de validación con 0.0192 y 0.0185, respectivamente, siendo un 88% más bajos que los Errores cuadráticos medios correspondienent al algoritmo de Regresión Lineal, que fue el segundo en calidad.\n",
    "\n",
    "En cuanto al Coeficiente de determinaciónl los valores son de un ajueste del 98,05% y 98,17%, para el conjunto de entrenamiento y validación respectivamente. Esto es un 10,7% de mejoara en la capacidad predictiva, respecto al algoritmo que llegó en el segundo lugar.\n",
    "\n",
    "Con cuatro Rezagos\n"
   ]
  },
  {
   "cell_type": "code",
   "execution_count": 40,
   "metadata": {},
   "outputs": [
    {
     "data": {
      "image/png": "[encoded data removed]",
      "text/plain": [
       "<Figure size 432x288 with 1 Axes>"
      ]
     },
     "metadata": {
      "needs_background": "light"
     },
     "output_type": "display_data"
    }
   ],
   "source": [
    "ypos = ['ModeloMSV_Kernel_rbf 1 Rezago','ModeloMSV_Kernel_rbf 2 Rezagos','ModeloMSV_Kernel_rbf 3 Rezagos','ModeloMSV_Kernel_rbf 4 Rezagos',\n",
    "        'ModeloMSV_Kernel_rbf 5 Rezagos','ModeloMSV_Kernel_rbf 6 Rezagos','ModeloMSV_Kernel_rbf 7 Rezagos']\n",
    "\n",
    "\n",
    "plt.barh(ypos, EcmTrainSVR_Krbf, align='center', alpha=0.5)\n",
    "plt.title('Conjunto de Entrenamiento - Error Cuadrático Medio para cada uno de los modelos')\n",
    "plt.xlabel('Error Cuadrático Medio')\n",
    "plt.ylabel('Modelos')\n",
    "plt.xlim(0.0, .025)\n",
    "plt.show()"
   ]
  },
  {
   "cell_type": "code",
   "execution_count": 41,
   "metadata": {},
   "outputs": [
    {
     "data": {
      "image/png": "[encoded data removed]",
      "text/plain": [
       "<Figure size 432x288 with 1 Axes>"
      ]
     },
     "metadata": {
      "needs_background": "light"
     },
     "output_type": "display_data"
    }
   ],
   "source": [
    "plt.barh(ypos, R2_TrainSVR_Krbf, align='center', alpha=0.5)\n",
    "plt.title('Conjunto de Entrenamiento - Coeficiente de determinación para cada uno de los modelos')\n",
    "plt.xlabel('Coeficiente de determinación')\n",
    "plt.ylabel('Modelos')\n",
    "plt.xlim(0.9, 1)\n",
    "plt.show()"
   ]
  },
  {
   "cell_type": "code",
   "execution_count": 42,
   "metadata": {},
   "outputs": [
    {
     "data": {
      "image/png": "[encoded data removed]",
      "text/plain": [
       "<Figure size 432x288 with 1 Axes>"
      ]
     },
     "metadata": {
      "needs_background": "light"
     },
     "output_type": "display_data"
    }
   ],
   "source": [
    "plt.barh(ypos, EcmTestSVR_Krbf, align='center', alpha=0.5)\n",
    "plt.title('Conjunto de Entrenamiento - Error Cuadrático Medio para cada uno de los modelos')\n",
    "plt.xlabel('Error Cuadrático Medio')\n",
    "plt.ylabel('Modelos')\n",
    "plt.xlim(0.0, .025)\n",
    "plt.show()"
   ]
  },
  {
   "cell_type": "code",
   "execution_count": 43,
   "metadata": {},
   "outputs": [
    {
     "data": {
      "image/png": "[encoded data removed]",
      "text/plain": [
       "<Figure size 432x288 with 1 Axes>"
      ]
     },
     "metadata": {
      "needs_background": "light"
     },
     "output_type": "display_data"
    }
   ],
   "source": [
    "plt.barh(ypos, R2_TestSVR_Krbf, align='center', alpha=0.5)\n",
    "plt.title('Conjunto de Entrenamiento - Coeficiente de determinación para cada uno de los modelos')\n",
    "plt.xlabel('Coeficiente de determinación')\n",
    "plt.ylabel('Modelos')\n",
    "plt.xlim(0.9, 1)\n",
    "plt.show()"
   ]
  },
  {
   "cell_type": "code",
   "execution_count": 44,
   "metadata": {},
   "outputs": [],
   "source": [
    "#Cálculo de predicciones en términos de las unidades originales de las variables\n",
    "\n",
    "index = R2_TestSVR_Krbf.index(np.max(R2_TestSVR_Krbf))+1\n",
    "\n",
    "realBitcoinTest = np.exp(sc_y.inverse_transform(y_testStand[index]))\n",
    "precidccionesBitcoinTest = np.exp(sc_y.inverse_transform(predTestSVR_Krbf[index]))"
   ]
  },
  {
   "cell_type": "code",
   "execution_count": 45,
   "metadata": {},
   "outputs": [
    {
     "data": {
      "image/png": "[encoded data removed]",
      "text/plain": [
       "<Figure size 432x288 with 1 Axes>"
      ]
     },
     "metadata": {
      "needs_background": "light"
     },
     "output_type": "display_data"
    }
   ],
   "source": [
    "plt.plot(realBitcoinTest, label = \"Valores Reales\")\n",
    "plt.plot(precidccionesBitcoinTest, label = \"Predicciones\")\n",
    "plt.title(\"Conjunto de Validación - Valores Reales Vs Predichos por el algoritmo de Regresión Múltiple\")\n",
    "plt.legend()\n",
    "plt.show()"
   ]
  },
  {
   "cell_type": "code",
   "execution_count": 46,
   "metadata": {},
   "outputs": [
    {
     "name": "stderr",
     "output_type": "stream",
     "text": [
      "C:\\Users\\jogar\\anaconda3.8\\envs\\ITT_Bigdata\\lib\\site-packages\\seaborn\\distributions.py:2551: FutureWarning: `distplot` is a deprecated function and will be removed in a future version. Please adapt your code to use either `displot` (a figure-level function with similar flexibility) or `histplot` (an axes-level function for histograms).\n",
      "  warnings.warn(msg, FutureWarning)\n"
     ]
    },
    {
     "data": {
      "image/png": "[encoded data removed]",
      "text/plain": [
       "<Figure size 432x288 with 1 Axes>"
      ]
     },
     "metadata": {
      "needs_background": "light"
     },
     "output_type": "display_data"
    }
   ],
   "source": [
    "import seaborn as sns\n",
    "\n",
    "sns.distplot((realBitcoinTest - precidccionesBitcoinTest), bins = 50)\n",
    "plt.ylabel(\"Densidad\")\n",
    "plt.show()"
   ]
  },
  {
   "cell_type": "code",
   "execution_count": 47,
   "metadata": {},
   "outputs": [
    {
     "name": "stderr",
     "output_type": "stream",
     "text": [
      "C:\\Users\\jogar\\anaconda3.8\\envs\\ITT_Bigdata\\lib\\site-packages\\sklearn\\utils\\validation.py:72: DataConversionWarning: A column-vector y was passed when a 1d array was expected. Please change the shape of y to (n_samples, ), for example using ravel().\n",
      "  return f(**kwargs)\n"
     ]
    },
    {
     "name": "stdout",
     "output_type": "stream",
     "text": [
      "============================================================================================\n",
      "\n",
      "El error cuadrático medio para el modelo final es: 0.0185\n",
      "\n",
      "El coeficiente de determinación(R2) para el modelo final es: 0.9815\n",
      "\n",
      "============================================================================================\n"
     ]
    }
   ],
   "source": [
    "# Modelo final\n",
    "\n",
    "# 1.- Extracción de la información correspondiente a las variables y, X\n",
    "y_final = y_list[3]\n",
    "X_final = X_list[3]\n",
    "\n",
    "# 2.- Estandarización de todo el dataframe\n",
    "y_final = y_final.values\n",
    "y_final = y_final.reshape(-1,1)\n",
    "sc_X = StandardScaler()\n",
    "sc_y = StandardScaler()\n",
    "X_final = sc_X.fit_transform(X_final)\n",
    "y_final = sc_y.fit_transform(y_final)\n",
    "\n",
    "\n",
    "# Entrenamiento del modelo Final\n",
    "\n",
    "modeloSVR_Krbf_final = svm.SVR(kernel='rbf', gamma='auto')\n",
    "modeloSVR_Krbf_final.fit(X_final, y_final)\n",
    "\n",
    "# Predicciones con los datos de entrenamiento\n",
    "y_pred_final= modeloSVR_Krbf_final.predict(X_final)\n",
    "\n",
    "# Cálculo de las medidas de ajuste del algoritmo\n",
    "ErrorCueadraticoMedioFinal = mean_squared_error(y_final, y_pred_final)\n",
    "R2_Final = r2_score(y_final, y_pred_final)\n",
    "\n",
    "print(\"============================================================================================\")\n",
    "print()\n",
    "print(\"El error cuadrático medio para el modelo final es:\", round(ErrorCueadraticoMedioFinal,4))\n",
    "print()\n",
    "print(\"El coeficiente de determinación(R2) para el modelo final es:\", round(R2_Final,4))\n",
    "print()\n",
    "print(\"============================================================================================\")"
   ]
  },
  {
   "cell_type": "code",
   "execution_count": 48,
   "metadata": {},
   "outputs": [
    {
     "data": {
      "text/plain": [
       "['modeloSVR_Krbf_final.pkl']"
      ]
     },
     "execution_count": 48,
     "metadata": {},
     "output_type": "execute_result"
    }
   ],
   "source": [
    "import joblib\n",
    "\n",
    "joblib.dump(sc_X, 'estandariza_X.pkl')\n",
    "joblib.dump(sc_y, 'estandariza_y.pkl')\n",
    "joblib.dump(modeloSVR_Krbf_final, 'modeloSVR_Krbf_final.pkl')"
   ]
  },
  {
   "cell_type": "markdown",
   "metadata": {},
   "source": [
    "\n",
    "# Anexo \n",
    "\n",
    "## Otras criptomonedas\n",
    "\n",
    "#### aplicación del modelo a otras critomedas "
   ]
  },
  {
   "cell_type": "code",
   "execution_count": 75,
   "metadata": {},
   "outputs": [],
   "source": [
    "import pymongo\n",
    "uri=\"mongodb://localhost:27017\"\n",
    "cx=pymongo.MongoClient(uri)\n",
    "mndb = cx[\"BD_proyecto\"]\n",
    "mycol = mndb['bbdd2']\n",
    "null = 'null' "
   ]
  },
  {
   "cell_type": "code",
   "execution_count": 76,
   "metadata": {},
   "outputs": [
    {
     "name": "stdout",
     "output_type": "stream",
     "text": [
      "2021-01-05\n"
     ]
    }
   ],
   "source": [
    "for inst in mycol.aggregate([{ \"$group\": {\"_id\": null,\"MaximumValue\": { \"$max\": \"$Date\" }}}]):\n",
    "    fecmax=inst ['MaximumValue']\n",
    "print(fecmax) "
   ]
  },
  {
   "cell_type": "code",
   "execution_count": 77,
   "metadata": {},
   "outputs": [
    {
     "name": "stdout",
     "output_type": "stream",
     "text": [
      "['Cardano', 'Dash', 'Dogecoin', 'Ether', 'Litecoin', 'Miota', 'Monero', 'Nem', 'Neo', 'PeerCoin', 'Ripple']\n"
     ]
    }
   ],
   "source": [
    "list_emp = []\n",
    "for inst in  mycol.distinct( \"Desc\" ) : \n",
    "    list_emp.append(inst) \n",
    "    \n",
    "print(list_emp)  "
   ]
  },
  {
   "cell_type": "code",
   "execution_count": 78,
   "metadata": {},
   "outputs": [
    {
     "name": "stdout",
     "output_type": "stream",
     "text": [
      "(0, 'Cardano')\n",
      "(1, 'Dash')\n",
      "(2, 'Dogecoin')\n",
      "(3, 'Ether')\n",
      "(4, 'Litecoin')\n",
      "(5, 'Miota')\n",
      "(6, 'Monero')\n",
      "(7, 'Nem')\n",
      "(8, 'Neo')\n",
      "(9, 'PeerCoin')\n",
      "(10, 'Ripple')\n"
     ]
    }
   ],
   "source": [
    "enum_emp = enumerate(list_emp)\n",
    "for enum_emp in enumerate(list_emp):\n",
    "    print(enum_emp)"
   ]
  },
  {
   "cell_type": "code",
   "execution_count": 79,
   "metadata": {},
   "outputs": [
    {
     "name": "stdout",
     "output_type": "stream",
     "text": [
      "introduce número identificativo de criptomoneda de campo que quieres comparar==> 1\n",
      "Dash\n"
     ]
    }
   ],
   "source": [
    "x=int(input(\"introduce número identificativo de criptomoneda de campo que quieres comparar==> \"))\n",
    "print(list_emp[x])\n",
    "cryp = list_emp[x]"
   ]
  },
  {
   "cell_type": "code",
   "execution_count": 80,
   "metadata": {},
   "outputs": [],
   "source": [
    "datos=[]\n",
    "#for inst in mycol.find({\"Desc\":list_emp[x]},{\"_id\": 0,\"Date\":1,\"Close\":1}):  \n",
    "for inst in mycol.find({\"Desc\":list_emp[x]},{\"_id\": 0}):  \n",
    "    datos.append(inst)\n",
    "#    print(inst) "
   ]
  },
  {
   "cell_type": "code",
   "execution_count": 81,
   "metadata": {},
   "outputs": [
    {
     "data": {
      "text/html": [
       "<div>\n",
       "<style scoped>\n",
       "    .dataframe tbody tr th:only-of-type {\n",
       "        vertical-align: middle;\n",
       "    }\n",
       "\n",
       "    .dataframe tbody tr th {\n",
       "        vertical-align: top;\n",
       "    }\n",
       "\n",
       "    .dataframe thead th {\n",
       "        text-align: right;\n",
       "    }\n",
       "</style>\n",
       "<table border=\"1\" class=\"dataframe\">\n",
       "  <thead>\n",
       "    <tr style=\"text-align: right;\">\n",
       "      <th></th>\n",
       "      <th>Date</th>\n",
       "      <th>Open</th>\n",
       "      <th>High</th>\n",
       "      <th>Low</th>\n",
       "      <th>Close</th>\n",
       "      <th>Adj Close</th>\n",
       "      <th>Volume</th>\n",
       "      <th>Desc</th>\n",
       "    </tr>\n",
       "  </thead>\n",
       "  <tbody>\n",
       "    <tr>\n",
       "      <th>0</th>\n",
       "      <td>2014-09-17</td>\n",
       "      <td>3.327650</td>\n",
       "      <td>3.878730</td>\n",
       "      <td>3.297880</td>\n",
       "      <td>3.753940</td>\n",
       "      <td>3.753940</td>\n",
       "      <td>574556</td>\n",
       "      <td>Dash</td>\n",
       "    </tr>\n",
       "    <tr>\n",
       "      <th>1</th>\n",
       "      <td>2014-09-18</td>\n",
       "      <td>3.775540</td>\n",
       "      <td>3.950010</td>\n",
       "      <td>3.588730</td>\n",
       "      <td>3.868900</td>\n",
       "      <td>3.868900</td>\n",
       "      <td>438932</td>\n",
       "      <td>Dash</td>\n",
       "    </tr>\n",
       "    <tr>\n",
       "      <th>2</th>\n",
       "      <td>2014-09-19</td>\n",
       "      <td>3.865930</td>\n",
       "      <td>3.924180</td>\n",
       "      <td>3.372750</td>\n",
       "      <td>3.432100</td>\n",
       "      <td>3.432100</td>\n",
       "      <td>353146</td>\n",
       "      <td>Dash</td>\n",
       "    </tr>\n",
       "    <tr>\n",
       "      <th>3</th>\n",
       "      <td>2014-09-20</td>\n",
       "      <td>3.429370</td>\n",
       "      <td>3.577550</td>\n",
       "      <td>3.144340</td>\n",
       "      <td>3.183440</td>\n",
       "      <td>3.183440</td>\n",
       "      <td>211501</td>\n",
       "      <td>Dash</td>\n",
       "    </tr>\n",
       "    <tr>\n",
       "      <th>4</th>\n",
       "      <td>2014-09-21</td>\n",
       "      <td>3.177560</td>\n",
       "      <td>3.269970</td>\n",
       "      <td>2.921020</td>\n",
       "      <td>2.970510</td>\n",
       "      <td>2.970510</td>\n",
       "      <td>142460</td>\n",
       "      <td>Dash</td>\n",
       "    </tr>\n",
       "  </tbody>\n",
       "</table>\n",
       "</div>"
      ],
      "text/plain": [
       "         Date      Open      High       Low     Close Adj Close  Volume  Desc\n",
       "0  2014-09-17  3.327650  3.878730  3.297880  3.753940  3.753940  574556  Dash\n",
       "1  2014-09-18  3.775540  3.950010  3.588730  3.868900  3.868900  438932  Dash\n",
       "2  2014-09-19  3.865930  3.924180  3.372750  3.432100  3.432100  353146  Dash\n",
       "3  2014-09-20  3.429370  3.577550  3.144340  3.183440  3.183440  211501  Dash\n",
       "4  2014-09-21  3.177560  3.269970  2.921020  2.970510  2.970510  142460  Dash"
      ]
     },
     "execution_count": 81,
     "metadata": {},
     "output_type": "execute_result"
    }
   ],
   "source": [
    "#datos\n",
    "from pandas import DataFrame \n",
    "df_cryp = DataFrame (datos)\n",
    "df_cryp.sort_values(by=\"Date\", ascending=False)\n",
    "df_cryp.head()"
   ]
  },
  {
   "cell_type": "code",
   "execution_count": 82,
   "metadata": {},
   "outputs": [],
   "source": [
    "df_cryp_cierre = df_cryp[[\"Date\",\"Close\"]]\n",
    "df_cryp_cierre = df_cryp_cierre.rename(columns = {\"Close\" : \"Close\"+cryp})\n",
    "df_cryp_cierre.set_index('Date', inplace = True) "
   ]
  },
  {
   "cell_type": "code",
   "execution_count": 83,
   "metadata": {},
   "outputs": [
    {
     "data": {
      "text/html": [
       "<div>\n",
       "<style scoped>\n",
       "    .dataframe tbody tr th:only-of-type {\n",
       "        vertical-align: middle;\n",
       "    }\n",
       "\n",
       "    .dataframe tbody tr th {\n",
       "        vertical-align: top;\n",
       "    }\n",
       "\n",
       "    .dataframe thead th {\n",
       "        text-align: right;\n",
       "    }\n",
       "</style>\n",
       "<table border=\"1\" class=\"dataframe\">\n",
       "  <thead>\n",
       "    <tr style=\"text-align: right;\">\n",
       "      <th></th>\n",
       "      <th>CloseDash</th>\n",
       "    </tr>\n",
       "    <tr>\n",
       "      <th>Date</th>\n",
       "      <th></th>\n",
       "    </tr>\n",
       "  </thead>\n",
       "  <tbody>\n",
       "    <tr>\n",
       "      <th>2014-09-17</th>\n",
       "      <td>3.753940</td>\n",
       "    </tr>\n",
       "    <tr>\n",
       "      <th>2014-09-18</th>\n",
       "      <td>3.868900</td>\n",
       "    </tr>\n",
       "    <tr>\n",
       "      <th>2014-09-19</th>\n",
       "      <td>3.432100</td>\n",
       "    </tr>\n",
       "    <tr>\n",
       "      <th>2014-09-20</th>\n",
       "      <td>3.183440</td>\n",
       "    </tr>\n",
       "    <tr>\n",
       "      <th>2014-09-21</th>\n",
       "      <td>2.970510</td>\n",
       "    </tr>\n",
       "    <tr>\n",
       "      <th>...</th>\n",
       "      <td>...</td>\n",
       "    </tr>\n",
       "    <tr>\n",
       "      <th>2021-01-01</th>\n",
       "      <td>88.241707</td>\n",
       "    </tr>\n",
       "    <tr>\n",
       "      <th>2021-01-02</th>\n",
       "      <td>86.969772</td>\n",
       "    </tr>\n",
       "    <tr>\n",
       "      <th>2021-01-03</th>\n",
       "      <td>89.069138</td>\n",
       "    </tr>\n",
       "    <tr>\n",
       "      <th>2021-01-04</th>\n",
       "      <td>88.797173</td>\n",
       "    </tr>\n",
       "    <tr>\n",
       "      <th>2021-01-05</th>\n",
       "      <td>89.102776</td>\n",
       "    </tr>\n",
       "  </tbody>\n",
       "</table>\n",
       "<p>2303 rows × 1 columns</p>\n",
       "</div>"
      ],
      "text/plain": [
       "            CloseDash\n",
       "Date                 \n",
       "2014-09-17   3.753940\n",
       "2014-09-18   3.868900\n",
       "2014-09-19   3.432100\n",
       "2014-09-20   3.183440\n",
       "2014-09-21   2.970510\n",
       "...               ...\n",
       "2021-01-01  88.241707\n",
       "2021-01-02  86.969772\n",
       "2021-01-03  89.069138\n",
       "2021-01-04  88.797173\n",
       "2021-01-05  89.102776\n",
       "\n",
       "[2303 rows x 1 columns]"
      ]
     },
     "execution_count": 83,
     "metadata": {},
     "output_type": "execute_result"
    }
   ],
   "source": [
    "df_cryp_cierre['CloseDash'].replace({'null': 'NaN'},inplace =True)\n",
    "df_cryp_cierre\n",
    "#df_cryp_cierre1 =df_cryp_cierre.ffill()\n",
    "#df_cryp_cierre1 =df_cryp_cierre.bfill()"
   ]
  },
  {
   "cell_type": "code",
   "execution_count": 84,
   "metadata": {},
   "outputs": [
    {
     "data": {
      "text/html": [
       "<div>\n",
       "<style scoped>\n",
       "    .dataframe tbody tr th:only-of-type {\n",
       "        vertical-align: middle;\n",
       "    }\n",
       "\n",
       "    .dataframe tbody tr th {\n",
       "        vertical-align: top;\n",
       "    }\n",
       "\n",
       "    .dataframe thead th {\n",
       "        text-align: right;\n",
       "    }\n",
       "</style>\n",
       "<table border=\"1\" class=\"dataframe\">\n",
       "  <thead>\n",
       "    <tr style=\"text-align: right;\">\n",
       "      <th></th>\n",
       "      <th>CloseDash</th>\n",
       "    </tr>\n",
       "    <tr>\n",
       "      <th>Date</th>\n",
       "      <th></th>\n",
       "    </tr>\n",
       "  </thead>\n",
       "  <tbody>\n",
       "    <tr>\n",
       "      <th>2014-09-17</th>\n",
       "      <td>3.753940</td>\n",
       "    </tr>\n",
       "    <tr>\n",
       "      <th>2014-09-18</th>\n",
       "      <td>3.868900</td>\n",
       "    </tr>\n",
       "    <tr>\n",
       "      <th>2014-09-19</th>\n",
       "      <td>3.432100</td>\n",
       "    </tr>\n",
       "    <tr>\n",
       "      <th>2014-09-20</th>\n",
       "      <td>3.183440</td>\n",
       "    </tr>\n",
       "    <tr>\n",
       "      <th>2014-09-21</th>\n",
       "      <td>2.970510</td>\n",
       "    </tr>\n",
       "    <tr>\n",
       "      <th>...</th>\n",
       "      <td>...</td>\n",
       "    </tr>\n",
       "    <tr>\n",
       "      <th>2021-01-01</th>\n",
       "      <td>88.241707</td>\n",
       "    </tr>\n",
       "    <tr>\n",
       "      <th>2021-01-02</th>\n",
       "      <td>86.969772</td>\n",
       "    </tr>\n",
       "    <tr>\n",
       "      <th>2021-01-03</th>\n",
       "      <td>89.069138</td>\n",
       "    </tr>\n",
       "    <tr>\n",
       "      <th>2021-01-04</th>\n",
       "      <td>88.797173</td>\n",
       "    </tr>\n",
       "    <tr>\n",
       "      <th>2021-01-05</th>\n",
       "      <td>89.102776</td>\n",
       "    </tr>\n",
       "  </tbody>\n",
       "</table>\n",
       "<p>2303 rows × 1 columns</p>\n",
       "</div>"
      ],
      "text/plain": [
       "            CloseDash\n",
       "Date                 \n",
       "2014-09-17   3.753940\n",
       "2014-09-18   3.868900\n",
       "2014-09-19   3.432100\n",
       "2014-09-20   3.183440\n",
       "2014-09-21   2.970510\n",
       "...               ...\n",
       "2021-01-01  88.241707\n",
       "2021-01-02  86.969772\n",
       "2021-01-03  89.069138\n",
       "2021-01-04  88.797173\n",
       "2021-01-05  89.102776\n",
       "\n",
       "[2303 rows x 1 columns]"
      ]
     },
     "execution_count": 84,
     "metadata": {},
     "output_type": "execute_result"
    }
   ],
   "source": [
    "import numpy as np\n",
    "df_cryp_cierre1   = df_cryp_cierre.astype(float)\n",
    "df_cryp_cierre1 \n"
   ]
  },
  {
   "cell_type": "code",
   "execution_count": 85,
   "metadata": {},
   "outputs": [
    {
     "data": {
      "text/html": [
       "<div>\n",
       "<style scoped>\n",
       "    .dataframe tbody tr th:only-of-type {\n",
       "        vertical-align: middle;\n",
       "    }\n",
       "\n",
       "    .dataframe tbody tr th {\n",
       "        vertical-align: top;\n",
       "    }\n",
       "\n",
       "    .dataframe thead th {\n",
       "        text-align: right;\n",
       "    }\n",
       "</style>\n",
       "<table border=\"1\" class=\"dataframe\">\n",
       "  <thead>\n",
       "    <tr style=\"text-align: right;\">\n",
       "      <th></th>\n",
       "      <th>CloseDash</th>\n",
       "    </tr>\n",
       "    <tr>\n",
       "      <th>Date</th>\n",
       "      <th></th>\n",
       "    </tr>\n",
       "  </thead>\n",
       "  <tbody>\n",
       "    <tr>\n",
       "      <th>2014-09-17</th>\n",
       "      <td>3.753940</td>\n",
       "    </tr>\n",
       "    <tr>\n",
       "      <th>2014-09-18</th>\n",
       "      <td>3.868900</td>\n",
       "    </tr>\n",
       "    <tr>\n",
       "      <th>2014-09-19</th>\n",
       "      <td>3.432100</td>\n",
       "    </tr>\n",
       "    <tr>\n",
       "      <th>2014-09-20</th>\n",
       "      <td>3.183440</td>\n",
       "    </tr>\n",
       "    <tr>\n",
       "      <th>2014-09-21</th>\n",
       "      <td>2.970510</td>\n",
       "    </tr>\n",
       "    <tr>\n",
       "      <th>...</th>\n",
       "      <td>...</td>\n",
       "    </tr>\n",
       "    <tr>\n",
       "      <th>2021-01-01</th>\n",
       "      <td>88.241707</td>\n",
       "    </tr>\n",
       "    <tr>\n",
       "      <th>2021-01-02</th>\n",
       "      <td>86.969772</td>\n",
       "    </tr>\n",
       "    <tr>\n",
       "      <th>2021-01-03</th>\n",
       "      <td>89.069138</td>\n",
       "    </tr>\n",
       "    <tr>\n",
       "      <th>2021-01-04</th>\n",
       "      <td>88.797173</td>\n",
       "    </tr>\n",
       "    <tr>\n",
       "      <th>2021-01-05</th>\n",
       "      <td>89.102776</td>\n",
       "    </tr>\n",
       "  </tbody>\n",
       "</table>\n",
       "<p>2299 rows × 1 columns</p>\n",
       "</div>"
      ],
      "text/plain": [
       "            CloseDash\n",
       "Date                 \n",
       "2014-09-17   3.753940\n",
       "2014-09-18   3.868900\n",
       "2014-09-19   3.432100\n",
       "2014-09-20   3.183440\n",
       "2014-09-21   2.970510\n",
       "...               ...\n",
       "2021-01-01  88.241707\n",
       "2021-01-02  86.969772\n",
       "2021-01-03  89.069138\n",
       "2021-01-04  88.797173\n",
       "2021-01-05  89.102776\n",
       "\n",
       "[2299 rows x 1 columns]"
      ]
     },
     "execution_count": 85,
     "metadata": {},
     "output_type": "execute_result"
    }
   ],
   "source": [
    "df_cryp_cierre2=df_cryp_cierre1.dropna() \n",
    "#df_cryp_cierre1 = df.df_cryp_cierre(subset, inplace=True)\n",
    "#df_cryp_cierre1 = df_cryp_cierre1.reset_index(drop=True)\n",
    "df_cryp_cierre2"
   ]
  },
  {
   "cell_type": "code",
   "execution_count": 86,
   "metadata": {
    "scrolled": true
   },
   "outputs": [
    {
     "data": {
      "text/html": [
       "<div>\n",
       "<style scoped>\n",
       "    .dataframe tbody tr th:only-of-type {\n",
       "        vertical-align: middle;\n",
       "    }\n",
       "\n",
       "    .dataframe tbody tr th {\n",
       "        vertical-align: top;\n",
       "    }\n",
       "\n",
       "    .dataframe thead th {\n",
       "        text-align: right;\n",
       "    }\n",
       "</style>\n",
       "<table border=\"1\" class=\"dataframe\">\n",
       "  <thead>\n",
       "    <tr style=\"text-align: right;\">\n",
       "      <th></th>\n",
       "      <th>CloseDash</th>\n",
       "    </tr>\n",
       "    <tr>\n",
       "      <th>Date</th>\n",
       "      <th></th>\n",
       "    </tr>\n",
       "  </thead>\n",
       "  <tbody>\n",
       "    <tr>\n",
       "      <th>2014-09-17</th>\n",
       "      <td>1.558974</td>\n",
       "    </tr>\n",
       "    <tr>\n",
       "      <th>2014-09-18</th>\n",
       "      <td>1.582868</td>\n",
       "    </tr>\n",
       "    <tr>\n",
       "      <th>2014-09-19</th>\n",
       "      <td>1.488874</td>\n",
       "    </tr>\n",
       "    <tr>\n",
       "      <th>2014-09-20</th>\n",
       "      <td>1.431134</td>\n",
       "    </tr>\n",
       "    <tr>\n",
       "      <th>2014-09-21</th>\n",
       "      <td>1.378895</td>\n",
       "    </tr>\n",
       "    <tr>\n",
       "      <th>...</th>\n",
       "      <td>...</td>\n",
       "    </tr>\n",
       "    <tr>\n",
       "      <th>2021-01-01</th>\n",
       "      <td>4.491348</td>\n",
       "    </tr>\n",
       "    <tr>\n",
       "      <th>2021-01-02</th>\n",
       "      <td>4.476993</td>\n",
       "    </tr>\n",
       "    <tr>\n",
       "      <th>2021-01-03</th>\n",
       "      <td>4.500578</td>\n",
       "    </tr>\n",
       "    <tr>\n",
       "      <th>2021-01-04</th>\n",
       "      <td>4.497553</td>\n",
       "    </tr>\n",
       "    <tr>\n",
       "      <th>2021-01-05</th>\n",
       "      <td>4.500951</td>\n",
       "    </tr>\n",
       "  </tbody>\n",
       "</table>\n",
       "<p>2299 rows × 1 columns</p>\n",
       "</div>"
      ],
      "text/plain": [
       "            CloseDash\n",
       "Date                 \n",
       "2014-09-17   1.558974\n",
       "2014-09-18   1.582868\n",
       "2014-09-19   1.488874\n",
       "2014-09-20   1.431134\n",
       "2014-09-21   1.378895\n",
       "...               ...\n",
       "2021-01-01   4.491348\n",
       "2021-01-02   4.476993\n",
       "2021-01-03   4.500578\n",
       "2021-01-04   4.497553\n",
       "2021-01-05   4.500951\n",
       "\n",
       "[2299 rows x 1 columns]"
      ]
     },
     "execution_count": 86,
     "metadata": {},
     "output_type": "execute_result"
    }
   ],
   "source": [
    "df_cryp_cierre_log = pd.DataFrame(np.log1p(df_cryp_cierre2))\n",
    "#df_cryp_cierre_log = DataFrame (df_cryp_cierre2)\n",
    "df_cryp_cierre_log"
   ]
  },
  {
   "cell_type": "code",
   "execution_count": 87,
   "metadata": {},
   "outputs": [
    {
     "data": {
      "text/plain": [
       "Date\n",
       "2014-09-17    1.558974\n",
       "2014-09-18    1.582868\n",
       "2014-09-19    1.488874\n",
       "2014-09-20    1.431134\n",
       "2014-09-21    1.378895\n",
       "                ...   \n",
       "2021-01-01    4.491348\n",
       "2021-01-02    4.476993\n",
       "2021-01-03    4.500578\n",
       "2021-01-04    4.497553\n",
       "2021-01-05    4.500951\n",
       "Name: CloseDash, Length: 2299, dtype: float64"
      ]
     },
     "execution_count": 87,
     "metadata": {},
     "output_type": "execute_result"
    }
   ],
   "source": [
    "y_nueva1 = df_cryp_cierre_log.iloc[:,0]\n",
    "y_nueva1"
   ]
  },
  {
   "cell_type": "code",
   "execution_count": 88,
   "metadata": {},
   "outputs": [],
   "source": [
    "y_nueva1 = y_nueva1.values\n",
    "y_nueva1 = y_nueva1.reshape(-1,1) "
   ]
  },
  {
   "cell_type": "code",
   "execution_count": 89,
   "metadata": {},
   "outputs": [
    {
     "data": {
      "text/plain": [
       "array([[1.55897375],\n",
       "       [1.58286804],\n",
       "       [1.48887351],\n",
       "       ...,\n",
       "       [4.50057758],\n",
       "       [4.49755349],\n",
       "       [4.50095097]])"
      ]
     },
     "execution_count": 89,
     "metadata": {},
     "output_type": "execute_result"
    }
   ],
   "source": [
    "y_nueva1"
   ]
  },
  {
   "cell_type": "code",
   "execution_count": null,
   "metadata": {},
   "outputs": [],
   "source": [
    "#y_nueva1 = sc_y.fit_transform(y_nueva1)"
   ]
  },
  {
   "cell_type": "code",
   "execution_count": null,
   "metadata": {},
   "outputs": [],
   "source": [
    "#y_pred_nueva1= modeloSVR_Krbf_final.predict(X_final)"
   ]
  },
  {
   "cell_type": "code",
   "execution_count": 90,
   "metadata": {},
   "outputs": [
    {
     "data": {
      "text/plain": [
       "array([[-1.3687427 , -1.81739997, -1.76265142, -1.17218319],\n",
       "       [-1.41096862, -1.84833992, -1.80200469, -1.19066896],\n",
       "       [-1.44160672, -1.85233347, -1.74930796, -1.21096831],\n",
       "       ...,\n",
       "       [ 1.82089241,  1.54805102,  1.62105448,  1.73686089],\n",
       "       [ 1.78903326,  1.53841975,  1.63302021,  1.7253172 ],\n",
       "       [ 1.70439875,  1.52719078,  1.57704047,  1.67199249]])"
      ]
     },
     "execution_count": 90,
     "metadata": {},
     "output_type": "execute_result"
    }
   ],
   "source": [
    "X_final"
   ]
  },
  {
   "cell_type": "code",
   "execution_count": 91,
   "metadata": {},
   "outputs": [
    {
     "data": {
      "text/html": [
       "<div>\n",
       "<style scoped>\n",
       "    .dataframe tbody tr th:only-of-type {\n",
       "        vertical-align: middle;\n",
       "    }\n",
       "\n",
       "    .dataframe tbody tr th {\n",
       "        vertical-align: top;\n",
       "    }\n",
       "\n",
       "    .dataframe thead th {\n",
       "        text-align: right;\n",
       "    }\n",
       "</style>\n",
       "<table border=\"1\" class=\"dataframe\">\n",
       "  <thead>\n",
       "    <tr style=\"text-align: right;\">\n",
       "      <th></th>\n",
       "      <th>CloseGOOG</th>\n",
       "      <th>CloseAMZN</th>\n",
       "      <th>CloseFB</th>\n",
       "      <th>CloseMSFT</th>\n",
       "    </tr>\n",
       "    <tr>\n",
       "      <th>Date</th>\n",
       "      <th></th>\n",
       "      <th></th>\n",
       "      <th></th>\n",
       "      <th></th>\n",
       "    </tr>\n",
       "  </thead>\n",
       "  <tbody>\n",
       "    <tr>\n",
       "      <th>2014-09-17</th>\n",
       "      <td>6.368477</td>\n",
       "      <td>5.780744</td>\n",
       "      <td>4.336375</td>\n",
       "      <td>3.839882</td>\n",
       "    </tr>\n",
       "    <tr>\n",
       "      <th>2014-09-18</th>\n",
       "      <td>6.376143</td>\n",
       "      <td>5.783825</td>\n",
       "      <td>4.343805</td>\n",
       "      <td>3.843316</td>\n",
       "    </tr>\n",
       "    <tr>\n",
       "      <th>2014-09-19</th>\n",
       "      <td>6.387633</td>\n",
       "      <td>5.803085</td>\n",
       "      <td>4.355554</td>\n",
       "      <td>3.861151</td>\n",
       "    </tr>\n",
       "    <tr>\n",
       "      <th>2014-09-20</th>\n",
       "      <td>6.387633</td>\n",
       "      <td>5.803085</td>\n",
       "      <td>4.355554</td>\n",
       "      <td>3.861151</td>\n",
       "    </tr>\n",
       "    <tr>\n",
       "      <th>2014-09-21</th>\n",
       "      <td>6.387633</td>\n",
       "      <td>5.803085</td>\n",
       "      <td>4.355554</td>\n",
       "      <td>3.861151</td>\n",
       "    </tr>\n",
       "    <tr>\n",
       "      <th>...</th>\n",
       "      <td>...</td>\n",
       "      <td>...</td>\n",
       "      <td>...</td>\n",
       "      <td>...</td>\n",
       "    </tr>\n",
       "    <tr>\n",
       "      <th>2021-01-10</th>\n",
       "      <td>7.476880</td>\n",
       "      <td>8.043731</td>\n",
       "      <td>5.548453</td>\n",
       "      <td>5.382153</td>\n",
       "    </tr>\n",
       "    <tr>\n",
       "      <th>2021-01-09</th>\n",
       "      <td>7.476880</td>\n",
       "      <td>8.043731</td>\n",
       "      <td>5.548453</td>\n",
       "      <td>5.382153</td>\n",
       "    </tr>\n",
       "    <tr>\n",
       "      <th>2021-01-08</th>\n",
       "      <td>7.499539</td>\n",
       "      <td>8.065485</td>\n",
       "      <td>5.589381</td>\n",
       "      <td>5.391899</td>\n",
       "    </tr>\n",
       "    <tr>\n",
       "      <th>2021-01-07</th>\n",
       "      <td>7.488433</td>\n",
       "      <td>8.059011</td>\n",
       "      <td>5.593744</td>\n",
       "      <td>5.385824</td>\n",
       "    </tr>\n",
       "    <tr>\n",
       "      <th>2021-01-06</th>\n",
       "      <td>7.458930</td>\n",
       "      <td>8.051462</td>\n",
       "      <td>5.573332</td>\n",
       "      <td>5.357765</td>\n",
       "    </tr>\n",
       "  </tbody>\n",
       "</table>\n",
       "<p>2371 rows × 4 columns</p>\n",
       "</div>"
      ],
      "text/plain": [
       "            CloseGOOG  CloseAMZN   CloseFB  CloseMSFT\n",
       "Date                                                 \n",
       "2014-09-17   6.368477   5.780744  4.336375   3.839882\n",
       "2014-09-18   6.376143   5.783825  4.343805   3.843316\n",
       "2014-09-19   6.387633   5.803085  4.355554   3.861151\n",
       "2014-09-20   6.387633   5.803085  4.355554   3.861151\n",
       "2014-09-21   6.387633   5.803085  4.355554   3.861151\n",
       "...               ...        ...       ...        ...\n",
       "2021-01-10   7.476880   8.043731  5.548453   5.382153\n",
       "2021-01-09   7.476880   8.043731  5.548453   5.382153\n",
       "2021-01-08   7.499539   8.065485  5.589381   5.391899\n",
       "2021-01-07   7.488433   8.059011  5.593744   5.385824\n",
       "2021-01-06   7.458930   8.051462  5.573332   5.357765\n",
       "\n",
       "[2371 rows x 4 columns]"
      ]
     },
     "execution_count": 91,
     "metadata": {},
     "output_type": "execute_result"
    }
   ],
   "source": [
    "df_combinad2_log2=df_combinad2_log.drop(columns=['CloseBTC_USD'])\n",
    "df_combinad2_log2"
   ]
  },
  {
   "cell_type": "code",
   "execution_count": 92,
   "metadata": {},
   "outputs": [],
   "source": [
    "df_X = df_cryp_cierre_log.join(df_combinad2_log2)"
   ]
  },
  {
   "cell_type": "code",
   "execution_count": 93,
   "metadata": {},
   "outputs": [
    {
     "data": {
      "text/html": [
       "<div>\n",
       "<style scoped>\n",
       "    .dataframe tbody tr th:only-of-type {\n",
       "        vertical-align: middle;\n",
       "    }\n",
       "\n",
       "    .dataframe tbody tr th {\n",
       "        vertical-align: top;\n",
       "    }\n",
       "\n",
       "    .dataframe thead th {\n",
       "        text-align: right;\n",
       "    }\n",
       "</style>\n",
       "<table border=\"1\" class=\"dataframe\">\n",
       "  <thead>\n",
       "    <tr style=\"text-align: right;\">\n",
       "      <th></th>\n",
       "      <th>CloseDash</th>\n",
       "      <th>CloseGOOG</th>\n",
       "      <th>CloseAMZN</th>\n",
       "      <th>CloseFB</th>\n",
       "      <th>CloseMSFT</th>\n",
       "    </tr>\n",
       "    <tr>\n",
       "      <th>Date</th>\n",
       "      <th></th>\n",
       "      <th></th>\n",
       "      <th></th>\n",
       "      <th></th>\n",
       "      <th></th>\n",
       "    </tr>\n",
       "  </thead>\n",
       "  <tbody>\n",
       "    <tr>\n",
       "      <th>2014-09-17</th>\n",
       "      <td>1.558974</td>\n",
       "      <td>6.368477</td>\n",
       "      <td>5.780744</td>\n",
       "      <td>4.336375</td>\n",
       "      <td>3.839882</td>\n",
       "    </tr>\n",
       "    <tr>\n",
       "      <th>2014-09-18</th>\n",
       "      <td>1.582868</td>\n",
       "      <td>6.376143</td>\n",
       "      <td>5.783825</td>\n",
       "      <td>4.343805</td>\n",
       "      <td>3.843316</td>\n",
       "    </tr>\n",
       "    <tr>\n",
       "      <th>2014-09-19</th>\n",
       "      <td>1.488874</td>\n",
       "      <td>6.387633</td>\n",
       "      <td>5.803085</td>\n",
       "      <td>4.355554</td>\n",
       "      <td>3.861151</td>\n",
       "    </tr>\n",
       "    <tr>\n",
       "      <th>2014-09-20</th>\n",
       "      <td>1.431134</td>\n",
       "      <td>6.387633</td>\n",
       "      <td>5.803085</td>\n",
       "      <td>4.355554</td>\n",
       "      <td>3.861151</td>\n",
       "    </tr>\n",
       "    <tr>\n",
       "      <th>2014-09-21</th>\n",
       "      <td>1.378895</td>\n",
       "      <td>6.387633</td>\n",
       "      <td>5.803085</td>\n",
       "      <td>4.355554</td>\n",
       "      <td>3.861151</td>\n",
       "    </tr>\n",
       "    <tr>\n",
       "      <th>...</th>\n",
       "      <td>...</td>\n",
       "      <td>...</td>\n",
       "      <td>...</td>\n",
       "      <td>...</td>\n",
       "      <td>...</td>\n",
       "    </tr>\n",
       "    <tr>\n",
       "      <th>2021-01-01</th>\n",
       "      <td>4.491348</td>\n",
       "      <td>7.468445</td>\n",
       "      <td>8.088540</td>\n",
       "      <td>5.610058</td>\n",
       "      <td>5.404567</td>\n",
       "    </tr>\n",
       "    <tr>\n",
       "      <th>2021-01-02</th>\n",
       "      <td>4.476993</td>\n",
       "      <td>7.468445</td>\n",
       "      <td>8.088540</td>\n",
       "      <td>5.610058</td>\n",
       "      <td>5.404567</td>\n",
       "    </tr>\n",
       "    <tr>\n",
       "      <th>2021-01-03</th>\n",
       "      <td>4.500578</td>\n",
       "      <td>7.468445</td>\n",
       "      <td>8.088540</td>\n",
       "      <td>5.610058</td>\n",
       "      <td>5.404567</td>\n",
       "    </tr>\n",
       "    <tr>\n",
       "      <th>2021-01-04</th>\n",
       "      <td>4.497553</td>\n",
       "      <td>7.454859</td>\n",
       "      <td>8.066719</td>\n",
       "      <td>5.594488</td>\n",
       "      <td>5.383072</td>\n",
       "    </tr>\n",
       "    <tr>\n",
       "      <th>2021-01-05</th>\n",
       "      <td>4.500951</td>\n",
       "      <td>7.462169</td>\n",
       "      <td>8.076674</td>\n",
       "      <td>5.602008</td>\n",
       "      <td>5.384036</td>\n",
       "    </tr>\n",
       "  </tbody>\n",
       "</table>\n",
       "<p>2299 rows × 5 columns</p>\n",
       "</div>"
      ],
      "text/plain": [
       "            CloseDash  CloseGOOG  CloseAMZN   CloseFB  CloseMSFT\n",
       "Date                                                            \n",
       "2014-09-17   1.558974   6.368477   5.780744  4.336375   3.839882\n",
       "2014-09-18   1.582868   6.376143   5.783825  4.343805   3.843316\n",
       "2014-09-19   1.488874   6.387633   5.803085  4.355554   3.861151\n",
       "2014-09-20   1.431134   6.387633   5.803085  4.355554   3.861151\n",
       "2014-09-21   1.378895   6.387633   5.803085  4.355554   3.861151\n",
       "...               ...        ...        ...       ...        ...\n",
       "2021-01-01   4.491348   7.468445   8.088540  5.610058   5.404567\n",
       "2021-01-02   4.476993   7.468445   8.088540  5.610058   5.404567\n",
       "2021-01-03   4.500578   7.468445   8.088540  5.610058   5.404567\n",
       "2021-01-04   4.497553   7.454859   8.066719  5.594488   5.383072\n",
       "2021-01-05   4.500951   7.462169   8.076674  5.602008   5.384036\n",
       "\n",
       "[2299 rows x 5 columns]"
      ]
     },
     "execution_count": 93,
     "metadata": {},
     "output_type": "execute_result"
    }
   ],
   "source": [
    "df_X"
   ]
  },
  {
   "cell_type": "code",
   "execution_count": 94,
   "metadata": {},
   "outputs": [],
   "source": [
    "y_final1 = df_X.iloc[:,0]\n",
    "X_final1 = df_X.loc[:,['CloseGOOG','CloseAMZN','CloseFB','CloseMSFT']]"
   ]
  },
  {
   "cell_type": "code",
   "execution_count": 95,
   "metadata": {},
   "outputs": [],
   "source": [
    "y_final1 = y_final1.values\n",
    "y_final1 = y_final1.reshape(-1,1)"
   ]
  },
  {
   "cell_type": "code",
   "execution_count": 96,
   "metadata": {},
   "outputs": [
    {
     "data": {
      "text/html": [
       "<div>\n",
       "<style scoped>\n",
       "    .dataframe tbody tr th:only-of-type {\n",
       "        vertical-align: middle;\n",
       "    }\n",
       "\n",
       "    .dataframe tbody tr th {\n",
       "        vertical-align: top;\n",
       "    }\n",
       "\n",
       "    .dataframe thead th {\n",
       "        text-align: right;\n",
       "    }\n",
       "</style>\n",
       "<table border=\"1\" class=\"dataframe\">\n",
       "  <thead>\n",
       "    <tr style=\"text-align: right;\">\n",
       "      <th></th>\n",
       "      <th>CloseGOOG</th>\n",
       "      <th>CloseAMZN</th>\n",
       "      <th>CloseFB</th>\n",
       "      <th>CloseMSFT</th>\n",
       "    </tr>\n",
       "    <tr>\n",
       "      <th>Date</th>\n",
       "      <th></th>\n",
       "      <th></th>\n",
       "      <th></th>\n",
       "      <th></th>\n",
       "    </tr>\n",
       "  </thead>\n",
       "  <tbody>\n",
       "    <tr>\n",
       "      <th>2014-09-17</th>\n",
       "      <td>6.368477</td>\n",
       "      <td>5.780744</td>\n",
       "      <td>4.336375</td>\n",
       "      <td>3.839882</td>\n",
       "    </tr>\n",
       "    <tr>\n",
       "      <th>2014-09-18</th>\n",
       "      <td>6.376143</td>\n",
       "      <td>5.783825</td>\n",
       "      <td>4.343805</td>\n",
       "      <td>3.843316</td>\n",
       "    </tr>\n",
       "    <tr>\n",
       "      <th>2014-09-19</th>\n",
       "      <td>6.387633</td>\n",
       "      <td>5.803085</td>\n",
       "      <td>4.355554</td>\n",
       "      <td>3.861151</td>\n",
       "    </tr>\n",
       "    <tr>\n",
       "      <th>2014-09-20</th>\n",
       "      <td>6.387633</td>\n",
       "      <td>5.803085</td>\n",
       "      <td>4.355554</td>\n",
       "      <td>3.861151</td>\n",
       "    </tr>\n",
       "    <tr>\n",
       "      <th>2014-09-21</th>\n",
       "      <td>6.387633</td>\n",
       "      <td>5.803085</td>\n",
       "      <td>4.355554</td>\n",
       "      <td>3.861151</td>\n",
       "    </tr>\n",
       "    <tr>\n",
       "      <th>...</th>\n",
       "      <td>...</td>\n",
       "      <td>...</td>\n",
       "      <td>...</td>\n",
       "      <td>...</td>\n",
       "    </tr>\n",
       "    <tr>\n",
       "      <th>2021-01-01</th>\n",
       "      <td>7.468445</td>\n",
       "      <td>8.088540</td>\n",
       "      <td>5.610058</td>\n",
       "      <td>5.404567</td>\n",
       "    </tr>\n",
       "    <tr>\n",
       "      <th>2021-01-02</th>\n",
       "      <td>7.468445</td>\n",
       "      <td>8.088540</td>\n",
       "      <td>5.610058</td>\n",
       "      <td>5.404567</td>\n",
       "    </tr>\n",
       "    <tr>\n",
       "      <th>2021-01-03</th>\n",
       "      <td>7.468445</td>\n",
       "      <td>8.088540</td>\n",
       "      <td>5.610058</td>\n",
       "      <td>5.404567</td>\n",
       "    </tr>\n",
       "    <tr>\n",
       "      <th>2021-01-04</th>\n",
       "      <td>7.454859</td>\n",
       "      <td>8.066719</td>\n",
       "      <td>5.594488</td>\n",
       "      <td>5.383072</td>\n",
       "    </tr>\n",
       "    <tr>\n",
       "      <th>2021-01-05</th>\n",
       "      <td>7.462169</td>\n",
       "      <td>8.076674</td>\n",
       "      <td>5.602008</td>\n",
       "      <td>5.384036</td>\n",
       "    </tr>\n",
       "  </tbody>\n",
       "</table>\n",
       "<p>2299 rows × 4 columns</p>\n",
       "</div>"
      ],
      "text/plain": [
       "            CloseGOOG  CloseAMZN   CloseFB  CloseMSFT\n",
       "Date                                                 \n",
       "2014-09-17   6.368477   5.780744  4.336375   3.839882\n",
       "2014-09-18   6.376143   5.783825  4.343805   3.843316\n",
       "2014-09-19   6.387633   5.803085  4.355554   3.861151\n",
       "2014-09-20   6.387633   5.803085  4.355554   3.861151\n",
       "2014-09-21   6.387633   5.803085  4.355554   3.861151\n",
       "...               ...        ...       ...        ...\n",
       "2021-01-01   7.468445   8.088540  5.610058   5.404567\n",
       "2021-01-02   7.468445   8.088540  5.610058   5.404567\n",
       "2021-01-03   7.468445   8.088540  5.610058   5.404567\n",
       "2021-01-04   7.454859   8.066719  5.594488   5.383072\n",
       "2021-01-05   7.462169   8.076674  5.602008   5.384036\n",
       "\n",
       "[2299 rows x 4 columns]"
      ]
     },
     "execution_count": 96,
     "metadata": {},
     "output_type": "execute_result"
    }
   ],
   "source": [
    "X_final1"
   ]
  },
  {
   "cell_type": "code",
   "execution_count": 97,
   "metadata": {},
   "outputs": [],
   "source": [
    "X_final1 = X_final1.values"
   ]
  },
  {
   "cell_type": "code",
   "execution_count": 98,
   "metadata": {},
   "outputs": [],
   "source": [
    "X_final1 = sc_X.fit_transform(X_final1)\n",
    "y_final1 = sc_y.fit_transform(y_final1)"
   ]
  },
  {
   "cell_type": "code",
   "execution_count": 99,
   "metadata": {},
   "outputs": [],
   "source": [
    "sc_y = joblib.load('estandariza_y.pkl')\n",
    "modelo = joblib.load('modeloSVR_Krbf_final.pkl')"
   ]
  },
  {
   "cell_type": "code",
   "execution_count": 100,
   "metadata": {},
   "outputs": [],
   "source": [
    "y_pred_nueva1=modelo.predict(X_final1)"
   ]
  },
  {
   "cell_type": "code",
   "execution_count": 101,
   "metadata": {},
   "outputs": [
    {
     "data": {
      "text/plain": [
       "2299"
      ]
     },
     "execution_count": 101,
     "metadata": {},
     "output_type": "execute_result"
    }
   ],
   "source": [
    "len(y_pred_nueva1)"
   ]
  },
  {
   "cell_type": "code",
   "execution_count": 102,
   "metadata": {},
   "outputs": [
    {
     "data": {
      "text/html": [
       "<div>\n",
       "<style scoped>\n",
       "    .dataframe tbody tr th:only-of-type {\n",
       "        vertical-align: middle;\n",
       "    }\n",
       "\n",
       "    .dataframe tbody tr th {\n",
       "        vertical-align: top;\n",
       "    }\n",
       "\n",
       "    .dataframe thead th {\n",
       "        text-align: right;\n",
       "    }\n",
       "</style>\n",
       "<table border=\"1\" class=\"dataframe\">\n",
       "  <thead>\n",
       "    <tr style=\"text-align: right;\">\n",
       "      <th></th>\n",
       "      <th>CloseDash</th>\n",
       "    </tr>\n",
       "    <tr>\n",
       "      <th>Date</th>\n",
       "      <th></th>\n",
       "    </tr>\n",
       "  </thead>\n",
       "  <tbody>\n",
       "  </tbody>\n",
       "</table>\n",
       "</div>"
      ],
      "text/plain": [
       "Empty DataFrame\n",
       "Columns: [CloseDash]\n",
       "Index: []"
      ]
     },
     "execution_count": 102,
     "metadata": {},
     "output_type": "execute_result"
    }
   ],
   "source": [
    "#ErrorCueadraticoMedioFinal1 = mean_squared_error(y_final1, y_pred_nueva1)\n",
    "#np.nan(y_final1)\n",
    "#np.isnan(y_nueva1).sum() \n",
    "#df_cryp_cierre_log.isnull().values.sum()\n",
    "nan_rows = df_cryp_cierre_log[df_cryp_cierre_log.isnull().any(1)]\n",
    "nan_rows"
   ]
  },
  {
   "cell_type": "code",
   "execution_count": 103,
   "metadata": {},
   "outputs": [
    {
     "name": "stdout",
     "output_type": "stream",
     "text": [
      "============================================================================================\n",
      "\n",
      "El error cuadrático medio para el modelo final es: 0.2148\n",
      "\n",
      "El coeficiente de determinación(R2) para el modelo final es: 0.7852\n",
      "\n",
      "============================================================================================\n"
     ]
    }
   ],
   "source": [
    "# Cálculo de las medidas de ajuste del algoritmo\n",
    "ErrorCueadraticoMedioFinal1 = mean_squared_error(y_final1, y_pred_nueva1)\n",
    "R2_Final1 = r2_score(y_final1, y_pred_nueva1)\n",
    "\n",
    "print(\"============================================================================================\")\n",
    "print()\n",
    "print(\"El error cuadrático medio para el modelo final es:\", round(ErrorCueadraticoMedioFinal1,4))\n",
    "print()\n",
    "print(\"El coeficiente de determinación(R2) para el modelo final es:\", round(R2_Final1,4))\n",
    "print()\n",
    "print(\"============================================================================================\")"
   ]
  }
 ],
 "metadata": {
  "kernelspec": {
   "display_name": "Python 3",
   "language": "python",
   "name": "python3"
  },
  "language_info": {
   "codemirror_mode": {
    "name": "ipython",
    "version": 3
   },
   "file_extension": ".py",
   "mimetype": "text/x-python",
   "name": "python",
   "nbconvert_exporter": "python",
   "pygments_lexer": "ipython3",
   "version": "3.8.5"
  }
 },
 "nbformat": 4,
 "nbformat_minor": 4
}
