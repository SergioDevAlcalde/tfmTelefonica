{
 "cells": [
  {
   "cell_type": "code",
   "execution_count": 1,
   "metadata": {},
   "outputs": [],
   "source": [
    "import pymongo\n",
    "import numpy as np\n",
    "import pandas as pd\n",
    "from pandas import DataFrame\n",
    "uri=\"mongodb://localhost:27017\"\n",
    "cx=pymongo.MongoClient(uri)\n",
    "mndb = cx[\"BD_proyecto\"]\n",
    "mycol = mndb['bbdd1']\n",
    "null = 'null' "
   ]
  },
  {
   "cell_type": "code",
   "execution_count": 2,
   "metadata": {},
   "outputs": [
    {
     "name": "stdout",
     "output_type": "stream",
     "text": [
      "2021-03-15\n"
     ]
    }
   ],
   "source": [
    "for inst in mycol.aggregate([{ \"$group\": {\"_id\": null,\"MaximumValue\": { \"$max\": \"$Date\" }}}]):\n",
    "    fecmax=inst ['MaximumValue']\n",
    "print(fecmax) "
   ]
  },
  {
   "cell_type": "code",
   "execution_count": 3,
   "metadata": {},
   "outputs": [
    {
     "name": "stdout",
     "output_type": "stream",
     "text": [
      "['AMZN', 'BTC_USD', 'FB', 'GOOG', 'MSFT']\n"
     ]
    }
   ],
   "source": [
    "list_emp = []\n",
    "for inst in  mycol.distinct( \"Desc\" ) : \n",
    "    list_emp.append(inst) \n",
    "    \n",
    "print(list_emp)    "
   ]
  },
  {
   "cell_type": "code",
   "execution_count": 4,
   "metadata": {},
   "outputs": [
    {
     "name": "stdout",
     "output_type": "stream",
     "text": [
      "AMZN\n",
      "BTC_USD\n",
      "FB\n",
      "GOOG\n",
      "MSFT\n"
     ]
    }
   ],
   "source": [
    "def descarga_bbdd(emp):\n",
    "    listn=[]\n",
    "    for inst in mycol.find( { \"Desc\":emp } , {\"_id\": 0,\"Close\":1,\"Date\":1,\"Desc\":1}):\n",
    "        listn.append(inst)\n",
    "    return listn\n",
    "\n",
    "n=0  \n",
    "descarga=[]\n",
    "for i in  list_emp: \n",
    "    emp = list_emp[n]\n",
    "    print(emp)\n",
    "    lista=descarga_bbdd(emp)\n",
    "    descarga.append(lista)\n",
    "#    print(lista)\n",
    "    n+=1"
   ]
  },
  {
   "cell_type": "code",
   "execution_count": 5,
   "metadata": {},
   "outputs": [],
   "source": [
    "amzn_df = DataFrame (descarga[0])\n",
    "btc_usd_df = DataFrame (descarga[1])\n",
    "fb_df = DataFrame (descarga[2])\n",
    "goog_df = DataFrame (descarga[3])\n",
    "msft_df = DataFrame (descarga[4])"
   ]
  },
  {
   "cell_type": "code",
   "execution_count": 6,
   "metadata": {},
   "outputs": [],
   "source": [
    "amzn_df.drop(['Desc'] , axis = 1, inplace = True)   \n",
    "btc_usd_df.drop(['Desc'] , axis = 1, inplace = True)   \n",
    "fb_df.drop(['Desc'] , axis = 1, inplace = True)   \n",
    "goog_df.drop(['Desc'] , axis = 1, inplace = True)   \n",
    "msft_df.drop(['Desc'] , axis = 1, inplace = True)  "
   ]
  },
  {
   "cell_type": "code",
   "execution_count": 7,
   "metadata": {},
   "outputs": [],
   "source": [
    "#amzn_df2   = amzn_df.rename(columns = {\"Close\" : \"Close\"+ list_emp[0]})\n",
    "#btc_usd_df2=btc_usd_df.rename(columns = {\"Close\" : \"Close\"+ list_emp[1]})  \n",
    "#fb_df2     = fb_df.rename(columns = {\"Close\" : \"Close\"+ list_emp[2]})\n",
    "#goog_df2   = goog_df.rename(columns = {\"Close\" : \"Close\"+ list_emp[3]})\n",
    "#msft_d2f   = msft_df.rename(columns = {\"Close\" : \"Close\"+ list_emp[4]})\n",
    "amzn_cierre   = amzn_df.rename(columns = {\"Close\" : \"Close\"+ list_emp[0]})\n",
    "btc_usd_cierre=btc_usd_df.rename(columns = {\"Close\" : \"Close\"+ list_emp[1]})  \n",
    "fb_cierre     = fb_df.rename(columns = {\"Close\" : \"Close\"+ list_emp[2]})\n",
    "goog_cierre   = goog_df.rename(columns = {\"Close\" : \"Close\"+ list_emp[3]})\n",
    "msft_cierre   = msft_df.rename(columns = {\"Close\" : \"Close\"+ list_emp[4]})"
   ]
  },
  {
   "cell_type": "code",
   "execution_count": 8,
   "metadata": {},
   "outputs": [],
   "source": [
    " # Establecer el índice en la columna Date para cada archivo\n",
    "goog_cierre.set_index('Date', inplace = True)\n",
    "fb_cierre.set_index('Date', inplace = True)\n",
    "amzn_cierre.set_index('Date', inplace = True)\n",
    "msft_cierre.set_index('Date', inplace = True)\n",
    "btc_usd_cierre.set_index('Date', inplace = True)"
   ]
  },
  {
   "cell_type": "code",
   "execution_count": 9,
   "metadata": {},
   "outputs": [
    {
     "data": {
      "text/html": [
       "<div>\n",
       "<style scoped>\n",
       "    .dataframe tbody tr th:only-of-type {\n",
       "        vertical-align: middle;\n",
       "    }\n",
       "\n",
       "    .dataframe tbody tr th {\n",
       "        vertical-align: top;\n",
       "    }\n",
       "\n",
       "    .dataframe thead th {\n",
       "        text-align: right;\n",
       "    }\n",
       "</style>\n",
       "<table border=\"1\" class=\"dataframe\">\n",
       "  <thead>\n",
       "    <tr style=\"text-align: right;\">\n",
       "      <th></th>\n",
       "      <th>CloseBTC_USD</th>\n",
       "      <th>CloseGOOG</th>\n",
       "      <th>CloseAMZN</th>\n",
       "      <th>CloseFB</th>\n",
       "      <th>CloseMSFT</th>\n",
       "    </tr>\n",
       "    <tr>\n",
       "      <th>Date</th>\n",
       "      <th></th>\n",
       "      <th></th>\n",
       "      <th></th>\n",
       "      <th></th>\n",
       "      <th></th>\n",
       "    </tr>\n",
       "  </thead>\n",
       "  <tbody>\n",
       "    <tr>\n",
       "      <th>2014-09-17</th>\n",
       "      <td>457.334015</td>\n",
       "      <td>583.168884</td>\n",
       "      <td>324.000000</td>\n",
       "      <td>76.430000</td>\n",
       "      <td>46.520000</td>\n",
       "    </tr>\n",
       "    <tr>\n",
       "      <th>2014-09-18</th>\n",
       "      <td>424.440002</td>\n",
       "      <td>587.656616</td>\n",
       "      <td>325.000000</td>\n",
       "      <td>77.000000</td>\n",
       "      <td>46.680000</td>\n",
       "    </tr>\n",
       "    <tr>\n",
       "      <th>2014-09-19</th>\n",
       "      <td>394.795990</td>\n",
       "      <td>594.447937</td>\n",
       "      <td>331.320007</td>\n",
       "      <td>77.910004</td>\n",
       "      <td>47.520000</td>\n",
       "    </tr>\n",
       "    <tr>\n",
       "      <th>2014-09-20</th>\n",
       "      <td>408.903992</td>\n",
       "      <td>NaN</td>\n",
       "      <td>NaN</td>\n",
       "      <td>NaN</td>\n",
       "      <td>NaN</td>\n",
       "    </tr>\n",
       "    <tr>\n",
       "      <th>2014-09-21</th>\n",
       "      <td>398.821014</td>\n",
       "      <td>NaN</td>\n",
       "      <td>NaN</td>\n",
       "      <td>NaN</td>\n",
       "      <td>NaN</td>\n",
       "    </tr>\n",
       "  </tbody>\n",
       "</table>\n",
       "</div>"
      ],
      "text/plain": [
       "           CloseBTC_USD   CloseGOOG   CloseAMZN    CloseFB  CloseMSFT\n",
       "Date                                                                 \n",
       "2014-09-17   457.334015  583.168884  324.000000  76.430000  46.520000\n",
       "2014-09-18   424.440002  587.656616  325.000000  77.000000  46.680000\n",
       "2014-09-19   394.795990  594.447937  331.320007  77.910004  47.520000\n",
       "2014-09-20   408.903992         NaN         NaN        NaN        NaN\n",
       "2014-09-21   398.821014         NaN         NaN        NaN        NaN"
      ]
     },
     "execution_count": 9,
     "metadata": {},
     "output_type": "execute_result"
    }
   ],
   "source": [
    "# Integración de todos los dataframe en uno solo dataframe\n",
    "df_combinado = btc_usd_cierre.join(goog_cierre).join(amzn_cierre).join(fb_cierre).join(msft_cierre)\n",
    "df_combinado.head()"
   ]
  },
  {
   "cell_type": "code",
   "execution_count": 10,
   "metadata": {},
   "outputs": [
    {
     "data": {
      "text/html": [
       "<div>\n",
       "<style scoped>\n",
       "    .dataframe tbody tr th:only-of-type {\n",
       "        vertical-align: middle;\n",
       "    }\n",
       "\n",
       "    .dataframe tbody tr th {\n",
       "        vertical-align: top;\n",
       "    }\n",
       "\n",
       "    .dataframe thead th {\n",
       "        text-align: right;\n",
       "    }\n",
       "</style>\n",
       "<table border=\"1\" class=\"dataframe\">\n",
       "  <thead>\n",
       "    <tr style=\"text-align: right;\">\n",
       "      <th></th>\n",
       "      <th>count</th>\n",
       "      <th>unique</th>\n",
       "      <th>top</th>\n",
       "      <th>freq</th>\n",
       "    </tr>\n",
       "  </thead>\n",
       "  <tbody>\n",
       "    <tr>\n",
       "      <th>CloseBTC_USD</th>\n",
       "      <td>2371</td>\n",
       "      <td>2368</td>\n",
       "      <td>6741.750000</td>\n",
       "      <td>2</td>\n",
       "    </tr>\n",
       "    <tr>\n",
       "      <th>CloseGOOG</th>\n",
       "      <td>1634</td>\n",
       "      <td>1618</td>\n",
       "      <td>629.250000</td>\n",
       "      <td>2</td>\n",
       "    </tr>\n",
       "    <tr>\n",
       "      <th>CloseAMZN</th>\n",
       "      <td>1634</td>\n",
       "      <td>1619</td>\n",
       "      <td>1855.319946</td>\n",
       "      <td>2</td>\n",
       "    </tr>\n",
       "    <tr>\n",
       "      <th>CloseFB</th>\n",
       "      <td>1634</td>\n",
       "      <td>1549</td>\n",
       "      <td>178.919998</td>\n",
       "      <td>3</td>\n",
       "    </tr>\n",
       "    <tr>\n",
       "      <th>CloseMSFT</th>\n",
       "      <td>1634</td>\n",
       "      <td>1497</td>\n",
       "      <td>62.299999</td>\n",
       "      <td>4</td>\n",
       "    </tr>\n",
       "  </tbody>\n",
       "</table>\n",
       "</div>"
      ],
      "text/plain": [
       "             count unique          top freq\n",
       "CloseBTC_USD  2371   2368  6741.750000    2\n",
       "CloseGOOG     1634   1618   629.250000    2\n",
       "CloseAMZN     1634   1619  1855.319946    2\n",
       "CloseFB       1634   1549   178.919998    3\n",
       "CloseMSFT     1634   1497    62.299999    4"
      ]
     },
     "execution_count": 10,
     "metadata": {},
     "output_type": "execute_result"
    }
   ],
   "source": [
    "df_combinado.describe().transpose()"
   ]
  },
  {
   "cell_type": "code",
   "execution_count": 11,
   "metadata": {},
   "outputs": [
    {
     "data": {
      "text/html": [
       "<div>\n",
       "<style scoped>\n",
       "    .dataframe tbody tr th:only-of-type {\n",
       "        vertical-align: middle;\n",
       "    }\n",
       "\n",
       "    .dataframe tbody tr th {\n",
       "        vertical-align: top;\n",
       "    }\n",
       "\n",
       "    .dataframe thead th {\n",
       "        text-align: right;\n",
       "    }\n",
       "</style>\n",
       "<table border=\"1\" class=\"dataframe\">\n",
       "  <thead>\n",
       "    <tr style=\"text-align: right;\">\n",
       "      <th></th>\n",
       "      <th>CloseBTC_USD</th>\n",
       "      <th>CloseGOOG</th>\n",
       "      <th>CloseAMZN</th>\n",
       "      <th>CloseFB</th>\n",
       "      <th>CloseMSFT</th>\n",
       "    </tr>\n",
       "    <tr>\n",
       "      <th>Date</th>\n",
       "      <th></th>\n",
       "      <th></th>\n",
       "      <th></th>\n",
       "      <th></th>\n",
       "      <th></th>\n",
       "    </tr>\n",
       "  </thead>\n",
       "  <tbody>\n",
       "    <tr>\n",
       "      <th>2014-09-17</th>\n",
       "      <td>457.334015</td>\n",
       "      <td>583.168884</td>\n",
       "      <td>324.000000</td>\n",
       "      <td>76.430000</td>\n",
       "      <td>46.520000</td>\n",
       "    </tr>\n",
       "    <tr>\n",
       "      <th>2014-09-18</th>\n",
       "      <td>424.440002</td>\n",
       "      <td>587.656616</td>\n",
       "      <td>325.000000</td>\n",
       "      <td>77.000000</td>\n",
       "      <td>46.680000</td>\n",
       "    </tr>\n",
       "    <tr>\n",
       "      <th>2014-09-19</th>\n",
       "      <td>394.795990</td>\n",
       "      <td>594.447937</td>\n",
       "      <td>331.320007</td>\n",
       "      <td>77.910004</td>\n",
       "      <td>47.520000</td>\n",
       "    </tr>\n",
       "    <tr>\n",
       "      <th>2014-09-20</th>\n",
       "      <td>408.903992</td>\n",
       "      <td>594.447937</td>\n",
       "      <td>331.320007</td>\n",
       "      <td>77.910004</td>\n",
       "      <td>47.520000</td>\n",
       "    </tr>\n",
       "    <tr>\n",
       "      <th>2014-09-21</th>\n",
       "      <td>398.821014</td>\n",
       "      <td>594.447937</td>\n",
       "      <td>331.320007</td>\n",
       "      <td>77.910004</td>\n",
       "      <td>47.520000</td>\n",
       "    </tr>\n",
       "    <tr>\n",
       "      <th>2014-09-22</th>\n",
       "      <td>402.152008</td>\n",
       "      <td>585.761780</td>\n",
       "      <td>324.500000</td>\n",
       "      <td>76.800003</td>\n",
       "      <td>47.060001</td>\n",
       "    </tr>\n",
       "    <tr>\n",
       "      <th>2014-09-23</th>\n",
       "      <td>435.790985</td>\n",
       "      <td>579.538879</td>\n",
       "      <td>323.630005</td>\n",
       "      <td>78.290001</td>\n",
       "      <td>46.560001</td>\n",
       "    </tr>\n",
       "    <tr>\n",
       "      <th>2014-09-24</th>\n",
       "      <td>423.204987</td>\n",
       "      <td>586.380066</td>\n",
       "      <td>328.209991</td>\n",
       "      <td>78.540001</td>\n",
       "      <td>47.080002</td>\n",
       "    </tr>\n",
       "    <tr>\n",
       "      <th>2014-09-25</th>\n",
       "      <td>411.574005</td>\n",
       "      <td>573.485474</td>\n",
       "      <td>321.929993</td>\n",
       "      <td>77.220001</td>\n",
       "      <td>46.040001</td>\n",
       "    </tr>\n",
       "    <tr>\n",
       "      <th>2014-09-26</th>\n",
       "      <td>404.424988</td>\n",
       "      <td>575.519897</td>\n",
       "      <td>323.209991</td>\n",
       "      <td>78.790001</td>\n",
       "      <td>46.410000</td>\n",
       "    </tr>\n",
       "  </tbody>\n",
       "</table>\n",
       "</div>"
      ],
      "text/plain": [
       "           CloseBTC_USD   CloseGOOG   CloseAMZN    CloseFB  CloseMSFT\n",
       "Date                                                                 \n",
       "2014-09-17   457.334015  583.168884  324.000000  76.430000  46.520000\n",
       "2014-09-18   424.440002  587.656616  325.000000  77.000000  46.680000\n",
       "2014-09-19   394.795990  594.447937  331.320007  77.910004  47.520000\n",
       "2014-09-20   408.903992  594.447937  331.320007  77.910004  47.520000\n",
       "2014-09-21   398.821014  594.447937  331.320007  77.910004  47.520000\n",
       "2014-09-22   402.152008  585.761780  324.500000  76.800003  47.060001\n",
       "2014-09-23   435.790985  579.538879  323.630005  78.290001  46.560001\n",
       "2014-09-24   423.204987  586.380066  328.209991  78.540001  47.080002\n",
       "2014-09-25   411.574005  573.485474  321.929993  77.220001  46.040001\n",
       "2014-09-26   404.424988  575.519897  323.209991  78.790001  46.410000"
      ]
     },
     "execution_count": 11,
     "metadata": {},
     "output_type": "execute_result"
    }
   ],
   "source": [
    "# Dado que los valores perdidos que hay en data set se corresponden con días donde no hay cotización de las acciones \n",
    "# En la bolsa de valores, estos serán sustitudios por el último valor válido, para ello usaremos el método de pandas ffill()\n",
    "# que propaga el último valor valido hacia adelante, así si el último valor valido fue de un viernes, ese valor se asignará\n",
    "# al sábado y al domingo\n",
    "\n",
    "df_combinado = df_combinado.ffill()\n",
    "df_combinado.head(n=10)"
   ]
  },
  {
   "cell_type": "code",
   "execution_count": 12,
   "metadata": {},
   "outputs": [
    {
     "name": "stdout",
     "output_type": "stream",
     "text": [
      "CloseBTC_USD    float64\n",
      "CloseGOOG       float64\n",
      "CloseAMZN       float64\n",
      "CloseFB         float64\n",
      "CloseMSFT       float64\n",
      "dtype: object\n"
     ]
    }
   ],
   "source": [
    "df_combinad2   = df_combinado.astype(float) \n",
    "#goog_cierre    = goog_df2['CloseGOOG'].astype(float) \n",
    "#fb_cierre      = fb_df2['CloseFB'].astype(float) \n",
    "#amzn_cierre    = amzn_df2['CloseAMZN'].astype(float) \n",
    "#msft_cierre    = msft_d2f['CloseMSFT'].astype(float) \n",
    "#btc_usd_cierre = btc_usd_df2['CloseBTC_USD'].astype(float) \n",
    "print(df_combinad2.dtypes)"
   ]
  },
  {
   "cell_type": "code",
   "execution_count": 13,
   "metadata": {},
   "outputs": [
    {
     "data": {
      "text/html": [
       "<div>\n",
       "<style scoped>\n",
       "    .dataframe tbody tr th:only-of-type {\n",
       "        vertical-align: middle;\n",
       "    }\n",
       "\n",
       "    .dataframe tbody tr th {\n",
       "        vertical-align: top;\n",
       "    }\n",
       "\n",
       "    .dataframe thead th {\n",
       "        text-align: right;\n",
       "    }\n",
       "</style>\n",
       "<table border=\"1\" class=\"dataframe\">\n",
       "  <thead>\n",
       "    <tr style=\"text-align: right;\">\n",
       "      <th></th>\n",
       "      <th>CloseBTC_USD</th>\n",
       "      <th>CloseGOOG</th>\n",
       "      <th>CloseAMZN</th>\n",
       "      <th>CloseFB</th>\n",
       "      <th>CloseMSFT</th>\n",
       "    </tr>\n",
       "    <tr>\n",
       "      <th>Date</th>\n",
       "      <th></th>\n",
       "      <th></th>\n",
       "      <th></th>\n",
       "      <th></th>\n",
       "      <th></th>\n",
       "    </tr>\n",
       "  </thead>\n",
       "  <tbody>\n",
       "  </tbody>\n",
       "</table>\n",
       "</div>"
      ],
      "text/plain": [
       "Empty DataFrame\n",
       "Columns: [CloseBTC_USD, CloseGOOG, CloseAMZN, CloseFB, CloseMSFT]\n",
       "Index: []"
      ]
     },
     "execution_count": 13,
     "metadata": {},
     "output_type": "execute_result"
    }
   ],
   "source": [
    "#print(df_combinado)\n",
    "df2 = df_combinad2[df_combinado['CloseFB'] == 0]\n",
    "df2"
   ]
  },
  {
   "cell_type": "code",
   "execution_count": 14,
   "metadata": {},
   "outputs": [
    {
     "data": {
      "text/plain": [
       "<AxesSubplot:>"
      ]
     },
     "execution_count": 14,
     "metadata": {},
     "output_type": "execute_result"
    },
    {
     "data": {
      "image/png": "[encoded data removed]",
      "text/plain": [
       "<Figure size 432x288 with 1 Axes>"
      ]
     },
     "metadata": {
      "needs_background": "light"
     },
     "output_type": "display_data"
    }
   ],
   "source": [
    "df_combinad2.boxplot()"
   ]
  },
  {
   "cell_type": "code",
   "execution_count": 15,
   "metadata": {},
   "outputs": [
    {
     "data": {
      "text/plain": [
       "<AxesSubplot:xlabel='Date'>"
      ]
     },
     "execution_count": 15,
     "metadata": {},
     "output_type": "execute_result"
    },
    {
     "data": {
      "image/png": "[encoded data removed]",
      "text/plain": [
       "<Figure size 432x288 with 1 Axes>"
      ]
     },
     "metadata": {
      "needs_background": "light"
     },
     "output_type": "display_data"
    }
   ],
   "source": [
    "df_combinad2.loc[:, ['CloseBTC_USD','CloseGOOG','CloseAMZN','CloseFB','CloseMSFT']].plot()"
   ]
  },
  {
   "cell_type": "code",
   "execution_count": 16,
   "metadata": {},
   "outputs": [],
   "source": [
    "import matplotlib.pyplot as plt\n",
    "%matplotlib inline"
   ]
  },
  {
   "cell_type": "code",
   "execution_count": 17,
   "metadata": {},
   "outputs": [
    {
     "data": {
      "image/png": "[encoded data removed]",
      "text/plain": [
       "<Figure size 432x288 with 1 Axes>"
      ]
     },
     "metadata": {
      "needs_background": "light"
     },
     "output_type": "display_data"
    }
   ],
   "source": [
    "\n",
    "\n",
    "plt.hist(x=df_combinad2.iloc[:,0])\n",
    "plt.title('Histograma - Precio de Cierre de Bitcoins')\n",
    "plt.xlabel('Precio de Cierre')\n",
    "plt.ylabel('Frecuencia')\n",
    "plt.show()\n",
    "\n"
   ]
  },
  {
   "cell_type": "code",
   "execution_count": 18,
   "metadata": {},
   "outputs": [
    {
     "data": {
      "image/png": "[encoded data removed]",
      "text/plain": [
       "<Figure size 432x288 with 1 Axes>"
      ]
     },
     "metadata": {
      "needs_background": "light"
     },
     "output_type": "display_data"
    }
   ],
   "source": [
    "plt.hist(x=df_combinad2.iloc[:,1])\n",
    "plt.title('Histograma - Precio de Cierre de Google')\n",
    "plt.xlabel('Precio de Cierre')\n",
    "plt.ylabel('Frecuencia')\n",
    "plt.show()"
   ]
  },
  {
   "cell_type": "code",
   "execution_count": 19,
   "metadata": {},
   "outputs": [
    {
     "data": {
      "image/png": "[encoded data removed]",
      "text/plain": [
       "<Figure size 432x288 with 1 Axes>"
      ]
     },
     "metadata": {
      "needs_background": "light"
     },
     "output_type": "display_data"
    }
   ],
   "source": [
    "plt.hist(x=df_combinad2.iloc[:,2])\n",
    "plt.title('Histograma - Precio de Cierre de Amazon')\n",
    "plt.xlabel('Precio de Cierre')\n",
    "plt.ylabel('Frecuencia')\n",
    "plt.show()"
   ]
  },
  {
   "cell_type": "code",
   "execution_count": 20,
   "metadata": {},
   "outputs": [
    {
     "data": {
      "image/png": "[encoded data removed]",
      "text/plain": [
       "<Figure size 432x288 with 1 Axes>"
      ]
     },
     "metadata": {
      "needs_background": "light"
     },
     "output_type": "display_data"
    }
   ],
   "source": [
    "\n",
    "\n",
    "plt.hist(x=df_combinad2.iloc[:,3])\n",
    "plt.title('Histograma - Precio de Cierre de Faceboock')\n",
    "plt.xlabel('Precio de Cierre')\n",
    "plt.ylabel('Frecuencia')\n",
    "plt.show()\n",
    "\n"
   ]
  },
  {
   "cell_type": "code",
   "execution_count": 21,
   "metadata": {},
   "outputs": [
    {
     "data": {
      "image/png": "[encoded data removed]",
      "text/plain": [
       "<Figure size 432x288 with 1 Axes>"
      ]
     },
     "metadata": {
      "needs_background": "light"
     },
     "output_type": "display_data"
    }
   ],
   "source": [
    "plt.hist(x=df_combinad2.iloc[:,4])\n",
    "plt.title('Histograma - Precio de Cierre de Microsoft')\n",
    "plt.xlabel('Precio de Cierre')\n",
    "plt.ylabel('Frecuencia')\n",
    "plt.show()"
   ]
  },
  {
   "cell_type": "code",
   "execution_count": 22,
   "metadata": {},
   "outputs": [
    {
     "data": {
      "image/png": "[encoded data removed]",
      "text/plain": [
       "<Figure size 432x288 with 1 Axes>"
      ]
     },
     "metadata": {
      "needs_background": "light"
     },
     "output_type": "display_data"
    }
   ],
   "source": [
    "plt.hist(x=np.log(df_combinad2.iloc[:,0]))\n",
    "plt.title('Histograma - Logaritmo del Precio de Cierre de Bitcoins')\n",
    "plt.xlabel('Logaritmo Precio de Cierre')\n",
    "plt.ylabel('Frecuencia')\n",
    "plt.show()"
   ]
  },
  {
   "cell_type": "code",
   "execution_count": 23,
   "metadata": {},
   "outputs": [
    {
     "data": {
      "image/png": "[encoded data removed]",
      "text/plain": [
       "<Figure size 432x288 with 1 Axes>"
      ]
     },
     "metadata": {
      "needs_background": "light"
     },
     "output_type": "display_data"
    }
   ],
   "source": [
    "\n",
    "\n",
    "plt.hist(x=np.log(df_combinad2.iloc[:,2]))\n",
    "plt.title('Histograma - Logaritmo del Precio de Cierre de Amazon')\n",
    "plt.xlabel('Precio de Cierre')\n",
    "plt.ylabel('Frecuencia')\n",
    "plt.show()\n",
    "\n"
   ]
  },
  {
   "cell_type": "code",
   "execution_count": 24,
   "metadata": {},
   "outputs": [
    {
     "data": {
      "image/png": "[encoded data removed]",
      "text/plain": [
       "<Figure size 432x288 with 1 Axes>"
      ]
     },
     "metadata": {
      "needs_background": "light"
     },
     "output_type": "display_data"
    }
   ],
   "source": [
    "\n",
    "\n",
    "plt.hist(x=np.log(df_combinad2.iloc[:,1]))\n",
    "plt.title('Histograma - Logartimo del Precio de Cierre de Google')\n",
    "plt.xlabel('Precio de Cierre')\n",
    "plt.ylabel('Frecuencia')\n",
    "plt.show()\n",
    "\n"
   ]
  },
  {
   "cell_type": "code",
   "execution_count": 25,
   "metadata": {},
   "outputs": [
    {
     "data": {
      "image/png": "[encoded data removed]",
      "text/plain": [
       "<Figure size 432x288 with 1 Axes>"
      ]
     },
     "metadata": {
      "needs_background": "light"
     },
     "output_type": "display_data"
    }
   ],
   "source": [
    "plt.hist(x=np.log(df_combinad2.iloc[:,3]))\n",
    "plt.title('Histograma - Logartimo del Precio de Cierre de Faceboock')\n",
    "plt.xlabel('Precio de Cierre')\n",
    "plt.ylabel('Frecuencia')\n",
    "plt.show()"
   ]
  },
  {
   "cell_type": "code",
   "execution_count": 26,
   "metadata": {},
   "outputs": [
    {
     "data": {
      "image/png": "[encoded data removed]",
      "text/plain": [
       "<Figure size 432x288 with 1 Axes>"
      ]
     },
     "metadata": {
      "needs_background": "light"
     },
     "output_type": "display_data"
    }
   ],
   "source": [
    "\n",
    "\n",
    "plt.hist(x=np.log(df_combinad2.iloc[:,4]))\n",
    "plt.title('Histograma - Logaritmo del Precio de Cierre de Microsoft')\n",
    "plt.xlabel('Precio de Cierre')\n",
    "plt.ylabel('Frecuencia')\n",
    "plt.show()\n",
    "\n"
   ]
  },
  {
   "cell_type": "code",
   "execution_count": 27,
   "metadata": {},
   "outputs": [
    {
     "data": {
      "image/png": "[encoded data removed]",
      "text/plain": [
       "<Figure size 432x288 with 1 Axes>"
      ]
     },
     "metadata": {
      "needs_background": "light"
     },
     "output_type": "display_data"
    }
   ],
   "source": [
    "plt.hist(x=np.log(df_combinad2.iloc[:,3]))\n",
    "plt.title('Histograma - Logartimo del Precio de Cierre de Faceboock')\n",
    "plt.xlabel('Precio de Cierre')\n",
    "plt.ylabel('Frecuencia')\n",
    "plt.show()"
   ]
  },
  {
   "cell_type": "code",
   "execution_count": 28,
   "metadata": {},
   "outputs": [
    {
     "data": {
      "text/plain": [
       "<AxesSubplot:>"
      ]
     },
     "execution_count": 28,
     "metadata": {},
     "output_type": "execute_result"
    },
    {
     "data": {
      "image/png": "[encoded data removed]",
      "text/plain": [
       "<Figure size 432x288 with 1 Axes>"
      ]
     },
     "metadata": {
      "needs_background": "light"
     },
     "output_type": "display_data"
    }
   ],
   "source": [
    "df_combinad2_log = np.log(df_combinad2)\n",
    "\n",
    "df_combinad2_log.loc[:, ['CloseBTC_USD','CloseGOOG','CloseAMZN','CloseFB','CloseMSFT']].boxplot()"
   ]
  },
  {
   "cell_type": "code",
   "execution_count": 29,
   "metadata": {},
   "outputs": [
    {
     "data": {
      "text/plain": [
       "<AxesSubplot:xlabel='Date'>"
      ]
     },
     "execution_count": 29,
     "metadata": {},
     "output_type": "execute_result"
    },
    {
     "data": {
      "image/png": "[encoded data removed]",
      "text/plain": [
       "<Figure size 432x288 with 1 Axes>"
      ]
     },
     "metadata": {
      "needs_background": "light"
     },
     "output_type": "display_data"
    }
   ],
   "source": [
    "df_combinad2_log.loc[:,  ['CloseBTC_USD','CloseGOOG','CloseAMZN','CloseFB','CloseMSFT']].plot()"
   ]
  },
  {
   "cell_type": "code",
   "execution_count": 30,
   "metadata": {},
   "outputs": [
    {
     "data": {
      "text/html": [
       "<div>\n",
       "<style scoped>\n",
       "    .dataframe tbody tr th:only-of-type {\n",
       "        vertical-align: middle;\n",
       "    }\n",
       "\n",
       "    .dataframe tbody tr th {\n",
       "        vertical-align: top;\n",
       "    }\n",
       "\n",
       "    .dataframe thead th {\n",
       "        text-align: right;\n",
       "    }\n",
       "</style>\n",
       "<table border=\"1\" class=\"dataframe\">\n",
       "  <thead>\n",
       "    <tr style=\"text-align: right;\">\n",
       "      <th></th>\n",
       "      <th>CloseBTC_USD</th>\n",
       "      <th>CloseGOOG</th>\n",
       "      <th>CloseAMZN</th>\n",
       "      <th>CloseFB</th>\n",
       "      <th>CloseMSFT</th>\n",
       "    </tr>\n",
       "    <tr>\n",
       "      <th>Date</th>\n",
       "      <th></th>\n",
       "      <th></th>\n",
       "      <th></th>\n",
       "      <th></th>\n",
       "      <th></th>\n",
       "    </tr>\n",
       "  </thead>\n",
       "  <tbody>\n",
       "    <tr>\n",
       "      <th>2014-09-17</th>\n",
       "      <td>6.125414</td>\n",
       "      <td>6.368477</td>\n",
       "      <td>5.780744</td>\n",
       "      <td>4.336375</td>\n",
       "      <td>3.839882</td>\n",
       "    </tr>\n",
       "    <tr>\n",
       "      <th>2014-09-18</th>\n",
       "      <td>6.050771</td>\n",
       "      <td>6.376143</td>\n",
       "      <td>5.783825</td>\n",
       "      <td>4.343805</td>\n",
       "      <td>3.843316</td>\n",
       "    </tr>\n",
       "    <tr>\n",
       "      <th>2014-09-19</th>\n",
       "      <td>5.978369</td>\n",
       "      <td>6.387633</td>\n",
       "      <td>5.803085</td>\n",
       "      <td>4.355554</td>\n",
       "      <td>3.861151</td>\n",
       "    </tr>\n",
       "    <tr>\n",
       "      <th>2014-09-20</th>\n",
       "      <td>6.013480</td>\n",
       "      <td>6.387633</td>\n",
       "      <td>5.803085</td>\n",
       "      <td>4.355554</td>\n",
       "      <td>3.861151</td>\n",
       "    </tr>\n",
       "    <tr>\n",
       "      <th>2014-09-21</th>\n",
       "      <td>5.988513</td>\n",
       "      <td>6.387633</td>\n",
       "      <td>5.803085</td>\n",
       "      <td>4.355554</td>\n",
       "      <td>3.861151</td>\n",
       "    </tr>\n",
       "  </tbody>\n",
       "</table>\n",
       "</div>"
      ],
      "text/plain": [
       "            CloseBTC_USD  CloseGOOG  CloseAMZN   CloseFB  CloseMSFT\n",
       "Date                                                               \n",
       "2014-09-17      6.125414   6.368477   5.780744  4.336375   3.839882\n",
       "2014-09-18      6.050771   6.376143   5.783825  4.343805   3.843316\n",
       "2014-09-19      5.978369   6.387633   5.803085  4.355554   3.861151\n",
       "2014-09-20      6.013480   6.387633   5.803085  4.355554   3.861151\n",
       "2014-09-21      5.988513   6.387633   5.803085  4.355554   3.861151"
      ]
     },
     "execution_count": 30,
     "metadata": {},
     "output_type": "execute_result"
    }
   ],
   "source": [
    "df_combinad2_log.head()"
   ]
  },
  {
   "cell_type": "code",
   "execution_count": 31,
   "metadata": {},
   "outputs": [
    {
     "data": {
      "text/html": [
       "<div>\n",
       "<style scoped>\n",
       "    .dataframe tbody tr th:only-of-type {\n",
       "        vertical-align: middle;\n",
       "    }\n",
       "\n",
       "    .dataframe tbody tr th {\n",
       "        vertical-align: top;\n",
       "    }\n",
       "\n",
       "    .dataframe thead th {\n",
       "        text-align: right;\n",
       "    }\n",
       "</style>\n",
       "<table border=\"1\" class=\"dataframe\">\n",
       "  <thead>\n",
       "    <tr style=\"text-align: right;\">\n",
       "      <th></th>\n",
       "      <th>CloseBTC_USD</th>\n",
       "      <th>CloseGOOG</th>\n",
       "      <th>CloseAMZN</th>\n",
       "      <th>CloseFB</th>\n",
       "      <th>CloseMSFT</th>\n",
       "    </tr>\n",
       "    <tr>\n",
       "      <th>Date</th>\n",
       "      <th></th>\n",
       "      <th></th>\n",
       "      <th></th>\n",
       "      <th></th>\n",
       "      <th></th>\n",
       "    </tr>\n",
       "  </thead>\n",
       "  <tbody>\n",
       "    <tr>\n",
       "      <th>2021-01-10</th>\n",
       "      <td>10.554678</td>\n",
       "      <td>7.476880</td>\n",
       "      <td>8.043731</td>\n",
       "      <td>5.548453</td>\n",
       "      <td>5.382153</td>\n",
       "    </tr>\n",
       "    <tr>\n",
       "      <th>2021-01-09</th>\n",
       "      <td>10.602978</td>\n",
       "      <td>7.476880</td>\n",
       "      <td>8.043731</td>\n",
       "      <td>5.548453</td>\n",
       "      <td>5.382153</td>\n",
       "    </tr>\n",
       "    <tr>\n",
       "      <th>2021-01-08</th>\n",
       "      <td>10.616379</td>\n",
       "      <td>7.499539</td>\n",
       "      <td>8.065485</td>\n",
       "      <td>5.589381</td>\n",
       "      <td>5.391899</td>\n",
       "    </tr>\n",
       "    <tr>\n",
       "      <th>2021-01-07</th>\n",
       "      <td>10.580786</td>\n",
       "      <td>7.488433</td>\n",
       "      <td>8.059011</td>\n",
       "      <td>5.593744</td>\n",
       "      <td>5.385824</td>\n",
       "    </tr>\n",
       "    <tr>\n",
       "      <th>2021-01-06</th>\n",
       "      <td>10.513915</td>\n",
       "      <td>7.458930</td>\n",
       "      <td>8.051462</td>\n",
       "      <td>5.573332</td>\n",
       "      <td>5.357765</td>\n",
       "    </tr>\n",
       "  </tbody>\n",
       "</table>\n",
       "</div>"
      ],
      "text/plain": [
       "            CloseBTC_USD  CloseGOOG  CloseAMZN   CloseFB  CloseMSFT\n",
       "Date                                                               \n",
       "2021-01-10     10.554678   7.476880   8.043731  5.548453   5.382153\n",
       "2021-01-09     10.602978   7.476880   8.043731  5.548453   5.382153\n",
       "2021-01-08     10.616379   7.499539   8.065485  5.589381   5.391899\n",
       "2021-01-07     10.580786   7.488433   8.059011  5.593744   5.385824\n",
       "2021-01-06     10.513915   7.458930   8.051462  5.573332   5.357765"
      ]
     },
     "execution_count": 31,
     "metadata": {},
     "output_type": "execute_result"
    }
   ],
   "source": [
    "df_combinad2_log.tail()"
   ]
  }
 ],
 "metadata": {
  "kernelspec": {
   "display_name": "Python 3",
   "language": "python",
   "name": "python3"
  },
  "language_info": {
   "codemirror_mode": {
    "name": "ipython",
    "version": 3
   },
   "file_extension": ".py",
   "mimetype": "text/x-python",
   "name": "python",
   "nbconvert_exporter": "python",
   "pygments_lexer": "ipython3",
   "version": "3.8.5"
  }
 },
 "nbformat": 4,
 "nbformat_minor": 4
}
